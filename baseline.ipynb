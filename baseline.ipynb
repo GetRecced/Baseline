{
 "cells": [
  {
   "cell_type": "code",
   "execution_count": 357,
   "metadata": {},
   "outputs": [],
   "source": [
    "# Imports \n",
    "import string\n",
    "import pandas as pd\n",
    "import numpy as np\n",
    "import time\n",
    "from scipy.stats.stats import pearsonr \n",
    "from sklearn.model_selection import train_test_split"
   ]
  },
  {
   "cell_type": "code",
   "execution_count": 285,
   "metadata": {
    "collapsed": true
   },
   "outputs": [],
   "source": [
    "# load the data, keep only selected columns\n",
    "# Read the file using super fast Pandas.read_csv\n",
    "def load_required_data(path, required_columns, start_index, end_index):\n",
    "    dataframe = pd.read_json(path, lines=True)\n",
    "    dataframe = dataframe[required_columns][start_index:end_index]\n",
    "    return dataframe, dataframe.values"
   ]
  },
  {
   "cell_type": "code",
   "execution_count": 286,
   "metadata": {},
   "outputs": [],
   "source": [
    "dataframe, values = load_required_data('../reviews_Apps_for_Android_5.json', [\"asin\", \"reviewerID\", \"overall\"], 0, 20000)"
   ]
  },
  {
   "cell_type": "code",
   "execution_count": 375,
   "metadata": {
    "collapsed": true
   },
   "outputs": [],
   "source": [
    "train_df = dataframe.sample(frac=0.7,random_state=200)\n",
    "test_df = dataframe.drop(train.index)"
   ]
  },
  {
   "cell_type": "code",
   "execution_count": 391,
   "metadata": {},
   "outputs": [
    {
     "data": {
      "text/plain": [
       "array([  17,   62,   96,   95,    7,    7,   63,    6,  244,   86,   53,\n",
       "         76,   24,   13,    5,   11,   17,   76,  380,  571,    6,   17,\n",
       "         19,   17,   33,  122,   18,   36,  355,   14,  119,   22,   39,\n",
       "         14,   38,   16,  112,  172,  484,    7,  355,    9,   31,   14,\n",
       "          5,   12,    7,   22,  348,    7,   98,    7,   17,  211,   10,\n",
       "         85,   12,    5,   18,   67,   64,    5,    5,   49,    5,    5,\n",
       "         24,  582,   19,    7,    9,  328,   10,   77,    7,   13,    5,\n",
       "         55,   95,   89,   11,  110,  206,   65,    9,  283,   86,    5,\n",
       "        327,   44,   44,   69,  144,   30,  482,    8,  189,   42,   96,\n",
       "         58,   47,  122,  563,   99,    5,  219,    5,   18,    5,   67,\n",
       "         16,    5,  899,   36,    9,  905,    5,  210, 1066,    5,    6,\n",
       "         55,   14,    5,  105,    6,   29,    7,   23,   24,   11,    6,\n",
       "         43,   18,   33,   32,   36,  246,   26,    7,   35,   26,    5,\n",
       "          8,    5,   72,   15,   54,  720,   98,    6,   33,   15,   48,\n",
       "         30,   13,  164,   82,   16,   48,   20,   58,    9,  447,   14,\n",
       "         75,    8,    6,    8,   55,   84,   16,   50,   14,   44,   43,\n",
       "        227,   54,   51,   72,   50,    9,    5,   77,   74,    6,   17,\n",
       "         54,    6,   13,   10,   16,    9,    5,   28,    8,    9,   15,\n",
       "         31,    5,  131,   86,  118,    6,    8,    7,    6,   95,   89,\n",
       "         92,   43,   67,   59,   90,    5,   14,   59,   57,  171,   11,\n",
       "         33,    6,   16,   62,   27,   12,    7,   53,   12,  115,    7,\n",
       "         33,   50,   36,    5,    5,    5,   34,    8,  196,   10,    9,\n",
       "         79,   12,   26,   25,    8,  560,   20,   10,   19,    8,   68,\n",
       "         12,  195])"
      ]
     },
     "execution_count": 391,
     "metadata": {},
     "output_type": "execute_result"
    }
   ],
   "source": [
    "np.count_nonzero(ratings_matrix, axis=0)"
   ]
  },
  {
   "cell_type": "code",
   "execution_count": 236,
   "metadata": {},
   "outputs": [
    {
     "data": {
      "text/html": [
       "<div>\n",
       "<style scoped>\n",
       "    .dataframe tbody tr th:only-of-type {\n",
       "        vertical-align: middle;\n",
       "    }\n",
       "\n",
       "    .dataframe tbody tr th {\n",
       "        vertical-align: top;\n",
       "    }\n",
       "\n",
       "    .dataframe thead th {\n",
       "        text-align: right;\n",
       "    }\n",
       "</style>\n",
       "<table border=\"1\" class=\"dataframe\">\n",
       "  <thead>\n",
       "    <tr style=\"text-align: right;\">\n",
       "      <th></th>\n",
       "      <th>asin</th>\n",
       "      <th>reviewerID</th>\n",
       "      <th>overall</th>\n",
       "    </tr>\n",
       "  </thead>\n",
       "  <tbody>\n",
       "    <tr>\n",
       "      <th>0</th>\n",
       "      <td>B004A9SDD8</td>\n",
       "      <td>A1N4O8VOJZTDVB</td>\n",
       "      <td>3</td>\n",
       "    </tr>\n",
       "    <tr>\n",
       "      <th>1</th>\n",
       "      <td>B004A9SDD8</td>\n",
       "      <td>A2HQWU6HUKIEC7</td>\n",
       "      <td>5</td>\n",
       "    </tr>\n",
       "    <tr>\n",
       "      <th>2</th>\n",
       "      <td>B004A9SDD8</td>\n",
       "      <td>A1SXASF6GYG96I</td>\n",
       "      <td>5</td>\n",
       "    </tr>\n",
       "    <tr>\n",
       "      <th>3</th>\n",
       "      <td>B004A9SDD8</td>\n",
       "      <td>A2B54P9ZDYH167</td>\n",
       "      <td>5</td>\n",
       "    </tr>\n",
       "    <tr>\n",
       "      <th>4</th>\n",
       "      <td>B004A9SDD8</td>\n",
       "      <td>AFOFZDTX5UC6D</td>\n",
       "      <td>5</td>\n",
       "    </tr>\n",
       "    <tr>\n",
       "      <th>5</th>\n",
       "      <td>B004A9SDD8</td>\n",
       "      <td>A331GYAT4ESYI3</td>\n",
       "      <td>5</td>\n",
       "    </tr>\n",
       "    <tr>\n",
       "      <th>6</th>\n",
       "      <td>B004A9SDD8</td>\n",
       "      <td>A2YEHF8T823TDC</td>\n",
       "      <td>5</td>\n",
       "    </tr>\n",
       "    <tr>\n",
       "      <th>7</th>\n",
       "      <td>B004A9SDD8</td>\n",
       "      <td>A3699WHISXX94Z</td>\n",
       "      <td>5</td>\n",
       "    </tr>\n",
       "    <tr>\n",
       "      <th>8</th>\n",
       "      <td>B004A9SDD8</td>\n",
       "      <td>A2BXV49EIES2TB</td>\n",
       "      <td>5</td>\n",
       "    </tr>\n",
       "    <tr>\n",
       "      <th>9</th>\n",
       "      <td>B004A9SDD8</td>\n",
       "      <td>A37HM5TMCMHJES</td>\n",
       "      <td>5</td>\n",
       "    </tr>\n",
       "  </tbody>\n",
       "</table>\n",
       "</div>"
      ],
      "text/plain": [
       "         asin      reviewerID  overall\n",
       "0  B004A9SDD8  A1N4O8VOJZTDVB        3\n",
       "1  B004A9SDD8  A2HQWU6HUKIEC7        5\n",
       "2  B004A9SDD8  A1SXASF6GYG96I        5\n",
       "3  B004A9SDD8  A2B54P9ZDYH167        5\n",
       "4  B004A9SDD8   AFOFZDTX5UC6D        5\n",
       "5  B004A9SDD8  A331GYAT4ESYI3        5\n",
       "6  B004A9SDD8  A2YEHF8T823TDC        5\n",
       "7  B004A9SDD8  A3699WHISXX94Z        5\n",
       "8  B004A9SDD8  A2BXV49EIES2TB        5\n",
       "9  B004A9SDD8  A37HM5TMCMHJES        5"
      ]
     },
     "execution_count": 236,
     "metadata": {},
     "output_type": "execute_result"
    }
   ],
   "source": [
    "dataframe[:10]"
   ]
  },
  {
   "cell_type": "code",
   "execution_count": 238,
   "metadata": {},
   "outputs": [
    {
     "data": {
      "text/plain": [
       "(20000, 3)"
      ]
     },
     "execution_count": 238,
     "metadata": {},
     "output_type": "execute_result"
    }
   ],
   "source": [
    "dataframe.shape"
   ]
  },
  {
   "cell_type": "code",
   "execution_count": 239,
   "metadata": {},
   "outputs": [],
   "source": [
    "# Create user-item matrix given a matrix and mapping from original matrix columns to new matrix rows/columns\n",
    "def create_user_item_matrix(data, rowMapping, columnMapping):\n",
    "    # Create table of users to items by taking row and column pivots\n",
    "    # Rows of user-item table are users\n",
    "    rows, row_pos = np.unique(data[:, rowMapping], return_inverse=True)\n",
    "    # Columns of user-item table are movies\n",
    "    cols, col_pos = np.unique(data[:, columnMapping], return_inverse=True)\n",
    "\n",
    "    pivot_table = np.zeros((len(rows), len(cols)), dtype=data.dtype)\n",
    "    pivot_table[row_pos, col_pos] = data[:, 2]\n",
    "    return pivot_table, rows, cols"
   ]
  },
  {
   "cell_type": "code",
   "execution_count": 376,
   "metadata": {},
   "outputs": [
    {
     "data": {
      "text/plain": [
       "(2579,)"
      ]
     },
     "execution_count": 376,
     "metadata": {},
     "output_type": "execute_result"
    }
   ],
   "source": [
    "np.setdiff1d(test_df[\"reviewerID\"].unique(),train_df[\"reviewerID\"].unique()).shape"
   ]
  },
  {
   "cell_type": "code",
   "execution_count": 379,
   "metadata": {},
   "outputs": [
    {
     "data": {
      "text/plain": [
       "(0,)"
      ]
     },
     "execution_count": 379,
     "metadata": {},
     "output_type": "execute_result"
    }
   ],
   "source": [
    "np.setdiff1d(test_df[\"asin\"].unique(),train_df[\"asin\"].unique()).shape"
   ]
  },
  {
   "cell_type": "code",
   "execution_count": 241,
   "metadata": {},
   "outputs": [
    {
     "data": {
      "text/plain": [
       "False"
      ]
     },
     "execution_count": 241,
     "metadata": {},
     "output_type": "execute_result"
    }
   ],
   "source": [
    "\"A08839553NG2E57YWLLVC\" in dataframe[\"reviewerID\"].unique().shape"
   ]
  },
  {
   "cell_type": "code",
   "execution_count": 243,
   "metadata": {},
   "outputs": [
    {
     "data": {
      "text/plain": [
       "array([3, 5, 4, 1, 2])"
      ]
     },
     "execution_count": 243,
     "metadata": {},
     "output_type": "execute_result"
    }
   ],
   "source": [
    "dataframe[\"overall\"].unique()"
   ]
  },
  {
   "cell_type": "code",
   "execution_count": 244,
   "metadata": {},
   "outputs": [
    {
     "name": "stdout",
     "output_type": "stream",
     "text": [
      "(15079, 255)\n"
     ]
    }
   ],
   "source": [
    "ratings_matrix, rows, cols = create_user_item_matrix(values, rowMapping=1, columnMapping=0)\n",
    "print (ratings_matrix.shape)"
   ]
  },
  {
   "cell_type": "code",
   "execution_count": 245,
   "metadata": {},
   "outputs": [
    {
     "data": {
      "text/html": [
       "<div>\n",
       "<style scoped>\n",
       "    .dataframe tbody tr th:only-of-type {\n",
       "        vertical-align: middle;\n",
       "    }\n",
       "\n",
       "    .dataframe tbody tr th {\n",
       "        vertical-align: top;\n",
       "    }\n",
       "\n",
       "    .dataframe thead th {\n",
       "        text-align: right;\n",
       "    }\n",
       "</style>\n",
       "<table border=\"1\" class=\"dataframe\">\n",
       "  <thead>\n",
       "    <tr style=\"text-align: right;\">\n",
       "      <th></th>\n",
       "      <th>B004A9SDD8</th>\n",
       "      <th>B004AFQAUA</th>\n",
       "      <th>B004AHBBPW</th>\n",
       "      <th>B004ALVL6W</th>\n",
       "      <th>B004AMAIZQ</th>\n",
       "      <th>B004AMDC86</th>\n",
       "      <th>B004ANC00Q</th>\n",
       "      <th>B004ANE2WU</th>\n",
       "      <th>B004ANMWPY</th>\n",
       "      <th>B004AZH4C8</th>\n",
       "      <th>...</th>\n",
       "      <th>B004JYUSAA</th>\n",
       "      <th>B004JZ7ORY</th>\n",
       "      <th>B004JZBGWI</th>\n",
       "      <th>B004K4150G</th>\n",
       "      <th>B004K44R74</th>\n",
       "      <th>B004K46T52</th>\n",
       "      <th>B004K4M1AY</th>\n",
       "      <th>B004K4P2IC</th>\n",
       "      <th>B004K4QPXI</th>\n",
       "      <th>B004K4RY9M</th>\n",
       "    </tr>\n",
       "  </thead>\n",
       "  <tbody>\n",
       "    <tr>\n",
       "      <th>A01961902L18E0CEAXEJU</th>\n",
       "      <td>0</td>\n",
       "      <td>0</td>\n",
       "      <td>0</td>\n",
       "      <td>0</td>\n",
       "      <td>0</td>\n",
       "      <td>0</td>\n",
       "      <td>0</td>\n",
       "      <td>0</td>\n",
       "      <td>0</td>\n",
       "      <td>0</td>\n",
       "      <td>...</td>\n",
       "      <td>0</td>\n",
       "      <td>0</td>\n",
       "      <td>0</td>\n",
       "      <td>0</td>\n",
       "      <td>0</td>\n",
       "      <td>0</td>\n",
       "      <td>0</td>\n",
       "      <td>0</td>\n",
       "      <td>0</td>\n",
       "      <td>0</td>\n",
       "    </tr>\n",
       "    <tr>\n",
       "      <th>A0220159ZRNBTRKLG08H</th>\n",
       "      <td>0</td>\n",
       "      <td>0</td>\n",
       "      <td>0</td>\n",
       "      <td>0</td>\n",
       "      <td>0</td>\n",
       "      <td>0</td>\n",
       "      <td>0</td>\n",
       "      <td>0</td>\n",
       "      <td>0</td>\n",
       "      <td>0</td>\n",
       "      <td>...</td>\n",
       "      <td>0</td>\n",
       "      <td>0</td>\n",
       "      <td>0</td>\n",
       "      <td>0</td>\n",
       "      <td>0</td>\n",
       "      <td>0</td>\n",
       "      <td>0</td>\n",
       "      <td>0</td>\n",
       "      <td>0</td>\n",
       "      <td>0</td>\n",
       "    </tr>\n",
       "    <tr>\n",
       "      <th>A02574211ZTWG21TA1NB9</th>\n",
       "      <td>0</td>\n",
       "      <td>0</td>\n",
       "      <td>0</td>\n",
       "      <td>0</td>\n",
       "      <td>0</td>\n",
       "      <td>0</td>\n",
       "      <td>0</td>\n",
       "      <td>0</td>\n",
       "      <td>0</td>\n",
       "      <td>0</td>\n",
       "      <td>...</td>\n",
       "      <td>0</td>\n",
       "      <td>0</td>\n",
       "      <td>0</td>\n",
       "      <td>0</td>\n",
       "      <td>0</td>\n",
       "      <td>0</td>\n",
       "      <td>0</td>\n",
       "      <td>0</td>\n",
       "      <td>0</td>\n",
       "      <td>0</td>\n",
       "    </tr>\n",
       "    <tr>\n",
       "      <th>A046006938AM5SST8SS4D</th>\n",
       "      <td>0</td>\n",
       "      <td>0</td>\n",
       "      <td>0</td>\n",
       "      <td>0</td>\n",
       "      <td>0</td>\n",
       "      <td>0</td>\n",
       "      <td>0</td>\n",
       "      <td>0</td>\n",
       "      <td>0</td>\n",
       "      <td>0</td>\n",
       "      <td>...</td>\n",
       "      <td>0</td>\n",
       "      <td>0</td>\n",
       "      <td>0</td>\n",
       "      <td>0</td>\n",
       "      <td>0</td>\n",
       "      <td>0</td>\n",
       "      <td>0</td>\n",
       "      <td>0</td>\n",
       "      <td>0</td>\n",
       "      <td>0</td>\n",
       "    </tr>\n",
       "    <tr>\n",
       "      <th>A064321025DSGTER7QDIX</th>\n",
       "      <td>0</td>\n",
       "      <td>0</td>\n",
       "      <td>0</td>\n",
       "      <td>0</td>\n",
       "      <td>0</td>\n",
       "      <td>0</td>\n",
       "      <td>0</td>\n",
       "      <td>0</td>\n",
       "      <td>0</td>\n",
       "      <td>0</td>\n",
       "      <td>...</td>\n",
       "      <td>0</td>\n",
       "      <td>0</td>\n",
       "      <td>0</td>\n",
       "      <td>0</td>\n",
       "      <td>0</td>\n",
       "      <td>0</td>\n",
       "      <td>0</td>\n",
       "      <td>0</td>\n",
       "      <td>0</td>\n",
       "      <td>0</td>\n",
       "    </tr>\n",
       "    <tr>\n",
       "      <th>A0698182HBSA2D2MEX40</th>\n",
       "      <td>0</td>\n",
       "      <td>0</td>\n",
       "      <td>0</td>\n",
       "      <td>0</td>\n",
       "      <td>0</td>\n",
       "      <td>0</td>\n",
       "      <td>0</td>\n",
       "      <td>0</td>\n",
       "      <td>0</td>\n",
       "      <td>0</td>\n",
       "      <td>...</td>\n",
       "      <td>0</td>\n",
       "      <td>0</td>\n",
       "      <td>0</td>\n",
       "      <td>2</td>\n",
       "      <td>0</td>\n",
       "      <td>0</td>\n",
       "      <td>0</td>\n",
       "      <td>0</td>\n",
       "      <td>0</td>\n",
       "      <td>0</td>\n",
       "    </tr>\n",
       "    <tr>\n",
       "      <th>A07305593IWIWUBQUZ288</th>\n",
       "      <td>0</td>\n",
       "      <td>0</td>\n",
       "      <td>0</td>\n",
       "      <td>0</td>\n",
       "      <td>0</td>\n",
       "      <td>0</td>\n",
       "      <td>0</td>\n",
       "      <td>0</td>\n",
       "      <td>0</td>\n",
       "      <td>0</td>\n",
       "      <td>...</td>\n",
       "      <td>0</td>\n",
       "      <td>0</td>\n",
       "      <td>0</td>\n",
       "      <td>0</td>\n",
       "      <td>0</td>\n",
       "      <td>0</td>\n",
       "      <td>0</td>\n",
       "      <td>0</td>\n",
       "      <td>0</td>\n",
       "      <td>0</td>\n",
       "    </tr>\n",
       "    <tr>\n",
       "      <th>A07347751OS3V85PQ4PGK</th>\n",
       "      <td>0</td>\n",
       "      <td>0</td>\n",
       "      <td>0</td>\n",
       "      <td>0</td>\n",
       "      <td>0</td>\n",
       "      <td>0</td>\n",
       "      <td>0</td>\n",
       "      <td>0</td>\n",
       "      <td>0</td>\n",
       "      <td>0</td>\n",
       "      <td>...</td>\n",
       "      <td>0</td>\n",
       "      <td>0</td>\n",
       "      <td>0</td>\n",
       "      <td>0</td>\n",
       "      <td>0</td>\n",
       "      <td>0</td>\n",
       "      <td>0</td>\n",
       "      <td>0</td>\n",
       "      <td>0</td>\n",
       "      <td>0</td>\n",
       "    </tr>\n",
       "    <tr>\n",
       "      <th>A0759107CA9MPWVRF6VN</th>\n",
       "      <td>0</td>\n",
       "      <td>0</td>\n",
       "      <td>0</td>\n",
       "      <td>0</td>\n",
       "      <td>0</td>\n",
       "      <td>0</td>\n",
       "      <td>0</td>\n",
       "      <td>0</td>\n",
       "      <td>0</td>\n",
       "      <td>0</td>\n",
       "      <td>...</td>\n",
       "      <td>0</td>\n",
       "      <td>0</td>\n",
       "      <td>0</td>\n",
       "      <td>0</td>\n",
       "      <td>0</td>\n",
       "      <td>0</td>\n",
       "      <td>0</td>\n",
       "      <td>0</td>\n",
       "      <td>0</td>\n",
       "      <td>0</td>\n",
       "    </tr>\n",
       "    <tr>\n",
       "      <th>A08839553NG2E57YWLLVC</th>\n",
       "      <td>0</td>\n",
       "      <td>0</td>\n",
       "      <td>5</td>\n",
       "      <td>0</td>\n",
       "      <td>0</td>\n",
       "      <td>0</td>\n",
       "      <td>0</td>\n",
       "      <td>0</td>\n",
       "      <td>0</td>\n",
       "      <td>0</td>\n",
       "      <td>...</td>\n",
       "      <td>0</td>\n",
       "      <td>0</td>\n",
       "      <td>0</td>\n",
       "      <td>0</td>\n",
       "      <td>0</td>\n",
       "      <td>0</td>\n",
       "      <td>0</td>\n",
       "      <td>0</td>\n",
       "      <td>0</td>\n",
       "      <td>0</td>\n",
       "    </tr>\n",
       "  </tbody>\n",
       "</table>\n",
       "<p>10 rows × 255 columns</p>\n",
       "</div>"
      ],
      "text/plain": [
       "                      B004A9SDD8 B004AFQAUA B004AHBBPW B004ALVL6W B004AMAIZQ  \\\n",
       "A01961902L18E0CEAXEJU          0          0          0          0          0   \n",
       "A0220159ZRNBTRKLG08H           0          0          0          0          0   \n",
       "A02574211ZTWG21TA1NB9          0          0          0          0          0   \n",
       "A046006938AM5SST8SS4D          0          0          0          0          0   \n",
       "A064321025DSGTER7QDIX          0          0          0          0          0   \n",
       "A0698182HBSA2D2MEX40           0          0          0          0          0   \n",
       "A07305593IWIWUBQUZ288          0          0          0          0          0   \n",
       "A07347751OS3V85PQ4PGK          0          0          0          0          0   \n",
       "A0759107CA9MPWVRF6VN           0          0          0          0          0   \n",
       "A08839553NG2E57YWLLVC          0          0          5          0          0   \n",
       "\n",
       "                      B004AMDC86 B004ANC00Q B004ANE2WU B004ANMWPY B004AZH4C8  \\\n",
       "A01961902L18E0CEAXEJU          0          0          0          0          0   \n",
       "A0220159ZRNBTRKLG08H           0          0          0          0          0   \n",
       "A02574211ZTWG21TA1NB9          0          0          0          0          0   \n",
       "A046006938AM5SST8SS4D          0          0          0          0          0   \n",
       "A064321025DSGTER7QDIX          0          0          0          0          0   \n",
       "A0698182HBSA2D2MEX40           0          0          0          0          0   \n",
       "A07305593IWIWUBQUZ288          0          0          0          0          0   \n",
       "A07347751OS3V85PQ4PGK          0          0          0          0          0   \n",
       "A0759107CA9MPWVRF6VN           0          0          0          0          0   \n",
       "A08839553NG2E57YWLLVC          0          0          0          0          0   \n",
       "\n",
       "                         ...     B004JYUSAA B004JZ7ORY B004JZBGWI B004K4150G  \\\n",
       "A01961902L18E0CEAXEJU    ...              0          0          0          0   \n",
       "A0220159ZRNBTRKLG08H     ...              0          0          0          0   \n",
       "A02574211ZTWG21TA1NB9    ...              0          0          0          0   \n",
       "A046006938AM5SST8SS4D    ...              0          0          0          0   \n",
       "A064321025DSGTER7QDIX    ...              0          0          0          0   \n",
       "A0698182HBSA2D2MEX40     ...              0          0          0          2   \n",
       "A07305593IWIWUBQUZ288    ...              0          0          0          0   \n",
       "A07347751OS3V85PQ4PGK    ...              0          0          0          0   \n",
       "A0759107CA9MPWVRF6VN     ...              0          0          0          0   \n",
       "A08839553NG2E57YWLLVC    ...              0          0          0          0   \n",
       "\n",
       "                      B004K44R74 B004K46T52 B004K4M1AY B004K4P2IC B004K4QPXI  \\\n",
       "A01961902L18E0CEAXEJU          0          0          0          0          0   \n",
       "A0220159ZRNBTRKLG08H           0          0          0          0          0   \n",
       "A02574211ZTWG21TA1NB9          0          0          0          0          0   \n",
       "A046006938AM5SST8SS4D          0          0          0          0          0   \n",
       "A064321025DSGTER7QDIX          0          0          0          0          0   \n",
       "A0698182HBSA2D2MEX40           0          0          0          0          0   \n",
       "A07305593IWIWUBQUZ288          0          0          0          0          0   \n",
       "A07347751OS3V85PQ4PGK          0          0          0          0          0   \n",
       "A0759107CA9MPWVRF6VN           0          0          0          0          0   \n",
       "A08839553NG2E57YWLLVC          0          0          0          0          0   \n",
       "\n",
       "                      B004K4RY9M  \n",
       "A01961902L18E0CEAXEJU          0  \n",
       "A0220159ZRNBTRKLG08H           0  \n",
       "A02574211ZTWG21TA1NB9          0  \n",
       "A046006938AM5SST8SS4D          0  \n",
       "A064321025DSGTER7QDIX          0  \n",
       "A0698182HBSA2D2MEX40           0  \n",
       "A07305593IWIWUBQUZ288          0  \n",
       "A07347751OS3V85PQ4PGK          0  \n",
       "A0759107CA9MPWVRF6VN           0  \n",
       "A08839553NG2E57YWLLVC          0  \n",
       "\n",
       "[10 rows x 255 columns]"
      ]
     },
     "execution_count": 245,
     "metadata": {},
     "output_type": "execute_result"
    }
   ],
   "source": [
    "pd.DataFrame(ratings_matrix[:10], index = rows[:10], columns= cols)"
   ]
  },
  {
   "cell_type": "code",
   "execution_count": 213,
   "metadata": {
    "collapsed": true
   },
   "outputs": [],
   "source": [
    "def get_index_map(arr):\n",
    "    index_map = {}\n",
    "    for el in arr:\n",
    "        index_map[el] = len(index_map)\n",
    "    return index_map"
   ]
  },
  {
   "cell_type": "code",
   "execution_count": 214,
   "metadata": {
    "collapsed": true
   },
   "outputs": [],
   "source": [
    "def pearson_coeff(target, others):\n",
    "    return np.corrcoef(matrix[target], matrix[others])[0][1:]"
   ]
  },
  {
   "cell_type": "code",
   "execution_count": 337,
   "metadata": {
    "collapsed": true
   },
   "outputs": [],
   "source": [
    "# Get unique movies and users\n",
    "unique_items = np.unique(values[:,0])\n",
    "unique_users = np.unique(values[:,1])"
   ]
  },
  {
   "cell_type": "code",
   "execution_count": 338,
   "metadata": {},
   "outputs": [
    {
     "data": {
      "text/plain": [
       "(255,)"
      ]
     },
     "execution_count": 338,
     "metadata": {},
     "output_type": "execute_result"
    }
   ],
   "source": [
    "unique_items.shape"
   ]
  },
  {
   "cell_type": "code",
   "execution_count": 339,
   "metadata": {},
   "outputs": [
    {
     "data": {
      "text/plain": [
       "(15079,)"
      ]
     },
     "execution_count": 339,
     "metadata": {},
     "output_type": "execute_result"
    }
   ],
   "source": [
    "unique_users.shape"
   ]
  },
  {
   "cell_type": "code",
   "execution_count": 340,
   "metadata": {},
   "outputs": [],
   "source": [
    "# Create mapping from unique list to \n",
    "item_idx_map = get_index_map(unique_items)\n",
    "user_idx_map = get_index_map(unique_users)"
   ]
  },
  {
   "cell_type": "code",
   "execution_count": 252,
   "metadata": {},
   "outputs": [],
   "source": [
    "mean_ratings = np.true_divide(ratings_matrix.sum(1), (ratings_matrix!=0).sum(1))"
   ]
  },
  {
   "cell_type": "code",
   "execution_count": 281,
   "metadata": {
    "collapsed": true
   },
   "outputs": [],
   "source": [
    "K = 0.1"
   ]
  },
  {
   "cell_type": "code",
   "execution_count": 282,
   "metadata": {
    "collapsed": true
   },
   "outputs": [],
   "source": [
    "def get_users_who_rated_item(item_id):\n",
    "    return np.where(ratings_matrix[:,item_idx_map[item_id]] > 0)[0]\n",
    "\n",
    "def get_users_who_rated_item_by_index(item_idx):\n",
    "    return np.where(ratings_matrix[:,item_idx] > 0)\n",
    "\n",
    "def predict(user_id, item_id):\n",
    "    item_idx = item_idx_map[item_id]\n",
    "    user_idx = user_idx_map[user_id]\n",
    "    other_users_idx = get_users_who_rated_item(item_id)\n",
    "    if user_idx in other_users_idx:\n",
    "        np.delete(other_users_idx, user_idx)\n",
    "    pearson_correlation = [pearsonr(other_user, ratings_matrix[user_idx])[0] for other_user in ratings_matrix[other_users_idx]]\n",
    "    mean_others = mean_ratings[other_users_idx]\n",
    "    rating_others = ratings_matrix[other_users_idx,item_idx]\n",
    "    print \"mean user = \", mean_ratings[user_idx]\n",
    "    print \"mean other = \", np.mean(mean_others)\n",
    "    print \"pearson = \", pearson_correlation\n",
    "    prediction = mean_ratings[user_idx] + K * np.sum(pearson_correlation * (rating_others - mean_others))\n",
    "    return prediction"
   ]
  },
  {
   "cell_type": "code",
   "execution_count": 284,
   "metadata": {},
   "outputs": [
    {
     "name": "stdout",
     "output_type": "stream",
     "text": [
      "mean user =  3.66666666667\n",
      "mean other =  3.77666666667\n",
      "pearson =  [-0.019536071061484646, -0.006477409917721514, -0.010904761485729548, -0.007627724859868794, -0.009178526739238102, -0.006477409917721514, -0.009178526739238106, -0.0091785267392381, -0.006477409917721508, -0.006477409917721502]\n"
     ]
    },
    {
     "data": {
      "text/plain": [
       "3.6652073422360067"
      ]
     },
     "execution_count": 284,
     "metadata": {},
     "output_type": "execute_result"
    }
   ],
   "source": [
    "predict(u'A0698182HBSA2D2MEX40', 'B004K44R74')"
   ]
  },
  {
   "cell_type": "code",
   "execution_count": 270,
   "metadata": {},
   "outputs": [
    {
     "data": {
      "text/plain": [
       "4.050079148953411"
      ]
     },
     "execution_count": 270,
     "metadata": {},
     "output_type": "execute_result"
    }
   ],
   "source": [
    "np.mean(mean_ratings)"
   ]
  },
  {
   "cell_type": "code",
   "execution_count": 298,
   "metadata": {
    "collapsed": true
   },
   "outputs": [],
   "source": [
    "test_dataframe, test_values = load_required_data('../reviews_Apps_for_Android_5.json', [\"asin\", \"reviewerID\", \"overall\"], 20001, 30000)"
   ]
  },
  {
   "cell_type": "code",
   "execution_count": 324,
   "metadata": {},
   "outputs": [
    {
     "data": {
      "text/plain": [
       "(8600,)"
      ]
     },
     "execution_count": 324,
     "metadata": {},
     "output_type": "execute_result"
    }
   ],
   "source": [
    "test_dataframe['reviewerID'].unique().shape"
   ]
  },
  {
   "cell_type": "code",
   "execution_count": 345,
   "metadata": {},
   "outputs": [],
   "source": [
    "new_df = pd.DataFrame()\n",
    "for index, row in test_dataframe.iterrows():\n",
    "    if (row['reviewerID'] in unique_users and row['asin'] in unique_items):\n",
    "        new_df = new_df.append(row)"
   ]
  },
  {
   "cell_type": "code",
   "execution_count": null,
   "metadata": {
    "collapsed": true
   },
   "outputs": [],
   "source": [
    "test_dataframe['reviewerID'].unique().shape"
   ]
  },
  {
   "cell_type": "code",
   "execution_count": 347,
   "metadata": {},
   "outputs": [
    {
     "data": {
      "text/plain": [
       "(260, 3)"
      ]
     },
     "execution_count": 347,
     "metadata": {},
     "output_type": "execute_result"
    }
   ],
   "source": [
    "new_df.shape"
   ]
  },
  {
   "cell_type": "code",
   "execution_count": null,
   "metadata": {
    "collapsed": true
   },
   "outputs": [],
   "source": [
    "def update_index_map(index_map, arr):\n",
    "    for el in arr:\n",
    "        index_map[el] = len(index_map)\n",
    "    return index_map"
   ]
  },
  {
   "cell_type": "code",
   "execution_count": 299,
   "metadata": {
    "collapsed": true
   },
   "outputs": [],
   "source": [
    "# Returns DF containing predictions, MAE, RMSE\n",
    "def get_predictions(dataframe):\n",
    "    df = dataframe.copy()\n",
    "    print (\"Predicting ratings..\")\n",
    "    start_time = time.time()\n",
    "    df['Prediction'] = df.apply(lambda row: predict(row['reviewerID'], row['asin']), axis=1)\n",
    "    MAE = round(mean_absolute_error(df['overall'], df['Prediction']), 2)\n",
    "    RMSE = round(np.sqrt(mean_squared_error(df['overall'], df['Prediction'])), 2)\n",
    "    print \"Done Predicting in\",  round((time.time() - start_time), 2), \"seconds\"\n",
    "    return df, MAE, RMSE"
   ]
  },
  {
   "cell_type": "code",
   "execution_count": 352,
   "metadata": {},
   "outputs": [],
   "source": []
  },
  {
   "cell_type": "code",
   "execution_count": 356,
   "metadata": {},
   "outputs": [
    {
     "data": {
      "text/html": [
       "<div>\n",
       "<style scoped>\n",
       "    .dataframe tbody tr th:only-of-type {\n",
       "        vertical-align: middle;\n",
       "    }\n",
       "\n",
       "    .dataframe tbody tr th {\n",
       "        vertical-align: top;\n",
       "    }\n",
       "\n",
       "    .dataframe thead th {\n",
       "        text-align: right;\n",
       "    }\n",
       "</style>\n",
       "<table border=\"1\" class=\"dataframe\">\n",
       "  <thead>\n",
       "    <tr style=\"text-align: right;\">\n",
       "      <th></th>\n",
       "      <th>asin</th>\n",
       "      <th>reviewerID</th>\n",
       "      <th>overall</th>\n",
       "    </tr>\n",
       "  </thead>\n",
       "  <tbody>\n",
       "    <tr>\n",
       "      <th>4298</th>\n",
       "      <td>B004EBZX6W</td>\n",
       "      <td>AWO8OHKCI0Y0I</td>\n",
       "      <td>5</td>\n",
       "    </tr>\n",
       "    <tr>\n",
       "      <th>9201</th>\n",
       "      <td>B004GYY714</td>\n",
       "      <td>A10R9QFEFYAUZW</td>\n",
       "      <td>5</td>\n",
       "    </tr>\n",
       "    <tr>\n",
       "      <th>679</th>\n",
       "      <td>B004AZH4C8</td>\n",
       "      <td>A1VITR3L9Q6KY2</td>\n",
       "      <td>5</td>\n",
       "    </tr>\n",
       "    <tr>\n",
       "      <th>18780</th>\n",
       "      <td>B004JXUXS8</td>\n",
       "      <td>AYOBWKPV3H0V7</td>\n",
       "      <td>2</td>\n",
       "    </tr>\n",
       "    <tr>\n",
       "      <th>6955</th>\n",
       "      <td>B004GMJKTK</td>\n",
       "      <td>A1T6IOH2615C01</td>\n",
       "      <td>4</td>\n",
       "    </tr>\n",
       "    <tr>\n",
       "      <th>8571</th>\n",
       "      <td>B004GYCF7W</td>\n",
       "      <td>A2UH5YQZS3WXFY</td>\n",
       "      <td>5</td>\n",
       "    </tr>\n",
       "    <tr>\n",
       "      <th>9405</th>\n",
       "      <td>B004GYYQLA</td>\n",
       "      <td>A3G5MOHY1U635N</td>\n",
       "      <td>4</td>\n",
       "    </tr>\n",
       "    <tr>\n",
       "      <th>13699</th>\n",
       "      <td>B004HMJ5QM</td>\n",
       "      <td>A101Q7PGHKL3QF</td>\n",
       "      <td>5</td>\n",
       "    </tr>\n",
       "    <tr>\n",
       "      <th>3930</th>\n",
       "      <td>B004DPNBIQ</td>\n",
       "      <td>A1TEYEOQZIHTTZ</td>\n",
       "      <td>4</td>\n",
       "    </tr>\n",
       "    <tr>\n",
       "      <th>13573</th>\n",
       "      <td>B004HM35RC</td>\n",
       "      <td>A2888QFVFKC7PD</td>\n",
       "      <td>5</td>\n",
       "    </tr>\n",
       "    <tr>\n",
       "      <th>3774</th>\n",
       "      <td>B004DPIEF6</td>\n",
       "      <td>A7KLMDTM03VGF</td>\n",
       "      <td>4</td>\n",
       "    </tr>\n",
       "    <tr>\n",
       "      <th>9085</th>\n",
       "      <td>B004GYY714</td>\n",
       "      <td>A116YVP2PSHCML</td>\n",
       "      <td>4</td>\n",
       "    </tr>\n",
       "    <tr>\n",
       "      <th>12646</th>\n",
       "      <td>B004HGK6FW</td>\n",
       "      <td>A2HQR32GZAYRWH</td>\n",
       "      <td>5</td>\n",
       "    </tr>\n",
       "    <tr>\n",
       "      <th>16782</th>\n",
       "      <td>B004IPXTNI</td>\n",
       "      <td>A3075DBCTQDWAJ</td>\n",
       "      <td>1</td>\n",
       "    </tr>\n",
       "    <tr>\n",
       "      <th>13102</th>\n",
       "      <td>B004HIGDV6</td>\n",
       "      <td>A1DG0CI1XI0Y5R</td>\n",
       "      <td>1</td>\n",
       "    </tr>\n",
       "    <tr>\n",
       "      <th>18789</th>\n",
       "      <td>B004JXUXS8</td>\n",
       "      <td>A30U3IUCWK3Q0V</td>\n",
       "      <td>2</td>\n",
       "    </tr>\n",
       "    <tr>\n",
       "      <th>8042</th>\n",
       "      <td>B004GVYXTS</td>\n",
       "      <td>A3UOYDHGJG8PGS</td>\n",
       "      <td>5</td>\n",
       "    </tr>\n",
       "    <tr>\n",
       "      <th>19647</th>\n",
       "      <td>B004JZBGWI</td>\n",
       "      <td>APBDZ88BBTN4F</td>\n",
       "      <td>5</td>\n",
       "    </tr>\n",
       "    <tr>\n",
       "      <th>13861</th>\n",
       "      <td>B004HX68MK</td>\n",
       "      <td>A235V2MM0QCKE4</td>\n",
       "      <td>5</td>\n",
       "    </tr>\n",
       "    <tr>\n",
       "      <th>8780</th>\n",
       "      <td>B004GYVYV0</td>\n",
       "      <td>AGOPXNRMER345</td>\n",
       "      <td>5</td>\n",
       "    </tr>\n",
       "    <tr>\n",
       "      <th>2687</th>\n",
       "      <td>B004DM4KDY</td>\n",
       "      <td>A6547CC37G97S</td>\n",
       "      <td>1</td>\n",
       "    </tr>\n",
       "    <tr>\n",
       "      <th>19522</th>\n",
       "      <td>B004JZBGWI</td>\n",
       "      <td>AX511065E8TSC</td>\n",
       "      <td>2</td>\n",
       "    </tr>\n",
       "    <tr>\n",
       "      <th>8476</th>\n",
       "      <td>B004GY8NTQ</td>\n",
       "      <td>A2D96G00W3R5AL</td>\n",
       "      <td>5</td>\n",
       "    </tr>\n",
       "    <tr>\n",
       "      <th>6511</th>\n",
       "      <td>B004GJDQT8</td>\n",
       "      <td>A1MW6W6E481PW5</td>\n",
       "      <td>5</td>\n",
       "    </tr>\n",
       "    <tr>\n",
       "      <th>5590</th>\n",
       "      <td>B004FOA84A</td>\n",
       "      <td>ALJN5TS4M4BBH</td>\n",
       "      <td>5</td>\n",
       "    </tr>\n",
       "    <tr>\n",
       "      <th>120</th>\n",
       "      <td>B004AHBBPW</td>\n",
       "      <td>A1WJ7JPOAGDK0R</td>\n",
       "      <td>5</td>\n",
       "    </tr>\n",
       "    <tr>\n",
       "      <th>1307</th>\n",
       "      <td>B004DLNC4I</td>\n",
       "      <td>A39KOJG83K8F1U</td>\n",
       "      <td>5</td>\n",
       "    </tr>\n",
       "    <tr>\n",
       "      <th>14697</th>\n",
       "      <td>B004HXIZVC</td>\n",
       "      <td>A37DH194Z6WFPF</td>\n",
       "      <td>1</td>\n",
       "    </tr>\n",
       "    <tr>\n",
       "      <th>17563</th>\n",
       "      <td>B004JJXVYK</td>\n",
       "      <td>AX05DBU8IRUWY</td>\n",
       "      <td>5</td>\n",
       "    </tr>\n",
       "    <tr>\n",
       "      <th>1728</th>\n",
       "      <td>B004DLPXAO</td>\n",
       "      <td>A15MXKSNSBAJMC</td>\n",
       "      <td>5</td>\n",
       "    </tr>\n",
       "    <tr>\n",
       "      <th>...</th>\n",
       "      <td>...</td>\n",
       "      <td>...</td>\n",
       "      <td>...</td>\n",
       "    </tr>\n",
       "    <tr>\n",
       "      <th>11940</th>\n",
       "      <td>B004HGK6FW</td>\n",
       "      <td>A1GZW36H56XQ54</td>\n",
       "      <td>5</td>\n",
       "    </tr>\n",
       "    <tr>\n",
       "      <th>15503</th>\n",
       "      <td>B004I744AS</td>\n",
       "      <td>A10B7U5R245SMG</td>\n",
       "      <td>4</td>\n",
       "    </tr>\n",
       "    <tr>\n",
       "      <th>17445</th>\n",
       "      <td>B004JJR2K4</td>\n",
       "      <td>A1NXIRX0LUBAG6</td>\n",
       "      <td>5</td>\n",
       "    </tr>\n",
       "    <tr>\n",
       "      <th>18177</th>\n",
       "      <td>B004JKCMGM</td>\n",
       "      <td>AP407VACMQGOJ</td>\n",
       "      <td>4</td>\n",
       "    </tr>\n",
       "    <tr>\n",
       "      <th>5729</th>\n",
       "      <td>B004FRX0MY</td>\n",
       "      <td>A5VB0JWUF97HI</td>\n",
       "      <td>5</td>\n",
       "    </tr>\n",
       "    <tr>\n",
       "      <th>18792</th>\n",
       "      <td>B004JXUXS8</td>\n",
       "      <td>AFJXOWGRGOK66</td>\n",
       "      <td>3</td>\n",
       "    </tr>\n",
       "    <tr>\n",
       "      <th>6885</th>\n",
       "      <td>B004GMJKTK</td>\n",
       "      <td>A29GQ1DKZTFQMJ</td>\n",
       "      <td>1</td>\n",
       "    </tr>\n",
       "    <tr>\n",
       "      <th>4709</th>\n",
       "      <td>B004EFYZ1C</td>\n",
       "      <td>A3VKPHVMYYS3WJ</td>\n",
       "      <td>5</td>\n",
       "    </tr>\n",
       "    <tr>\n",
       "      <th>14736</th>\n",
       "      <td>B004HXIZVC</td>\n",
       "      <td>A215IN14OKAE2T</td>\n",
       "      <td>5</td>\n",
       "    </tr>\n",
       "    <tr>\n",
       "      <th>18880</th>\n",
       "      <td>B004JXUXS8</td>\n",
       "      <td>AQWV1BE7867EQ</td>\n",
       "      <td>1</td>\n",
       "    </tr>\n",
       "    <tr>\n",
       "      <th>9349</th>\n",
       "      <td>B004GYY714</td>\n",
       "      <td>A2FD8SGTVE7BVO</td>\n",
       "      <td>5</td>\n",
       "    </tr>\n",
       "    <tr>\n",
       "      <th>14571</th>\n",
       "      <td>B004HXHVZ8</td>\n",
       "      <td>A38E5P25742CVF</td>\n",
       "      <td>5</td>\n",
       "    </tr>\n",
       "    <tr>\n",
       "      <th>809</th>\n",
       "      <td>B004BN3YQE</td>\n",
       "      <td>A1FM4HDHV01MOP</td>\n",
       "      <td>4</td>\n",
       "    </tr>\n",
       "    <tr>\n",
       "      <th>639</th>\n",
       "      <td>B004AZH4C8</td>\n",
       "      <td>A6JRT1C5VDH1R</td>\n",
       "      <td>5</td>\n",
       "    </tr>\n",
       "    <tr>\n",
       "      <th>964</th>\n",
       "      <td>B004DLNC4I</td>\n",
       "      <td>ADLVFFE4VBT8</td>\n",
       "      <td>5</td>\n",
       "    </tr>\n",
       "    <tr>\n",
       "      <th>806</th>\n",
       "      <td>B004BN3YQE</td>\n",
       "      <td>A2N5MZMHTSQ04T</td>\n",
       "      <td>2</td>\n",
       "    </tr>\n",
       "    <tr>\n",
       "      <th>1709</th>\n",
       "      <td>B004DLPXAO</td>\n",
       "      <td>A2JPENRW9CJEE7</td>\n",
       "      <td>5</td>\n",
       "    </tr>\n",
       "    <tr>\n",
       "      <th>12799</th>\n",
       "      <td>B004HGK6FW</td>\n",
       "      <td>A1ZJDWRY87U1EU</td>\n",
       "      <td>5</td>\n",
       "    </tr>\n",
       "    <tr>\n",
       "      <th>17467</th>\n",
       "      <td>B004JJUY4K</td>\n",
       "      <td>A1RZ5RE1MEVI34</td>\n",
       "      <td>5</td>\n",
       "    </tr>\n",
       "    <tr>\n",
       "      <th>19930</th>\n",
       "      <td>B004K4RY9M</td>\n",
       "      <td>APOM1C8ABG1YC</td>\n",
       "      <td>2</td>\n",
       "    </tr>\n",
       "    <tr>\n",
       "      <th>19046</th>\n",
       "      <td>B004JYJCH0</td>\n",
       "      <td>A52XM6O08WES3</td>\n",
       "      <td>1</td>\n",
       "    </tr>\n",
       "    <tr>\n",
       "      <th>19460</th>\n",
       "      <td>B004JZBGWI</td>\n",
       "      <td>A32CUDX0XVQR9Z</td>\n",
       "      <td>3</td>\n",
       "    </tr>\n",
       "    <tr>\n",
       "      <th>8806</th>\n",
       "      <td>B004GYVYV0</td>\n",
       "      <td>A12RYTFXE7BN1F</td>\n",
       "      <td>5</td>\n",
       "    </tr>\n",
       "    <tr>\n",
       "      <th>18063</th>\n",
       "      <td>B004JKCMGM</td>\n",
       "      <td>A1GE66WEG02XPW</td>\n",
       "      <td>4</td>\n",
       "    </tr>\n",
       "    <tr>\n",
       "      <th>3710</th>\n",
       "      <td>B004DPIEF6</td>\n",
       "      <td>A1C18ZGJ8BUCAV</td>\n",
       "      <td>5</td>\n",
       "    </tr>\n",
       "    <tr>\n",
       "      <th>7269</th>\n",
       "      <td>B004GMT14Y</td>\n",
       "      <td>AKUB840XVHT3</td>\n",
       "      <td>5</td>\n",
       "    </tr>\n",
       "    <tr>\n",
       "      <th>9404</th>\n",
       "      <td>B004GYYQLA</td>\n",
       "      <td>A3UW98UR9ZP5MF</td>\n",
       "      <td>1</td>\n",
       "    </tr>\n",
       "    <tr>\n",
       "      <th>6211</th>\n",
       "      <td>B004GISARW</td>\n",
       "      <td>A243XPPX1B6XRF</td>\n",
       "      <td>3</td>\n",
       "    </tr>\n",
       "    <tr>\n",
       "      <th>5023</th>\n",
       "      <td>B004FJR0KK</td>\n",
       "      <td>ATP6Z8CMWS0YN</td>\n",
       "      <td>5</td>\n",
       "    </tr>\n",
       "    <tr>\n",
       "      <th>19399</th>\n",
       "      <td>B004JZBGWI</td>\n",
       "      <td>A30VVR8CXKPNJF</td>\n",
       "      <td>5</td>\n",
       "    </tr>\n",
       "  </tbody>\n",
       "</table>\n",
       "<p>16000 rows × 3 columns</p>\n",
       "</div>"
      ],
      "text/plain": [
       "             asin      reviewerID  overall\n",
       "4298   B004EBZX6W   AWO8OHKCI0Y0I        5\n",
       "9201   B004GYY714  A10R9QFEFYAUZW        5\n",
       "679    B004AZH4C8  A1VITR3L9Q6KY2        5\n",
       "18780  B004JXUXS8   AYOBWKPV3H0V7        2\n",
       "6955   B004GMJKTK  A1T6IOH2615C01        4\n",
       "8571   B004GYCF7W  A2UH5YQZS3WXFY        5\n",
       "9405   B004GYYQLA  A3G5MOHY1U635N        4\n",
       "13699  B004HMJ5QM  A101Q7PGHKL3QF        5\n",
       "3930   B004DPNBIQ  A1TEYEOQZIHTTZ        4\n",
       "13573  B004HM35RC  A2888QFVFKC7PD        5\n",
       "3774   B004DPIEF6   A7KLMDTM03VGF        4\n",
       "9085   B004GYY714  A116YVP2PSHCML        4\n",
       "12646  B004HGK6FW  A2HQR32GZAYRWH        5\n",
       "16782  B004IPXTNI  A3075DBCTQDWAJ        1\n",
       "13102  B004HIGDV6  A1DG0CI1XI0Y5R        1\n",
       "18789  B004JXUXS8  A30U3IUCWK3Q0V        2\n",
       "8042   B004GVYXTS  A3UOYDHGJG8PGS        5\n",
       "19647  B004JZBGWI   APBDZ88BBTN4F        5\n",
       "13861  B004HX68MK  A235V2MM0QCKE4        5\n",
       "8780   B004GYVYV0   AGOPXNRMER345        5\n",
       "2687   B004DM4KDY   A6547CC37G97S        1\n",
       "19522  B004JZBGWI   AX511065E8TSC        2\n",
       "8476   B004GY8NTQ  A2D96G00W3R5AL        5\n",
       "6511   B004GJDQT8  A1MW6W6E481PW5        5\n",
       "5590   B004FOA84A   ALJN5TS4M4BBH        5\n",
       "120    B004AHBBPW  A1WJ7JPOAGDK0R        5\n",
       "1307   B004DLNC4I  A39KOJG83K8F1U        5\n",
       "14697  B004HXIZVC  A37DH194Z6WFPF        1\n",
       "17563  B004JJXVYK   AX05DBU8IRUWY        5\n",
       "1728   B004DLPXAO  A15MXKSNSBAJMC        5\n",
       "...           ...             ...      ...\n",
       "11940  B004HGK6FW  A1GZW36H56XQ54        5\n",
       "15503  B004I744AS  A10B7U5R245SMG        4\n",
       "17445  B004JJR2K4  A1NXIRX0LUBAG6        5\n",
       "18177  B004JKCMGM   AP407VACMQGOJ        4\n",
       "5729   B004FRX0MY   A5VB0JWUF97HI        5\n",
       "18792  B004JXUXS8   AFJXOWGRGOK66        3\n",
       "6885   B004GMJKTK  A29GQ1DKZTFQMJ        1\n",
       "4709   B004EFYZ1C  A3VKPHVMYYS3WJ        5\n",
       "14736  B004HXIZVC  A215IN14OKAE2T        5\n",
       "18880  B004JXUXS8   AQWV1BE7867EQ        1\n",
       "9349   B004GYY714  A2FD8SGTVE7BVO        5\n",
       "14571  B004HXHVZ8  A38E5P25742CVF        5\n",
       "809    B004BN3YQE  A1FM4HDHV01MOP        4\n",
       "639    B004AZH4C8   A6JRT1C5VDH1R        5\n",
       "964    B004DLNC4I    ADLVFFE4VBT8        5\n",
       "806    B004BN3YQE  A2N5MZMHTSQ04T        2\n",
       "1709   B004DLPXAO  A2JPENRW9CJEE7        5\n",
       "12799  B004HGK6FW  A1ZJDWRY87U1EU        5\n",
       "17467  B004JJUY4K  A1RZ5RE1MEVI34        5\n",
       "19930  B004K4RY9M   APOM1C8ABG1YC        2\n",
       "19046  B004JYJCH0   A52XM6O08WES3        1\n",
       "19460  B004JZBGWI  A32CUDX0XVQR9Z        3\n",
       "8806   B004GYVYV0  A12RYTFXE7BN1F        5\n",
       "18063  B004JKCMGM  A1GE66WEG02XPW        4\n",
       "3710   B004DPIEF6  A1C18ZGJ8BUCAV        5\n",
       "7269   B004GMT14Y    AKUB840XVHT3        5\n",
       "9404   B004GYYQLA  A3UW98UR9ZP5MF        1\n",
       "6211   B004GISARW  A243XPPX1B6XRF        3\n",
       "5023   B004FJR0KK   ATP6Z8CMWS0YN        5\n",
       "19399  B004JZBGWI  A30VVR8CXKPNJF        5\n",
       "\n",
       "[16000 rows x 3 columns]"
      ]
     },
     "execution_count": 356,
     "metadata": {},
     "output_type": "execute_result"
    }
   ],
   "source": []
  },
  {
   "cell_type": "code",
   "execution_count": null,
   "metadata": {
    "collapsed": true
   },
   "outputs": [],
   "source": []
  }
 ],
 "metadata": {
  "kernelspec": {
   "display_name": "Python 2",
   "language": "python",
   "name": "python2"
  },
  "language_info": {
   "codemirror_mode": {
    "name": "ipython",
    "version": 2
   },
   "file_extension": ".py",
   "mimetype": "text/x-python",
   "name": "python",
   "nbconvert_exporter": "python",
   "pygments_lexer": "ipython2",
   "version": "2.7.14"
  }
 },
 "nbformat": 4,
 "nbformat_minor": 2
}

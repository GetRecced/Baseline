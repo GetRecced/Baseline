{
 "cells": [
  {
   "cell_type": "code",
   "execution_count": 1,
   "metadata": {
    "collapsed": true
   },
   "outputs": [],
   "source": [
    "# Imports \n",
    "import pandas as pd\n",
    "import numpy as np\n",
    "import time\n",
    "from sklearn.metrics import mean_squared_error\n",
    "from sklearn.metrics import mean_absolute_error\n",
    "from sklearn.neighbors import NearestNeighbors\n",
    "from scipy.sparse import csr_matrix\n",
    "import operator\n",
    "from collections import defaultdict"
   ]
  },
  {
   "cell_type": "code",
   "execution_count": 2,
   "metadata": {
    "collapsed": true
   },
   "outputs": [],
   "source": [
    "# load the data, keep only selected columns\n",
    "# Read the file using super fast Pandas.read_csv\n",
    "def load_required_data(path, required_columns):\n",
    "    dataframe = pd.read_json(path, lines=True)\n",
    "    dataframe = dataframe[required_columns]\n",
    "    return dataframe, dataframe.values"
   ]
  },
  {
   "cell_type": "code",
   "execution_count": 3,
   "metadata": {
    "collapsed": true
   },
   "outputs": [],
   "source": [
    "dataframe, values = load_required_data('train_15000.json', [\"asin\", \"reviewerID\", \"overall\"])"
   ]
  },
  {
   "cell_type": "code",
   "execution_count": 4,
   "metadata": {},
   "outputs": [
    {
     "data": {
      "text/html": [
       "<div>\n",
       "<style scoped>\n",
       "    .dataframe tbody tr th:only-of-type {\n",
       "        vertical-align: middle;\n",
       "    }\n",
       "\n",
       "    .dataframe tbody tr th {\n",
       "        vertical-align: top;\n",
       "    }\n",
       "\n",
       "    .dataframe thead th {\n",
       "        text-align: right;\n",
       "    }\n",
       "</style>\n",
       "<table border=\"1\" class=\"dataframe\">\n",
       "  <thead>\n",
       "    <tr style=\"text-align: right;\">\n",
       "      <th></th>\n",
       "      <th>asin</th>\n",
       "      <th>reviewerID</th>\n",
       "      <th>overall</th>\n",
       "    </tr>\n",
       "  </thead>\n",
       "  <tbody>\n",
       "    <tr>\n",
       "      <th>0</th>\n",
       "      <td>B00ANT8OF6</td>\n",
       "      <td>A00100742Q4O8VH0YMUBZ</td>\n",
       "      <td>4</td>\n",
       "    </tr>\n",
       "    <tr>\n",
       "      <th>1</th>\n",
       "      <td>B00AMR1HZ8</td>\n",
       "      <td>A00100742Q4O8VH0YMUBZ</td>\n",
       "      <td>4</td>\n",
       "    </tr>\n",
       "    <tr>\n",
       "      <th>2</th>\n",
       "      <td>B004WGGQPQ</td>\n",
       "      <td>A00100742Q4O8VH0YMUBZ</td>\n",
       "      <td>5</td>\n",
       "    </tr>\n",
       "    <tr>\n",
       "      <th>3</th>\n",
       "      <td>B006C1ZSO4</td>\n",
       "      <td>A00100742Q4O8VH0YMUBZ</td>\n",
       "      <td>5</td>\n",
       "    </tr>\n",
       "    <tr>\n",
       "      <th>4</th>\n",
       "      <td>B008LY1B32</td>\n",
       "      <td>A00100742Q4O8VH0YMUBZ</td>\n",
       "      <td>4</td>\n",
       "    </tr>\n",
       "    <tr>\n",
       "      <th>5</th>\n",
       "      <td>B007KPT2N4</td>\n",
       "      <td>A00100742Q4O8VH0YMUBZ</td>\n",
       "      <td>1</td>\n",
       "    </tr>\n",
       "    <tr>\n",
       "      <th>6</th>\n",
       "      <td>B0080JJLBW</td>\n",
       "      <td>A00100742Q4O8VH0YMUBZ</td>\n",
       "      <td>5</td>\n",
       "    </tr>\n",
       "    <tr>\n",
       "      <th>7</th>\n",
       "      <td>B009P8EMCK</td>\n",
       "      <td>A00100742Q4O8VH0YMUBZ</td>\n",
       "      <td>5</td>\n",
       "    </tr>\n",
       "    <tr>\n",
       "      <th>8</th>\n",
       "      <td>B00I8Q77Y0</td>\n",
       "      <td>A001619027H9L9EG4UVRB</td>\n",
       "      <td>5</td>\n",
       "    </tr>\n",
       "    <tr>\n",
       "      <th>9</th>\n",
       "      <td>B00H0BGCJK</td>\n",
       "      <td>A001619027H9L9EG4UVRB</td>\n",
       "      <td>5</td>\n",
       "    </tr>\n",
       "  </tbody>\n",
       "</table>\n",
       "</div>"
      ],
      "text/plain": [
       "         asin             reviewerID  overall\n",
       "0  B00ANT8OF6  A00100742Q4O8VH0YMUBZ        4\n",
       "1  B00AMR1HZ8  A00100742Q4O8VH0YMUBZ        4\n",
       "2  B004WGGQPQ  A00100742Q4O8VH0YMUBZ        5\n",
       "3  B006C1ZSO4  A00100742Q4O8VH0YMUBZ        5\n",
       "4  B008LY1B32  A00100742Q4O8VH0YMUBZ        4\n",
       "5  B007KPT2N4  A00100742Q4O8VH0YMUBZ        1\n",
       "6  B0080JJLBW  A00100742Q4O8VH0YMUBZ        5\n",
       "7  B009P8EMCK  A00100742Q4O8VH0YMUBZ        5\n",
       "8  B00I8Q77Y0  A001619027H9L9EG4UVRB        5\n",
       "9  B00H0BGCJK  A001619027H9L9EG4UVRB        5"
      ]
     },
     "execution_count": 4,
     "metadata": {},
     "output_type": "execute_result"
    }
   ],
   "source": [
    "dataframe[:10]"
   ]
  },
  {
   "cell_type": "code",
   "execution_count": 6,
   "metadata": {},
   "outputs": [
    {
     "data": {
      "text/plain": [
       "(15000, 3)"
      ]
     },
     "execution_count": 6,
     "metadata": {},
     "output_type": "execute_result"
    }
   ],
   "source": [
    "dataframe.shape"
   ]
  },
  {
   "cell_type": "code",
   "execution_count": 7,
   "metadata": {
    "collapsed": true
   },
   "outputs": [],
   "source": [
    "# Create user-item matrix given a matrix and mapping from original matrix columns to new matrix rows/columns\n",
    "def create_user_item_matrix(data, rowMapping, columnMapping):\n",
    "    # Create table of users to items by taking row and column pivots\n",
    "    # Rows of user-item table are users\n",
    "    rows, row_pos = np.unique(data[:, rowMapping], return_inverse=True)\n",
    "    # Columns of user-item table are movies\n",
    "    cols, col_pos = np.unique(data[:, columnMapping], return_inverse=True)\n",
    "\n",
    "    pivot_table = np.zeros((len(rows), len(cols)), dtype=data.dtype)\n",
    "    pivot_table[row_pos, col_pos] = data[:, 2]\n",
    "    return pivot_table, rows, cols"
   ]
  },
  {
   "cell_type": "code",
   "execution_count": 8,
   "metadata": {},
   "outputs": [
    {
     "name": "stdout",
     "output_type": "stream",
     "text": [
      "(3139, 1842)\n"
     ]
    }
   ],
   "source": [
    "ratings_matrix, rows, cols = create_user_item_matrix(values, rowMapping=1, columnMapping=0)\n",
    "print (ratings_matrix.shape)"
   ]
  },
  {
   "cell_type": "code",
   "execution_count": 9,
   "metadata": {},
   "outputs": [
    {
     "data": {
      "text/html": [
       "<div>\n",
       "<style scoped>\n",
       "    .dataframe tbody tr th:only-of-type {\n",
       "        vertical-align: middle;\n",
       "    }\n",
       "\n",
       "    .dataframe tbody tr th {\n",
       "        vertical-align: top;\n",
       "    }\n",
       "\n",
       "    .dataframe thead th {\n",
       "        text-align: right;\n",
       "    }\n",
       "</style>\n",
       "<table border=\"1\" class=\"dataframe\">\n",
       "  <thead>\n",
       "    <tr style=\"text-align: right;\">\n",
       "      <th></th>\n",
       "      <th>B004ALVL6W</th>\n",
       "      <th>B004ANMWPY</th>\n",
       "      <th>B004DLNC4I</th>\n",
       "      <th>B004DLPXAO</th>\n",
       "      <th>B004DM1OAQ</th>\n",
       "      <th>B004DM1ZQY</th>\n",
       "      <th>B004DPBGCO</th>\n",
       "      <th>B004DPC5Y2</th>\n",
       "      <th>B004DPCSKI</th>\n",
       "      <th>B004DPIEF6</th>\n",
       "      <th>...</th>\n",
       "      <th>B00K7WGUKA</th>\n",
       "      <th>B00KFNXUY0</th>\n",
       "      <th>B00KGCNRAM</th>\n",
       "      <th>B00KI5Q8X0</th>\n",
       "      <th>B00KMX5V8G</th>\n",
       "      <th>B00KOEHQCW</th>\n",
       "      <th>B00KQHVWWC</th>\n",
       "      <th>B00KSOQ66K</th>\n",
       "      <th>B00KWVZ750</th>\n",
       "      <th>B00L3MNCNQ</th>\n",
       "    </tr>\n",
       "  </thead>\n",
       "  <tbody>\n",
       "    <tr>\n",
       "      <th>A00100742Q4O8VH0YMUBZ</th>\n",
       "      <td>0</td>\n",
       "      <td>0</td>\n",
       "      <td>0</td>\n",
       "      <td>0</td>\n",
       "      <td>0</td>\n",
       "      <td>0</td>\n",
       "      <td>0</td>\n",
       "      <td>0</td>\n",
       "      <td>0</td>\n",
       "      <td>0</td>\n",
       "      <td>...</td>\n",
       "      <td>0</td>\n",
       "      <td>0</td>\n",
       "      <td>0</td>\n",
       "      <td>0</td>\n",
       "      <td>0</td>\n",
       "      <td>0</td>\n",
       "      <td>0</td>\n",
       "      <td>0</td>\n",
       "      <td>0</td>\n",
       "      <td>0</td>\n",
       "    </tr>\n",
       "    <tr>\n",
       "      <th>A001619027H9L9EG4UVRB</th>\n",
       "      <td>0</td>\n",
       "      <td>0</td>\n",
       "      <td>0</td>\n",
       "      <td>0</td>\n",
       "      <td>0</td>\n",
       "      <td>0</td>\n",
       "      <td>0</td>\n",
       "      <td>0</td>\n",
       "      <td>0</td>\n",
       "      <td>0</td>\n",
       "      <td>...</td>\n",
       "      <td>0</td>\n",
       "      <td>0</td>\n",
       "      <td>0</td>\n",
       "      <td>0</td>\n",
       "      <td>0</td>\n",
       "      <td>0</td>\n",
       "      <td>0</td>\n",
       "      <td>0</td>\n",
       "      <td>0</td>\n",
       "      <td>0</td>\n",
       "    </tr>\n",
       "    <tr>\n",
       "      <th>A002359833QJM7OQHCXWY</th>\n",
       "      <td>0</td>\n",
       "      <td>0</td>\n",
       "      <td>0</td>\n",
       "      <td>0</td>\n",
       "      <td>0</td>\n",
       "      <td>0</td>\n",
       "      <td>0</td>\n",
       "      <td>0</td>\n",
       "      <td>0</td>\n",
       "      <td>0</td>\n",
       "      <td>...</td>\n",
       "      <td>0</td>\n",
       "      <td>0</td>\n",
       "      <td>0</td>\n",
       "      <td>0</td>\n",
       "      <td>0</td>\n",
       "      <td>0</td>\n",
       "      <td>0</td>\n",
       "      <td>0</td>\n",
       "      <td>0</td>\n",
       "      <td>0</td>\n",
       "    </tr>\n",
       "    <tr>\n",
       "      <th>A0037670NPLI11RBWYFA</th>\n",
       "      <td>0</td>\n",
       "      <td>0</td>\n",
       "      <td>0</td>\n",
       "      <td>0</td>\n",
       "      <td>0</td>\n",
       "      <td>0</td>\n",
       "      <td>0</td>\n",
       "      <td>0</td>\n",
       "      <td>0</td>\n",
       "      <td>0</td>\n",
       "      <td>...</td>\n",
       "      <td>0</td>\n",
       "      <td>0</td>\n",
       "      <td>0</td>\n",
       "      <td>0</td>\n",
       "      <td>0</td>\n",
       "      <td>0</td>\n",
       "      <td>0</td>\n",
       "      <td>0</td>\n",
       "      <td>0</td>\n",
       "      <td>0</td>\n",
       "    </tr>\n",
       "    <tr>\n",
       "      <th>A003841815JTX0JFLR8B1</th>\n",
       "      <td>0</td>\n",
       "      <td>0</td>\n",
       "      <td>0</td>\n",
       "      <td>0</td>\n",
       "      <td>0</td>\n",
       "      <td>0</td>\n",
       "      <td>0</td>\n",
       "      <td>0</td>\n",
       "      <td>0</td>\n",
       "      <td>0</td>\n",
       "      <td>...</td>\n",
       "      <td>0</td>\n",
       "      <td>0</td>\n",
       "      <td>0</td>\n",
       "      <td>0</td>\n",
       "      <td>0</td>\n",
       "      <td>0</td>\n",
       "      <td>0</td>\n",
       "      <td>0</td>\n",
       "      <td>0</td>\n",
       "      <td>0</td>\n",
       "    </tr>\n",
       "    <tr>\n",
       "      <th>A0038872349TB5N0JHQQW</th>\n",
       "      <td>0</td>\n",
       "      <td>0</td>\n",
       "      <td>0</td>\n",
       "      <td>0</td>\n",
       "      <td>0</td>\n",
       "      <td>0</td>\n",
       "      <td>0</td>\n",
       "      <td>0</td>\n",
       "      <td>0</td>\n",
       "      <td>0</td>\n",
       "      <td>...</td>\n",
       "      <td>0</td>\n",
       "      <td>0</td>\n",
       "      <td>0</td>\n",
       "      <td>0</td>\n",
       "      <td>0</td>\n",
       "      <td>0</td>\n",
       "      <td>0</td>\n",
       "      <td>0</td>\n",
       "      <td>0</td>\n",
       "      <td>0</td>\n",
       "    </tr>\n",
       "    <tr>\n",
       "      <th>A00455683H6M1GQZMPQPV</th>\n",
       "      <td>0</td>\n",
       "      <td>0</td>\n",
       "      <td>0</td>\n",
       "      <td>0</td>\n",
       "      <td>0</td>\n",
       "      <td>0</td>\n",
       "      <td>0</td>\n",
       "      <td>0</td>\n",
       "      <td>0</td>\n",
       "      <td>0</td>\n",
       "      <td>...</td>\n",
       "      <td>0</td>\n",
       "      <td>0</td>\n",
       "      <td>0</td>\n",
       "      <td>0</td>\n",
       "      <td>0</td>\n",
       "      <td>0</td>\n",
       "      <td>0</td>\n",
       "      <td>0</td>\n",
       "      <td>5</td>\n",
       "      <td>0</td>\n",
       "    </tr>\n",
       "    <tr>\n",
       "      <th>A0047670XAAJD587LXS7</th>\n",
       "      <td>0</td>\n",
       "      <td>0</td>\n",
       "      <td>0</td>\n",
       "      <td>0</td>\n",
       "      <td>0</td>\n",
       "      <td>0</td>\n",
       "      <td>0</td>\n",
       "      <td>0</td>\n",
       "      <td>0</td>\n",
       "      <td>0</td>\n",
       "      <td>...</td>\n",
       "      <td>0</td>\n",
       "      <td>0</td>\n",
       "      <td>0</td>\n",
       "      <td>0</td>\n",
       "      <td>0</td>\n",
       "      <td>0</td>\n",
       "      <td>0</td>\n",
       "      <td>0</td>\n",
       "      <td>0</td>\n",
       "      <td>0</td>\n",
       "    </tr>\n",
       "    <tr>\n",
       "      <th>A00501041JRAPWYLPQ4TE</th>\n",
       "      <td>0</td>\n",
       "      <td>0</td>\n",
       "      <td>0</td>\n",
       "      <td>0</td>\n",
       "      <td>0</td>\n",
       "      <td>0</td>\n",
       "      <td>0</td>\n",
       "      <td>0</td>\n",
       "      <td>0</td>\n",
       "      <td>0</td>\n",
       "      <td>...</td>\n",
       "      <td>0</td>\n",
       "      <td>0</td>\n",
       "      <td>0</td>\n",
       "      <td>0</td>\n",
       "      <td>0</td>\n",
       "      <td>0</td>\n",
       "      <td>0</td>\n",
       "      <td>0</td>\n",
       "      <td>0</td>\n",
       "      <td>0</td>\n",
       "    </tr>\n",
       "    <tr>\n",
       "      <th>A00507662MEMHI1YMGQ15</th>\n",
       "      <td>0</td>\n",
       "      <td>0</td>\n",
       "      <td>0</td>\n",
       "      <td>0</td>\n",
       "      <td>0</td>\n",
       "      <td>0</td>\n",
       "      <td>0</td>\n",
       "      <td>0</td>\n",
       "      <td>0</td>\n",
       "      <td>0</td>\n",
       "      <td>...</td>\n",
       "      <td>0</td>\n",
       "      <td>0</td>\n",
       "      <td>0</td>\n",
       "      <td>0</td>\n",
       "      <td>0</td>\n",
       "      <td>0</td>\n",
       "      <td>0</td>\n",
       "      <td>0</td>\n",
       "      <td>0</td>\n",
       "      <td>0</td>\n",
       "    </tr>\n",
       "  </tbody>\n",
       "</table>\n",
       "<p>10 rows × 1842 columns</p>\n",
       "</div>"
      ],
      "text/plain": [
       "                      B004ALVL6W B004ANMWPY B004DLNC4I B004DLPXAO B004DM1OAQ  \\\n",
       "A00100742Q4O8VH0YMUBZ          0          0          0          0          0   \n",
       "A001619027H9L9EG4UVRB          0          0          0          0          0   \n",
       "A002359833QJM7OQHCXWY          0          0          0          0          0   \n",
       "A0037670NPLI11RBWYFA           0          0          0          0          0   \n",
       "A003841815JTX0JFLR8B1          0          0          0          0          0   \n",
       "A0038872349TB5N0JHQQW          0          0          0          0          0   \n",
       "A00455683H6M1GQZMPQPV          0          0          0          0          0   \n",
       "A0047670XAAJD587LXS7           0          0          0          0          0   \n",
       "A00501041JRAPWYLPQ4TE          0          0          0          0          0   \n",
       "A00507662MEMHI1YMGQ15          0          0          0          0          0   \n",
       "\n",
       "                      B004DM1ZQY B004DPBGCO B004DPC5Y2 B004DPCSKI B004DPIEF6  \\\n",
       "A00100742Q4O8VH0YMUBZ          0          0          0          0          0   \n",
       "A001619027H9L9EG4UVRB          0          0          0          0          0   \n",
       "A002359833QJM7OQHCXWY          0          0          0          0          0   \n",
       "A0037670NPLI11RBWYFA           0          0          0          0          0   \n",
       "A003841815JTX0JFLR8B1          0          0          0          0          0   \n",
       "A0038872349TB5N0JHQQW          0          0          0          0          0   \n",
       "A00455683H6M1GQZMPQPV          0          0          0          0          0   \n",
       "A0047670XAAJD587LXS7           0          0          0          0          0   \n",
       "A00501041JRAPWYLPQ4TE          0          0          0          0          0   \n",
       "A00507662MEMHI1YMGQ15          0          0          0          0          0   \n",
       "\n",
       "                         ...     B00K7WGUKA B00KFNXUY0 B00KGCNRAM B00KI5Q8X0  \\\n",
       "A00100742Q4O8VH0YMUBZ    ...              0          0          0          0   \n",
       "A001619027H9L9EG4UVRB    ...              0          0          0          0   \n",
       "A002359833QJM7OQHCXWY    ...              0          0          0          0   \n",
       "A0037670NPLI11RBWYFA     ...              0          0          0          0   \n",
       "A003841815JTX0JFLR8B1    ...              0          0          0          0   \n",
       "A0038872349TB5N0JHQQW    ...              0          0          0          0   \n",
       "A00455683H6M1GQZMPQPV    ...              0          0          0          0   \n",
       "A0047670XAAJD587LXS7     ...              0          0          0          0   \n",
       "A00501041JRAPWYLPQ4TE    ...              0          0          0          0   \n",
       "A00507662MEMHI1YMGQ15    ...              0          0          0          0   \n",
       "\n",
       "                      B00KMX5V8G B00KOEHQCW B00KQHVWWC B00KSOQ66K B00KWVZ750  \\\n",
       "A00100742Q4O8VH0YMUBZ          0          0          0          0          0   \n",
       "A001619027H9L9EG4UVRB          0          0          0          0          0   \n",
       "A002359833QJM7OQHCXWY          0          0          0          0          0   \n",
       "A0037670NPLI11RBWYFA           0          0          0          0          0   \n",
       "A003841815JTX0JFLR8B1          0          0          0          0          0   \n",
       "A0038872349TB5N0JHQQW          0          0          0          0          0   \n",
       "A00455683H6M1GQZMPQPV          0          0          0          0          5   \n",
       "A0047670XAAJD587LXS7           0          0          0          0          0   \n",
       "A00501041JRAPWYLPQ4TE          0          0          0          0          0   \n",
       "A00507662MEMHI1YMGQ15          0          0          0          0          0   \n",
       "\n",
       "                      B00L3MNCNQ  \n",
       "A00100742Q4O8VH0YMUBZ          0  \n",
       "A001619027H9L9EG4UVRB          0  \n",
       "A002359833QJM7OQHCXWY          0  \n",
       "A0037670NPLI11RBWYFA           0  \n",
       "A003841815JTX0JFLR8B1          0  \n",
       "A0038872349TB5N0JHQQW          0  \n",
       "A00455683H6M1GQZMPQPV          0  \n",
       "A0047670XAAJD587LXS7           0  \n",
       "A00501041JRAPWYLPQ4TE          0  \n",
       "A00507662MEMHI1YMGQ15          0  \n",
       "\n",
       "[10 rows x 1842 columns]"
      ]
     },
     "execution_count": 9,
     "metadata": {},
     "output_type": "execute_result"
    }
   ],
   "source": [
    "pd.DataFrame(ratings_matrix[:10], index = rows[:10], columns= cols)"
   ]
  },
  {
   "cell_type": "code",
   "execution_count": 10,
   "metadata": {
    "collapsed": true
   },
   "outputs": [],
   "source": [
    "def get_index_map(arr):\n",
    "    index_map = {}\n",
    "    for el in arr:\n",
    "        index_map[el] = len(index_map)\n",
    "    return index_map"
   ]
  },
  {
   "cell_type": "code",
   "execution_count": 11,
   "metadata": {
    "collapsed": true
   },
   "outputs": [],
   "source": [
    "# Get unique movies and users\n",
    "unique_items = np.unique(values[:,0])\n",
    "unique_users = np.unique(values[:,1])"
   ]
  },
  {
   "cell_type": "code",
   "execution_count": 14,
   "metadata": {
    "collapsed": true
   },
   "outputs": [],
   "source": [
    "# Create mapping from unique list to \n",
    "item_idx_map = get_index_map(unique_items)\n",
    "user_idx_map = get_index_map(unique_users)"
   ]
  },
  {
   "cell_type": "code",
   "execution_count": 16,
   "metadata": {
    "collapsed": true
   },
   "outputs": [],
   "source": [
    "test_dataframe, test_values = load_required_data('test_5000.json', [\"asin\", \"reviewerID\", \"overall\"])"
   ]
  },
  {
   "cell_type": "code",
   "execution_count": 60,
   "metadata": {
    "collapsed": true
   },
   "outputs": [],
   "source": [
    "def get_user_items_rated_df(user_id):\n",
    "    df = pd.DataFrame()\n",
    "    np.nonzero(ratings_matrix[user_id])\n",
    "    for i in np.nonzero(ratings_matrix[user_id]):\n",
    "        x = pd.DataFrame({\"item\":unique_items[i], \"rating\":ratings_matrix[user_id][i]})\n",
    "        df = df.append(x)\n",
    "        return df\n",
    "\n",
    "def print_items_rated(user_id):\n",
    "    np.nonzero(ratings_matrix[user_id])\n",
    "    for i in unique_items[np.nonzero(ratings_matrix[user_id])]:\n",
    "        print i"
   ]
  },
  {
   "cell_type": "code",
   "execution_count": 45,
   "metadata": {
    "collapsed": true
   },
   "outputs": [],
   "source": [
    "from surprise import SVD\n",
    "from surprise import accuracy\n",
    "from surprise import Reader\n",
    "from surprise import Dataset\n",
    "from surprise.model_selection import train_test_split\n",
    "\n",
    "reader = Reader(rating_scale=(1, 5))\n",
    "data = Dataset.load_from_df(dataframe[['reviewerID', 'asin', 'overall']], reader)\n",
    "data_train = data.build_full_trainset()"
   ]
  },
  {
   "cell_type": "code",
   "execution_count": 46,
   "metadata": {},
   "outputs": [
    {
     "data": {
      "text/plain": [
       "<surprise.prediction_algorithms.matrix_factorization.SVD at 0x107b78410>"
      ]
     },
     "execution_count": 46,
     "metadata": {},
     "output_type": "execute_result"
    }
   ],
   "source": [
    "algo = SVD()\n",
    "algo.fit(data_train)"
   ]
  },
  {
   "cell_type": "code",
   "execution_count": 59,
   "metadata": {
    "collapsed": true
   },
   "outputs": [],
   "source": [
    "data_test = Dataset.load_from_df(test_dataframe[['reviewerID', 'asin', 'overall']], reader)\n",
    "testset = data_test.build_full_trainset().build_testset()\n",
    "\n",
    "predictions = algo.test(testset)"
   ]
  },
  {
   "cell_type": "code",
   "execution_count": 60,
   "metadata": {},
   "outputs": [
    {
     "name": "stdout",
     "output_type": "stream",
     "text": [
      "RMSE: 1.1818\n",
      "MAE:  0.9075\n"
     ]
    },
    {
     "data": {
      "text/plain": [
       "0.9074699375192018"
      ]
     },
     "execution_count": 60,
     "metadata": {},
     "output_type": "execute_result"
    }
   ],
   "source": [
    "accuracy.rmse(predictions)\n",
    "accuracy.mae(predictions)"
   ]
  },
  {
   "cell_type": "code",
   "execution_count": 65,
   "metadata": {
    "collapsed": true
   },
   "outputs": [],
   "source": [
    "def get_top_n(user, predictions, n=10):\n",
    "    '''Return the top-N recommendation for each user from a set of predictions.\n",
    "\n",
    "    Args:\n",
    "        predictions(list of Prediction objects): The list of predictions, as\n",
    "            returned by the test method of an algorithm.\n",
    "        n(int): The number of recommendation to output for each user. Default\n",
    "            is 10.\n",
    "\n",
    "    Returns:\n",
    "    A dict where keys are user (raw) ids and values are lists of tuples:\n",
    "        [(raw item id, rating estimation), ...] of size n.\n",
    "    '''\n",
    "\n",
    "    # First map the predictions to each user.\n",
    "    top_n = defaultdict(list)\n",
    "    for uid, iid, true_r, est, _ in predictions:\n",
    "        if uid == user:\n",
    "            top_n[uid].append((iid, est))\n",
    "\n",
    "    # Then sort the predictions for each user and retrieve the k highest ones.\n",
    "    for uid, user_ratings in top_n.items():\n",
    "        user_ratings.sort(key=lambda x: x[1], reverse=True)\n",
    "        top_n[uid] = user_ratings[:n]\n",
    "\n",
    "    return top_n"
   ]
  },
  {
   "cell_type": "code",
   "execution_count": 66,
   "metadata": {},
   "outputs": [
    {
     "data": {
      "text/plain": [
       "defaultdict(list,\n",
       "            {u'A13Q9FMHS483MD': [(u'B004MC8CA2', 4.669553694444572),\n",
       "              (u'B00A4KVFLY', 4.056435390724249)]})"
      ]
     },
     "execution_count": 66,
     "metadata": {},
     "output_type": "execute_result"
    }
   ],
   "source": [
    "get_top_n('A13Q9FMHS483MD', predictions, 10)"
   ]
  },
  {
   "cell_type": "code",
   "execution_count": null,
   "metadata": {
    "collapsed": true
   },
   "outputs": [],
   "source": []
  }
 ],
 "metadata": {
  "kernelspec": {
   "display_name": "Python 2",
   "language": "python",
   "name": "python2"
  },
  "language_info": {
   "codemirror_mode": {
    "name": "ipython",
    "version": 2
   },
   "file_extension": ".py",
   "mimetype": "text/x-python",
   "name": "python",
   "nbconvert_exporter": "python",
   "pygments_lexer": "ipython2",
   "version": "2.7.14"
  }
 },
 "nbformat": 4,
 "nbformat_minor": 2
}

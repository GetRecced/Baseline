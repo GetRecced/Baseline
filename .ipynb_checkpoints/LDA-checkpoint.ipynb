{
 "cells": [
  {
   "cell_type": "markdown",
   "metadata": {},
   "source": [
    "# Hidden Factor Hidden Topics\n",
    "## Amazon Kindle Store Reviews Dataset\n",
    "Dataset Link: http://jmcauley.ucsd.edu/data/amazon/\n",
    "##### Sample Review"
   ]
  },
  {
   "cell_type": "markdown",
   "metadata": {},
   "source": []
  },
  {
   "cell_type": "raw",
   "metadata": {},
   "source": [
    "{\n",
    " \"reviewerID\": \"A1F6404F1VG29J\", \n",
    " \"asin\": \"B000F83SZQ\", \n",
    " \"reviewerName\": \"Avidreader\", \n",
    " \"helpful\": [0, 0], \n",
    " \"reviewText\": \"I enjoy vintage books and movies so I enjoyed reading this book.  The plot was unusual.  Don't think killing someone in self-defense but leaving the scene and the body without notifying the police or hitting someone in the jaw to knock them out would wash today.Still it was a good read for me.\", \n",
    " \"overall\": 5.0, \n",
    " \"summary\": \"Nice vintage story\", \n",
    " \"unixReviewTime\": 1399248000, \n",
    " \"reviewTime\": \"05 5, 2014\"\n",
    "}"
   ]
  },
  {
   "cell_type": "code",
   "execution_count": 9,
   "metadata": {
    "collapsed": true
   },
   "outputs": [],
   "source": [
    "\n",
    "import pyLDAvis\n",
    "import pyLDAvis.sklearn\n",
    "pyLDAvis.enable_notebook()\n",
    "\n",
    "from sklearn.feature_extraction.text import CountVectorizer\n",
    "from sklearn.decomposition import LatentDirichletAllocation\n",
    "\n",
    "import json"
   ]
  },
  {
   "cell_type": "raw",
   "metadata": {},
   "source": [
    "from sklearn.datasets import fetch_20newsgroups\n",
    "\n",
    "sub_category = ['sci.space', 'misc.forsale']\n",
    "newsgroups = fetch_20newsgroups(categories=sub_category,\n",
    "                                remove=['headers', 'footers', 'quotes'])\n",
    "data = newsgroups.data\n",
    "print len(data)"
   ]
  },
  {
   "cell_type": "code",
   "execution_count": 10,
   "metadata": {
    "collapsed": true
   },
   "outputs": [],
   "source": [
    "from sklearn.metrics import mean_squared_error\n",
    "from sklearn.metrics import mean_absolute_error\n",
    "DATASET_SIZE = 17545\n",
    "DATASET_FILE = 'train.json'\n",
    "TEST_FILE = 'test.json'"
   ]
  },
  {
   "cell_type": "code",
   "execution_count": 11,
   "metadata": {},
   "outputs": [
    {
     "name": "stdout",
     "output_type": "stream",
     "text": [
      "It suds up good, i used this in an attached sprayer bottle on my hose and it foamed up good spraying it out. Noticed after rinsing it immediately started beading water off which is a good sign. Only time will tell on how long it will last. As far as cleaning power it does fairly good, but i've seen better. Then again it is trying to do two jobs in one. The best cleaning of a car is in steps, but for an all in one cleaner and wax i think this outperforms most.\n"
     ]
    }
   ],
   "source": [
    "dataset_file = open(DATASET_FILE)\n",
    "dataset_lines = dataset_file.readlines()[:DATASET_SIZE]\n",
    "data = []\n",
    "for line in dataset_lines:\n",
    "    data.append(json.loads(line)[\"reviewText\"])\n",
    "print data[0]"
   ]
  },
  {
   "cell_type": "code",
   "execution_count": 14,
   "metadata": {
    "collapsed": true
   },
   "outputs": [],
   "source": [
    "tf_vectorizer = CountVectorizer(strip_accents='unicode',\n",
    "                                stop_words='english',\n",
    "                                token_pattern=r'\\b[a-zA-Z]{3,}\\b',\n",
    "                                max_df=0.5,\n",
    "                                min_df=5\n",
    "                               )\n",
    "dtm_tf = tf_vectorizer.fit_transform(data)"
   ]
  },
  {
   "cell_type": "code",
   "execution_count": 15,
   "metadata": {},
   "outputs": [
    {
     "name": "stdout",
     "output_type": "stream",
     "text": [
      "[u'aaa', u'abilities', u'ability', u'able', u'abrasive', u'abs', u'absolute', u'absolutely', u'absorb', u'absorbant']\n",
      "(17545, 7663)\n"
     ]
    }
   ],
   "source": [
    "print (tf_vectorizer.get_feature_names()[:10])\n",
    "print (dtm_tf.shape)"
   ]
  },
  {
   "cell_type": "code",
   "execution_count": 16,
   "metadata": {},
   "outputs": [
    {
     "name": "stderr",
     "output_type": "stream",
     "text": [
      "/Users/bmunot/anaconda2/lib/python2.7/site-packages/sklearn/decomposition/online_lda.py:536: DeprecationWarning: The default value for 'learning_method' will be changed from 'online' to 'batch' in the release 0.20. This warning was introduced in 0.18.\n",
      "  DeprecationWarning)\n"
     ]
    },
    {
     "data": {
      "text/plain": [
       "LatentDirichletAllocation(batch_size=128, doc_topic_prior=None,\n",
       "             evaluate_every=-1, learning_decay=0.7, learning_method=None,\n",
       "             learning_offset=10.0, max_doc_update_iter=100, max_iter=10,\n",
       "             mean_change_tol=0.001, n_components=5, n_jobs=1,\n",
       "             n_topics=None, perp_tol=0.1, random_state=18,\n",
       "             topic_word_prior=None, total_samples=1000000.0, verbose=0)"
      ]
     },
     "execution_count": 16,
     "metadata": {},
     "output_type": "execute_result"
    }
   ],
   "source": [
    "NUMBER_OF_TOPICS = 5\n",
    "\n",
    "\n",
    "lda_tf = LatentDirichletAllocation(n_components=NUMBER_OF_TOPICS, random_state=18)\n",
    "lda_tf.fit(dtm_tf)"
   ]
  },
  {
   "cell_type": "code",
   "execution_count": 18,
   "metadata": {},
   "outputs": [
    {
     "name": "stdout",
     "output_type": "stream",
     "text": [
      "4.4742661727\n",
      "done\n"
     ]
    }
   ],
   "source": [
    "dataset_file = open(DATASET_FILE)\n",
    "dataset_lines = dataset_file.readlines()[:DATASET_SIZE]\n",
    "\n",
    "ReviewsByUser = {}\n",
    "ItemReviews = {}\n",
    "AverageRatingsByUsers = {}\n",
    "AverageRatingsByItems = {}\n",
    "UserHistory = {}\n",
    "GlobalAverage = 0.0\n",
    "for line in dataset_lines:\n",
    "    d = json.loads(line)\n",
    "    user = d[\"reviewerID\"]\n",
    "    item = d[\"asin\"]\n",
    "    try: \n",
    "        ReviewsByUser[user] += ' ' + d[\"reviewText\"]\n",
    "    except:\n",
    "        ReviewsByUser[user] = d[\"reviewText\"]\n",
    "    try: \n",
    "        ItemReviews[item] += ' ' + d[\"reviewText\"]\n",
    "    except:\n",
    "        ItemReviews[item] = d[\"reviewText\"]\n",
    "    try:\n",
    "        AverageRatingsByUsers[user] = (AverageRatingsByUsers[user][0]+float(d[\"overall\"]), AverageRatingsByUsers[user][1]+1)\n",
    "    except:\n",
    "        AverageRatingsByUsers[user] = (float(d[\"overall\"]), 1)\n",
    "    try:\n",
    "        AverageRatingsByItems[item] = (AverageRatingsByItems[item][0]+float(d[\"overall\"]), AverageRatingsByItems[item][1]+1)\n",
    "    except:\n",
    "        AverageRatingsByItems[item] = (float(d[\"overall\"]), 1)\n",
    "    try:\n",
    "        UserHistory[user].append(item) \n",
    "    except:\n",
    "        UserHistory[user] = [item]\n",
    "    \n",
    "    GlobalAverage += float(d[\"overall\"])\n",
    "\n",
    "GlobalAverage /= DATASET_SIZE   \n",
    "\n",
    "for k in AverageRatingsByUsers.keys():\n",
    "    AverageRatingsByUsers[k] = AverageRatingsByUsers[k][0]*1.0/AverageRatingsByUsers[k][1]        \n",
    "        \n",
    "for k in AverageRatingsByItems.keys():\n",
    "    AverageRatingsByItems[k] = AverageRatingsByItems[k][0]*1.0/AverageRatingsByItems[k][1]\n",
    "\n",
    "# print AverageRatingsByItems\n",
    "# print AverageRatingsByUsers\n",
    "print GlobalAverage\n",
    "print \"done\""
   ]
  },
  {
   "cell_type": "code",
   "execution_count": 19,
   "metadata": {},
   "outputs": [
    {
     "name": "stdout",
     "output_type": "stream",
     "text": [
      "7663\n"
     ]
    }
   ],
   "source": [
    "import numpy as np\n",
    "\n",
    "WordToTopicMapping = {}\n",
    "\n",
    "tf_feature_names = tf_vectorizer.get_feature_names()\n",
    "\n",
    "rows = NUMBER_OF_TOPICS # topics count\n",
    "columns = len(tf_feature_names) # Total number of words\n",
    "    \n",
    "M = np.zeros((rows, columns))\n",
    "total_of_columns = np.sum(lda_tf.components_, axis=0)\n",
    "print len(total_of_columns)\n",
    "for i in range(columns):\n",
    "    column_sum = total_of_columns[i]\n",
    "    for j in range(rows):\n",
    "        M[j][i] = lda_tf.components_[j][i]*1.0/column_sum\n",
    "\n",
    "M = np.transpose(M)\n",
    "DocVecRep = CountVectorizer(vocabulary=tf_feature_names) # document vector representation"
   ]
  },
  {
   "cell_type": "code",
   "execution_count": 20,
   "metadata": {},
   "outputs": [
    {
     "name": "stdout",
     "output_type": "stream",
     "text": [
      "(5, 1835)\n",
      "(2928, 5)\n"
     ]
    }
   ],
   "source": [
    "# print M\n",
    "\n",
    "def MakeProbabilityDistribution(Gamma):\n",
    "    column_sums = np.sum(Gamma, axis=0)\n",
    "    return np.divide(Gamma, 1.0*column_sums)\n",
    "\n",
    "Gamma_i = np.zeros((len(ItemReviews.keys()), NUMBER_OF_TOPICS)) #   #items   X  topics\n",
    "\n",
    "j = 0\n",
    "# Calculating latent factors for items\n",
    "ItemToIndexMapping = {}\n",
    "for item in ItemReviews.keys():\n",
    "    ItemToIndexMapping[item] = j\n",
    "    review = ItemReviews[item]\n",
    "    review_vector = DocVecRep.fit_transform([review]).toarray()\n",
    "    Gamma_i[j] = np.matmul(review_vector, M)\n",
    "    j += 1\n",
    "\n",
    "\n",
    "Gamma_i = np.transpose(Gamma_i)\n",
    "Gamma_i = MakeProbabilityDistribution(Gamma_i)\n",
    "print Gamma_i.shape\n",
    "\n",
    "Gamma_u = np.zeros((len(ReviewsByUser.keys()), NUMBER_OF_TOPICS))\n",
    "j = 0\n",
    "# Calculating latent factors for users\n",
    "UserToIndexMapping = {}\n",
    "for user in ReviewsByUser.keys():\n",
    "    UserToIndexMapping[user] = j\n",
    "    review = ReviewsByUser[user]\n",
    "    review_vector = DocVecRep.fit_transform([review]).toarray()\n",
    "    Gamma_u[j] = np.matmul(review_vector, M)\n",
    "    j += 1\n",
    "\n",
    "Gamma_u = np.transpose(Gamma_u)\n",
    "Gamma_u = MakeProbabilityDistribution(Gamma_u)\n",
    "Gamma_u = np.transpose(Gamma_u)\n",
    "print Gamma_u.shape\n",
    "\n",
    "# print UserToIndexMapping\n",
    "# print ItemToIndexMapping\n",
    "\n",
    "    "
   ]
  },
  {
   "cell_type": "code",
   "execution_count": 21,
   "metadata": {
    "collapsed": true
   },
   "outputs": [],
   "source": [
    "\n",
    "total_users = len(ReviewsByUser.keys())\n",
    "total_items = len(ItemReviews.keys())\n",
    "\n",
    "ActualRatingAvailability = np.zeros((total_users, total_items))\n",
    "\n",
    "dataset_file = open(DATASET_FILE)\n",
    "dataset_lines = dataset_file.readlines()[:DATASET_SIZE]\n",
    "\n",
    "for line in dataset_lines:\n",
    "    d = json.loads(line)\n",
    "    userId = d[\"reviewerID\"]\n",
    "    itemId = d[\"asin\"]\n",
    "    user = UserToIndexMapping[userId]\n",
    "    item = ItemToIndexMapping[itemId]"
   ]
  },
  {
   "cell_type": "code",
   "execution_count": 23,
   "metadata": {},
   "outputs": [
    {
     "name": "stdout",
     "output_type": "stream",
     "text": [
      "(0.69, 1.0)\n",
      "1835\n",
      "[(u'B007VJ2KEC', 0.2375639448734676), (u'B0051MYL8E', 0.23689234069258153), (u'B001LTVCBU', 0.23682540016636519), (u'B0043GCVUY', 0.23679141567699283), (u'B004VB5JDW', 0.23636302059635747)]\n",
      "[u'B007VJ2KEC', u'B0051MYL8E', u'B001LTVCBU', u'B0043GCVUY', u'B004VB5JDW']\n",
      "[u'B00353PWAW', u'B0062BHOOG', u'B0014FKI1Q', u'B000EH4V18']\n"
     ]
    }
   ],
   "source": [
    "def PredictUserToItemRating(userId, itemId):\n",
    "    userIndex = UserToIndexMapping[userId]\n",
    "    itemIndex = ItemToIndexMapping[itemId]\n",
    "    gamma_user = Gamma_u[userIndex]\n",
    "    gamma_item = Gamma_i[:, itemIndex]\n",
    "    return np.dot(gamma_user, gamma_item)\n",
    "\n",
    "def IsActuallyRated(userId, itemId):\n",
    "    user = UserToIndexMapping[userId]\n",
    "    item = ItemToIndexMapping[itemId]\n",
    "    \n",
    "    return ActualRatingAvailability[user][item] == 1\n",
    "\n",
    "RECOMMENDATIONS = 5\n",
    "\n",
    "def RecommendItemsToUser(userId):\n",
    "    itemsList = ItemToIndexMapping.keys()\n",
    "    predictions = []\n",
    "    for item in itemsList:\n",
    "        if not IsActuallyRated(userId, item):\n",
    "            predictions.append((item, PredictUserToItemRating(userId, item)))\n",
    "    sorted_by_predictions = sorted(predictions, key=lambda tup: tup[1], reverse=True)\n",
    "    print len(sorted_by_predictions)\n",
    "    print sorted_by_predictions[:min(RECOMMENDATIONS, len(predictions))]\n",
    "    return sorted_by_predictions[:min(RECOMMENDATIONS, len(predictions))]\n",
    "\n",
    "def GetRecommendationsForUser(userId):\n",
    "    predictions = RecommendItemsToUser(userId)\n",
    "    return [_[0] for _ in predictions]\n",
    "\n",
    "def GetEvaluationOnTestData():\n",
    "    test_file = open(TEST_FILE)\n",
    "    dataset_lines = test_file.readlines()\n",
    "    \n",
    "    y_pred = []\n",
    "    y_actual = []\n",
    "    \n",
    "    for line in dataset_lines:\n",
    "        d = json.loads(line)\n",
    "        userId = d[\"reviewerID\"]\n",
    "        itemId = d[\"asin\"]\n",
    "        #print PredictUserToItemRating(userId, itemId)\n",
    "        prediction = AverageRatingsByUsers[userId] + AverageRatingsByItems[itemId] - GlobalAverage + PredictUserToItemRating(userId, itemId)\n",
    "        y_pred.append(prediction)\n",
    "        y_actual.append(d[\"overall\"])\n",
    "    MAE = round(mean_absolute_error(y_actual, y_pred), 2)\n",
    "    RMSE = round(np.sqrt(mean_squared_error(y_actual, y_pred)), 2)\n",
    "    return (MAE, RMSE)\n",
    "\n",
    "USER_ID = 'A00473363TJ8YSZ3YAGG9'\n",
    "print GetEvaluationOnTestData()\n",
    "history = UserHistory[USER_ID]\n",
    "recommendations = GetRecommendationsForUser(USER_ID)\n",
    "print recommendations\n",
    "print history"
   ]
  },
  {
   "cell_type": "code",
   "execution_count": 25,
   "metadata": {
    "scrolled": false
   },
   "outputs": [
    {
     "name": "stderr",
     "output_type": "stream",
     "text": [
      "/Users/bmunot/anaconda2/lib/python2.7/site-packages/pyLDAvis/_prepare.py:387: DeprecationWarning: \n",
      ".ix is deprecated. Please use\n",
      ".loc for label based indexing or\n",
      ".iloc for positional indexing\n",
      "\n",
      "See the documentation here:\n",
      "http://pandas.pydata.org/pandas-docs/stable/indexing.html#ix-indexer-is-deprecated\n",
      "  topic_term_dists = topic_term_dists.ix[topic_order]\n"
     ]
    },
    {
     "data": {
      "text/html": [
       "\n",
       "<link rel=\"stylesheet\" type=\"text/css\" href=\"https://cdn.rawgit.com/bmabey/pyLDAvis/files/ldavis.v1.0.0.css\">\n",
       "\n",
       "\n",
       "<div id=\"ldavis_el209734577614544102377397\"></div>\n",
       "<script type=\"text/javascript\">\n",
       "\n",
       "var ldavis_el209734577614544102377397_data = {\"plot.opts\": {\"xlab\": \"PC1\", \"ylab\": \"PC2\"}, \"topic.order\": [2, 3, 4, 5, 1], \"token.table\": {\"Topic\": [3, 2, 3, 4, 5, 1, 2, 3, 4, 5, 1, 5, 1, 5, 3, 3, 1, 3, 4, 5, 1, 2, 3, 4, 5, 3, 3, 2, 2, 3, 1, 2, 3, 4, 2, 3, 4, 5, 3, 4, 4, 1, 1, 5, 4, 4, 1, 2, 3, 4, 5, 4, 1, 2, 3, 3, 2, 2, 5, 2, 3, 2, 1, 2, 3, 4, 5, 5, 2, 3, 4, 4, 4, 4, 3, 3, 3, 3, 2, 3, 4, 5, 3, 1, 1, 4, 5, 1, 4, 1, 4, 1, 1, 1, 3, 3, 4, 3, 5, 3, 2, 4, 1, 2, 3, 5, 1, 5, 3, 4, 5, 5, 1, 1, 3, 1, 2, 3, 4, 5, 1, 2, 3, 4, 1, 4, 5, 1, 2, 1, 2, 3, 4, 5, 1, 2, 3, 4, 5, 2, 1, 2, 4, 5, 1, 5, 1, 1, 2, 1, 2, 3, 4, 5, 1, 2, 3, 4, 5, 3, 4, 4, 5, 4, 4, 4, 1, 5, 2, 3, 4, 2, 3, 4, 4, 3, 4, 3, 5, 2, 3, 4, 5, 2, 2, 5, 1, 2, 3, 4, 5, 5, 1, 2, 3, 4, 5, 1, 5, 1, 2, 3, 5, 5, 1, 2, 3, 4, 5, 1, 2, 4, 4, 1, 2, 3, 5, 4, 2, 1, 2, 4, 5, 1, 2, 3, 5, 3, 5, 1, 2, 5, 1, 2, 3, 4, 5, 2, 3, 4, 3, 3, 1, 3, 5, 1, 2, 3, 5, 2, 2, 2, 4, 1, 2, 3, 4, 5, 1, 2, 3, 4, 5, 2, 1, 4, 3, 4, 4, 4, 1, 2, 3, 4, 5, 1, 3, 3, 4, 1, 2, 3, 4, 5, 1, 1, 2, 3, 4, 5, 2, 5, 1, 2, 3, 4, 5, 1, 2, 4, 5, 1, 2, 3, 4, 5, 5, 1, 2, 4, 5, 1, 4, 4, 3, 1, 2, 3, 4, 5, 1, 2, 3, 4, 5, 1, 2, 3, 4, 5, 2, 2, 3, 4, 4, 2, 3, 4, 5, 1, 1, 4, 5, 3, 4, 5, 3, 1, 2, 3, 4, 5, 1, 2, 3, 4, 5, 2, 2, 3, 4, 5, 3, 1, 1, 5, 3, 4, 1, 2, 3, 1, 2, 3, 4, 5, 1, 2, 3, 4, 5, 1, 3, 4, 5, 2, 4, 1, 2, 3, 4, 5, 1, 3, 5, 5, 1, 3, 5, 1, 2, 3, 4, 5, 2, 3, 4, 5, 2, 2, 2, 3, 4, 4, 2, 4, 5, 1, 1, 2, 2, 3, 5, 2, 1, 3, 4, 5, 5, 5, 1, 2, 3, 4, 5, 5, 5, 5, 1, 2, 3, 4, 5, 1, 1, 2, 3, 1, 2, 4, 2, 2, 3, 4, 1, 3, 5, 5, 2, 4, 3, 4, 2, 1, 4, 5, 1, 2, 3, 4, 5, 1, 4, 5, 3, 5, 5, 5, 4, 3, 2, 5, 5, 2, 5, 1, 2, 3, 4, 5, 1, 2, 1, 2, 2, 3, 5, 3, 2, 1, 1, 4, 2, 4, 5, 5, 2, 3, 5, 3, 1, 2, 3, 4, 5, 1, 2, 3, 4, 5, 1, 2, 3, 4, 5, 2, 5, 1, 2, 3, 4, 5, 2, 5, 3, 1, 2, 3, 4, 5, 1, 1, 1, 2, 5, 1, 1, 4, 1, 3, 5, 1, 3, 1, 3, 3, 3, 1, 5, 3, 5, 1, 2, 3, 4, 5, 1, 2, 3, 4, 5, 2], \"Freq\": [0.9972487838317596, 0.58664468733024, 0.022697562307419997, 0.36403398008439, 0.026189494970099998, 0.06293576649389952, 0.22892885062155952, 0.21083481775456342, 0.4012155113986095, 0.09676374098437052, 0.9986926580794074, 0.9977036645914598, 0.46367443304099915, 0.5351756306594709, 0.99891466130673, 0.999779265311856, 0.3902281519546081, 0.14893111120469446, 0.33437898525284765, 0.1260186325578184, 0.343875965223732, 0.2219856583017049, 0.11946864519509937, 0.3107799216223869, 0.003632492590391535, 0.9987938583620481, 0.9988442008553576, 0.9926431187742402, 0.9984429418748261, 0.9970413271219459, 0.15761089828735733, 0.46630740289476097, 0.1621284081108803, 0.21382879831342108, 0.28062986283805197, 0.16335171120423922, 0.05165823345775086, 0.5054129868028597, 0.029486847145523968, 0.968151481278037, 0.9960988651862737, 0.9983111065722976, 0.995561575306869, 0.9905767682608676, 0.9973504112087679, 0.9992269529132488, 0.18293576049280627, 0.3616591843953177, 0.10591017712741416, 0.3111111453117791, 0.03851279168269606, 0.995009993937762, 0.06513217098076723, 0.03618453943375958, 0.8973765779572376, 0.9976383261112233, 0.9928908006947164, 0.9970459392524385, 0.0029585932915502625, 0.8809313909624432, 0.11808731782338382, 0.9936289546256731, 0.6027869211509984, 0.0005719040997637556, 0.2796611047844765, 0.10708904268076323, 0.009865345720924784, 0.9888407122508648, 0.07660590061587563, 0.048187582645470156, 0.8747899618716121, 0.9976588227058115, 0.9981055645703438, 0.9959011393549334, 0.9992500280112714, 0.998006358344419, 0.9988966232460298, 0.9986774540206221, 0.19642103180821704, 0.7388314040492568, 0.00360405562950857, 0.061268945701645684, 0.9986802531313591, 0.9989404055577628, 0.8526334867874339, 0.0897200299026667, 0.05688132614744229, 0.8901600576266196, 0.1085306518091072, 0.9906720292955657, 0.008021635864741423, 0.9992556373443768, 0.9988868930405693, 0.99687201581779, 0.9965112842034723, 0.9979246868776098, 0.9971588135162855, 0.9800712899519837, 0.017134113460699017, 0.9935792680932669, 0.9937582462098026, 0.9971298681097017, 0.06376495718570556, 0.7297545100141859, 0.014169990485712347, 0.1912948715571167, 0.1959893361207265, 0.7982980276136908, 0.02962813110260394, 0.9396350149682964, 0.03386072126011879, 0.9925110556401646, 0.9979674520263835, 0.9965821773452324, 0.9992571459399016, 0.29746978973693916, 0.2585315828611754, 0.1616388355191587, 0.24811787637114557, 0.03441050840183771, 0.2216932695395795, 0.0017185524770510039, 0.005155657431153012, 0.7716300621959008, 0.9380141610010156, 0.004473835426077976, 0.05666858206365436, 0.9850618024271999, 0.01364351526907479, 0.34898768833399796, 0.0035450216647923043, 0.21821577803277073, 0.11462236716161783, 0.314719145574339, 0.26300508555951707, 0.2032145291491945, 0.19661189101799323, 0.20541540852626158, 0.1316859493945141, 0.9977569484091905, 0.07621556918278381, 0.2050561742298707, 0.0671422871372143, 0.6514616508718901, 0.9982124714684006, 0.0012041163708907125, 0.9970490973909192, 0.99810868873888, 0.9981991285908898, 0.24534385825712976, 0.6015491261503438, 0.13101802956991782, 0.013227781831578241, 0.00881852122105216, 0.09788093739481547, 0.35340170027812323, 0.15763982548849229, 0.05872856243688929, 0.3338255127991602, 0.3080972733742464, 0.6916885806216526, 0.26443085496682606, 0.7345301526856279, 0.9963718135242514, 0.9996599861254342, 0.9991814259747112, 0.9909722951083152, 0.009425008241519301, 0.9278465520234266, 0.05587397119849102, 0.015802739328866146, 0.9569870289022928, 0.02487380786476548, 0.01832806895298509, 0.9980349970880208, 0.08501471809513893, 0.9139082195227435, 0.995991521817412, 0.9979919847526687, 0.05781198523114403, 0.1973581564787331, 0.6897567893095116, 0.053824951766927205, 0.9991668638001591, 0.9972572403663288, 0.9970054947432827, 0.34925681005341225, 0.33214223132714815, 0.11940403762509821, 0.17074777380389045, 0.02865696903002357, 0.998755833018741, 0.35172238212012985, 0.36868258883545185, 0.11831763256165104, 0.12215386979487862, 0.039371908446283195, 0.9968518381986956, 0.9925126225602611, 0.02353051400433328, 0.38903783153831023, 0.004706102800866656, 0.5819880463738432, 0.993258027461722, 0.2646452775132097, 0.22769480480381815, 0.10785543385444019, 0.10386078815612758, 0.29560378167513235, 0.11305099403399062, 0.8855661199329264, 0.9955615320927006, 0.9975763962959505, 0.19793526642388298, 0.6678632118792242, 0.12657085063840137, 0.006732492055234115, 0.9943622081069098, 0.9965275766308838, 0.10721267914153294, 0.6593579767204276, 0.0013401584892691618, 0.231847418643565, 0.15814540807378413, 0.0045839248717038875, 0.21315250653423076, 0.6234137825517287, 0.13541599792945344, 0.8623860920770455, 0.020177788261340396, 0.5830318818671514, 0.3971838320916478, 0.14416030559262566, 0.2130368960424357, 0.09770865156833516, 0.11372646330084914, 0.4308791356046256, 0.8285942815323221, 0.16440362728815913, 0.006576145091526366, 0.9981563301955511, 0.9970543749966183, 0.22540626722286844, 0.25521205462423946, 0.5178755560988217, 0.002725451253158212, 0.42925857237241843, 0.16352707518949275, 0.4047295110939945, 0.9993534502755862, 0.9932519996793407, 0.9651337014848546, 0.03435751040884596, 0.5257699831055284, 0.21433828579563352, 0.08549105416350056, 0.08182715184220768, 0.09281885880608631, 0.2841051160039788, 0.34096294038560415, 0.16873341410339934, 0.1348763277402309, 0.07139429080929002, 0.9936009710923426, 0.0018113125861776202, 0.9980332349838688, 0.33254512796084995, 0.667130410080969, 0.9974603381745248, 0.9925597400988682, 0.0752917775461679, 0.06994561582691337, 0.2677535994393308, 0.5858502217349751, 0.0013365404298136315, 0.062434176955340065, 0.936512654330101, 0.11096480484007756, 0.8877184387206205, 0.3656991775865118, 0.2831154622084589, 0.1330180525067422, 0.15491981643912123, 0.06329408842843474, 0.9981284151685887, 0.23274077478078056, 0.37179172947676603, 0.11149512525928104, 0.1335397888086446, 0.15049722230815502, 0.9987959037511445, 0.9978312531870526, 0.2882903982657851, 0.1897205194469689, 0.26073322784332037, 0.14891470939831916, 0.11234846403004863, 0.32618190425687926, 0.566526465288264, 0.10603436516090503, 0.9918621455880772, 0.23556604248846252, 0.3760311768725342, 0.16833953848363448, 0.11095105945512272, 0.10876483168260799, 0.9923187692791986, 0.999105591586023, 0.4853220398346754, 0.0017777364096508257, 0.5119880859794378, 0.9995904210617846, 0.9972280302998902, 0.9972267853697117, 0.9988035654273691, 0.19001083996774099, 0.30368544728468644, 0.24269943532997484, 0.0726023951841805, 0.19084058162698875, 0.3418856474887886, 0.1867221613207999, 0.11571514222697458, 0.34661944876171025, 0.008941624626629854, 0.31641521567901104, 0.41520094862475615, 0.11382924557707687, 0.06819725726203724, 0.08675092284067973, 0.9933685750791887, 0.0839576787584305, 0.03071622393601116, 0.8846272493571214, 0.9996713230352321, 0.009977509407091481, 0.11723573553332489, 0.022449396165955832, 0.8505826769545487, 0.9988374023639075, 0.9991125539077337, 0.9919634521924482, 0.99509954159692, 0.10708054947898726, 0.5565172219400888, 0.3348152392159884, 0.9973310969396016, 0.0012524794737364068, 0.44838765159763366, 0.015029753684836882, 0.0037574384212092204, 0.5310512968642365, 0.2495211493297353, 0.5005545480493477, 0.006048997559508735, 0.011341870424078877, 0.23364253073602487, 0.9967350233124185, 0.2206593862789859, 0.7697179530764625, 0.00932363603995715, 0.001035959559995239, 0.9942349262778907, 0.9982616310020499, 0.9961213800300435, 0.9961913242377793, 0.9805501789452332, 0.019643743150822703, 0.07491064022426372, 0.9071210339656934, 0.01755718130256181, 0.15246442903612362, 0.3475632880762696, 0.14458632783972816, 0.3206850604650381, 0.03475632880762696, 0.5680870526933378, 0.11600329388813994, 0.08679679081701251, 0.13677693339647706, 0.09235013999250857, 0.7201618100716695, 0.04833850602301308, 0.1917154306675434, 0.04014553890046849, 0.9967761051915233, 0.9981020725276077, 0.16759504455815502, 0.47333552520577965, 0.10655403791397076, 0.23077784090915276, 0.021417897068134826, 0.3201742018589511, 0.6651041409750376, 0.014853442354281236, 0.9887968607047061, 0.07047852654356684, 0.060410165608771584, 0.8692351607039912, 0.39521780264895695, 0.22583874437083254, 0.11833331468745678, 0.1639651157760839, 0.09667754467929475, 0.9238472764262083, 0.0707142359733641, 0.0022811043862375514, 0.0022811043862375514, 0.9920718435864514, 0.995838254901211, 0.28272099790597616, 0.20213230224118856, 0.5152392017912649, 0.9976629841812429, 0.20377493465209381, 0.027431241203166475, 0.7641560049453519, 0.9961915531229102, 0.997671188719667, 0.9957092987592923, 0.9568488577534091, 0.04115478958079179, 0.9978919077942576, 0.9969467308728026, 0.9987960440395528, 0.3124979456921969, 0.08423857666485308, 0.6005395304171784, 0.9864065254549459, 0.9914462175596772, 0.19069471132575905, 0.3171221442489142, 0.12853455680520776, 0.0063213716461577585, 0.35610393606688706, 0.9954534081752743, 0.9955479300065059, 0.9928219639878811, 0.16141504110613583, 0.19329949367031082, 0.2032633850966155, 0.006642594284203121, 0.43575418504372476, 0.9968126196564302, 0.9244711398339767, 0.07446624112611601, 0.9969552662158748, 0.04440664903411824, 0.9278652456076286, 0.025709112598700037, 0.9977995445524588, 0.004726742868324228, 0.009453485736648457, 0.9878892594797637, 0.9992943326933923, 0.2291249649238464, 0.7692052393871986, 0.9932940975501835, 0.995383197575517, 0.9937602987914163, 0.005129803693072636, 0.9951819164560914, 0.9941750783939671, 0.6564969515490446, 0.16924616118632088, 0.17370000753332931, 0.2320192445124807, 0.37939104811358393, 0.1869551392790855, 0.14615385481101148, 0.055416669949175185, 0.7982760219363939, 0.021459032847752524, 0.17882527373127105, 0.9948065862730779, 0.0032723900864245984, 0.9982692550255324, 0.9978142507026213, 0.9974400100372511, 0.9982194136862688, 0.9977002057369855, 0.9896855613320686, 0.9924140091172946, 0.8681598972275042, 0.13190274681633352, 0.3129888817631134, 0.21784737509080335, 0.24392978190439613, 0.1372290267578802, 0.08802812299587563, 0.09276679927574209, 0.9066946294429052, 0.26719583131864355, 0.731383099060444, 0.5201422520155681, 0.17694558853613715, 0.3023630661249377, 0.9946532576152484, 0.9945229064539107, 0.999014944659967, 0.9993201370090246, 0.9956231323610923, 0.9995812239627614, 0.9980074771744557, 0.9895250939814373, 0.9950239120370482, 0.10314659669213139, 0.8897598948302549, 0.006747908194812333, 0.9976713545269902, 0.38153519187452867, 0.2381764569454124, 0.19388101367511287, 0.08929848148101914, 0.09708202582564046, 0.4222409260238597, 0.20472991514970854, 0.15221123090018057, 0.17010476491440027, 0.050659615780518114, 0.42649722878087604, 0.11311279818711698, 0.20995594731992262, 0.1530121756298329, 0.09761789432586808, 0.9250130840507972, 0.07469049746994015, 0.24536617916386363, 0.10315695220102375, 0.3949437598553481, 0.17831416023319818, 0.07810454952363227, 0.9952523843843961, 0.9981161373430592, 0.9972717870676231, 0.26690329135360774, 0.12966040574280377, 0.16833105306960489, 0.16681455709600485, 0.26766153934040776, 0.9992466346133874, 0.9983962219706454, 0.5026963341934049, 0.010908419548500648, 0.4858791873894664, 0.9995994849983857, 0.28477280158956564, 0.7127646729844099, 0.22949687855042855, 0.7582272562052833, 0.011411446999745067, 0.19931446075165576, 0.7994724481260859, 0.9289840955989664, 0.07063703952711035, 0.9993608749930044, 0.9985454089550623, 0.008797954988710553, 0.9853709587355818, 0.9976380636952333, 0.9912740121052668, 0.2624366995398149, 0.31349315781459924, 0.19967302790265967, 0.13690935626550443, 0.08747889984660498, 0.31508401632086974, 0.34525839288385624, 0.20232713548023593, 0.0520905026982083, 0.08480587939281474, 0.9958613310080152], \"Term\": [\"adapter\", \"air\", \"air\", \"air\", \"air\", \"amazon\", \"amazon\", \"amazon\", \"amazon\", \"amazon\", \"apply\", \"bag\", \"bar\", \"bar\", \"batteries\", \"battery\", \"best\", \"best\", \"best\", \"best\", \"better\", \"better\", \"better\", \"better\", \"better\", \"blade\", \"blades\", \"bolt\", \"bolts\", \"bosch\", \"bought\", \"bought\", \"bought\", \"bought\", \"box\", \"box\", \"box\", \"box\", \"bright\", \"bright\", \"brighter\", \"brush\", \"bucket\", \"bug\", \"bulb\", \"bulbs\", \"buy\", \"buy\", \"buy\", \"buy\", \"buy\", \"cabin\", \"cable\", \"cable\", \"cable\", \"cables\", \"camco\", \"camper\", \"camper\", \"cap\", \"cap\", \"caps\", \"car\", \"car\", \"car\", \"car\", \"car\", \"cargo\", \"change\", \"change\", \"change\", \"changed\", \"changes\", \"changing\", \"charge\", \"charged\", \"charger\", \"charging\", \"check\", \"check\", \"check\", \"check\", \"cigarette\", \"clay\", \"clean\", \"clean\", \"clean\", \"cleaner\", \"cleaner\", \"cleaning\", \"cleaning\", \"cloth\", \"cloths\", \"coat\", \"code\", \"codes\", \"conditioner\", \"connect\", \"connect\", \"connectors\", \"construction\", \"coolant\", \"cover\", \"cover\", \"cover\", \"cover\", \"cutting\", \"cutting\", \"dark\", \"dark\", \"dark\", \"described\", \"detailer\", \"detailing\", \"device\", \"did\", \"did\", \"did\", \"did\", \"did\", \"difference\", \"difference\", \"difference\", \"difference\", \"dirt\", \"dirt\", \"dirt\", \"dirty\", \"dirty\", \"does\", \"does\", \"does\", \"does\", \"does\", \"don\", \"don\", \"don\", \"don\", \"don\", \"dont\", \"door\", \"door\", \"door\", \"door\", \"dry\", \"dry\", \"drying\", \"dust\", \"duty\", \"easy\", \"easy\", \"easy\", \"easy\", \"easy\", \"end\", \"end\", \"end\", \"end\", \"end\", \"engine\", \"engine\", \"exactly\", \"exactly\", \"feels\", \"filter\", \"filters\", \"finish\", \"finish\", \"fit\", \"fit\", \"fit\", \"fits\", \"fits\", \"fits\", \"fluid\", \"fuel\", \"fuel\", \"fuse\", \"future\", \"gas\", \"gas\", \"gas\", \"gas\", \"gauge\", \"gauges\", \"general\", \"good\", \"good\", \"good\", \"good\", \"good\", \"grease\", \"great\", \"great\", \"great\", \"great\", \"great\", \"griot\", \"gun\", \"handle\", \"handle\", \"handle\", \"handle\", \"handles\", \"hard\", \"hard\", \"hard\", \"hard\", \"hard\", \"head\", \"head\", \"headlight\", \"headlights\", \"heavy\", \"heavy\", \"heavy\", \"heavy\", \"hid\", \"hitch\", \"hold\", \"hold\", \"hold\", \"hold\", \"home\", \"home\", \"home\", \"home\", \"hood\", \"hood\", \"hose\", \"hose\", \"hose\", \"inside\", \"inside\", \"inside\", \"inside\", \"inside\", \"install\", \"install\", \"install\", \"installation\", \"inverter\", \"isn\", \"isn\", \"isn\", \"item\", \"item\", \"item\", \"item\", \"jack\", \"jacks\", \"jeep\", \"jeep\", \"job\", \"job\", \"job\", \"job\", \"job\", \"just\", \"just\", \"just\", \"just\", \"just\", \"leaks\", \"leather\", \"leather\", \"led\", \"led\", \"lens\", \"lexol\", \"light\", \"light\", \"light\", \"light\", \"light\", \"lighter\", \"lighter\", \"lights\", \"lights\", \"like\", \"like\", \"like\", \"like\", \"like\", \"liquid\", \"little\", \"little\", \"little\", \"little\", \"little\", \"lock\", \"locking\", \"long\", \"long\", \"long\", \"long\", \"long\", \"looks\", \"looks\", \"looks\", \"lube\", \"make\", \"make\", \"make\", \"make\", \"make\", \"mat\", \"meguiar\", \"metal\", \"metal\", \"metal\", \"microfiber\", \"miles\", \"mobil\", \"model\", \"need\", \"need\", \"need\", \"need\", \"need\", \"new\", \"new\", \"new\", \"new\", \"new\", \"nice\", \"nice\", \"nice\", \"nice\", \"nice\", \"nut\", \"oem\", \"oem\", \"oem\", \"oil\", \"open\", \"open\", \"open\", \"open\", \"pad\", \"paint\", \"pan\", \"particular\", \"parts\", \"parts\", \"parts\", \"phone\", \"place\", \"place\", \"place\", \"place\", \"place\", \"plastic\", \"plastic\", \"plastic\", \"plastic\", \"plastic\", \"plate\", \"plug\", \"plug\", \"plug\", \"plug\", \"plugged\", \"polish\", \"polishing\", \"position\", \"power\", \"power\", \"pressure\", \"pressure\", \"pressure\", \"price\", \"price\", \"price\", \"price\", \"price\", \"product\", \"product\", \"product\", \"product\", \"product\", \"products\", \"products\", \"products\", \"products\", \"psi\", \"purple\", \"quality\", \"quality\", \"quality\", \"quality\", \"quality\", \"rain\", \"rain\", \"rain\", \"ratchet\", \"reach\", \"reach\", \"reach\", \"really\", \"really\", \"really\", \"really\", \"really\", \"rear\", \"rear\", \"rear\", \"rear\", \"receiver\", \"release\", \"replace\", \"replace\", \"replace\", \"royal\", \"rust\", \"rust\", \"rust\", \"scratch\", \"scratches\", \"screw\", \"screws\", \"screws\", \"seat\", \"secure\", \"shine\", \"short\", \"short\", \"short\", \"shut\", \"silicon\", \"size\", \"size\", \"size\", \"size\", \"size\", \"sizes\", \"slick\", \"slip\", \"small\", \"small\", \"small\", \"small\", \"small\", \"soap\", \"soft\", \"soft\", \"solar\", \"solid\", \"solid\", \"solid\", \"spare\", \"spark\", \"spark\", \"spark\", \"spray\", \"spring\", \"spring\", \"square\", \"stands\", \"steering\", \"stock\", \"stock\", \"strap\", \"stuff\", \"stuff\", \"stuff\", \"sure\", \"sure\", \"sure\", \"sure\", \"sure\", \"surface\", \"surface\", \"surface\", \"switch\", \"switch\", \"tank\", \"tanks\", \"tape\", \"tender\", \"threads\", \"throttle\", \"tie\", \"tight\", \"tight\", \"time\", \"time\", \"time\", \"time\", \"time\", \"tire\", \"tire\", \"tires\", \"tires\", \"tool\", \"tool\", \"tool\", \"torque\", \"tow\", \"towel\", \"towels\", \"toyota\", \"trailer\", \"transmission\", \"trips\", \"trunk\", \"unit\", \"unit\", \"unit\", \"usb\", \"use\", \"use\", \"use\", \"use\", \"use\", \"used\", \"used\", \"used\", \"used\", \"used\", \"using\", \"using\", \"using\", \"using\", \"using\", \"valve\", \"valve\", \"vehicle\", \"vehicle\", \"vehicle\", \"vehicle\", \"vehicle\", \"vent\", \"version\", \"voltage\", \"want\", \"want\", \"want\", \"want\", \"want\", \"wash\", \"washing\", \"water\", \"water\", \"water\", \"wax\", \"white\", \"white\", \"windshield\", \"windshield\", \"windshield\", \"winter\", \"winter\", \"wipe\", \"wipe\", \"wiper\", \"wipers\", \"wipes\", \"wipes\", \"wiring\", \"wood\", \"work\", \"work\", \"work\", \"work\", \"work\", \"works\", \"works\", \"works\", \"works\", \"works\", \"wrench\"]}, \"mdsDat\": {\"y\": [0.018435101212246754, -0.221652238846822, 0.03341876126671183, 0.09586193742072324, 0.07393643894714017], \"cluster\": [1, 1, 1, 1, 1], \"Freq\": [25.06240853985054, 22.53866565954627, 22.029966084612134, 16.99552906881654, 13.373430647174505], \"topics\": [1, 2, 3, 4, 5], \"x\": [0.045798499185363085, -0.001785814925695843, 0.04231465419723114, 0.17005327485627808, -0.25638061331317663]}, \"R\": 30, \"lambda.step\": 0.01, \"tinfo\": {\"Category\": [\"Default\", \"Default\", \"Default\", \"Default\", \"Default\", \"Default\", \"Default\", \"Default\", \"Default\", \"Default\", \"Default\", \"Default\", \"Default\", \"Default\", \"Default\", \"Default\", \"Default\", \"Default\", \"Default\", \"Default\", \"Default\", \"Default\", \"Default\", \"Default\", \"Default\", \"Default\", \"Default\", \"Default\", \"Default\", \"Default\", \"Topic1\", \"Topic1\", \"Topic1\", \"Topic1\", \"Topic1\", \"Topic1\", \"Topic1\", \"Topic1\", \"Topic1\", \"Topic1\", \"Topic1\", \"Topic1\", \"Topic1\", \"Topic1\", \"Topic1\", \"Topic1\", \"Topic1\", \"Topic1\", \"Topic1\", \"Topic1\", \"Topic1\", \"Topic1\", \"Topic1\", \"Topic1\", \"Topic1\", \"Topic1\", \"Topic1\", \"Topic1\", \"Topic1\", \"Topic1\", \"Topic1\", \"Topic1\", \"Topic1\", \"Topic1\", \"Topic1\", \"Topic1\", \"Topic1\", \"Topic1\", \"Topic1\", \"Topic1\", \"Topic1\", \"Topic1\", \"Topic1\", \"Topic1\", \"Topic1\", \"Topic1\", \"Topic1\", \"Topic1\", \"Topic1\", \"Topic1\", \"Topic1\", \"Topic1\", \"Topic1\", \"Topic1\", \"Topic1\", \"Topic1\", \"Topic1\", \"Topic1\", \"Topic1\", \"Topic2\", \"Topic2\", \"Topic2\", \"Topic2\", \"Topic2\", \"Topic2\", \"Topic2\", \"Topic2\", \"Topic2\", \"Topic2\", \"Topic2\", \"Topic2\", \"Topic2\", \"Topic2\", \"Topic2\", \"Topic2\", \"Topic2\", \"Topic2\", \"Topic2\", \"Topic2\", \"Topic2\", \"Topic2\", \"Topic2\", \"Topic2\", \"Topic2\", \"Topic2\", \"Topic2\", \"Topic2\", \"Topic2\", \"Topic2\", \"Topic2\", \"Topic2\", \"Topic2\", \"Topic2\", \"Topic2\", \"Topic2\", \"Topic2\", \"Topic2\", \"Topic2\", \"Topic2\", \"Topic2\", \"Topic2\", \"Topic2\", \"Topic2\", \"Topic2\", \"Topic2\", \"Topic2\", \"Topic2\", \"Topic2\", \"Topic2\", \"Topic2\", \"Topic2\", \"Topic2\", \"Topic2\", \"Topic2\", \"Topic2\", \"Topic2\", \"Topic2\", \"Topic2\", \"Topic2\", \"Topic2\", \"Topic2\", \"Topic2\", \"Topic2\", \"Topic2\", \"Topic2\", \"Topic2\", \"Topic2\", \"Topic2\", \"Topic3\", \"Topic3\", \"Topic3\", \"Topic3\", \"Topic3\", \"Topic3\", \"Topic3\", \"Topic3\", \"Topic3\", \"Topic3\", \"Topic3\", \"Topic3\", \"Topic3\", \"Topic3\", \"Topic3\", \"Topic3\", \"Topic3\", \"Topic3\", \"Topic3\", \"Topic3\", \"Topic3\", \"Topic3\", \"Topic3\", \"Topic3\", \"Topic3\", \"Topic3\", \"Topic3\", \"Topic3\", \"Topic3\", \"Topic3\", \"Topic3\", \"Topic3\", \"Topic3\", \"Topic3\", \"Topic3\", \"Topic3\", \"Topic3\", \"Topic3\", \"Topic3\", \"Topic3\", \"Topic3\", \"Topic3\", \"Topic3\", \"Topic3\", \"Topic3\", \"Topic3\", \"Topic3\", \"Topic3\", \"Topic3\", \"Topic3\", \"Topic3\", \"Topic3\", \"Topic3\", \"Topic3\", \"Topic3\", \"Topic3\", \"Topic3\", \"Topic3\", \"Topic4\", \"Topic4\", \"Topic4\", \"Topic4\", \"Topic4\", \"Topic4\", \"Topic4\", \"Topic4\", \"Topic4\", \"Topic4\", \"Topic4\", \"Topic4\", \"Topic4\", \"Topic4\", \"Topic4\", \"Topic4\", \"Topic4\", \"Topic4\", \"Topic4\", \"Topic4\", \"Topic4\", \"Topic4\", \"Topic4\", \"Topic4\", \"Topic4\", \"Topic4\", \"Topic4\", \"Topic4\", \"Topic4\", \"Topic4\", \"Topic4\", \"Topic4\", \"Topic4\", \"Topic4\", \"Topic4\", \"Topic4\", \"Topic4\", \"Topic4\", \"Topic4\", \"Topic4\", \"Topic4\", \"Topic4\", \"Topic4\", \"Topic4\", \"Topic4\", \"Topic4\", \"Topic4\", \"Topic4\", \"Topic4\", \"Topic4\", \"Topic4\", \"Topic4\", \"Topic4\", \"Topic4\", \"Topic4\", \"Topic4\", \"Topic4\", \"Topic4\", \"Topic4\", \"Topic4\", \"Topic4\", \"Topic4\", \"Topic5\", \"Topic5\", \"Topic5\", \"Topic5\", \"Topic5\", \"Topic5\", \"Topic5\", \"Topic5\", \"Topic5\", \"Topic5\", \"Topic5\", \"Topic5\", \"Topic5\", \"Topic5\", \"Topic5\", \"Topic5\", \"Topic5\", \"Topic5\", \"Topic5\", \"Topic5\", \"Topic5\", \"Topic5\", \"Topic5\", \"Topic5\", \"Topic5\", \"Topic5\", \"Topic5\", \"Topic5\", \"Topic5\", \"Topic5\", \"Topic5\", \"Topic5\", \"Topic5\", \"Topic5\", \"Topic5\", \"Topic5\", \"Topic5\", \"Topic5\", \"Topic5\", \"Topic5\", \"Topic5\", \"Topic5\", \"Topic5\", \"Topic5\", \"Topic5\", \"Topic5\", \"Topic5\", \"Topic5\", \"Topic5\", \"Topic5\", \"Topic5\", \"Topic5\", \"Topic5\", \"Topic5\", \"Topic5\", \"Topic5\", \"Topic5\", \"Topic5\", \"Topic5\", \"Topic5\", \"Topic5\", \"Topic5\", \"Topic5\", \"Topic5\", \"Topic5\", \"Topic5\", \"Topic5\"], \"Term\": [\"battery\", \"oil\", \"car\", \"filter\", \"wax\", \"water\", \"fit\", \"leather\", \"wash\", \"wiper\", \"power\", \"paint\", \"light\", \"spray\", \"tire\", \"trailer\", \"blade\", \"lights\", \"blades\", \"bulbs\", \"easy\", \"clean\", \"cleaning\", \"charge\", \"charger\", \"shine\", \"towels\", \"install\", \"unit\", \"dry\", \"wax\", \"wash\", \"paint\", \"spray\", \"shine\", \"towels\", \"towel\", \"microfiber\", \"clay\", \"apply\", \"polish\", \"brush\", \"pad\", \"washing\", \"dust\", \"meguiar\", \"cloth\", \"dry\", \"drying\", \"griot\", \"coat\", \"cloths\", \"scratches\", \"liquid\", \"polishing\", \"detailing\", \"soap\", \"scratch\", \"bucket\", \"detailer\", \"cleaning\", \"finish\", \"dirty\", \"dirt\", \"clean\", \"cleaner\", \"soft\", \"car\", \"wipe\", \"product\", \"products\", \"use\", \"surface\", \"used\", \"like\", \"water\", \"great\", \"good\", \"stuff\", \"using\", \"just\", \"job\", \"really\", \"time\", \"works\", \"does\", \"better\", \"work\", \"easy\", \"trailer\", \"gauge\", \"jack\", \"lock\", \"hitch\", \"duty\", \"wrench\", \"plate\", \"screw\", \"secure\", \"strap\", \"bolts\", \"stands\", \"spare\", \"camper\", \"construction\", \"jacks\", \"psi\", \"dont\", \"caps\", \"receiver\", \"nut\", \"leaks\", \"threads\", \"camco\", \"bolt\", \"gauges\", \"release\", \"tow\", \"vent\", \"jeep\", \"fits\", \"fit\", \"tire\", \"pressure\", \"valve\", \"screws\", \"solid\", \"rear\", \"install\", \"cap\", \"tight\", \"easy\", \"tires\", \"head\", \"cover\", \"great\", \"air\", \"heavy\", \"just\", \"bought\", \"good\", \"quality\", \"like\", \"works\", \"use\", \"hold\", \"nice\", \"plastic\", \"little\", \"work\", \"looks\", \"hose\", \"price\", \"make\", \"used\", \"need\", \"time\", \"sure\", \"battery\", \"wiper\", \"blade\", \"blades\", \"charge\", \"charger\", \"batteries\", \"wipers\", \"device\", \"installation\", \"tender\", \"charging\", \"adapter\", \"inverter\", \"bosch\", \"model\", \"phone\", \"charged\", \"codes\", \"code\", \"cables\", \"usb\", \"cigarette\", \"voltage\", \"wiring\", \"solar\", \"torque\", \"connectors\", \"plugged\", \"fuse\", \"switch\", \"power\", \"connect\", \"unit\", \"cable\", \"plug\", \"windshield\", \"lighter\", \"winter\", \"check\", \"car\", \"use\", \"rain\", \"time\", \"vehicle\", \"just\", \"light\", \"works\", \"need\", \"work\", \"used\", \"like\", \"does\", \"using\", \"good\", \"don\", \"great\", \"long\", \"oil\", \"filter\", \"bulbs\", \"filters\", \"fluid\", \"miles\", \"tape\", \"leather\", \"bulb\", \"headlights\", \"feels\", \"toyota\", \"transmission\", \"brighter\", \"headlight\", \"conditioner\", \"changing\", \"changes\", \"changed\", \"purple\", \"hid\", \"lens\", \"coolant\", \"mobil\", \"steering\", \"royal\", \"stock\", \"pan\", \"lexol\", \"cabin\", \"bright\", \"spark\", \"lights\", \"fuel\", \"change\", \"oem\", \"dark\", \"light\", \"engine\", \"difference\", \"white\", \"gas\", \"led\", \"better\", \"new\", \"price\", \"amazon\", \"parts\", \"good\", \"replace\", \"like\", \"used\", \"buy\", \"just\", \"did\", \"car\", \"product\", \"don\", \"great\", \"use\", \"best\", \"time\", \"tank\", \"grease\", \"bag\", \"seat\", \"version\", \"trunk\", \"position\", \"future\", \"gun\", \"mat\", \"described\", \"tanks\", \"locking\", \"wood\", \"particular\", \"trips\", \"general\", \"tie\", \"slip\", \"sizes\", \"handles\", \"lube\", \"cargo\", \"silicon\", \"throttle\", \"bug\", \"slick\", \"square\", \"shut\", \"ratchet\", \"wipes\", \"open\", \"reach\", \"hood\", \"exactly\", \"water\", \"door\", \"rust\", \"handle\", \"small\", \"place\", \"spring\", \"home\", \"cutting\", \"does\", \"box\", \"metal\", \"isn\", \"hose\", \"bar\", \"short\", \"size\", \"item\", \"end\", \"need\", \"use\", \"want\", \"inside\", \"tool\", \"product\", \"little\", \"hard\", \"don\", \"just\", \"plastic\", \"like\", \"time\"], \"loglift\": [30.0, 29.0, 28.0, 27.0, 26.0, 25.0, 24.0, 23.0, 22.0, 21.0, 20.0, 19.0, 18.0, 17.0, 16.0, 15.0, 14.0, 13.0, 12.0, 11.0, 10.0, 9.0, 8.0, 7.0, 6.0, 5.0, 4.0, 3.0, 2.0, 1.0, 1.3833, 1.3832, 1.3831, 1.3831, 1.3829, 1.3829, 1.3828, 1.3827, 1.3825, 1.3825, 1.3824, 1.3824, 1.3822, 1.3821, 1.382, 1.382, 1.3819, 1.3818, 1.3816, 1.3816, 1.3814, 1.3812, 1.3812, 1.3811, 1.3811, 1.381, 1.3809, 1.3809, 1.3807, 1.3806, 1.3749, 1.3741, 1.369, 1.3195, 1.2246, 1.2679, 1.3055, 0.8776, 1.3101, 0.8184, 1.0557, 0.4201, 1.1593, 0.5218, 0.3779, 0.6962, 0.3386, 0.3316, 0.9627, 0.5314, 0.1256, 0.7408, 0.4552, 0.2226, 0.2293, 0.3306, 0.3165, 0.0459, -0.0214, 1.4891, 1.4888, 1.4887, 1.488, 1.4877, 1.4873, 1.4872, 1.4869, 1.4869, 1.4864, 1.4862, 1.4862, 1.4861, 1.4857, 1.4855, 1.4855, 1.4855, 1.4854, 1.4854, 1.4854, 1.4849, 1.4849, 1.4845, 1.4844, 1.4839, 1.4835, 1.4834, 1.4834, 1.4833, 1.4832, 1.4546, 1.4454, 1.415, 1.3917, 1.3928, 1.4114, 1.4454, 1.4152, 1.4119, 1.3023, 1.3619, 1.3475, 0.9818, 1.1775, 1.3679, 1.1748, 0.4919, 0.9559, 1.0871, 0.4138, 0.7265, 0.3876, 0.7416, 0.2278, 0.4268, 0.0553, 1.074, 0.6105, 0.7973, 0.5011, 0.3304, 0.9222, 0.9501, 0.4334, 0.5122, -0.0959, 0.2981, -0.0342, 0.5207, 1.5125, 1.5121, 1.5119, 1.5119, 1.5118, 1.5118, 1.5115, 1.5113, 1.5112, 1.511, 1.5108, 1.5107, 1.5105, 1.5105, 1.5105, 1.5102, 1.5102, 1.51, 1.5099, 1.5099, 1.5096, 1.5095, 1.5094, 1.5093, 1.509, 1.5089, 1.5088, 1.5088, 1.5088, 1.5087, 1.5081, 1.4928, 1.4925, 1.3959, 1.4058, 1.2509, 1.2358, 1.4476, 1.288, 1.2101, 0.2388, -0.1275, 1.1053, 0.1023, 0.584, -0.2671, 0.1946, -0.0847, 0.0972, -0.0984, -0.3693, -0.505, -0.0088, -0.0481, -0.613, -0.1146, -0.6218, 0.1684, 1.7718, 1.7718, 1.7712, 1.7708, 1.7705, 1.7705, 1.7703, 1.7701, 1.7698, 1.7695, 1.7693, 1.7693, 1.7691, 1.7689, 1.7689, 1.7683, 1.7683, 1.7682, 1.7679, 1.7678, 1.7677, 1.7675, 1.7671, 1.767, 1.767, 1.7668, 1.7668, 1.7668, 1.7667, 1.7666, 1.7405, 1.7578, 1.6534, 1.6824, 1.6386, 1.6488, 1.7084, 1.2378, 1.4031, 1.5124, 1.4347, 1.4, 1.3667, 0.604, 0.7124, 0.6354, 0.8593, 1.1871, 0.0047, 1.1094, -0.0922, 0.0007, 0.6042, -0.2309, 0.3782, -0.4621, -0.2174, 0.1903, -0.3311, -0.6431, 0.6766, -0.2149, 2.0104, 2.0103, 2.0101, 2.0097, 2.0086, 2.0082, 2.0076, 2.0073, 2.0072, 2.0066, 2.0065, 2.0064, 2.0063, 2.0055, 2.0051, 2.0048, 2.0048, 2.0047, 2.0045, 2.0044, 2.0043, 2.0039, 2.0036, 2.0036, 2.0035, 2.0033, 2.0023, 2.0021, 2.0021, 2.0019, 1.9959, 1.8492, 1.872, 1.8646, 1.7043, 1.2904, 1.5825, 1.7432, 1.47, 1.1808, 1.3786, 1.747, 1.5389, 1.7879, 0.8564, 1.3293, 1.3438, 1.3542, 1.0873, 1.3869, 1.5035, 0.9805, 1.1064, 0.9134, 0.3555, -0.3206, 0.6927, 1.1692, 0.8162, -0.3698, 0.1182, 0.7936, -0.0153, -0.6286, 0.5578, -0.7476, -0.4191], \"Freq\": [2823.0, 2114.0, 6994.0, 1745.0, 1749.0, 2200.0, 1771.0, 1104.0, 1303.0, 1153.0, 1221.0, 1194.0, 2244.0, 1113.0, 1239.0, 987.0, 964.0, 1000.0, 949.0, 791.0, 3175.0, 1705.0, 997.0, 848.0, 841.0, 904.0, 896.0, 1216.0, 1037.0, 830.0, 1748.9041445553096, 1303.1840954137972, 1193.2578794906126, 1112.9842017014178, 903.2890090925923, 895.8120676638137, 811.9979595560249, 746.5091574377045, 650.851796421279, 687.9982667449821, 575.2038937661342, 578.1724292766851, 516.7942022156219, 459.93907847522405, 457.0586304250941, 442.60011270591696, 410.5058847555657, 828.7884576326255, 368.28903377398285, 360.3383121910368, 340.26246118815794, 306.5445900264245, 306.91440661820377, 303.7614064900152, 292.33884020957964, 286.1816529658832, 277.0868528393494, 279.25374255588264, 261.362129533101, 247.70869007010342, 988.4867357880745, 735.5685794538216, 361.07949267097075, 628.808586923978, 1454.3727883745705, 853.3806255525038, 509.11619124581154, 4215.868896333055, 434.0023466140441, 2762.1477404877064, 879.1174096982288, 2695.556523787134, 558.4577608223653, 1817.2824902505774, 1820.062424762757, 1106.1411900682397, 1741.576179104027, 1754.5266123075119, 736.7877119186313, 1100.709682375672, 1544.3185950171182, 860.8938548618481, 1021.7199264108439, 1056.4214710524186, 992.3766452085058, 885.569687110212, 852.1430786743103, 806.8422218951451, 778.8834186009789, 986.6113958411322, 734.8084827834602, 642.6152531686898, 444.6751597915926, 359.4514155448221, 305.7335768802783, 297.4256416988468, 264.05767929148146, 296.3673487873809, 230.895407816554, 215.4574599318348, 211.52818355328532, 210.1693469326718, 196.60112845290314, 336.5045184372767, 181.32327946814024, 177.4052879265175, 177.7757551970874, 182.58628413777836, 177.32296558034372, 159.4684706387268, 162.26333435280273, 151.14415841352954, 146.5275915404676, 135.15172212225346, 174.17320580753724, 123.53692194896063, 125.70562974451134, 119.8583831780332, 119.75945495958572, 618.1036454871019, 730.6155226020918, 1643.905762467744, 1123.7254045968562, 775.2499977769965, 482.6976857713439, 278.8907910107923, 397.04562269746935, 405.4829629123149, 1008.3572449877867, 372.53911081711243, 361.6043732446566, 1910.1502570521786, 698.2983211945761, 281.8422237979078, 514.9689765262219, 1825.6472060525296, 671.5175224971329, 496.4148283791225, 1852.7769548457557, 928.5272629627426, 1668.8170748071814, 883.6967763955231, 1408.5997074429802, 1087.4031649361175, 1683.1885539960545, 492.260846581446, 827.5907256508613, 661.5914879527681, 877.4803884032772, 964.3772296082235, 561.258247205754, 548.8481136469129, 750.2319479522939, 688.2462986666505, 881.2012428447756, 731.933391859765, 734.8911809247018, 622.9623521848936, 2822.828571778876, 1152.940561112256, 963.362858651645, 948.3014450918414, 847.8409765839924, 841.1351241006789, 640.9001580935208, 553.0064313076734, 516.5837536016672, 470.0405529561587, 396.9143547152536, 390.7233301719559, 362.1938946984372, 354.2525607770576, 350.23977332584707, 322.568025128502, 314.0416862286471, 287.7809984518839, 278.78495615194686, 278.17693496441973, 254.80551101442097, 243.77634900090416, 235.51692079252575, 229.8349923007806, 213.70071073749068, 206.83640601790992, 207.29425418054112, 201.4946273153685, 199.35703210904288, 193.98223176823018, 304.15017517116746, 1197.561327925087, 285.9657661969198, 922.8968938769729, 372.48606610383257, 742.9359326375868, 597.8886971990021, 285.13375458589485, 360.6357348736788, 409.9944006873774, 1956.4493922932209, 1370.3552004753194, 403.14623545713783, 823.3763851140644, 536.1230517089468, 916.6474111994019, 600.726960513954, 637.2421555958924, 585.1978700232993, 613.9378231300253, 655.2955386411818, 661.656169537319, 554.4011886441492, 541.9784438979243, 599.6894231171509, 535.5746131527059, 585.9149389689588, 491.93969750802677, 2113.896676136754, 1744.792206204334, 790.8176381312917, 590.6740984264826, 462.1079253638824, 462.48101147133224, 423.25342116677245, 1101.824968124768, 413.0992887967496, 299.9269036038665, 292.2150784696067, 276.4083268599286, 258.71921827357545, 241.14981972696978, 240.27027771155315, 202.77651883497168, 205.03040794025753, 199.57566864278982, 187.62929019266596, 181.54985143634278, 176.20257435513403, 169.62812061789333, 154.64684137520896, 152.63291972253327, 154.15703277002433, 146.55120556605686, 387.77201972794927, 146.382650286305, 145.28809763927745, 143.9124553714251, 591.3781286086878, 208.53010401556452, 888.2192711148356, 430.08024196408746, 708.1287311767907, 431.6397489095734, 221.66079631077625, 1315.4095250340647, 677.6792949865152, 448.75366244624536, 428.4744879833927, 345.72606058251876, 326.74627124981487, 770.3613647194535, 658.8245406469426, 692.3011189402181, 510.18608177287075, 369.3337085985122, 858.0238724180166, 390.11749677125323, 771.3177034562154, 731.8350484940365, 516.7765852868085, 733.228125888625, 547.9329597400726, 748.8684308642996, 664.8631113795918, 560.4537633836762, 604.5074053331847, 631.3047081192418, 466.9173136633122, 462.51255830432626, 540.136244026323, 491.80837413938224, 451.23685194335224, 358.9555679662331, 250.65112075515137, 217.28061784178075, 188.9159098586185, 178.53814705139595, 167.46294771120466, 149.3564740921975, 163.3499445195149, 144.51787509723195, 143.50889180918165, 125.29664790561804, 120.77431349756458, 115.3928886752043, 113.52881668627839, 112.0512372170806, 107.97655154233223, 107.68316058582239, 116.90398822750532, 101.0214553902037, 96.28506646542583, 97.02596295101917, 96.18843893728553, 95.08210668992771, 95.50425255639858, 81.74590749462041, 82.31554916708288, 80.10289481007001, 111.86100602268601, 340.71559667629134, 259.05377585587587, 242.18922567387398, 325.29279994228966, 1069.352489743108, 358.69317070408647, 195.04763343555302, 370.78130720394336, 655.74780705429, 423.81943653074666, 187.52680547912874, 271.88366918101667, 167.21399252436856, 799.4965138794993, 361.9152516509985, 288.39423053430227, 278.09782558781086, 373.52920440081, 247.03742405425902, 221.3288996764289, 338.3907517721387, 296.72658216603236, 323.55872501316, 459.95736741922417, 685.7846008900059, 352.57209612506745, 268.78381973473915, 311.1360831196713, 449.19038947373195, 355.0523303259771, 296.14034329487936, 359.0417338353821, 387.63713734583, 308.94526741431133, 315.13209149531485, 296.7201683789507], \"Total\": [2823.0, 2114.0, 6994.0, 1745.0, 1749.0, 2200.0, 1771.0, 1104.0, 1303.0, 1153.0, 1221.0, 1194.0, 2244.0, 1113.0, 1239.0, 987.0, 964.0, 1000.0, 949.0, 791.0, 3175.0, 1705.0, 997.0, 848.0, 841.0, 904.0, 896.0, 1216.0, 1037.0, 830.0, 1749.7007814112915, 1303.9823751862182, 1194.059663582379, 1113.785962340182, 904.0884827175395, 896.6095716651295, 812.8006536242349, 747.3060808311087, 651.6905276611684, 688.9006286709841, 576.0013028075796, 578.9778318550053, 517.6017625856193, 460.73892296191485, 457.8659670595834, 443.39657762976066, 411.3061609462361, 830.4845147651943, 369.08914612428157, 361.13691744855237, 341.06685171724774, 307.34210463559594, 307.7166139216466, 304.5700286457158, 293.1369668937265, 286.98084964941626, 277.88572750560996, 280.0666188398979, 262.16359336643757, 248.5050985344596, 997.3028114082663, 742.7049208470089, 366.47446800849775, 670.5655694246166, 1705.304826201941, 958.2546337501401, 550.5850621701505, 6994.179621465095, 467.1769969540508, 4861.930908133142, 1220.5590295221614, 7066.189587267756, 699.0063394945126, 4303.230426075103, 4976.768096694586, 2200.1353993850353, 4952.769822322608, 5024.955704461728, 1122.6251672014675, 2581.4939129784293, 5434.60822429673, 1637.5982419429731, 2585.915900422552, 3373.921763774462, 3148.366621649841, 2538.7715086156722, 2477.6375384236967, 3075.027240531075, 3175.1355242142567, 987.4135051147879, 735.6128657074896, 643.4160004377665, 445.53646879079935, 360.25094379598335, 306.55206084177377, 298.234293020872, 264.86477732332213, 297.27552044440284, 231.70746525018956, 216.25969577443058, 212.33061110324144, 210.97402539193243, 197.43444570157632, 337.99846800707564, 182.13685339501296, 178.20251059866206, 178.57570930213922, 183.41140123531346, 178.13490556611313, 160.27065078794809, 163.08146247437492, 151.97247626881241, 147.33884903974075, 135.96661375605632, 175.2895846544153, 124.3410375786796, 126.52657133813305, 120.66087087714673, 120.57243155888027, 640.3257901461832, 763.855703288361, 1771.8447047249379, 1239.6676493943858, 854.3512618287604, 522.1547763247379, 291.5821007040398, 427.86385402334764, 438.38414674630377, 1216.5181711559756, 423.4154939041128, 416.97387907004037, 3175.1355242142567, 954.3562066127466, 318.44036673552836, 705.7167758921953, 4952.769822322608, 1145.4974612626313, 742.6670479488788, 5434.60822429673, 1992.2480197245811, 5024.955704461728, 1867.5969854907605, 4976.768096694586, 3148.366621649841, 7066.189587267756, 746.1804018010863, 1994.215096912789, 1322.5331836056675, 2358.847522601509, 3075.027240531075, 990.2450006718539, 941.629466714299, 2157.8803795739764, 1829.6355257617802, 4303.230426075103, 2410.3887971747126, 3373.921763774462, 1642.1051658906913, 2823.6232716022932, 1153.7373824126055, 964.162917040011, 949.0969654608623, 848.6364535687906, 841.9289648483078, 641.6964579951965, 553.8055606090987, 517.3843410583866, 470.8681253445753, 397.7081536953292, 391.5178002926319, 362.99868785908797, 355.0458318797314, 351.0386084098521, 323.3869112809929, 314.84027818197654, 288.5753157702921, 279.58021649204665, 278.97325841343576, 255.6036524719189, 244.56951569556068, 236.31187185290054, 230.62920558125057, 214.50665104672117, 207.63218472751157, 208.11272512824937, 202.29890704717502, 200.15390200080247, 194.78077448491035, 305.5870399279312, 1221.7630731439722, 291.8155066189235, 1037.3585113949046, 414.54168644206226, 965.2886450554072, 788.6817508946115, 304.3205008306738, 451.54776858935134, 554.9303910918571, 6994.179621465095, 7066.189587267756, 605.9201486991271, 3373.921763774462, 1357.1552572353976, 5434.60822429673, 2244.601010998465, 3148.366621649841, 2410.3887971747126, 3075.027240531075, 4303.230426075103, 4976.768096694586, 2538.7715086156722, 2581.4939129784293, 5024.955704461728, 2726.183025984665, 4952.769822322608, 1886.9861891774387, 2114.6950515509534, 1745.5935260181984, 791.611953314347, 591.4841735808627, 462.90961874882464, 463.284209792083, 424.08565502019746, 1104.1716461654823, 414.0971872658604, 300.72884754883387, 293.0632882589997, 277.21332603580004, 259.5170937328817, 241.9438555980407, 241.06998137574953, 203.5784042104188, 205.84372474238046, 200.37960622541397, 188.44117419832332, 182.34607963402044, 176.9978771971563, 170.4328417820812, 155.4461509550803, 153.42548179076118, 154.96694744928988, 147.34434606756432, 389.8784670261028, 147.18284194574835, 146.08692468783457, 144.72216447808586, 610.4416627239293, 211.5621746004834, 1000.3171740803145, 470.5067651372612, 809.3371333219632, 488.3412762990787, 236.2619490159063, 2244.601010998465, 980.2099080349859, 581.8850534701022, 600.4786940518887, 501.62608815545985, 490.1590379612771, 2477.6375384236967, 1901.2204951403098, 2157.8803795739764, 1271.1372953208497, 663.0522568800652, 5024.955704461728, 756.9299825093624, 4976.768096694586, 4303.230426075103, 1661.7855316044368, 5434.60822429673, 2208.6276410824894, 6994.179621465095, 4861.930908133142, 2726.183025984665, 4952.769822322608, 7066.189587267756, 1396.6188683982882, 3373.921763774462, 540.936222648857, 492.61289269563434, 452.03803093644615, 359.7584038871849, 251.47374199173942, 218.08521119432186, 189.72259183707556, 179.360157931891, 168.25982481634432, 150.15336262180222, 164.22990864808637, 145.3176279030859, 144.31297831178063, 126.10035012874505, 121.59587553002096, 116.2173659864328, 114.34239891461549, 112.85612553939934, 108.78083273479866, 108.49327463549547, 117.79416502577315, 101.82866686591501, 97.08338138857414, 97.8368753463537, 97.00050576749717, 95.90372300653615, 96.42931003771224, 82.55359636409918, 83.13002589087733, 80.90640573331186, 113.66277746171582, 400.90165158421337, 297.96309641942764, 280.61677040401497, 442.4597122551305, 2200.1353993850353, 551.0685080534346, 255.1834949120701, 637.4701375940051, 1505.4359143657455, 798.4162782458957, 244.40811161111387, 436.30732526743645, 209.1950552592546, 2538.7715086156722, 716.2459403545182, 562.513089438504, 536.808499119336, 941.629466714299, 461.53073094085744, 368.002419168772, 949.1610896895938, 733.8234348100814, 970.5669206743, 2410.3887971747126, 7066.189587267756, 1318.8297462156493, 624.3050028925843, 1028.5647780522688, 4861.930908133142, 2358.847522601509, 1001.3403696076632, 2726.183025984665, 5434.60822429673, 1322.5331836056675, 4976.768096694586, 3373.921763774462], \"logprob\": [30.0, 29.0, 28.0, 27.0, 26.0, 25.0, 24.0, 23.0, 22.0, 21.0, 20.0, 19.0, 18.0, 17.0, 16.0, 15.0, 14.0, 13.0, 12.0, 11.0, 10.0, 9.0, 8.0, 7.0, 6.0, 5.0, 4.0, 3.0, 2.0, 1.0, -4.5205, -4.8147, -4.9028, -4.9725, -5.1812, -5.1895, -5.2878, -5.3719, -5.509, -5.4535, -5.6325, -5.6274, -5.7396, -5.8562, -5.8624, -5.8946, -5.9699, -5.2673, -6.0784, -6.1002, -6.1575, -6.2619, -6.2607, -6.271, -6.3093, -6.3306, -6.3629, -6.3551, -6.4214, -6.475, -5.0911, -5.3866, -6.0982, -5.5434, -4.7049, -5.2381, -5.7546, -3.6406, -5.9142, -4.0635, -5.2083, -4.0879, -5.6621, -4.4822, -4.4806, -4.9786, -4.5247, -4.5173, -5.385, -4.9835, -4.6449, -5.2293, -5.058, -5.0246, -5.0872, -5.201, -5.2395, -5.2941, -5.3294, -4.9868, -5.2815, -5.4156, -5.7838, -5.9965, -6.1584, -6.186, -6.305, -6.1895, -6.4392, -6.5084, -6.5268, -6.5332, -6.5999, -6.0625, -6.6808, -6.7027, -6.7006, -6.6739, -6.7031, -6.8093, -6.7919, -6.8629, -6.8939, -6.9747, -6.7211, -7.0646, -7.0472, -7.0948, -7.0956, -5.4545, -5.2872, -4.4763, -4.8567, -5.2279, -5.7017, -6.2503, -5.8971, -5.876, -4.965, -5.9608, -5.9906, -4.3262, -5.3325, -6.2398, -5.637, -4.3714, -5.3716, -5.6737, -4.3567, -5.0475, -4.4613, -5.097, -4.6308, -4.8896, -4.4527, -5.6821, -5.1626, -5.3865, -5.1041, -5.0096, -5.5509, -5.5733, -5.2607, -5.347, -5.0998, -5.2854, -5.2814, -5.4466, -3.9128, -4.8082, -4.9879, -5.0036, -5.1156, -5.1235, -5.3954, -5.5429, -5.6111, -5.7055, -5.8746, -5.8903, -5.9661, -5.9883, -5.9997, -6.082, -6.1088, -6.1961, -6.2279, -6.23, -6.3178, -6.362, -6.3965, -6.4209, -6.4937, -6.5264, -6.5242, -6.5525, -6.5632, -6.5905, -6.1408, -4.7703, -6.2024, -5.0308, -5.9381, -5.2477, -5.4649, -6.2053, -5.9704, -5.8421, -4.2794, -4.6355, -5.859, -5.1449, -5.5739, -5.0376, -5.4602, -5.4011, -5.4863, -5.4384, -5.3732, -5.3635, -5.5404, -5.5631, -5.4619, -5.575, -5.4851, -5.6599, -3.9426, -4.1344, -4.9258, -5.2176, -5.463, -5.4622, -5.5509, -4.5941, -5.5752, -5.8953, -5.9213, -5.977, -6.0431, -6.1134, -6.1171, -6.2867, -6.2757, -6.3026, -6.3644, -6.3973, -6.4272, -6.4652, -6.5577, -6.5708, -6.5609, -6.6115, -5.6384, -6.6126, -6.6201, -6.6296, -5.2164, -6.2588, -4.8096, -5.5349, -5.0362, -5.5312, -6.1977, -4.4169, -5.0802, -5.4924, -5.5386, -5.7532, -5.8097, -4.952, -5.1084, -5.0588, -5.3641, -5.6871, -4.8442, -5.6324, -4.9507, -5.0033, -5.3512, -5.0014, -5.2927, -4.9803, -5.0993, -5.2701, -5.1944, -5.1511, -5.4527, -5.4622, -5.0673, -5.1611, -5.2472, -5.476, -5.8351, -5.978, -6.1179, -6.1744, -6.2384, -6.3528, -6.2633, -6.3858, -6.3928, -6.5285, -6.5652, -6.6108, -6.6271, -6.6402, -6.6772, -6.68, -6.5978, -6.7438, -6.7918, -6.7842, -6.7928, -6.8044, -6.8, -6.9555, -6.9486, -6.9758, -6.6419, -5.5281, -5.8021, -5.8694, -5.5744, -4.3844, -5.4767, -6.0859, -5.4435, -4.8734, -5.3099, -6.1252, -5.7538, -6.2399, -4.6752, -5.4677, -5.6948, -5.7312, -5.4362, -5.8496, -5.9595, -5.535, -5.6663, -5.5798, -5.228, -4.8286, -5.4939, -5.7653, -5.6189, -5.2517, -5.4869, -5.6683, -5.4757, -5.3991, -5.626, -5.6062, -5.6664]}};\n",
       "\n",
       "function LDAvis_load_lib(url, callback){\n",
       "  var s = document.createElement('script');\n",
       "  s.src = url;\n",
       "  s.async = true;\n",
       "  s.onreadystatechange = s.onload = callback;\n",
       "  s.onerror = function(){console.warn(\"failed to load library \" + url);};\n",
       "  document.getElementsByTagName(\"head\")[0].appendChild(s);\n",
       "}\n",
       "\n",
       "if(typeof(LDAvis) !== \"undefined\"){\n",
       "   // already loaded: just create the visualization\n",
       "   !function(LDAvis){\n",
       "       new LDAvis(\"#\" + \"ldavis_el209734577614544102377397\", ldavis_el209734577614544102377397_data);\n",
       "   }(LDAvis);\n",
       "}else if(typeof define === \"function\" && define.amd){\n",
       "   // require.js is available: use it to load d3/LDAvis\n",
       "   require.config({paths: {d3: \"https://cdnjs.cloudflare.com/ajax/libs/d3/3.5.5/d3.min\"}});\n",
       "   require([\"d3\"], function(d3){\n",
       "      window.d3 = d3;\n",
       "      LDAvis_load_lib(\"https://cdn.rawgit.com/bmabey/pyLDAvis/files/ldavis.v1.0.0.js\", function(){\n",
       "        new LDAvis(\"#\" + \"ldavis_el209734577614544102377397\", ldavis_el209734577614544102377397_data);\n",
       "      });\n",
       "    });\n",
       "}else{\n",
       "    // require.js not available: dynamically load d3 & LDAvis\n",
       "    LDAvis_load_lib(\"https://cdnjs.cloudflare.com/ajax/libs/d3/3.5.5/d3.min.js\", function(){\n",
       "         LDAvis_load_lib(\"https://cdn.rawgit.com/bmabey/pyLDAvis/files/ldavis.v1.0.0.js\", function(){\n",
       "                 new LDAvis(\"#\" + \"ldavis_el209734577614544102377397\", ldavis_el209734577614544102377397_data);\n",
       "            })\n",
       "         });\n",
       "}\n",
       "</script>"
      ],
      "text/plain": [
       "PreparedData(topic_coordinates=            Freq  cluster  topics         x         y\n",
       "topic                                                \n",
       "1      25.062409        1       1  0.045798  0.018435\n",
       "2      22.538666        1       2 -0.001786 -0.221652\n",
       "3      22.029966        1       3  0.042315  0.033419\n",
       "4      16.995529        1       4  0.170053  0.095862\n",
       "0      13.373431        1       5 -0.256381  0.073936, topic_info=     Category         Freq      Term        Total  loglift  logprob\n",
       "term                                                               \n",
       "510   Default  2823.000000   battery  2823.000000  30.0000  30.0000\n",
       "4465  Default  2114.000000       oil  2114.000000  29.0000  29.0000\n",
       "906   Default  6994.000000       car  6994.000000  28.0000  28.0000\n",
       "2497  Default  1745.000000    filter  1745.000000  27.0000  27.0000\n",
       "7428  Default  1749.000000       wax  1749.000000  26.0000  26.0000\n",
       "7416  Default  2200.000000     water  2200.000000  25.0000  25.0000\n",
       "2535  Default  1771.000000       fit  1771.000000  24.0000  24.0000\n",
       "3709  Default  1104.000000   leather  1104.000000  23.0000  23.0000\n",
       "7394  Default  1303.000000      wash  1303.000000  22.0000  22.0000\n",
       "7532  Default  1153.000000     wiper  1153.000000  21.0000  21.0000\n",
       "4922  Default  1221.000000     power  1221.000000  20.0000  20.0000\n",
       "4612  Default  1194.000000     paint  1194.000000  19.0000  19.0000\n",
       "3768  Default  2244.000000     light  2244.000000  18.0000  18.0000\n",
       "6363  Default  1113.000000     spray  1113.000000  17.0000  17.0000\n",
       "6917  Default  1239.000000      tire  1239.000000  16.0000  16.0000\n",
       "7003  Default   987.000000   trailer   987.000000  15.0000  15.0000\n",
       "603   Default   964.000000     blade   964.000000  14.0000  14.0000\n",
       "3776  Default  1000.000000    lights  1000.000000  13.0000  13.0000\n",
       "604   Default   949.000000    blades   949.000000  12.0000  12.0000\n",
       "798   Default   791.000000     bulbs   791.000000  11.0000  11.0000\n",
       "2109  Default  3175.000000      easy  3175.000000  10.0000  10.0000\n",
       "1116  Default  1705.000000     clean  1705.000000   9.0000   9.0000\n",
       "1121  Default   997.000000  cleaning   997.000000   8.0000   8.0000\n",
       "1015  Default   848.000000    charge   848.000000   7.0000   7.0000\n",
       "1017  Default   841.000000   charger   841.000000   6.0000   6.0000\n",
       "5973  Default   904.000000     shine   904.000000   5.0000   5.0000\n",
       "6979  Default   896.000000    towels   896.000000   4.0000   4.0000\n",
       "3397  Default  1216.000000   install  1216.000000   3.0000   3.0000\n",
       "7167  Default  1037.000000      unit  1037.000000   2.0000   2.0000\n",
       "2047  Default   830.000000       dry   830.000000   1.0000   1.0000\n",
       "...       ...          ...       ...          ...      ...      ...\n",
       "5685   Topic5   195.047633      rust   255.183495   1.7432  -6.0859\n",
       "2998   Topic5   370.781307    handle   637.470138   1.4700  -5.4435\n",
       "6148   Topic5   655.747807     small  1505.435914   1.1808  -4.8734\n",
       "4790   Topic5   423.819437     place   798.416278   1.3786  -5.3099\n",
       "6373   Topic5   187.526805    spring   244.408112   1.7470  -6.1252\n",
       "3152   Topic5   271.883669      home   436.307325   1.5389  -5.7538\n",
       "1588   Topic5   167.213993   cutting   209.195055   1.7879  -6.2399\n",
       "1945   Topic5   799.496514      does  2538.771509   0.8564  -4.6752\n",
       "699    Topic5   361.915252       box   716.245940   1.3293  -5.4677\n",
       "4100   Topic5   288.394231     metal   562.513089   1.3438  -5.6948\n",
       "3486   Topic5   278.097826       isn   536.808499   1.3542  -5.7312\n",
       "3182   Topic5   373.529204      hose   941.629467   1.0873  -5.4362\n",
       "480    Topic5   247.037424       bar   461.530731   1.3869  -5.8496\n",
       "6000   Topic5   221.328900     short   368.002419   1.5035  -5.9595\n",
       "6082   Topic5   338.390752      size   949.161090   0.9805  -5.5350\n",
       "3495   Topic5   296.726582      item   733.823435   1.1064  -5.6663\n",
       "2186   Topic5   323.558725       end   970.566921   0.9134  -5.5798\n",
       "4312   Topic5   459.957367      need  2410.388797   0.3555  -5.2280\n",
       "7223   Topic5   685.784601       use  7066.189587  -0.3206  -4.8286\n",
       "7375   Topic5   352.572096      want  1318.829746   0.6927  -5.4939\n",
       "3390   Topic5   268.783820    inside   624.305003   1.1692  -5.7653\n",
       "6943   Topic5   311.136083      tool  1028.564778   0.8162  -5.6189\n",
       "5029   Topic5   449.190389   product  4861.930908  -0.3698  -5.2517\n",
       "3821   Topic5   355.052330    little  2358.847523   0.1182  -5.4869\n",
       "3019   Topic5   296.140343      hard  1001.340370   0.7936  -5.6683\n",
       "1955   Topic5   359.041734       don  2726.183026  -0.0153  -5.4757\n",
       "3553   Topic5   387.637137      just  5434.608224  -0.6286  -5.3991\n",
       "4806   Topic5   308.945267   plastic  1322.533184   0.5578  -5.6260\n",
       "3778   Topic5   315.132091      like  4976.768097  -0.7476  -5.6062\n",
       "6906   Topic5   296.720168      time  3373.921764  -0.4191  -5.6664\n",
       "\n",
       "[345 rows x 6 columns], token_table=      Topic      Freq        Term\n",
       "term                             \n",
       "79        3  0.997249     adapter\n",
       "168       2  0.586645         air\n",
       "168       3  0.022698         air\n",
       "168       4  0.364034         air\n",
       "168       5  0.026189         air\n",
       "219       1  0.062936      amazon\n",
       "219       2  0.228929      amazon\n",
       "219       3  0.210835      amazon\n",
       "219       4  0.401216      amazon\n",
       "219       5  0.096764      amazon\n",
       "294       1  0.998693       apply\n",
       "459       5  0.997704         bag\n",
       "480       1  0.463674         bar\n",
       "480       5  0.535176         bar\n",
       "509       3  0.998915   batteries\n",
       "510       3  0.999779     battery\n",
       "572       1  0.390228        best\n",
       "572       3  0.148931        best\n",
       "572       4  0.334379        best\n",
       "572       5  0.126019        best\n",
       "574       1  0.343876      better\n",
       "574       2  0.221986      better\n",
       "574       3  0.119469      better\n",
       "574       4  0.310780      better\n",
       "574       5  0.003632      better\n",
       "603       3  0.998794       blade\n",
       "604       3  0.998844      blades\n",
       "655       2  0.992643        bolt\n",
       "657       2  0.998443       bolts\n",
       "679       3  0.997041       bosch\n",
       "...     ...       ...         ...\n",
       "7416      1  0.502696       water\n",
       "7416      2  0.010908       water\n",
       "7416      5  0.485879       water\n",
       "7428      1  0.999599         wax\n",
       "7494      1  0.284773       white\n",
       "7494      4  0.712765       white\n",
       "7517      1  0.229497  windshield\n",
       "7517      3  0.758227  windshield\n",
       "7517      5  0.011411  windshield\n",
       "7525      1  0.199314      winter\n",
       "7525      3  0.799472      winter\n",
       "7530      1  0.928984        wipe\n",
       "7530      3  0.070637        wipe\n",
       "7532      3  0.999361       wiper\n",
       "7533      3  0.998545      wipers\n",
       "7534      1  0.008798       wipes\n",
       "7534      5  0.985371       wipes\n",
       "7540      3  0.997638      wiring\n",
       "7560      5  0.991274        wood\n",
       "7567      1  0.262437        work\n",
       "7567      2  0.313493        work\n",
       "7567      3  0.199673        work\n",
       "7567      4  0.136909        work\n",
       "7567      5  0.087479        work\n",
       "7576      1  0.315084       works\n",
       "7576      2  0.345258       works\n",
       "7576      3  0.202327       works\n",
       "7576      4  0.052091       works\n",
       "7576      5  0.084806       works\n",
       "7602      2  0.995861      wrench\n",
       "\n",
       "[572 rows x 3 columns], R=30, lambda_step=0.01, plot_opts={'xlab': 'PC1', 'ylab': 'PC2'}, topic_order=[2, 3, 4, 5, 1])"
      ]
     },
     "execution_count": 25,
     "metadata": {},
     "output_type": "execute_result"
    }
   ],
   "source": [
    "pyLDAvis.sklearn.prepare(lda_tf, dtm_tf, tf_vectorizer)"
   ]
  },
  {
   "cell_type": "code",
   "execution_count": 27,
   "metadata": {
    "collapsed": true
   },
   "outputs": [],
   "source": [
    "\n",
    "# Converting json to votes file format\n",
    "DATASET_FILE = 'test.json'\n",
    "dataset_file = open(DATASET_FILE)\n",
    "dataset_lines = dataset_file.readlines()\n",
    "\n",
    "output_file = open('test.votes', 'w')\n",
    "for line in dataset_lines:\n",
    "    d = json.loads(line)\n",
    "    output_file.write(d[\"reviewerID\"] + ' ' + d[\"asin\"]+ ' ' + str(d[\"overall\"]) + ' ' + str(d[\"unixReviewTime\"]) + ' ' + str(len(d[\"reviewText\"].split())) + ' ' + d[\"reviewText\"] + '\\n')\n",
    "output_file.close()"
   ]
  },
  {
   "cell_type": "code",
   "execution_count": 24,
   "metadata": {},
   "outputs": [
    {
     "name": "stdout",
     "output_type": "stream",
     "text": [
      "[u'B007VJ2KEC', u'B0051MYL8E', u'B001LTVCBU', u'B0043GCVUY', u'B004VB5JDW']\n",
      "http://www.asinlab.com/php/convertfromasin.php?asin_num=B007VJ2KEC,B0051MYL8E,B001LTVCBU,B0043GCVUY,B004VB5JDW&id_type=UPC&bulk=true&x=false\n",
      "[u'B00353PWAW', u'B0062BHOOG', u'B0014FKI1Q', u'B000EH4V18']\n",
      "http://www.asinlab.com/php/convertfromasin.php?asin_num=B00353PWAW,B0062BHOOG,B0014FKI1Q,B000EH4V18&id_type=UPC&bulk=true&x=false\n"
     ]
    }
   ],
   "source": [
    "def GetURL(products_list):\n",
    "    print products_list\n",
    "    products = ','.join([str(_) for _ in products_list])\n",
    "    url = \"http://www.asinlab.com/php/convertfromasin.php?asin_num=\" + products + \"&id_type=UPC&bulk=true&x=false\"\n",
    "    return url\n",
    "    \n",
    "print GetURL(recommendations)\n",
    "print GetURL(history)"
   ]
  },
  {
   "cell_type": "raw",
   "metadata": {},
   "source": [
    " \"reviewerID\": \"A1F6404F1VG29J\", \n",
    " \"asin\": \"B000F83SZQ\", \n",
    " \"reviewerName\": \"Avidreader\", \n",
    " \"helpful\": [0, 0], \n",
    " \"reviewText\": \"I enjoy vintage books and movies so I enjoyed reading this book.  The plot was unusual.  Don't think killing someone in self-defense but leaving the scene and the body without notifying the police or hitting someone in the jaw to knock them out would wash today.Still it was a good read for me.\", \n",
    " \"overall\": 5.0, \n",
    " \"summary\": \"Nice vintage story\", \n",
    " \"unixReviewTime\": 1399248000, \n",
    " "
   ]
  }
 ],
 "metadata": {
  "kernelspec": {
   "display_name": "Python 2",
   "language": "python",
   "name": "python2"
  },
  "language_info": {
   "codemirror_mode": {
    "name": "ipython",
    "version": 2
   },
   "file_extension": ".py",
   "mimetype": "text/x-python",
   "name": "python",
   "nbconvert_exporter": "python",
   "pygments_lexer": "ipython2",
   "version": "2.7.14"
  }
 },
 "nbformat": 4,
 "nbformat_minor": 2
}

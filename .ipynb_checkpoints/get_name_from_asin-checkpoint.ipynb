{
 "cells": [
  {
   "cell_type": "code",
   "execution_count": 2,
   "metadata": {
    "collapsed": true
   },
   "outputs": [],
   "source": [
    "import requests"
   ]
  },
  {
   "cell_type": "code",
   "execution_count": 9,
   "metadata": {},
   "outputs": [],
   "source": [
    "url = \"http://www.asinlab.com/php/convertfromasin.php?asin_num=B006OC2ANS,B00HWD2OE8,B00J06HWC4,B00CH87HF4,B00B7ERH04&id_type=UPC&bulk=true&x=false\"\n",
    "headers = {}\n",
    "cookies = {}\n",
    "headers[\"Accept\"] = \"text/html,application/xhtml+xml,application/xml;q=0.9,image/webp,image/apng,*/*;q=0.8\"\n",
    "headers[\"Accept-Encoding\"] = \"gzip, deflate\"\n",
    "headers[\"Accept-Language\"] = \"en-US,en;q=0.9\"\n",
    "cookies[\"PHPSESSID\"] = \"7265269b431e4d9d9e4edd079f8da21c\"\n",
    "cookies[\"sc_is_visitor_unique\"] = \"rx11430932.1524382929.F7A1330878D04FF9DF09539FE782C5B9.1.1.1.1.1.1.1.1.1\"\n",
    "headers[\"Referer\"] = \"http://www.asinlab.com/asin-to-upc-bulk-lookup/\"\n",
    "headers[\"User-Agent\"] = \"\""
   ]
  },
  {
   "cell_type": "code",
   "execution_count": 10,
   "metadata": {},
   "outputs": [],
   "source": [
    "x = requests.get(url, headers=headers, cookies=cookies)"
   ]
  },
  {
   "cell_type": "code",
   "execution_count": 12,
   "metadata": {},
   "outputs": [
    {
     "data": {
      "text/plain": [
       "<Response [200]>"
      ]
     },
     "execution_count": 12,
     "metadata": {},
     "output_type": "execute_result"
    }
   ],
   "source": [
    "x.text"
   ]
  },
  {
   "cell_type": "code",
   "execution_count": null,
   "metadata": {
    "collapsed": true
   },
   "outputs": [],
   "source": []
  }
 ],
 "metadata": {
  "kernelspec": {
   "display_name": "Python 2",
   "language": "python",
   "name": "python2"
  },
  "language_info": {
   "codemirror_mode": {
    "name": "ipython",
    "version": 2
   },
   "file_extension": ".py",
   "mimetype": "text/x-python",
   "name": "python",
   "nbconvert_exporter": "python",
   "pygments_lexer": "ipython2",
   "version": "2.7.14"
  }
 },
 "nbformat": 4,
 "nbformat_minor": 2
}

{
 "cells": [
  {
   "cell_type": "code",
   "execution_count": 1,
   "metadata": {
    "collapsed": true
   },
   "outputs": [],
   "source": [
    "import pandas as pd\n",
    "import numpy as np\n",
    "import matplotlib.pyplot as plt\n",
    "import matplotlib.mlab as mlab"
   ]
  },
  {
   "cell_type": "code",
   "execution_count": 2,
   "metadata": {
    "collapsed": true
   },
   "outputs": [],
   "source": [
    "# load the data, keep only selected columns\n",
    "# Read the file using super fast Pandas.read_csv\n",
    "def load_required_data(path, required_columns, start_index, end_index):\n",
    "    dataframe = pd.read_json(path, lines=True)\n",
    "    dataframe = dataframe[required_columns]\n",
    "    return dataframe, dataframe.values"
   ]
  },
  {
   "cell_type": "code",
   "execution_count": 3,
   "metadata": {
    "collapsed": true
   },
   "outputs": [],
   "source": [
    "dataframe, values = load_required_data('../reviews_Apps_for_Android_5.json', [\"asin\", \"reviewerID\", \"overall\"], 0, 20000)"
   ]
  },
  {
   "cell_type": "code",
   "execution_count": 4,
   "metadata": {
    "collapsed": true
   },
   "outputs": [],
   "source": [
    "# Create user-item matrix given a matrix and mapping from original matrix columns to new matrix rows/columns\n",
    "def create_user_item_matrix(data, rowMapping, columnMapping):\n",
    "    # Create table of users to items by taking row and column pivots\n",
    "    # Rows of user-item table are users\n",
    "    rows, row_pos = np.unique(data[:, rowMapping], return_inverse=True)\n",
    "    # Columns of user-item table are movies\n",
    "    cols, col_pos = np.unique(data[:, columnMapping], return_inverse=True)\n",
    "\n",
    "    pivot_table = np.zeros((len(rows), len(cols)), dtype=data.dtype)\n",
    "    pivot_table[row_pos, col_pos] = data[:, 2]\n",
    "    return pivot_table, rows, cols"
   ]
  },
  {
   "cell_type": "code",
   "execution_count": 5,
   "metadata": {
    "collapsed": true
   },
   "outputs": [],
   "source": [
    "# user item matrix with ratings\n",
    "ratings_matrix, rows, cols = create_user_item_matrix(values, rowMapping=1, columnMapping=0)"
   ]
  },
  {
   "cell_type": "code",
   "execution_count": 6,
   "metadata": {},
   "outputs": [
    {
     "name": "stdout",
     "output_type": "stream",
     "text": [
      "Frequency of unique ratings:\n",
      "[[1 2 3 4 5]\n",
      " [78713 44385 85121 158081 386637]]\n"
     ]
    }
   ],
   "source": [
    "# get the unique rating count\n",
    "# grab the ratings column from the dataset\n",
    "ratings = values[:, 2]\n",
    "unique_ratings, counts_elements = np.unique(ratings, return_counts=True)\n",
    "print(\"Frequency of unique ratings:\")\n",
    "rating_frequency = np.asarray((unique_ratings, counts_elements))\n",
    "print rating_frequency"
   ]
  },
  {
   "cell_type": "code",
   "execution_count": 7,
   "metadata": {},
   "outputs": [
    {
     "name": "stdout",
     "output_type": "stream",
     "text": [
      "752937\n"
     ]
    }
   ],
   "source": [
    "# total number of ratings available\n",
    "total_ratings = counts_elements.sum()\n",
    "print total_ratings"
   ]
  },
  {
   "cell_type": "code",
   "execution_count": 8,
   "metadata": {},
   "outputs": [
    {
     "name": "stdout",
     "output_type": "stream",
     "text": [
      "[[1 2 3 4 5]\n",
      " [10.454128300242916 5.894915510859474 11.305195521006405\n",
      "  20.995249270523296 51.3505113973679]]\n"
     ]
    }
   ],
   "source": [
    "# get ratings percentage\n",
    "ratings_distribution = np.true_divide(rating_frequency[1], total_ratings)\n",
    "\n",
    "overall_rating = np.asarray((unique_ratings, ratings_distribution * 100))\n",
    "print overall_rating"
   ]
  },
  {
   "cell_type": "code",
   "execution_count": 9,
   "metadata": {},
   "outputs": [
    {
     "name": "stdout",
     "output_type": "stream",
     "text": [
      "[(1, 10.454128300242916), (2, 5.894915510859474), (3, 11.305195521006405), (4, 20.995249270523296), (5, 51.3505113973679)]\n"
     ]
    }
   ],
   "source": [
    "# Display percentage count of each rating\n",
    "overall_rating_distribution = zip(unique_ratings,ratings_distribution*100)\n",
    "print overall_rating_distribution"
   ]
  },
  {
   "cell_type": "code",
   "execution_count": 20,
   "metadata": {},
   "outputs": [],
   "source": [
    "# plot the pie chart \n",
    "\n",
    "def plotPieChart(labels, sizes):\n",
    "    \n",
    "    colors = ['#FFA48C', '#F3AEC9', '#71CD99', '#82CADD', '#FBD267']\n",
    "    # explode = (0, 0, 0, 0, 0.1)  # explode 1st slice\n",
    "\n",
    "    # Plot\n",
    "    plt.figure(figsize=(6, 6), dpi=200)\n",
    "    plt.pie(sizes, labels=labels, colors=colors,\n",
    "            autopct='%1.1f%%', shadow=False, startangle=140)\n",
    "    plt.rcParams['font.size'] = 14.0\n",
    "    plt.axis('equal')\n",
    "    plt.savefig('piechart.png', bbox_inches='tight')\n",
    "    #plt.show()\n",
    "    plt.close()\n",
    "        \n",
    "    \n",
    "plotPieChart(overall_rating[0], overall_rating[1])"
   ]
  },
  {
   "cell_type": "code",
   "execution_count": 11,
   "metadata": {},
   "outputs": [
    {
     "name": "stdout",
     "output_type": "stream",
     "text": [
      "Average rating:  3.968930999539138\n"
     ]
    }
   ],
   "source": [
    "# average rating\n",
    "average_rating = np.true_divide(ratings.sum(), len(ratings))\n",
    "\n",
    "print \"Average rating: \", average_rating"
   ]
  },
  {
   "cell_type": "code",
   "execution_count": 12,
   "metadata": {},
   "outputs": [
    {
     "name": "stdout",
     "output_type": "stream",
     "text": [
      "[17 62 96 ...  5  7 17]\n"
     ]
    }
   ],
   "source": [
    "# ratings per item\n",
    "ratings_per_item = np.count_nonzero(ratings_matrix, axis=0)\n",
    "print ratings_per_item"
   ]
  },
  {
   "cell_type": "code",
   "execution_count": 13,
   "metadata": {},
   "outputs": [
    {
     "name": "stdout",
     "output_type": "stream",
     "text": [
      "total number of items:  13209\n",
      "highest number of ratings for an item:  6282\n",
      "smallest number of ratings for an item:  5\n"
     ]
    }
   ],
   "source": [
    "print \"total number of items: \", len(ratings_per_item)        \n",
    "print \"highest number of ratings for an item: \", ratings_per_item.max()         \n",
    "print \"smallest number of ratings for an item: \", ratings_per_item.min()         "
   ]
  },
  {
   "cell_type": "code",
   "execution_count": 14,
   "metadata": {},
   "outputs": [
    {
     "name": "stdout",
     "output_type": "stream",
     "text": [
      "[12  5 18 ...  5  5  9]\n",
      "total number of users:  87271\n",
      "highest number of ratings by a user:  565\n",
      "smallest number of ratings by a user:  5\n"
     ]
    }
   ],
   "source": [
    "# ratings per user\n",
    "ratings_per_user = np.count_nonzero(ratings_matrix, axis=1)\n",
    "print ratings_per_user\n",
    "\n",
    "print \"total number of users: \", len(ratings_per_user)        \n",
    "print \"highest number of ratings by a user: \", ratings_per_user.max()         \n",
    "print \"smallest number of ratings by a user: \", ratings_per_user.min() \n"
   ]
  },
  {
   "cell_type": "code",
   "execution_count": 34,
   "metadata": {
    "collapsed": true
   },
   "outputs": [],
   "source": [
    "# def plotHistogram(x, printingString, x_axis_range, xlabel, title):\n",
    "#     #import matplotlib.transforms as mtrans\n",
    "#     num_bins = 55\n",
    "#     n, bins, patches = plt.hist(x, 30, range=x_axis_range, facecolor='blue', alpha=0.5)\n",
    "#     # plt.xticks(range(0, 1000))\n",
    "#     # plt.yticks(range(1, 8000))\n",
    "\n",
    "#     plt.axvline(x.mean(), color='k', linestyle='dashed', linewidth=1)\n",
    "#     plt.xlabel(xlabel)\n",
    "#     plt.ylabel('Frequency')\n",
    "#     plt.title(title)\n",
    "#     plt.show() \n",
    "\n",
    "#     print printingString, x.mean()\n",
    "\n",
    "\n",
    "def plotHistogram(x, printingString, x_axis_range, xlabel, title, ylabel):\n",
    "    #import matplotlib.transforms as mtrans\n",
    "    num_bins = 55\n",
    "    plt.figure(figsize=(6, 6), dpi=200)\n",
    "    n, bins, patches = plt.hist(x, bins=None, range=x_axis_range, facecolor='#ffb145', alpha=0.9)\n",
    "    plt.rcParams['font.size'] = 14.0\n",
    "    plt.axvline(x.mean(), color='k', linestyle='dashed', linewidth=1)\n",
    "    plt.xlabel(xlabel)\n",
    "    plt.ylabel(ylabel)\n",
    "    plt.title(title)\n",
    "    plt.grid(True)\n",
    "    plt.savefig('histogram_'+title+ '.png', bbox_inches='tight')\n",
    "    #plt.show() \n",
    "\n",
    "    print printingString, x.mean()\n",
    "    "
   ]
  },
  {
   "cell_type": "code",
   "execution_count": 35,
   "metadata": {},
   "outputs": [
    {
     "name": "stdout",
     "output_type": "stream",
     "text": [
      "Average #ratings/user:  8.627573879066356\n"
     ]
    }
   ],
   "source": [
    "plotHistogram(ratings_per_user, \"Average #ratings/user: \", [4, 30], 'Number of ratings', '#ratings per user', '# of users')\n",
    "#plotHistogram(ratings_per_item, \"Average #ratings/item: \", [0, 250], 'Number of ratings', '#ratings per item', '# of items')"
   ]
  },
  {
   "cell_type": "code",
   "execution_count": 27,
   "metadata": {
    "collapsed": true
   },
   "outputs": [],
   "source": [
    "# items with more ratings have good average rating\n",
    "movie_avg_ratings = np.true_divide(ratings_matrix.sum(0), (ratings_matrix!=0).sum(0))"
   ]
  },
  {
   "cell_type": "code",
   "execution_count": 30,
   "metadata": {
    "collapsed": true
   },
   "outputs": [],
   "source": [
    "plt.figure(figsize=(6, 6), dpi=200)\n",
    "plt.plot(movie_avg_ratings, ratings_per_item,  'ro', color='#ffb145')\n",
    "plt.xlabel('Average item rating')\n",
    "plt.ylabel('Averaging rating count')\n",
    "plt.title('Average item rating by item count')\n",
    "plt.grid(True)\n",
    "plt.savefig('scatter_plot.png', bbox_inches='tight')\n",
    "#plt.show()"
   ]
  },
  {
   "cell_type": "code",
   "execution_count": null,
   "metadata": {
    "collapsed": true
   },
   "outputs": [],
   "source": []
  }
 ],
 "metadata": {
  "kernelspec": {
   "display_name": "Python 2",
   "language": "python",
   "name": "python2"
  },
  "language_info": {
   "codemirror_mode": {
    "name": "ipython",
    "version": 2
   },
   "file_extension": ".py",
   "mimetype": "text/x-python",
   "name": "python",
   "nbconvert_exporter": "python",
   "pygments_lexer": "ipython2",
   "version": "2.7.14"
  }
 },
 "nbformat": 4,
 "nbformat_minor": 2
}

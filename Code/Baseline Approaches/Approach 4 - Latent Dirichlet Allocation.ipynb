{
 "cells": [
  {
   "cell_type": "markdown",
   "metadata": {},
   "source": [
    "# Hidden Factor Hidden Topics\n",
    "## Amazon Kindle Store Reviews Dataset\n",
    "Dataset Link: http://jmcauley.ucsd.edu/data/amazon/\n",
    "##### Sample Review"
   ]
  },
  {
   "cell_type": "markdown",
   "metadata": {},
   "source": []
  },
  {
   "cell_type": "raw",
   "metadata": {},
   "source": [
    "{\n",
    " \"reviewerID\": \"A1F6404F1VG29J\", \n",
    " \"asin\": \"B000F83SZQ\", \n",
    " \"reviewerName\": \"Avidreader\", \n",
    " \"helpful\": [0, 0], \n",
    " \"reviewText\": \"I enjoy vintage books and movies so I enjoyed reading this book.  The plot was unusual.  Don't think killing someone in self-defense but leaving the scene and the body without notifying the police or hitting someone in the jaw to knock them out would wash today.Still it was a good read for me.\", \n",
    " \"overall\": 5.0, \n",
    " \"summary\": \"Nice vintage story\", \n",
    " \"unixReviewTime\": 1399248000, \n",
    " \"reviewTime\": \"05 5, 2014\"\n",
    "}"
   ]
  },
  {
   "cell_type": "code",
   "execution_count": 1,
   "metadata": {},
   "outputs": [],
   "source": [
    "\n",
    "import pyLDAvis\n",
    "import pyLDAvis.sklearn\n",
    "pyLDAvis.enable_notebook()\n",
    "\n",
    "from sklearn.feature_extraction.text import CountVectorizer\n",
    "from sklearn.decomposition import LatentDirichletAllocation\n",
    "\n",
    "import json"
   ]
  },
  {
   "cell_type": "raw",
   "metadata": {},
   "source": [
    "from sklearn.datasets import fetch_20newsgroups\n",
    "\n",
    "sub_category = ['sci.space', 'misc.forsale']\n",
    "newsgroups = fetch_20newsgroups(categories=sub_category,\n",
    "                                remove=['headers', 'footers', 'quotes'])\n",
    "data = newsgroups.data\n",
    "print len(data)"
   ]
  },
  {
   "cell_type": "code",
   "execution_count": 3,
   "metadata": {},
   "outputs": [],
   "source": [
    "from sklearn.metrics import mean_squared_error\n",
    "from sklearn.metrics import mean_absolute_error\n",
    "DATASET_SIZE = 30000\n",
    "DATASET_FILE = '../../Datasets/Apps Dataset/AppReviews30k.json'\n",
    "TRAIN_SET_FILE = '../../Datasets/Apps Dataset/train_15000.json'\n",
    "TEST_SET_FILE = '../../Datasets/Apps Dataset/test_5000.json'\n"
   ]
  },
  {
   "cell_type": "code",
   "execution_count": 4,
   "metadata": {},
   "outputs": [
    {
     "name": "stdout",
     "output_type": "stream",
     "text": [
      "15000\n",
      "5000\n"
     ]
    }
   ],
   "source": [
    "dataset_file = open(TRAIN_SET_FILE)\n",
    "train_set = dataset_file.readlines()\n",
    "\n",
    "dataset_file = open(TEST_SET_FILE)\n",
    "test_set = dataset_file.readlines()\n",
    "\n",
    "print len(train_set)\n",
    "print len(test_set)"
   ]
  },
  {
   "cell_type": "code",
   "execution_count": 5,
   "metadata": {},
   "outputs": [
    {
     "name": "stdout",
     "output_type": "stream",
     "text": [
      "My son plays this game all the time. He loves Umizoomi. He has all the badges and trophies for the first two levels on here, but the others will not unlock. I don't know how many times you have to replay the same two games, but now he's had it for months and is sick of it because it's just to long to wait for something else to happen.\n"
     ]
    }
   ],
   "source": [
    "data = []\n",
    "for line in train_set:\n",
    "    data.append(json.loads(line)[\"reviewText\"])\n",
    "print data[0]"
   ]
  },
  {
   "cell_type": "code",
   "execution_count": 6,
   "metadata": {},
   "outputs": [],
   "source": [
    "tf_vectorizer = CountVectorizer(strip_accents='unicode',\n",
    "                                stop_words='english',\n",
    "                                token_pattern=r'\\b[a-zA-Z]{3,}\\b',\n",
    "                                max_df=0.5,\n",
    "                                min_df=5\n",
    "                               )\n",
    "dtm_tf = tf_vectorizer.fit_transform(data)"
   ]
  },
  {
   "cell_type": "code",
   "execution_count": 7,
   "metadata": {},
   "outputs": [
    {
     "name": "stdout",
     "output_type": "stream",
     "text": [
      "[u'abc', u'abilities', u'ability', u'able', u'absolute', u'absolutely', u'accept', u'acceptable', u'access', u'accessed']\n",
      "(15000, 4154)\n"
     ]
    }
   ],
   "source": [
    "print (tf_vectorizer.get_feature_names()[:10])\n",
    "print (dtm_tf.shape)"
   ]
  },
  {
   "cell_type": "code",
   "execution_count": 8,
   "metadata": {},
   "outputs": [
    {
     "name": "stderr",
     "output_type": "stream",
     "text": [
      "C:\\Users\\chris\\Anaconda2\\envs\\cs670\\lib\\site-packages\\sklearn\\decomposition\\online_lda.py:536: DeprecationWarning: The default value for 'learning_method' will be changed from 'online' to 'batch' in the release 0.20. This warning was introduced in 0.18.\n",
      "  DeprecationWarning)\n"
     ]
    },
    {
     "data": {
      "text/plain": [
       "LatentDirichletAllocation(batch_size=128, doc_topic_prior=None,\n",
       "             evaluate_every=-1, learning_decay=0.7, learning_method=None,\n",
       "             learning_offset=10.0, max_doc_update_iter=100, max_iter=10,\n",
       "             mean_change_tol=0.001, n_components=5, n_jobs=1,\n",
       "             n_topics=None, perp_tol=0.1, random_state=18,\n",
       "             topic_word_prior=None, total_samples=1000000.0, verbose=0)"
      ]
     },
     "execution_count": 8,
     "metadata": {},
     "output_type": "execute_result"
    }
   ],
   "source": [
    "NUMBER_OF_TOPICS = 5\n",
    "\n",
    "\n",
    "lda_tf = LatentDirichletAllocation(n_components=NUMBER_OF_TOPICS, random_state=18)\n",
    "lda_tf.fit(dtm_tf)"
   ]
  },
  {
   "cell_type": "code",
   "execution_count": 9,
   "metadata": {},
   "outputs": [
    {
     "name": "stdout",
     "output_type": "stream",
     "text": [
      "4.05813333333\n",
      "done\n"
     ]
    }
   ],
   "source": [
    "\n",
    "\n",
    "ReviewsByUser = {}\n",
    "ItemReviews = {}\n",
    "AverageRatingsByUsers = {}\n",
    "AverageRatingsByItems = {}\n",
    "UserHistory = {}\n",
    "GlobalAverage = 0.0\n",
    "for line in train_set:\n",
    "    d = json.loads(line)\n",
    "    user = d[\"reviewerID\"]\n",
    "    item = d[\"asin\"]\n",
    "    try: \n",
    "        ReviewsByUser[user] += ' ' + d[\"reviewText\"]\n",
    "    except:\n",
    "        ReviewsByUser[user] = d[\"reviewText\"]\n",
    "    try: \n",
    "        ItemReviews[item] += ' ' + d[\"reviewText\"]\n",
    "    except:\n",
    "        ItemReviews[item] = d[\"reviewText\"]\n",
    "    try:\n",
    "        AverageRatingsByUsers[user] = (AverageRatingsByUsers[user][0]+float(d[\"overall\"]), AverageRatingsByUsers[user][1]+1)\n",
    "    except:\n",
    "        AverageRatingsByUsers[user] = (float(d[\"overall\"]), 1)\n",
    "    try:\n",
    "        AverageRatingsByItems[item] = (AverageRatingsByItems[item][0]+float(d[\"overall\"]), AverageRatingsByItems[item][1]+1)\n",
    "    except:\n",
    "        AverageRatingsByItems[item] = (float(d[\"overall\"]), 1)\n",
    "    try:\n",
    "        UserHistory[user].append(item) \n",
    "    except:\n",
    "        UserHistory[user] = [item]\n",
    "    \n",
    "    GlobalAverage += float(d[\"overall\"])\n",
    "\n",
    "GlobalAverage /= len(train_set)\n",
    "\n",
    "for k in AverageRatingsByUsers.keys():\n",
    "    AverageRatingsByUsers[k] = AverageRatingsByUsers[k][0]*1.0/AverageRatingsByUsers[k][1]        \n",
    "        \n",
    "for k in AverageRatingsByItems.keys():\n",
    "    AverageRatingsByItems[k] = AverageRatingsByItems[k][0]*1.0/AverageRatingsByItems[k][1]\n",
    "\n",
    "# print AverageRatingsByItems\n",
    "# print AverageRatingsByUsers\n",
    "print GlobalAverage\n",
    "print \"done\""
   ]
  },
  {
   "cell_type": "code",
   "execution_count": 10,
   "metadata": {},
   "outputs": [
    {
     "name": "stdout",
     "output_type": "stream",
     "text": [
      "4154\n"
     ]
    }
   ],
   "source": [
    "import numpy as np\n",
    "\n",
    "WordToTopicMapping = {}\n",
    "\n",
    "tf_feature_names = tf_vectorizer.get_feature_names()\n",
    "\n",
    "rows = NUMBER_OF_TOPICS # topics count\n",
    "columns = len(tf_feature_names) # Total number of words\n",
    "    \n",
    "M = np.zeros((rows, columns))\n",
    "total_of_columns = np.sum(lda_tf.components_, axis=0)\n",
    "print len(total_of_columns)\n",
    "for i in range(columns):\n",
    "    column_sum = total_of_columns[i]\n",
    "    for j in range(rows):\n",
    "        M[j][i] = lda_tf.components_[j][i]*1.0/column_sum\n",
    "\n",
    "M = np.transpose(M)\n",
    "DocVecRep = CountVectorizer(vocabulary=tf_feature_names) # document vector representation"
   ]
  },
  {
   "cell_type": "code",
   "execution_count": 12,
   "metadata": {},
   "outputs": [
    {
     "name": "stdout",
     "output_type": "stream",
     "text": [
      "(5L, 1842L)\n",
      "(3139L, 5L)\n"
     ]
    }
   ],
   "source": [
    "# print M\n",
    "\n",
    "def MakeProbabilityDistribution(Gamma):\n",
    "    column_sums = np.sum(Gamma, axis=0)\n",
    "    return np.divide(Gamma, 1.0*column_sums)\n",
    "\n",
    "Gamma_i = np.zeros((len(ItemReviews.keys()), NUMBER_OF_TOPICS)) #   #items   X  topics\n",
    "\n",
    "j = 0\n",
    "# Calculating latent factors for items\n",
    "ItemToIndexMapping = {}\n",
    "for item in ItemReviews.keys():\n",
    "    ItemToIndexMapping[item] = j\n",
    "    review = ItemReviews[item]\n",
    "    review_vector = DocVecRep.fit_transform([review]).toarray()\n",
    "    Gamma_i[j] = np.matmul(review_vector, M)\n",
    "    j += 1\n",
    "\n",
    "\n",
    "Gamma_i = np.transpose(Gamma_i)\n",
    "Gamma_i = MakeProbabilityDistribution(Gamma_i)\n",
    "print Gamma_i.shape\n",
    "\n",
    "Gamma_u = np.zeros((len(ReviewsByUser.keys()), NUMBER_OF_TOPICS))\n",
    "j = 0\n",
    "# Calculating latent factors for users\n",
    "UserToIndexMapping = {}\n",
    "for user in ReviewsByUser.keys():\n",
    "    UserToIndexMapping[user] = j\n",
    "    review = ReviewsByUser[user]\n",
    "    review_vector = DocVecRep.fit_transform([review]).toarray()\n",
    "    Gamma_u[j] = np.matmul(review_vector, M)\n",
    "    j += 1\n",
    "\n",
    "Gamma_u = np.transpose(Gamma_u)\n",
    "Gamma_u = MakeProbabilityDistribution(Gamma_u)\n",
    "Gamma_u = np.transpose(Gamma_u)\n",
    "print Gamma_u.shape\n",
    "\n",
    "# print UserToIndexMapping\n",
    "# print ItemToIndexMapping\n",
    "\n",
    "    "
   ]
  },
  {
   "cell_type": "code",
   "execution_count": 13,
   "metadata": {},
   "outputs": [],
   "source": [
    "\n",
    "total_users = len(ReviewsByUser.keys())\n",
    "total_items = len(ItemReviews.keys())\n",
    "\n",
    "ActualRatingAvailability = np.zeros((total_users, total_items))\n",
    "\n",
    "for line in train_set:\n",
    "    d = json.loads(line)\n",
    "    userId = d[\"reviewerID\"]\n",
    "    itemId = d[\"asin\"]\n",
    "    user = UserToIndexMapping[userId]\n",
    "    item = ItemToIndexMapping[itemId]"
   ]
  },
  {
   "cell_type": "code",
   "execution_count": 14,
   "metadata": {},
   "outputs": [
    {
     "name": "stdout",
     "output_type": "stream",
     "text": [
      "(1.03, 1.4)\n",
      "1842\n",
      "[(u'B0097C8XL0', 0.2462655906964141), (u'B00FDUH4WY', 0.24606602162718505), (u'B00IG63BVK', 0.2426768072507653), (u'B00821NZ74', 0.2418034337266109), (u'B00FPYJLCY', 0.2410069405531767)]\n",
      "[u'B0097C8XL0', u'B00FDUH4WY', u'B00IG63BVK', u'B00821NZ74', u'B00FPYJLCY']\n",
      "[u'B00ANT8OF6', u'B00AMR1HZ8', u'B004WGGQPQ', u'B006C1ZSO4', u'B008LY1B32', u'B007KPT2N4', u'B0080JJLBW', u'B009P8EMCK']\n",
      "0\n"
     ]
    }
   ],
   "source": [
    "def PredictUserToItemRating(userId, itemId):\n",
    "    userIndex = UserToIndexMapping[userId]\n",
    "    itemIndex = ItemToIndexMapping[itemId]\n",
    "    gamma_user = Gamma_u[userIndex]\n",
    "    gamma_item = Gamma_i[:, itemIndex]\n",
    "    return np.dot(gamma_user, gamma_item)\n",
    "\n",
    "def IsActuallyRated(userId, itemId):\n",
    "    user = UserToIndexMapping[userId]\n",
    "    item = ItemToIndexMapping[itemId]\n",
    "    \n",
    "    return ActualRatingAvailability[user][item] == 1\n",
    "\n",
    "RECOMMENDATIONS = 5\n",
    "\n",
    "def RecommendItemsToUser(userId):\n",
    "    itemsList = ItemToIndexMapping.keys()\n",
    "    predictions = []\n",
    "    for item in itemsList:\n",
    "        if not IsActuallyRated(userId, item):\n",
    "            predictions.append((item, PredictUserToItemRating(userId, item)))\n",
    "    sorted_by_predictions = sorted(predictions, key=lambda tup: tup[1], reverse=True)\n",
    "    print len(sorted_by_predictions)\n",
    "    print sorted_by_predictions[:min(RECOMMENDATIONS, len(predictions))]\n",
    "    return sorted_by_predictions[:min(RECOMMENDATIONS, len(predictions))]\n",
    "\n",
    "def GetRecommendationsForUser(userId):\n",
    "    predictions = RecommendItemsToUser(userId)\n",
    "    return [_[0] for _ in predictions]\n",
    "\n",
    "cnt = 0\n",
    "def GetEvaluationOnTestData():\n",
    "    y_pred = []\n",
    "    y_actual = []\n",
    "    for line in test_set:\n",
    "        d = json.loads(line)\n",
    "        userId = d[\"reviewerID\"]\n",
    "        itemId = d[\"asin\"]\n",
    "        #print PredictUserToItemRating(userId, itemId)\n",
    "\n",
    "        try:\n",
    "            prediction = AverageRatingsByUsers[userId] + AverageRatingsByItems[itemId] - GlobalAverage + PredictUserToItemRating(userId, itemId)\n",
    "            y_pred.append(prediction)\n",
    "            y_actual.append(d[\"overall\"])\n",
    "        except:\n",
    "            cnt += 1\n",
    "            #print cnt,\n",
    "            pass\n",
    "            \n",
    "            \n",
    "    MAE = round(mean_absolute_error(y_actual, y_pred), 2)\n",
    "    RMSE = round(np.sqrt(mean_squared_error(y_actual, y_pred)), 2)\n",
    "    return (MAE, RMSE)\n",
    "\n",
    "USER_ID = 'A00100742Q4O8VH0YMUBZ'\n",
    "print GetEvaluationOnTestData()\n",
    "history = UserHistory[USER_ID]\n",
    "recommendations = GetRecommendationsForUser(USER_ID)\n",
    "print recommendations\n",
    "print history\n",
    "print cnt"
   ]
  },
  {
   "cell_type": "code",
   "execution_count": 15,
   "metadata": {
    "scrolled": false
   },
   "outputs": [
    {
     "name": "stderr",
     "output_type": "stream",
     "text": [
      "C:\\Users\\chris\\Anaconda2\\envs\\cs670\\lib\\site-packages\\pyLDAvis\\_prepare.py:387: DeprecationWarning: \n",
      ".ix is deprecated. Please use\n",
      ".loc for label based indexing or\n",
      ".iloc for positional indexing\n",
      "\n",
      "See the documentation here:\n",
      "http://pandas.pydata.org/pandas-docs/stable/indexing.html#ix-indexer-is-deprecated\n",
      "  topic_term_dists = topic_term_dists.ix[topic_order]\n"
     ]
    },
    {
     "data": {
      "text/html": [
       "\n",
       "<link rel=\"stylesheet\" type=\"text/css\" href=\"https://cdn.rawgit.com/bmabey/pyLDAvis/files/ldavis.v1.0.0.css\">\n",
       "\n",
       "\n",
       "<div id=\"ldavis_el98762762649044974616304\"></div>\n",
       "<script type=\"text/javascript\">\n",
       "\n",
       "var ldavis_el98762762649044974616304_data = {\"plot.opts\": {\"xlab\": \"PC1\", \"ylab\": \"PC2\"}, \"topic.order\": [1, 4, 3, 2, 5], \"token.table\": {\"Topic\": [2, 3, 2, 2, 2, 1, 1, 3, 1, 5, 3, 3, 1, 3, 2, 1, 2, 3, 4, 5, 2, 3, 4, 5, 2, 2, 3, 5, 3, 4, 3, 4, 1, 2, 3, 5, 1, 2, 3, 4, 5, 3, 3, 5, 4, 3, 1, 5, 3, 1, 2, 4, 1, 3, 4, 5, 4, 4, 3, 1, 3, 5, 2, 5, 1, 5, 2, 3, 3, 3, 1, 2, 2, 5, 1, 2, 3, 4, 2, 5, 2, 5, 1, 4, 1, 2, 5, 2, 3, 4, 1, 2, 4, 5, 1, 2, 3, 4, 5, 2, 3, 5, 1, 5, 1, 2, 3, 4, 5, 3, 4, 1, 2, 3, 4, 5, 5, 1, 4, 3, 4, 1, 2, 1, 3, 4, 3, 5, 3, 5, 4, 2, 1, 4, 5, 2, 1, 2, 2, 3, 1, 2, 3, 4, 5, 3, 2, 3, 4, 1, 3, 5, 1, 3, 4, 5, 3, 1, 2, 2, 4, 5, 1, 2, 3, 4, 5, 1, 2, 3, 4, 1, 1, 2, 3, 4, 5, 1, 3, 5, 1, 5, 5, 5, 1, 1, 4, 3, 1, 5, 4, 2, 5, 1, 2, 3, 4, 5, 3, 5, 2, 3, 1, 2, 4, 5, 4, 4, 1, 5, 1, 5, 1, 2, 3, 4, 5, 1, 2, 3, 4, 5, 2, 4, 4, 1, 1, 2, 3, 4, 5, 1, 2, 3, 5, 5, 1, 3, 4, 1, 5, 3, 3, 1, 1, 2, 3, 4, 2, 3, 1, 2, 4, 5, 1, 1, 1, 5, 4, 2, 3, 3, 1, 4, 5, 4, 1, 5, 1, 2, 4, 4, 4, 4, 2, 4, 4, 1, 2, 3, 5, 1, 3, 4, 5, 1, 3, 4, 5, 4, 5, 1, 2, 2, 3, 5, 1, 4, 1, 3, 4, 5, 3, 5, 2, 1, 2, 1, 2, 3, 4, 5, 1, 2, 3, 5, 1, 1, 2, 4, 2, 2, 3, 4, 2, 4, 5, 5, 4, 1, 2, 4, 5, 5, 4, 2, 4, 1, 4, 1, 1, 2, 3, 4, 5, 1, 3, 5, 1, 1, 4, 3, 4, 5, 1, 1, 2, 3, 4, 5, 1, 2, 3, 4, 5, 2, 4, 1, 1, 2, 5, 1, 3, 5, 1, 4, 4, 2, 2, 1, 2, 3, 4, 5, 2, 4, 3, 2, 4, 2, 1, 3, 4, 5, 1, 1, 2, 3, 4, 5, 3, 5, 1, 2, 3, 5, 4, 4, 1, 1, 2, 3, 3, 3, 5, 2, 4, 4, 2, 3, 4, 1, 2, 3, 4, 5, 2, 5], \"Freq\": [0.9976880809564219, 0.9943532146143245, 0.9965487035123677, 0.9898459841047477, 0.9973886453349605, 0.9948422539389915, 0.29112262150924334, 0.7049734069880698, 0.9978911996677867, 0.9988285119473752, 0.992708335191191, 0.9944520678044717, 0.01885291388160116, 0.9803515218432604, 0.9983631788365785, 0.9982839072658876, 0.9858474863369185, 0.0057316714321913875, 0.011463342864382775, 0.9966256115822312, 0.7033991469362709, 0.22103182942358318, 0.07294779848963141, 0.0025531729471370995, 0.9935146013206247, 0.9941420822355806, 0.0034221758424632727, 0.0017110879212316364, 0.9984876291314049, 0.9902606463776022, 0.0188498703158232, 0.9801932564228063, 0.2212460835051494, 0.13552770560263078, 0.6185623486479046, 0.02316712916284287, 0.4284639549360432, 0.3369811105037529, 0.21654799884605427, 0.009264085512130664, 0.006948064134097998, 0.9845755070256652, 0.9960227711555651, 0.9951136353140935, 0.9914193250719505, 0.9944903818509719, 0.9960865176985829, 0.9945396655550633, 0.9941244991991197, 0.015924554000655497, 0.19109464800786596, 0.792246561532611, 0.9295231071687178, 0.05343515188269367, 0.012426779507603179, 0.0037280338522809537, 0.9954377111077843, 0.9934037341429763, 0.9971229236024488, 0.6073425256717886, 0.24792484743606827, 0.14376707129428812, 0.992444931630828, 0.9921131432437651, 0.9951048988856287, 0.002201559510808913, 0.9921839693310496, 0.9973420872597492, 0.9951390597848532, 0.9826677403982232, 0.9986516816242058, 0.9949680851812739, 0.9956853413577123, 0.997328871303671, 0.27405952791467997, 0.2840512815365694, 0.10419971634256062, 0.3368648363951275, 0.9932286063130065, 0.9970788491830256, 0.9898675756808306, 0.007172953446962541, 0.29450171119671975, 0.7049040958321485, 0.6469479716201747, 0.09222152511216312, 0.2598970253160961, 0.8224480357731053, 0.09639277545922974, 0.08084555361096687, 0.356253971919691, 0.5996941860648132, 0.04354215212351779, 0.9978295674602435, 0.468430411517916, 0.274833608559498, 0.10391980976242056, 0.13293295461994914, 0.02004544553792884, 0.7272612868271077, 0.23674313552451515, 0.035766948532480705, 0.9910732236473081, 0.006043129412483586, 0.3269029773876954, 0.21464859072092296, 0.3860640730634268, 0.020478840810830106, 0.05233481540545472, 0.17827650933497485, 0.8182434659220641, 0.5395830986237672, 0.0011264782852270713, 0.2906313975885844, 0.03379434855681214, 0.13517739422724856, 0.995463898228405, 0.9985855506743144, 0.9964093134161316, 0.9982770266609955, 0.992930503461883, 0.12494429718855737, 0.8746100803199016, 0.9969507752599911, 0.9953968657792467, 0.9958133262101468, 0.41506063286593353, 0.583679014967719, 0.9990073519875934, 0.9964154827874173, 0.9971054884608057, 0.9964059720280188, 0.9953626621457629, 0.17080796569417872, 0.8244769113315165, 0.9953493511126277, 0.9935702142824177, 0.9980245837501418, 0.9932898619919508, 0.9932164379580836, 0.4421643911836505, 0.2460003327448607, 0.1733666138094169, 0.06574146823354035, 0.07263371893544378, 0.9937173825379619, 0.0020906063228264098, 0.9972192159881974, 0.9963871662248414, 0.5889695149391996, 0.39623149982396116, 0.014627438647138632, 0.7370613086558425, 0.19152327949787323, 0.0004333105870992607, 0.0706296256971795, 0.9962333540705003, 0.8863830182609242, 0.11223681075381833, 0.9959926205628364, 0.9926629340216467, 0.9984119810085738, 0.5426747103444145, 0.11534497764967555, 0.24047938144674053, 0.012343189490186682, 0.08938171699790357, 0.3786930185183368, 0.341315525781462, 0.2744294861470545, 0.00491809114958879, 0.999354386269923, 0.2789788886097555, 0.18686946933005, 0.421781621377932, 0.0036446173096286345, 0.10867586159619928, 0.6056789191774977, 0.2965039060408671, 0.09756752463737935, 0.9912874763829406, 0.9981183411045679, 0.998262445682847, 0.993587149922583, 0.9967579508048685, 0.059683285269765005, 0.9325513323400783, 0.996688647308602, 0.8859123378650298, 0.11157586119206923, 0.9971421938398687, 0.9962195211510676, 0.992797826066036, 0.474617345571069, 0.24150734003227078, 0.13670860555373326, 0.0571018745556134, 0.08968353239028692, 0.7338063157926976, 0.2644206127270062, 0.7327443979240615, 0.2670504717748375, 0.23199322516682688, 0.34864518584393195, 0.31325638878458545, 0.10485569499065622, 0.9914149324720937, 0.9980051411337906, 0.43896292850175717, 0.5605864150611612, 0.8118418036561179, 0.1873481085360272, 0.5107407452479177, 0.16691442227676628, 0.23559275227606072, 0.01825626493652131, 0.06867832999929446, 0.5728333686333393, 0.030251847406530696, 0.2459182434337334, 0.0673347571306651, 0.08392447990198838, 0.5727132725266368, 0.4268334766943803, 0.9969426719120067, 0.9978257338155673, 0.5647392035384101, 0.158290373505341, 0.23794617436609325, 0.011233510377798394, 0.02757316183641424, 0.1694870585516775, 0.0025465501284893115, 0.8180084912736222, 0.009903250499680655, 0.995970837256722, 0.48176140603246387, 0.49980490438573966, 0.0180434983532758, 0.9932260098928021, 0.9969822377477935, 0.994751975553148, 0.9985607712782913, 0.9991590894957353, 0.28645562428120513, 0.42607265124179255, 0.13841343190058233, 0.1492457874406279, 0.9956221814129801, 0.992888111362675, 0.3094348877498672, 0.2109083563270239, 0.010776339374373485, 0.4680010242585056, 0.9913752116148052, 0.9944969172966276, 0.9945133133243924, 0.9982681761594895, 0.9963764277527176, 0.9968221998200796, 0.9861053123412203, 0.984806611975086, 0.14855766151239105, 0.851195249746673, 0.9986029517457454, 0.9912759606725543, 0.9068132808118775, 0.09111521003372931, 0.5404086693848115, 0.4428146509244816, 0.01602289855318848, 0.9888516340182265, 0.9968255898751225, 0.9917836081971287, 0.9097607127430103, 0.08948466026980428, 0.9887230144084327, 0.6184104635009243, 0.00964173957818678, 0.3457634943177537, 0.025979131641225492, 0.6578505000872973, 0.22092915481355763, 0.03702723265031692, 0.08392839400738503, 0.687047169549089, 0.18890679888690923, 0.0037407286908298855, 0.12032677288836131, 0.004876093026734529, 0.9898468844271094, 0.9977072271141493, 0.9962629795144836, 0.9903532131264347, 0.006974318402298835, 0.9963995018284492, 0.3770144128208997, 0.621792427115066, 0.25507318550287106, 0.001962101426945162, 0.2119069541100775, 0.5297673852751937, 0.9989937711095391, 0.9957541689809668, 0.9977965881739856, 0.9083870617475326, 0.08961666080020501, 0.4921271377080959, 0.08734390950722265, 0.35861023639088774, 0.0019238746587493976, 0.060024889352981205, 0.19422993533855612, 0.008221372924383328, 0.7933624872029912, 0.004110686462191664, 0.9934482315856937, 0.9971760050565056, 0.9951272145984789, 0.004028855119831898, 0.9918657674713381, 0.9959048842850383, 0.9930604485443026, 0.993070978780959, 0.3775628659498466, 0.6202818512033195, 0.0019263411528053398, 0.9917616878197296, 0.9948878210831831, 0.004422561511787602, 0.27862137524261893, 0.7120324033978039, 0.9967386705052218, 0.9920640855418006, 0.9960668034345751, 0.9934742295776018, 0.9975921501171225, 0.9921651770795046, 0.9956354287896478, 0.9961681780744067, 0.23174518664395255, 0.009196237565236213, 0.37888498768773193, 0.37888498768773193, 0.9980119092716994, 0.8708647921473892, 0.12689744114147672, 0.993625137463778, 0.9962089270451665, 0.9953991611953986, 0.9984539840476512, 0.4686835012230912, 0.5311746347195033, 0.9929781717692807, 0.994307382044906, 0.4669905434564667, 0.01578298059395613, 0.5134110746151611, 0.0037136424926955598, 0.9975016198925094, 0.4522515487822873, 0.05298344504562361, 0.1612210542102547, 0.13964922301310795, 0.1937680275954235, 0.20233721165028293, 0.795729995816978, 0.9936017397483282, 0.1433059164506988, 0.8521583960371909, 0.005118068444667814, 0.1467220009636598, 0.4373712981107193, 0.41501365986863775, 0.36589057633773964, 0.6317329482081286, 0.9946279973372615, 0.9938476003512559, 0.9981096213206674, 0.04617774875299106, 0.7294518955557232, 0.13148918288987285, 0.08531143413688179, 0.007044063369100332, 0.4735678704493975, 0.5255782146027996, 0.994268912639792, 0.6892543837032589, 0.30774826726234067, 0.9949991134602978, 0.2118021830233184, 0.0785491539689128, 0.26370073118135007, 0.44464431800259563, 0.9953317375642293, 0.37786793983067796, 0.4134432929445077, 0.12980196406397335, 0.0769196824082805, 0.0019229920602070127, 0.9925350588946511, 0.9973670246372153, 0.3710601702031676, 0.19164646153350415, 0.04587282323940259, 0.3914480916429021, 0.9931923360627434, 0.996360586292683, 0.9970118428739039, 0.7621142846713653, 0.14183268325149478, 0.09644622461101644, 0.9954097565893496, 0.9235233228695321, 0.07474992952729895, 0.7962344445447058, 0.20382428690923407, 0.9967121428645229, 0.8750550769858909, 0.12279207136434214, 0.001292548119624654, 0.6720684240917095, 0.04921324844607484, 0.1753221975891416, 0.013841226125458548, 0.09073692682245048, 0.9978187819427097, 0.996353164194413], \"Term\": [\"able\", \"absolutely\", \"access\", \"account\", \"actually\", \"addicted\", \"addicting\", \"addicting\", \"addictive\", \"ads\", \"age\", \"ages\", \"amazing\", \"amazing\", \"amazon\", \"amp\", \"android\", \"android\", \"android\", \"angry\", \"app\", \"app\", \"app\", \"app\", \"application\", \"apps\", \"apps\", \"apps\", \"awesome\", \"awhile\", \"background\", \"background\", \"best\", \"best\", \"best\", \"best\", \"better\", \"better\", \"better\", \"better\", \"better\", \"bible\", \"bingo\", \"birds\", \"board\", \"bored\", \"boring\", \"brain\", \"build\", \"button\", \"button\", \"button\", \"buy\", \"buy\", \"buy\", \"buy\", \"card\", \"cards\", \"challenge\", \"challenging\", \"challenging\", \"challenging\", \"check\", \"children\", \"coins\", \"coins\", \"colors\", \"cool\", \"couldn\", \"credits\", \"cute\", \"daily\", \"data\", \"daughter\", \"day\", \"day\", \"day\", \"day\", \"delete\", \"developer\", \"device\", \"device\", \"did\", \"did\", \"different\", \"different\", \"different\", \"does\", \"does\", \"does\", \"doesn\", \"doesn\", \"doesn\", \"doing\", \"don\", \"don\", \"don\", \"don\", \"don\", \"download\", \"download\", \"download\", \"earn\", \"earn\", \"easy\", \"easy\", \"easy\", \"easy\", \"easy\", \"end\", \"end\", \"enjoy\", \"enjoy\", \"enjoy\", \"enjoy\", \"enjoy\", \"enjoyable\", \"enjoyed\", \"entertaining\", \"especially\", \"exactly\", \"facebook\", \"facebook\", \"fact\", \"family\", \"faotd\", \"far\", \"far\", \"fast\", \"favorite\", \"feature\", \"features\", \"feel\", \"figure\", \"figure\", \"fine\", \"fish\", \"fix\", \"force\", \"forever\", \"free\", \"free\", \"free\", \"free\", \"free\", \"friend\", \"friends\", \"friends\", \"frustrating\", \"fun\", \"fun\", \"fun\", \"games\", \"games\", \"games\", \"games\", \"gems\", \"gets\", \"gets\", \"glad\", \"goes\", \"going\", \"good\", \"good\", \"good\", \"good\", \"good\", \"got\", \"got\", \"got\", \"got\", \"graphics\", \"great\", \"great\", \"great\", \"great\", \"great\", \"hard\", \"hard\", \"hard\", \"harder\", \"hate\", \"help\", \"helps\", \"hidden\", \"high\", \"high\", \"highly\", \"hours\", \"hours\", \"interesting\", \"internet\", \"items\", \"just\", \"just\", \"just\", \"just\", \"just\", \"kids\", \"kids\", \"kindle\", \"kindle\", \"know\", \"know\", \"know\", \"know\", \"learning\", \"left\", \"level\", \"level\", \"levels\", \"levels\", \"like\", \"like\", \"like\", \"like\", \"like\", \"little\", \"little\", \"little\", \"little\", \"little\", \"look\", \"look\", \"looking\", \"lose\", \"lot\", \"lot\", \"lot\", \"lot\", \"lot\", \"love\", \"love\", \"love\", \"love\", \"loves\", \"makes\", \"makes\", \"makes\", \"match\", \"mind\", \"mini\", \"minutes\", \"money\", \"need\", \"need\", \"need\", \"need\", \"needs\", \"netflix\", \"new\", \"new\", \"new\", \"new\", \"night\", \"object\", \"okay\", \"old\", \"ones\", \"open\", \"opinion\", \"paced\", \"paid\", \"paid\", \"pass\", \"past\", \"pay\", \"pay\", \"people\", \"people\", \"people\", \"perfectly\", \"permissions\", \"person\", \"phone\", \"phone\", \"pieces\", \"play\", \"play\", \"play\", \"play\", \"played\", \"played\", \"played\", \"played\", \"playing\", \"playing\", \"playing\", \"playing\", \"plus\", \"plus\", \"points\", \"problems\", \"program\", \"program\", \"purchase\", \"puzzle\", \"puzzle\", \"puzzles\", \"puzzles\", \"puzzles\", \"puzzles\", \"quot\", \"rating\", \"read\", \"real\", \"real\", \"really\", \"really\", \"really\", \"really\", \"really\", \"recommend\", \"recommend\", \"recommend\", \"recommend\", \"relaxing\", \"run\", \"said\", \"said\", \"save\", \"says\", \"school\", \"score\", \"screen\", \"screen\", \"screen\", \"search\", \"second\", \"set\", \"set\", \"set\", \"short\", \"similar\", \"simply\", \"solitaire\", \"son\", \"soon\", \"sorry\", \"spend\", \"stars\", \"stars\", \"stars\", \"stars\", \"start\", \"story\", \"story\", \"stuck\", \"stupid\", \"super\", \"tablet\", \"takes\", \"takes\", \"tell\", \"temple\", \"think\", \"think\", \"think\", \"think\", \"thinking\", \"time\", \"time\", \"time\", \"time\", \"time\", \"times\", \"times\", \"today\", \"tried\", \"tried\", \"tried\", \"try\", \"try\", \"try\", \"trying\", \"trying\", \"understand\", \"uninstalled\", \"update\", \"use\", \"use\", \"use\", \"use\", \"use\", \"used\", \"used\", \"user\", \"using\", \"using\", \"usually\", \"version\", \"version\", \"version\", \"version\", \"waiting\", \"want\", \"want\", \"want\", \"want\", \"want\", \"waster\", \"watch\", \"way\", \"way\", \"way\", \"way\", \"weather\", \"went\", \"win\", \"wish\", \"wish\", \"wish\", \"wonderful\", \"word\", \"word\", \"work\", \"work\", \"worked\", \"works\", \"works\", \"works\", \"worth\", \"worth\", \"worth\", \"worth\", \"worth\", \"wrong\", \"year\"]}, \"mdsDat\": {\"y\": [-0.07610962873728033, -0.12703530839257873, -0.1682104223935826, 0.09076927689563179, 0.2805860826278099], \"cluster\": [1, 1, 1, 1, 1], \"Freq\": [28.99991979025361, 24.32408149602471, 17.693706536136272, 14.766523752463451, 14.215768425121963], \"topics\": [1, 2, 3, 4, 5], \"x\": [-0.1326691099947147, 0.12156184162890644, -0.1368059617379921, 0.31171809499075265, -0.1638048648869524]}, \"R\": 30, \"lambda.step\": 0.01, \"tinfo\": {\"Category\": [\"Default\", \"Default\", \"Default\", \"Default\", \"Default\", \"Default\", \"Default\", \"Default\", \"Default\", \"Default\", \"Default\", \"Default\", \"Default\", \"Default\", \"Default\", \"Default\", \"Default\", \"Default\", \"Default\", \"Default\", \"Default\", \"Default\", \"Default\", \"Default\", \"Default\", \"Default\", \"Default\", \"Default\", \"Default\", \"Default\", \"Topic1\", \"Topic1\", \"Topic1\", \"Topic1\", \"Topic1\", \"Topic1\", \"Topic1\", \"Topic1\", \"Topic1\", \"Topic1\", \"Topic1\", \"Topic1\", \"Topic1\", \"Topic1\", \"Topic1\", \"Topic1\", \"Topic1\", \"Topic1\", \"Topic1\", \"Topic1\", \"Topic1\", \"Topic1\", \"Topic1\", \"Topic1\", \"Topic1\", \"Topic1\", \"Topic1\", \"Topic1\", \"Topic1\", \"Topic1\", \"Topic1\", \"Topic1\", \"Topic1\", \"Topic1\", \"Topic1\", \"Topic1\", \"Topic1\", \"Topic1\", \"Topic1\", \"Topic1\", \"Topic1\", \"Topic1\", \"Topic1\", \"Topic1\", \"Topic1\", \"Topic1\", \"Topic1\", \"Topic1\", \"Topic1\", \"Topic1\", \"Topic1\", \"Topic1\", \"Topic1\", \"Topic1\", \"Topic1\", \"Topic1\", \"Topic1\", \"Topic1\", \"Topic1\", \"Topic1\", \"Topic1\", \"Topic1\", \"Topic2\", \"Topic2\", \"Topic2\", \"Topic2\", \"Topic2\", \"Topic2\", \"Topic2\", \"Topic2\", \"Topic2\", \"Topic2\", \"Topic2\", \"Topic2\", \"Topic2\", \"Topic2\", \"Topic2\", \"Topic2\", \"Topic2\", \"Topic2\", \"Topic2\", \"Topic2\", \"Topic2\", \"Topic2\", \"Topic2\", \"Topic2\", \"Topic2\", \"Topic2\", \"Topic2\", \"Topic2\", \"Topic2\", \"Topic2\", \"Topic2\", \"Topic2\", \"Topic2\", \"Topic2\", \"Topic2\", \"Topic2\", \"Topic2\", \"Topic2\", \"Topic2\", \"Topic2\", \"Topic2\", \"Topic2\", \"Topic2\", \"Topic2\", \"Topic2\", \"Topic2\", \"Topic2\", \"Topic2\", \"Topic2\", \"Topic2\", \"Topic2\", \"Topic2\", \"Topic2\", \"Topic2\", \"Topic2\", \"Topic2\", \"Topic3\", \"Topic3\", \"Topic3\", \"Topic3\", \"Topic3\", \"Topic3\", \"Topic3\", \"Topic3\", \"Topic3\", \"Topic3\", \"Topic3\", \"Topic3\", \"Topic3\", \"Topic3\", \"Topic3\", \"Topic3\", \"Topic3\", \"Topic3\", \"Topic3\", \"Topic3\", \"Topic3\", \"Topic3\", \"Topic3\", \"Topic3\", \"Topic3\", \"Topic3\", \"Topic3\", \"Topic3\", \"Topic3\", \"Topic3\", \"Topic3\", \"Topic3\", \"Topic3\", \"Topic3\", \"Topic3\", \"Topic3\", \"Topic3\", \"Topic3\", \"Topic3\", \"Topic3\", \"Topic3\", \"Topic3\", \"Topic3\", \"Topic3\", \"Topic3\", \"Topic3\", \"Topic3\", \"Topic3\", \"Topic3\", \"Topic3\", \"Topic3\", \"Topic3\", \"Topic3\", \"Topic3\", \"Topic3\", \"Topic4\", \"Topic4\", \"Topic4\", \"Topic4\", \"Topic4\", \"Topic4\", \"Topic4\", \"Topic4\", \"Topic4\", \"Topic4\", \"Topic4\", \"Topic4\", \"Topic4\", \"Topic4\", \"Topic4\", \"Topic4\", \"Topic4\", \"Topic4\", \"Topic4\", \"Topic4\", \"Topic4\", \"Topic4\", \"Topic4\", \"Topic4\", \"Topic4\", \"Topic4\", \"Topic4\", \"Topic4\", \"Topic4\", \"Topic4\", \"Topic4\", \"Topic4\", \"Topic4\", \"Topic4\", \"Topic4\", \"Topic4\", \"Topic4\", \"Topic4\", \"Topic4\", \"Topic4\", \"Topic4\", \"Topic4\", \"Topic4\", \"Topic4\", \"Topic4\", \"Topic4\", \"Topic4\", \"Topic4\", \"Topic4\", \"Topic4\", \"Topic4\", \"Topic4\", \"Topic5\", \"Topic5\", \"Topic5\", \"Topic5\", \"Topic5\", \"Topic5\", \"Topic5\", \"Topic5\", \"Topic5\", \"Topic5\", \"Topic5\", \"Topic5\", \"Topic5\", \"Topic5\", \"Topic5\", \"Topic5\", \"Topic5\", \"Topic5\", \"Topic5\", \"Topic5\", \"Topic5\", \"Topic5\", \"Topic5\", \"Topic5\", \"Topic5\", \"Topic5\", \"Topic5\", \"Topic5\", \"Topic5\", \"Topic5\", \"Topic5\", \"Topic5\", \"Topic5\", \"Topic5\", \"Topic5\", \"Topic5\", \"Topic5\", \"Topic5\", \"Topic5\", \"Topic5\", \"Topic5\", \"Topic5\", \"Topic5\", \"Topic5\"], \"Term\": [\"love\", \"app\", \"fun\", \"play\", \"kindle\", \"awesome\", \"games\", \"quot\", \"graphics\", \"recommend\", \"old\", \"great\", \"money\", \"going\", \"really\", \"think\", \"level\", \"friends\", \"cool\", \"apps\", \"works\", \"playing\", \"help\", \"kids\", \"far\", \"times\", \"like\", \"did\", \"buy\", \"start\", \"graphics\", \"money\", \"amp\", \"cute\", \"addictive\", \"run\", \"spend\", \"hidden\", \"boring\", \"enjoyed\", \"waiting\", \"object\", \"super\", \"points\", \"feel\", \"fact\", \"coins\", \"win\", \"match\", \"okay\", \"stupid\", \"relaxing\", \"lose\", \"night\", \"addicted\", \"harder\", \"temple\", \"soon\", \"fish\", \"today\", \"earn\", \"buy\", \"real\", \"pay\", \"hours\", \"games\", \"levels\", \"story\", \"gets\", \"play\", \"fun\", \"playing\", \"like\", \"good\", \"just\", \"really\", \"wish\", \"time\", \"played\", \"don\", \"little\", \"free\", \"lot\", \"different\", \"worth\", \"hard\", \"great\", \"enjoy\", \"think\", \"love\", \"challenging\", \"easy\", \"able\", \"amazon\", \"update\", \"actually\", \"problems\", \"read\", \"open\", \"needs\", \"fine\", \"glad\", \"access\", \"fix\", \"says\", \"internet\", \"wrong\", \"check\", \"delete\", \"application\", \"said\", \"colors\", \"save\", \"force\", \"apps\", \"solitaire\", \"features\", \"data\", \"usually\", \"account\", \"daily\", \"uninstalled\", \"device\", \"program\", \"android\", \"phone\", \"works\", \"app\", \"kindle\", \"does\", \"use\", \"work\", \"facebook\", \"tried\", \"download\", \"using\", \"doesn\", \"want\", \"just\", \"don\", \"like\", \"need\", \"great\", \"free\", \"got\", \"people\", \"better\", \"easy\", \"awesome\", \"quot\", \"cool\", \"fast\", \"challenge\", \"highly\", \"family\", \"bingo\", \"minutes\", \"friends\", \"ages\", \"especially\", \"bored\", \"couldn\", \"absolutely\", \"wonderful\", \"build\", \"friend\", \"forever\", \"opinion\", \"user\", \"gems\", \"mini\", \"waster\", \"age\", \"school\", \"netflix\", \"bible\", \"credits\", \"paced\", \"amazing\", \"word\", \"love\", \"recommend\", \"kids\", \"best\", \"fun\", \"great\", \"addicting\", \"think\", \"play\", \"really\", \"app\", \"like\", \"easy\", \"kindle\", \"good\", \"try\", \"games\", \"time\", \"makes\", \"just\", \"free\", \"playing\", \"got\", \"looking\", \"interesting\", \"tablet\", \"entertaining\", \"ones\", \"worked\", \"frustrating\", \"faotd\", \"weather\", \"feature\", \"goes\", \"permissions\", \"left\", \"son\", \"understand\", \"card\", \"second\", \"cards\", \"person\", \"went\", \"exactly\", \"past\", \"awhile\", \"board\", \"sorry\", \"score\", \"pieces\", \"perfectly\", \"learning\", \"simply\", \"background\", \"times\", \"paid\", \"high\", \"did\", \"button\", \"end\", \"screen\", \"trying\", \"puzzle\", \"set\", \"used\", \"day\", \"time\", \"know\", \"app\", \"stars\", \"don\", \"takes\", \"version\", \"just\", \"look\", \"old\", \"going\", \"help\", \"start\", \"year\", \"favorite\", \"pass\", \"ads\", \"watch\", \"mind\", \"loves\", \"birds\", \"brain\", \"purchase\", \"angry\", \"developer\", \"helps\", \"tell\", \"doing\", \"hate\", \"stuck\", \"enjoyable\", \"short\", \"rating\", \"search\", \"similar\", \"daughter\", \"children\", \"items\", \"thinking\", \"plus\", \"figure\", \"level\", \"far\", \"way\", \"version\", \"new\", \"puzzles\", \"time\", \"try\", \"great\", \"like\", \"just\", \"good\"], \"loglift\": [30.0, 29.0, 28.0, 27.0, 26.0, 25.0, 24.0, 23.0, 22.0, 21.0, 20.0, 19.0, 18.0, 17.0, 16.0, 15.0, 14.0, 13.0, 12.0, 11.0, 10.0, 9.0, 8.0, 7.0, 6.0, 5.0, 4.0, 3.0, 2.0, 1.0, 1.237, 1.2369, 1.2364, 1.2358, 1.2358, 1.2357, 1.235, 1.2349, 1.2349, 1.2346, 1.2345, 1.2343, 1.2343, 1.2341, 1.2341, 1.2341, 1.234, 1.2337, 1.2333, 1.2331, 1.2329, 1.2328, 1.2325, 1.2324, 1.2324, 1.2323, 1.2322, 1.2321, 1.2321, 1.2318, 1.2298, 1.1643, 1.1426, 1.1404, 1.117, 0.9329, 1.0292, 1.0995, 1.1167, 0.7574, 0.7086, 0.8624, 0.5658, 0.6266, 0.4929, 0.5292, 0.9661, 0.4444, 0.8193, 0.4798, 0.6812, 0.4216, 0.6658, 0.8024, 0.8402, 0.7357, -0.0383, 0.62, 0.4768, -0.5369, 0.7386, 0.1198, 1.4119, 1.4117, 1.4114, 1.4112, 1.4111, 1.4111, 1.411, 1.4103, 1.4102, 1.41, 1.4097, 1.4096, 1.4093, 1.409, 1.4089, 1.4089, 1.4085, 1.4082, 1.4082, 1.408, 1.4079, 1.4076, 1.4071, 1.4071, 1.407, 1.4068, 1.4067, 1.4067, 1.4064, 1.4064, 1.4033, 1.4041, 1.3968, 1.319, 1.2807, 1.0619, 1.1028, 1.2184, 1.0987, 1.185, 1.2792, 1.2542, 1.0941, 1.0419, 0.9031, 0.531, -0.0071, 0.1214, -0.377, 0.5611, -0.2645, 0.012, 0.3399, 0.5998, 0.3277, -0.1265, 1.7309, 1.7308, 1.7302, 1.7297, 1.7294, 1.7289, 1.7289, 1.7287, 1.7287, 1.7285, 1.7282, 1.7279, 1.7278, 1.7277, 1.7272, 1.7266, 1.7259, 1.7256, 1.7234, 1.7228, 1.7226, 1.7225, 1.7221, 1.7219, 1.7216, 1.7211, 1.7207, 1.7205, 1.7203, 1.7191, 1.7116, 1.6527, 1.5309, 1.5, 1.4226, 1.2525, 0.8064, 0.8689, 1.3839, 1.065, 0.67, 0.7067, 0.2225, 0.2863, 0.7795, 0.4113, 0.3062, 0.9055, 0.0795, -0.0937, 1.0393, -0.2576, -0.0202, 0.0646, 0.4397, 1.9106, 1.9103, 1.9103, 1.9097, 1.9091, 1.9083, 1.9081, 1.908, 1.908, 1.9078, 1.9077, 1.9076, 1.9076, 1.9076, 1.9076, 1.9074, 1.9073, 1.907, 1.9068, 1.9067, 1.9061, 1.9059, 1.9058, 1.9057, 1.9055, 1.9052, 1.9048, 1.9047, 1.9041, 1.9037, 1.8923, 1.6842, 1.7496, 1.846, 1.5624, 1.678, 1.7119, 1.4366, 1.4551, 1.4377, 1.5721, 1.2671, 0.8253, -0.0549, 0.7503, -0.7055, 0.9443, -0.1053, 1.2776, 0.5824, -0.9488, 1.0583, 1.9491, 1.9489, 1.9488, 1.9485, 1.948, 1.948, 1.9479, 1.9479, 1.9478, 1.9478, 1.9478, 1.9477, 1.9474, 1.9473, 1.9471, 1.9469, 1.9463, 1.9463, 1.9463, 1.9461, 1.9461, 1.946, 1.9459, 1.9459, 1.9455, 1.9455, 1.9454, 1.9454, 1.9452, 1.945, 1.9413, 1.7592, 1.3713, 1.4126, 1.0131, 1.1401, 1.1921, 1.315, 0.31, 1.0717, -0.2693, -0.7269, -0.4594, -0.4638], \"Freq\": [3534.0, 5483.0, 4648.0, 3733.0, 2280.0, 756.0, 2307.0, 708.0, 974.0, 973.0, 587.0, 3018.0, 827.0, 512.0, 2598.0, 1077.0, 715.0, 478.0, 471.0, 584.0, 773.0, 1603.0, 394.0, 639.0, 616.0, 513.0, 4601.0, 526.0, 804.0, 351.0, 973.8180459315244, 826.883912731438, 542.1100966482597, 383.7049473353172, 379.99531786164977, 382.26199464746713, 278.26066001700514, 296.08525448816226, 272.25985317954616, 250.5446648910809, 242.31962408761055, 226.44095013090538, 225.22283301939223, 216.67731993270567, 217.18596508867515, 221.83140807092684, 452.48186183112904, 193.7721543386446, 179.40645812722457, 171.12886111094556, 165.81259150459567, 159.2375743802777, 151.5075650218981, 151.4886625257099, 147.95385369372366, 143.44873162054444, 142.01069349068783, 144.30694186729508, 140.09743865227048, 138.0429473699827, 164.1504093021957, 747.6249945505518, 446.3510622550009, 418.14716112195714, 397.10300396603355, 1701.1110156901102, 610.884021062369, 349.94492451681, 307.83288715946355, 2309.2148702225045, 2738.2660538451487, 1101.8537271209984, 2349.647262361376, 1275.0066862616623, 1413.4393153700103, 1279.4869084034246, 402.9711410075119, 1195.0671798622816, 533.115152062999, 888.2156962067908, 587.2687374843473, 833.8140510555945, 552.6383247409116, 463.0048544442265, 436.86370911689477, 477.62993622626715, 842.3677138384238, 478.54852273020214, 503.19775423804833, 599.1156114746332, 413.7356547044525, 431.0027271125234, 444.2154464988688, 400.8348904846801, 370.84773424001463, 322.0210763855447, 310.3512106750462, 302.8660193722293, 293.1296817649463, 240.24334316852318, 228.2553799196851, 219.0657017524369, 202.8961263422427, 196.58709475985347, 181.93930523409676, 170.84868683860617, 170.5554294995497, 167.46252575656433, 153.23598133683927, 146.1516241377601, 246.83731263593603, 144.31421189593803, 139.32707683550154, 131.08078666261832, 580.6057369970836, 121.98910781413683, 143.5481538994175, 114.69848882605699, 116.76315653177316, 113.35784482364768, 111.75249603235046, 109.87493786055308, 275.93746053243854, 142.00740008214888, 171.5490103990822, 487.9477168769065, 677.2862825507226, 3857.204050877908, 1671.0324927680774, 529.1040069559747, 932.4175938147096, 542.5423901375059, 300.844595653413, 333.153663708583, 426.52868124299755, 271.09791700568206, 303.22747730256583, 430.2332698876591, 719.0108330463341, 520.6231941963711, 767.6732550797866, 354.2031969356308, 563.5396931725714, 464.33594840408756, 347.3813499159521, 304.2110618382364, 291.49421065293615, 282.5950742744555, 755.3163371428722, 707.9022295583238, 470.44332085666935, 354.53996467688665, 316.10150284186983, 290.0856308598691, 264.4167499053741, 242.1649996626503, 252.52808968927363, 476.67949295869056, 214.39059925034013, 204.5200279669804, 195.26487596325305, 194.11854991584022, 171.15299938422834, 152.88870874181586, 134.98359553636615, 126.99490810505726, 94.83506318939173, 88.42295600301227, 90.66922164681101, 85.51174654902337, 85.60827339559135, 79.79515352445374, 100.68849238081346, 75.70788129033298, 72.69986250982075, 70.28336366171314, 69.40531169819322, 62.153421771532685, 259.87223412864915, 383.0960201063292, 2890.609890414056, 771.6104223163541, 469.06388889939615, 534.4554824669767, 1842.2681176007898, 1273.2220667805514, 247.37241726630072, 552.8372939224191, 1291.0663569108315, 932.2846838818416, 1211.977406045435, 1083.9548050276428, 508.63524619270254, 608.8166518531581, 564.6665446898098, 313.15611249386893, 442.1084649315801, 425.70690206102705, 277.2495359447191, 407.13400448632314, 327.07072432010614, 302.7357336782423, 279.215158205461, 357.2930529211608, 324.12101190524754, 319.6942664185979, 260.1298112159032, 214.97396290041027, 176.78155786760473, 170.8176270178805, 164.8931808009905, 163.3226842109095, 160.66733503691, 155.34294039449048, 153.69378954040343, 153.5078603029298, 154.5647909995493, 152.01964679702294, 147.8797163218196, 143.94079711005566, 137.11120948499186, 133.29384330588243, 131.6817818255541, 120.05165978972505, 115.20833276648948, 114.3151024189447, 112.16766826636147, 109.67766428509056, 132.9143003820332, 99.33524239948503, 98.3014941630887, 91.9960426911248, 87.54384914103657, 103.94466719851305, 408.93691651567605, 211.56638399520574, 125.38413479733762, 370.74976115602306, 198.61866220505487, 178.94225440634244, 322.4461662779136, 221.34196197358966, 221.0073571092893, 160.82429892191405, 191.52081528857906, 236.13834233752107, 369.3394161577387, 238.58695017050988, 399.869641372281, 206.41109339420768, 251.94624415754723, 169.5600798400015, 188.47097496295095, 170.2294409424069, 157.51011094552453, 586.0358338237343, 511.80798527694714, 393.8735336217248, 350.88966282761453, 294.25011313725713, 282.2055584826026, 274.5804144094291, 271.5128397737189, 270.90910112719547, 266.0030417623011, 262.2576710287558, 253.44297580238947, 236.49291268333621, 230.02196523707593, 216.93566774921555, 209.7935220343586, 178.34554304862175, 178.45135484154076, 177.57570472734025, 171.51358935562942, 169.27898871523405, 164.947991494982, 164.73020793676187, 164.8910491490679, 151.44416826948193, 151.39732295533122, 147.59442792638765, 146.35813015935102, 190.29863059084786, 138.54427553640025, 203.14181822510776, 251.3545059407448, 400.68717504214084, 360.06575140652586, 384.08856547869385, 316.9152495921161, 304.1866172550414, 269.87359393375976, 512.1227230395384, 297.0862031351155, 327.7548452807857, 316.17541701368765, 267.3215934495458, 210.04666276998242], \"Total\": [3534.0, 5483.0, 4648.0, 3733.0, 2280.0, 756.0, 2307.0, 708.0, 974.0, 973.0, 587.0, 3018.0, 827.0, 512.0, 2598.0, 1077.0, 715.0, 478.0, 471.0, 584.0, 773.0, 1603.0, 394.0, 639.0, 616.0, 513.0, 4601.0, 526.0, 804.0, 351.0, 974.6292340152146, 827.6960182761064, 542.9317211818393, 384.5184532964115, 380.80303757213994, 383.0818211258039, 279.06934403121977, 296.96276790266285, 273.06864932621, 251.35552965943413, 243.13501807168447, 227.25057872913567, 226.0399734813842, 217.49867506489724, 218.01099061943927, 222.67899831072947, 454.2234698132565, 194.5814399162919, 180.22081401122318, 171.9433995593208, 166.63171298049795, 160.04860137121784, 152.33120859568336, 152.31367319951755, 148.76730397608952, 144.2568411353138, 142.81297973264654, 145.13712366309036, 140.90599535646473, 138.8886457011985, 165.4771777573142, 804.713722801762, 490.9801325681546, 460.95487223760233, 448.1256023104214, 2307.813447842032, 752.6096799257814, 401.899357002326, 347.4795812359913, 3733.766060374153, 4648.797485354821, 1603.9655628350026, 4601.1602204544915, 2349.4737744288973, 2977.13518729462, 2598.921908587443, 528.7920829010303, 2642.334787393442, 810.2144787140398, 1895.692461816256, 1024.7308067972006, 1886.1763105062046, 979.2130536274843, 715.6680603549814, 650.2314114676627, 789.1970231506758, 3018.1495244889884, 887.7223938661398, 1077.1096054258542, 3534.193142052564, 681.658178870432, 1318.4339997272316, 445.0288707211623, 401.6574414005301, 371.70265878121126, 322.84305772486545, 311.1628218395455, 303.66910810399156, 293.934063720576, 241.05529635689078, 229.06530229324568, 219.88114718786056, 203.70303958503987, 197.38992726988727, 182.7483757453987, 171.64891509295109, 171.37380363503527, 168.27130118502237, 154.04308638265653, 146.95304911063226, 248.2094714891918, 145.13437472396143, 140.13993078354392, 131.88496632522921, 584.4235048308931, 122.80137357148266, 144.51940679049918, 115.49833589313116, 117.58804446881399, 114.15917406807613, 112.56642466033938, 110.68095345918496, 278.8251749838025, 143.383187046692, 174.46917741718326, 536.4047855272142, 773.6655872358486, 5483.3731556251805, 2280.4677930450384, 643.2017306755889, 1277.6716404170397, 681.9599475007545, 344.15336247886006, 390.7724215926951, 587.134235981285, 393.17849317687075, 505.25752465316157, 1040.0458958653721, 2977.13518729462, 1895.692461816256, 4601.1602204544915, 830.8442209756103, 3018.1495244889884, 1886.1763105062046, 1016.6546019420683, 686.5174839299631, 863.5498873066928, 1318.4339997272316, 756.1435695069979, 708.7131276240642, 471.2525481516078, 355.3527401912541, 316.9117794006195, 290.9634827115755, 265.2208471576084, 242.96633270666752, 253.36464968088637, 478.33013278561367, 215.1938810610191, 205.35381915546762, 196.0803277323415, 194.94762876852846, 171.9710838027763, 153.7055458691061, 135.7978805559644, 127.80293696346642, 95.64883983928713, 89.23996139019836, 91.52453510629661, 86.3251562985855, 86.4537111898454, 80.60168684529188, 101.74186759552883, 76.53109144705753, 73.52288658166347, 71.09662946162979, 70.2170196123849, 62.95652288082779, 265.21099239092024, 414.7161100490227, 3534.193142052564, 973.0734846333548, 639.1332289002727, 863.292117871793, 4648.797485354821, 3018.1495244889884, 350.36782600819436, 1077.1096054258542, 3733.766060374153, 2598.921908587443, 5483.3731556251805, 4601.1602204544915, 1318.4339997272316, 2280.4677930450384, 2349.4737744288973, 715.6390950939011, 2307.813447842032, 2642.334787393442, 554.2162503195783, 2977.13518729462, 1886.1763105062046, 1603.9655628350026, 1016.6546019420683, 358.0948133309615, 324.92858290583104, 320.49549114196134, 260.9369427796746, 215.7819013090493, 177.58387039542524, 171.62003465770525, 165.6937054939351, 164.11725511915623, 161.46736916324636, 156.1456509432032, 154.49041594055825, 154.30782232749547, 155.37411755074675, 152.8209545748986, 148.67831341781948, 144.73993645154903, 137.90968897272353, 134.1018332030798, 132.48215737954203, 120.85437961832804, 116.01209407113592, 115.12120613599541, 112.96935329747762, 110.48220746194455, 133.92798988372786, 100.12915503866685, 99.10485721884712, 92.7966656408916, 88.34748803650912, 106.10152571294533, 513.993442687904, 249.06154030240887, 134.04087867885391, 526.3127313255708, 251.18442876549946, 218.7612947184223, 519.1188479484515, 349.8313656535611, 355.4240778154456, 226.11330500088383, 365.31194533072886, 700.5777228798748, 2642.334787393442, 762.9533141440612, 5483.3731556251805, 543.7006128355245, 1895.692461816256, 320.04540293941494, 712.9293846011758, 2977.13518729462, 370.1677788341109, 587.0166093588633, 512.8143589410745, 394.68578799484936, 351.69920993842925, 295.07609406520976, 283.0144702399852, 275.3847257503579, 272.3190184766479, 271.715420006566, 266.8051545240167, 263.0599111934306, 254.2423206975193, 237.29571396057477, 230.83110697861355, 217.73472152245148, 210.61523887711314, 179.14885474703368, 179.2587239685652, 178.3871773343618, 172.32425546820045, 170.08426380130786, 165.751867339082, 165.53988009351102, 165.70354926945214, 152.2543186074828, 152.20790894525092, 148.39638584466118, 147.16063484719643, 191.3783400925398, 139.34814463256572, 205.0822235173167, 304.4354505872568, 715.3223646282081, 616.7773566776427, 980.9729775111623, 712.9293846011758, 649.5712279297966, 509.65764881834957, 2642.334787393442, 715.6390950939011, 3018.1495244889884, 4601.1602204544915, 2977.13518729462, 2349.4737744288973], \"logprob\": [30.0, 29.0, 28.0, 27.0, 26.0, 25.0, 24.0, 23.0, 22.0, 21.0, 20.0, 19.0, 18.0, 17.0, 16.0, 15.0, 14.0, 13.0, 12.0, 11.0, 10.0, 9.0, 8.0, 7.0, 6.0, 5.0, 4.0, 3.0, 2.0, 1.0, -4.2717, -4.4353, -4.8575, -5.2031, -5.2128, -5.2068, -5.5244, -5.4623, -5.5462, -5.6293, -5.6627, -5.7305, -5.7358, -5.7745, -5.7722, -5.751, -5.0382, -5.8863, -5.9633, -6.0105, -6.0421, -6.0825, -6.1323, -6.1324, -6.156, -6.187, -6.197, -6.181, -6.2106, -6.2254, -6.0522, -4.536, -5.0518, -5.1171, -5.1687, -3.7139, -4.738, -5.2952, -5.4234, -3.4083, -3.2379, -4.1482, -3.3909, -4.0022, -3.8992, -3.9987, -5.1541, -4.067, -4.8742, -4.3637, -4.7775, -4.4269, -4.8382, -5.0152, -5.0733, -4.9841, -4.4167, -4.9822, -4.932, -4.7575, -5.1277, -5.0868, -4.8808, -4.9836, -5.0613, -5.2025, -5.2394, -5.2638, -5.2965, -5.4955, -5.5466, -5.5877, -5.6644, -5.696, -5.7734, -5.8363, -5.838, -5.8563, -5.9451, -5.9925, -5.4684, -6.0051, -6.0403, -6.1013, -4.613, -6.1732, -6.0104, -6.2348, -6.217, -6.2466, -6.2608, -6.2778, -5.3569, -6.0212, -5.8322, -4.7869, -4.459, -2.7194, -3.5559, -4.7059, -4.1393, -4.6808, -5.2705, -5.1685, -4.9214, -5.3746, -5.2626, -4.9128, -4.3992, -4.7221, -4.3337, -5.1072, -4.6429, -4.8365, -5.1267, -5.2594, -5.3021, -5.3331, -4.0317, -4.0965, -4.5052, -4.788, -4.9028, -4.9887, -5.0813, -5.1692, -5.1273, -4.492, -5.2911, -5.3382, -5.3845, -5.3904, -5.5163, -5.6291, -5.7537, -5.8147, -6.1067, -6.1767, -6.1516, -6.2102, -6.2091, -6.2794, -6.0468, -6.332, -6.3725, -6.4063, -6.4189, -6.5292, -5.0987, -4.7106, -2.6896, -4.0104, -4.5081, -4.3776, -3.1401, -3.5095, -5.148, -4.3438, -3.4956, -3.8212, -3.5588, -3.6705, -4.4271, -4.2473, -4.3226, -4.9121, -4.5673, -4.6051, -5.0339, -4.6497, -4.8687, -4.946, -5.0269, -4.5994, -4.6969, -4.7106, -4.9168, -5.1075, -5.3031, -5.3374, -5.3727, -5.3823, -5.3987, -5.4324, -5.443, -5.4443, -5.4374, -5.454, -5.4816, -5.5086, -5.5572, -5.5854, -5.5976, -5.6901, -5.7313, -5.739, -5.758, -5.7805, -5.5883, -5.8795, -5.89, -5.9563, -6.0059, -5.8341, -4.4644, -5.1235, -5.6466, -4.5625, -5.1866, -5.2909, -4.7021, -5.0783, -5.0798, -5.3977, -5.223, -5.0136, -4.5663, -5.0033, -4.4869, -5.1481, -4.9488, -5.3448, -5.2391, -5.3409, -5.4185, -4.0666, -4.202, -4.464, -4.5795, -4.7556, -4.7974, -4.8247, -4.836, -4.8382, -4.8565, -4.8707, -4.9049, -4.9741, -5.0018, -5.0604, -5.0939, -5.2563, -5.2557, -5.2606, -5.2953, -5.3084, -5.3344, -5.3357, -5.3347, -5.4198, -5.4201, -5.4455, -5.4539, -5.1914, -5.5088, -5.1261, -4.9131, -4.4468, -4.5537, -4.4891, -4.6814, -4.7224, -4.842, -4.2014, -4.746, -4.6477, -4.6837, -4.8515, -5.0927]}};\n",
       "\n",
       "function LDAvis_load_lib(url, callback){\n",
       "  var s = document.createElement('script');\n",
       "  s.src = url;\n",
       "  s.async = true;\n",
       "  s.onreadystatechange = s.onload = callback;\n",
       "  s.onerror = function(){console.warn(\"failed to load library \" + url);};\n",
       "  document.getElementsByTagName(\"head\")[0].appendChild(s);\n",
       "}\n",
       "\n",
       "if(typeof(LDAvis) !== \"undefined\"){\n",
       "   // already loaded: just create the visualization\n",
       "   !function(LDAvis){\n",
       "       new LDAvis(\"#\" + \"ldavis_el98762762649044974616304\", ldavis_el98762762649044974616304_data);\n",
       "   }(LDAvis);\n",
       "}else if(typeof define === \"function\" && define.amd){\n",
       "   // require.js is available: use it to load d3/LDAvis\n",
       "   require.config({paths: {d3: \"https://cdnjs.cloudflare.com/ajax/libs/d3/3.5.5/d3.min\"}});\n",
       "   require([\"d3\"], function(d3){\n",
       "      window.d3 = d3;\n",
       "      LDAvis_load_lib(\"https://cdn.rawgit.com/bmabey/pyLDAvis/files/ldavis.v1.0.0.js\", function(){\n",
       "        new LDAvis(\"#\" + \"ldavis_el98762762649044974616304\", ldavis_el98762762649044974616304_data);\n",
       "      });\n",
       "    });\n",
       "}else{\n",
       "    // require.js not available: dynamically load d3 & LDAvis\n",
       "    LDAvis_load_lib(\"https://cdnjs.cloudflare.com/ajax/libs/d3/3.5.5/d3.min.js\", function(){\n",
       "         LDAvis_load_lib(\"https://cdn.rawgit.com/bmabey/pyLDAvis/files/ldavis.v1.0.0.js\", function(){\n",
       "                 new LDAvis(\"#\" + \"ldavis_el98762762649044974616304\", ldavis_el98762762649044974616304_data);\n",
       "            })\n",
       "         });\n",
       "}\n",
       "</script>"
      ],
      "text/plain": [
       "PreparedData(topic_coordinates=            Freq  cluster  topics         x         y\n",
       "topic                                                \n",
       "0      28.999920        1       1 -0.132669 -0.076110\n",
       "3      24.324081        1       2  0.121562 -0.127035\n",
       "2      17.693707        1       3 -0.136806 -0.168210\n",
       "1      14.766524        1       4  0.311718  0.090769\n",
       "4      14.215768        1       5 -0.163805  0.280586, topic_info=     Category         Freq       Term        Total  loglift  logprob\n",
       "term                                                                \n",
       "2162  Default  3534.000000       love  3534.000000  30.0000  30.0000\n",
       "160   Default  5483.000000        app  5483.000000  29.0000  29.0000\n",
       "1515  Default  4648.000000        fun  4648.000000  28.0000  28.0000\n",
       "2687  Default  3733.000000       play  3733.000000  27.0000  27.0000\n",
       "2004  Default  2280.000000     kindle  2280.000000  26.0000  26.0000\n",
       "249   Default   756.000000    awesome   756.000000  25.0000  25.0000\n",
       "1536  Default  2307.000000      games  2307.000000  24.0000  24.0000\n",
       "2894  Default   708.000000       quot   708.000000  23.0000  23.0000\n",
       "1630  Default   974.000000   graphics   974.000000  22.0000  22.0000\n",
       "2969  Default   973.000000  recommend   973.000000  21.0000  21.0000\n",
       "2488  Default   587.000000        old   587.000000  20.0000  20.0000\n",
       "1634  Default  3018.000000      great  3018.000000  19.0000  19.0000\n",
       "2325  Default   827.000000      money   827.000000  18.0000  18.0000\n",
       "1594  Default   512.000000      going   512.000000  17.0000  17.0000\n",
       "2941  Default  2598.000000     really  2598.000000  16.0000  16.0000\n",
       "3710  Default  1077.000000      think  1077.000000  15.0000  15.0000\n",
       "2081  Default   715.000000      level   715.000000  14.0000  14.0000\n",
       "1503  Default   478.000000    friends   478.000000  13.0000  13.0000\n",
       "800   Default   471.000000       cool   471.000000  12.0000  12.0000\n",
       "180   Default   584.000000       apps   584.000000  11.0000  11.0000\n",
       "4099  Default   773.000000      works   773.000000  10.0000  10.0000\n",
       "2694  Default  1603.000000    playing  1603.000000   9.0000   9.0000\n",
       "1732  Default   394.000000       help   394.000000   8.0000   8.0000\n",
       "1995  Default   639.000000       kids   639.000000   7.0000   7.0000\n",
       "1342  Default   616.000000        far   616.000000   6.0000   6.0000\n",
       "3749  Default   513.000000      times   513.000000   5.0000   5.0000\n",
       "2090  Default  4601.000000       like  4601.000000   4.0000   4.0000\n",
       "1004  Default   526.000000        did   526.000000   3.0000   3.0000\n",
       "488   Default   804.000000        buy   804.000000   2.0000   2.0000\n",
       "3479  Default   351.000000      start   351.000000   1.0000   1.0000\n",
       "...       ...          ...        ...          ...      ...      ...\n",
       "138    Topic5   216.935668      angry   217.734722   1.9471  -5.0604\n",
       "988    Topic5   209.793522  developer   210.615239   1.9469  -5.0939\n",
       "1736   Topic5   178.345543      helps   179.148855   1.9463  -5.2563\n",
       "3670   Topic5   178.451355       tell   179.258724   1.9463  -5.2557\n",
       "1074   Topic5   177.575705      doing   178.387177   1.9463  -5.2606\n",
       "1702   Topic5   171.513589       hate   172.324255   1.9461  -5.2953\n",
       "3541   Topic5   169.278989      stuck   170.084264   1.9461  -5.3084\n",
       "1206   Topic5   164.947991  enjoyable   165.751867   1.9460  -5.3344\n",
       "3293   Topic5   164.730208      short   165.539880   1.9459  -5.3357\n",
       "2918   Topic5   164.891049     rating   165.703549   1.9459  -5.3347\n",
       "3205   Topic5   151.444168     search   152.254319   1.9455  -5.4198\n",
       "3321   Topic5   151.397323    similar   152.207909   1.9455  -5.4201\n",
       "910    Topic5   147.594428   daughter   148.396386   1.9454  -5.4455\n",
       "611    Topic5   146.358130   children   147.160635   1.9454  -5.4539\n",
       "1952   Topic5   190.298631      items   191.378340   1.9452  -5.1914\n",
       "3711   Topic5   138.544276   thinking   139.348145   1.9450  -5.5088\n",
       "2707   Topic5   203.141818       plus   205.082224   1.9413  -5.1261\n",
       "1386   Topic5   251.354506     figure   304.435451   1.7592  -4.9131\n",
       "2081   Topic5   400.687175      level   715.322365   1.3713  -4.4468\n",
       "1342   Topic5   360.065751        far   616.777357   1.4126  -4.5537\n",
       "4023   Topic5   384.088565        way   980.972978   1.0131  -4.4891\n",
       "3951   Topic5   316.915250    version   712.929385   1.1401  -4.6814\n",
       "2406   Topic5   304.186617        new   649.571228   1.1921  -4.7224\n",
       "2876   Topic5   269.873594    puzzles   509.657649   1.3150  -4.8420\n",
       "3745   Topic5   512.122723       time  2642.334787   0.3100  -4.2014\n",
       "3835   Topic5   297.086203        try   715.639095   1.0717  -4.7460\n",
       "1634   Topic5   327.754845      great  3018.149524  -0.2693  -4.6477\n",
       "2090   Topic5   316.175417       like  4601.160220  -0.7269  -4.6837\n",
       "1980   Topic5   267.321593       just  2977.135187  -0.4594  -4.8515\n",
       "1599   Topic5   210.046663       good  2349.473774  -0.4638  -5.0927\n",
       "\n",
       "[299 rows x 6 columns], token_table=      Topic      Freq         Term\n",
       "term                              \n",
       "3         2  0.997688         able\n",
       "5         3  0.994353   absolutely\n",
       "8         2  0.996549       access\n",
       "21        2  0.989846      account\n",
       "42        2  0.997389     actually\n",
       "46        1  0.994842     addicted\n",
       "47        1  0.291123    addicting\n",
       "47        3  0.704973    addicting\n",
       "49        1  0.997891    addictive\n",
       "68        5  0.998829          ads\n",
       "89        3  0.992708          age\n",
       "90        3  0.994452         ages\n",
       "123       1  0.018853      amazing\n",
       "123       3  0.980352      amazing\n",
       "125       2  0.998363       amazon\n",
       "129       1  0.998284          amp\n",
       "134       2  0.985847      android\n",
       "134       3  0.005732      android\n",
       "134       4  0.011463      android\n",
       "138       5  0.996626        angry\n",
       "160       2  0.703399          app\n",
       "160       3  0.221032          app\n",
       "160       4  0.072948          app\n",
       "160       5  0.002553          app\n",
       "170       2  0.993515  application\n",
       "180       2  0.994142         apps\n",
       "180       3  0.003422         apps\n",
       "180       5  0.001711         apps\n",
       "249       3  0.998488      awesome\n",
       "253       4  0.990261       awhile\n",
       "...     ...       ...          ...\n",
       "3998      4  0.076920         want\n",
       "3998      5  0.001923         want\n",
       "4014      3  0.992535       waster\n",
       "4017      5  0.997367        watch\n",
       "4023      1  0.371060          way\n",
       "4023      2  0.191646          way\n",
       "4023      3  0.045873          way\n",
       "4023      5  0.391448          way\n",
       "4029      4  0.993192      weather\n",
       "4042      4  0.996361         went\n",
       "4063      1  0.997012          win\n",
       "4075      1  0.762114         wish\n",
       "4075      2  0.141833         wish\n",
       "4075      3  0.096446         wish\n",
       "4083      3  0.995410    wonderful\n",
       "4090      3  0.923523         word\n",
       "4090      5  0.074750         word\n",
       "4095      2  0.796234         work\n",
       "4095      4  0.203824         work\n",
       "4096      4  0.996712       worked\n",
       "4099      2  0.875055        works\n",
       "4099      3  0.122792        works\n",
       "4099      4  0.001293        works\n",
       "4108      1  0.672068        worth\n",
       "4108      2  0.049213        worth\n",
       "4108      3  0.175322        worth\n",
       "4108      4  0.013841        worth\n",
       "4108      5  0.090737        worth\n",
       "4117      2  0.997819        wrong\n",
       "4129      5  0.996353         year\n",
       "\n",
       "[428 rows x 3 columns], R=30, lambda_step=0.01, plot_opts={'xlab': 'PC1', 'ylab': 'PC2'}, topic_order=[1L, 4L, 3L, 2L, 5L])"
      ]
     },
     "execution_count": 15,
     "metadata": {},
     "output_type": "execute_result"
    }
   ],
   "source": [
    "pyLDAvis.sklearn.prepare(lda_tf, dtm_tf, tf_vectorizer)"
   ]
  },
  {
   "cell_type": "code",
   "execution_count": 17,
   "metadata": {},
   "outputs": [],
   "source": [
    "import json\n",
    "\n",
    "# Converting json to votes file format\n",
    "DATASET_FILE = '../../Datasets/Apps Dataset/Apps20k.json'\n",
    "dataset_file = open(DATASET_FILE)\n",
    "dataset_lines = dataset_file.readlines()\n",
    "\n",
    "output_file = open('../../Datasets/Apps Dataset/Apps20k.votes', 'w')\n",
    "for line in dataset_lines:\n",
    "    d = json.loads(line)\n",
    "    output_file.write(d[\"reviewerID\"] + ' ' + d[\"asin\"]+ ' ' + str(d[\"overall\"]) + ' ' + str(d[\"unixReviewTime\"]) + ' ' + str(len(d[\"reviewText\"].split())) + ' ' + d[\"reviewText\"] + '\\n')\n",
    "output_file.close()"
   ]
  },
  {
   "cell_type": "code",
   "execution_count": 18,
   "metadata": {},
   "outputs": [
    {
     "name": "stdout",
     "output_type": "stream",
     "text": [
      "[u'B0097C8XL0', u'B00FDUH4WY', u'B00IG63BVK', u'B00821NZ74', u'B00FPYJLCY']\n",
      "http://www.asinlab.com/php/convertfromasin.php?asin_num=B0097C8XL0,B00FDUH4WY,B00IG63BVK,B00821NZ74,B00FPYJLCY&id_type=UPC&bulk=true&x=false\n",
      "[u'B00ANT8OF6', u'B00AMR1HZ8', u'B004WGGQPQ', u'B006C1ZSO4', u'B008LY1B32', u'B007KPT2N4', u'B0080JJLBW', u'B009P8EMCK']\n",
      "http://www.asinlab.com/php/convertfromasin.php?asin_num=B00ANT8OF6,B00AMR1HZ8,B004WGGQPQ,B006C1ZSO4,B008LY1B32,B007KPT2N4,B0080JJLBW,B009P8EMCK&id_type=UPC&bulk=true&x=false\n"
     ]
    }
   ],
   "source": [
    "def GetURL(products_list):\n",
    "    print products_list\n",
    "    products = ','.join([str(_) for _ in products_list])\n",
    "    url = \"http://www.asinlab.com/php/convertfromasin.php?asin_num=\" + products + \"&id_type=UPC&bulk=true&x=false\"\n",
    "    return url\n",
    "    \n",
    "print GetURL(recommendations)\n",
    "print GetURL(history)"
   ]
  },
  {
   "cell_type": "code",
   "execution_count": null,
   "metadata": {},
   "outputs": [],
   "source": [
    "DATASET_FILE = '../../Datasets/Apps Dataset/AppReviewsFull.json'\n",
    "dataset_file = open(DATASET_FILE)\n",
    "dataset_lines = dataset_file.readlines()[:30000]\n",
    "\n",
    "output_file = open('../../Datasets/Apps Dataset/AppReviews30k.json', 'w')\n",
    "for line in dataset_lines:\n",
    "    output_file.write(line.strip() + '\\n')\n",
    "output_file.close()"
   ]
  },
  {
   "cell_type": "raw",
   "metadata": {},
   "source": [
    " \"reviewerID\": \"A1F6404F1VG29J\", \n",
    " \"asin\": \"B000F83SZQ\", \n",
    " \"reviewerName\": \"Avidreader\", \n",
    " \"helpful\": [0, 0], \n",
    " \"reviewText\": \"I enjoy vintage books and movies so I enjoyed reading this book.  The plot was unusual.  Don't think killing someone in self-defense but leaving the scene and the body without notifying the police or hitting someone in the jaw to knock them out would wash today.Still it was a good read for me.\", \n",
    " \"overall\": 5.0, \n",
    " \"summary\": \"Nice vintage story\", \n",
    " \"unixReviewTime\": 1399248000, \n",
    " "
   ]
  }
 ],
 "metadata": {
  "kernelspec": {
   "display_name": "Python 2",
   "language": "python",
   "name": "python2"
  },
  "language_info": {
   "codemirror_mode": {
    "name": "ipython",
    "version": 2
   },
   "file_extension": ".py",
   "mimetype": "text/x-python",
   "name": "python",
   "nbconvert_exporter": "python",
   "pygments_lexer": "ipython2",
   "version": "2.7.14"
  }
 },
 "nbformat": 4,
 "nbformat_minor": 2
}

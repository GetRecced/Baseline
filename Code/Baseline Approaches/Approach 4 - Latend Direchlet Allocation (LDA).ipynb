{
 "cells": [
  {
   "cell_type": "markdown",
   "metadata": {},
   "source": [
    "# Hidden Factor Hidden Topics\n",
    "## Amazon Kindle Store Reviews Dataset\n",
    "Dataset Link: http://jmcauley.ucsd.edu/data/amazon/\n",
    "##### Sample Review"
   ]
  },
  {
   "cell_type": "markdown",
   "metadata": {},
   "source": []
  },
  {
   "cell_type": "raw",
   "metadata": {},
   "source": [
    "{\n",
    " \"reviewerID\": \"A1F6404F1VG29J\", \n",
    " \"asin\": \"B000F83SZQ\", \n",
    " \"reviewerName\": \"Avidreader\", \n",
    " \"helpful\": [0, 0], \n",
    " \"reviewText\": \"I enjoy vintage books and movies so I enjoyed reading this book.  The plot was unusual.  Don't think killing someone in self-defense but leaving the scene and the body without notifying the police or hitting someone in the jaw to knock them out would wash today.Still it was a good read for me.\", \n",
    " \"overall\": 5.0, \n",
    " \"summary\": \"Nice vintage story\", \n",
    " \"unixReviewTime\": 1399248000, \n",
    " \"reviewTime\": \"05 5, 2014\"\n",
    "}"
   ]
  },
  {
   "cell_type": "code",
   "execution_count": 41,
   "metadata": {
    "collapsed": true
   },
   "outputs": [],
   "source": [
    "\n",
    "import pyLDAvis\n",
    "import pyLDAvis.sklearn\n",
    "pyLDAvis.enable_notebook()\n",
    "\n",
    "from sklearn.feature_extraction.text import CountVectorizer\n",
    "from sklearn.decomposition import LatentDirichletAllocation\n",
    "\n",
    "import json"
   ]
  },
  {
   "cell_type": "raw",
   "metadata": {},
   "source": [
    "from sklearn.datasets import fetch_20newsgroups\n",
    "\n",
    "sub_category = ['sci.space', 'misc.forsale']\n",
    "newsgroups = fetch_20newsgroups(categories=sub_category,\n",
    "                                remove=['headers', 'footers', 'quotes'])\n",
    "data = newsgroups.data\n",
    "print len(data)"
   ]
  },
  {
   "cell_type": "code",
   "execution_count": 56,
   "metadata": {},
   "outputs": [
    {
     "name": "stdout",
     "output_type": "stream",
     "text": [
      "\n"
     ]
    }
   ],
   "source": [
    "from sklearn.metrics import mean_squared_error\n",
    "from sklearn.metrics import mean_absolute_error\n",
    "DATASET_SIZE = 30000\n",
    "DATASET_FILE = 'AppReviews30k.json'\n",
    "TRAIN_SET_FILE = 'train_15000.json'\n",
    "TEST_SET_FILE = 'test_5000.json'\n"
   ]
  },
  {
   "cell_type": "code",
   "execution_count": 57,
   "metadata": {},
   "outputs": [
    {
     "name": "stdout",
     "output_type": "stream",
     "text": [
      "15000\n",
      "5000\n"
     ]
    }
   ],
   "source": [
    "dataset_file = open(TRAIN_SET_FILE)\n",
    "train_set = dataset_file.readlines()\n",
    "\n",
    "dataset_file = open(TEST_SET_FILE)\n",
    "test_set = dataset_file.readlines()\n",
    "\n",
    "print len(train_set)\n",
    "print len(test_set)"
   ]
  },
  {
   "cell_type": "code",
   "execution_count": 58,
   "metadata": {},
   "outputs": [
    {
     "name": "stdout",
     "output_type": "stream",
     "text": [
      "My son plays this game all the time. He loves Umizoomi. He has all the badges and trophies for the first two levels on here, but the others will not unlock. I don't know how many times you have to replay the same two games, but now he's had it for months and is sick of it because it's just to long to wait for something else to happen.\n"
     ]
    }
   ],
   "source": [
    "data = []\n",
    "for line in train_set:\n",
    "    data.append(json.loads(line)[\"reviewText\"])\n",
    "print data[0]"
   ]
  },
  {
   "cell_type": "code",
   "execution_count": 59,
   "metadata": {
    "collapsed": true
   },
   "outputs": [],
   "source": [
    "tf_vectorizer = CountVectorizer(strip_accents='unicode',\n",
    "                                stop_words='english',\n",
    "                                token_pattern=r'\\b[a-zA-Z]{3,}\\b',\n",
    "                                max_df=0.5,\n",
    "                                min_df=5\n",
    "                               )\n",
    "dtm_tf = tf_vectorizer.fit_transform(data)"
   ]
  },
  {
   "cell_type": "code",
   "execution_count": 60,
   "metadata": {},
   "outputs": [
    {
     "name": "stdout",
     "output_type": "stream",
     "text": [
      "[u'abc', u'abilities', u'ability', u'able', u'absolute', u'absolutely', u'accept', u'acceptable', u'access', u'accessed']\n",
      "(15000, 4154)\n"
     ]
    }
   ],
   "source": [
    "print (tf_vectorizer.get_feature_names()[:10])\n",
    "print (dtm_tf.shape)"
   ]
  },
  {
   "cell_type": "code",
   "execution_count": 61,
   "metadata": {},
   "outputs": [
    {
     "name": "stderr",
     "output_type": "stream",
     "text": [
      "/Users/bmunot/anaconda2/lib/python2.7/site-packages/sklearn/decomposition/online_lda.py:536: DeprecationWarning: The default value for 'learning_method' will be changed from 'online' to 'batch' in the release 0.20. This warning was introduced in 0.18.\n",
      "  DeprecationWarning)\n"
     ]
    },
    {
     "data": {
      "text/plain": [
       "LatentDirichletAllocation(batch_size=128, doc_topic_prior=None,\n",
       "             evaluate_every=-1, learning_decay=0.7, learning_method=None,\n",
       "             learning_offset=10.0, max_doc_update_iter=100, max_iter=10,\n",
       "             mean_change_tol=0.001, n_components=5, n_jobs=1,\n",
       "             n_topics=None, perp_tol=0.1, random_state=18,\n",
       "             topic_word_prior=None, total_samples=1000000.0, verbose=0)"
      ]
     },
     "execution_count": 61,
     "metadata": {},
     "output_type": "execute_result"
    }
   ],
   "source": [
    "NUMBER_OF_TOPICS = 5\n",
    "\n",
    "\n",
    "lda_tf = LatentDirichletAllocation(n_components=NUMBER_OF_TOPICS, random_state=18)\n",
    "lda_tf.fit(dtm_tf)"
   ]
  },
  {
   "cell_type": "code",
   "execution_count": 62,
   "metadata": {},
   "outputs": [
    {
     "name": "stdout",
     "output_type": "stream",
     "text": [
      "4.05813333333\n",
      "done\n"
     ]
    }
   ],
   "source": [
    "\n",
    "\n",
    "ReviewsByUser = {}\n",
    "ItemReviews = {}\n",
    "AverageRatingsByUsers = {}\n",
    "AverageRatingsByItems = {}\n",
    "UserHistory = {}\n",
    "GlobalAverage = 0.0\n",
    "for line in train_set:\n",
    "    d = json.loads(line)\n",
    "    user = d[\"reviewerID\"]\n",
    "    item = d[\"asin\"]\n",
    "    try: \n",
    "        ReviewsByUser[user] += ' ' + d[\"reviewText\"]\n",
    "    except:\n",
    "        ReviewsByUser[user] = d[\"reviewText\"]\n",
    "    try: \n",
    "        ItemReviews[item] += ' ' + d[\"reviewText\"]\n",
    "    except:\n",
    "        ItemReviews[item] = d[\"reviewText\"]\n",
    "    try:\n",
    "        AverageRatingsByUsers[user] = (AverageRatingsByUsers[user][0]+float(d[\"overall\"]), AverageRatingsByUsers[user][1]+1)\n",
    "    except:\n",
    "        AverageRatingsByUsers[user] = (float(d[\"overall\"]), 1)\n",
    "    try:\n",
    "        AverageRatingsByItems[item] = (AverageRatingsByItems[item][0]+float(d[\"overall\"]), AverageRatingsByItems[item][1]+1)\n",
    "    except:\n",
    "        AverageRatingsByItems[item] = (float(d[\"overall\"]), 1)\n",
    "    try:\n",
    "        UserHistory[user].append(item) \n",
    "    except:\n",
    "        UserHistory[user] = [item]\n",
    "    \n",
    "    GlobalAverage += float(d[\"overall\"])\n",
    "\n",
    "GlobalAverage /= len(train_set)\n",
    "\n",
    "for k in AverageRatingsByUsers.keys():\n",
    "    AverageRatingsByUsers[k] = AverageRatingsByUsers[k][0]*1.0/AverageRatingsByUsers[k][1]        \n",
    "        \n",
    "for k in AverageRatingsByItems.keys():\n",
    "    AverageRatingsByItems[k] = AverageRatingsByItems[k][0]*1.0/AverageRatingsByItems[k][1]\n",
    "\n",
    "# print AverageRatingsByItems\n",
    "# print AverageRatingsByUsers\n",
    "print GlobalAverage\n",
    "print \"done\""
   ]
  },
  {
   "cell_type": "code",
   "execution_count": 63,
   "metadata": {},
   "outputs": [
    {
     "name": "stdout",
     "output_type": "stream",
     "text": [
      "4154\n"
     ]
    }
   ],
   "source": [
    "import numpy as np\n",
    "\n",
    "WordToTopicMapping = {}\n",
    "\n",
    "tf_feature_names = tf_vectorizer.get_feature_names()\n",
    "\n",
    "rows = NUMBER_OF_TOPICS # topics count\n",
    "columns = len(tf_feature_names) # Total number of words\n",
    "    \n",
    "M = np.zeros((rows, columns))\n",
    "total_of_columns = np.sum(lda_tf.components_, axis=0)\n",
    "print len(total_of_columns)\n",
    "for i in range(columns):\n",
    "    column_sum = total_of_columns[i]\n",
    "    for j in range(rows):\n",
    "        M[j][i] = lda_tf.components_[j][i]*1.0/column_sum\n",
    "\n",
    "M = np.transpose(M)\n",
    "DocVecRep = CountVectorizer(vocabulary=tf_feature_names) # document vector representation"
   ]
  },
  {
   "cell_type": "code",
   "execution_count": 64,
   "metadata": {},
   "outputs": [
    {
     "name": "stdout",
     "output_type": "stream",
     "text": [
      "(5, 1842)\n",
      "(3139, 5)\n"
     ]
    }
   ],
   "source": [
    "# print M\n",
    "\n",
    "def MakeProbabilityDistribution(Gamma):\n",
    "    column_sums = np.sum(Gamma, axis=0)\n",
    "    return np.divide(Gamma, 1.0*column_sums)\n",
    "\n",
    "Gamma_i = np.zeros((len(ItemReviews.keys()), NUMBER_OF_TOPICS)) #   #items   X  topics\n",
    "\n",
    "j = 0\n",
    "# Calculating latent factors for items\n",
    "ItemToIndexMapping = {}\n",
    "for item in ItemReviews.keys():\n",
    "    ItemToIndexMapping[item] = j\n",
    "    review = ItemReviews[item]\n",
    "    review_vector = DocVecRep.fit_transform([review]).toarray()\n",
    "    Gamma_i[j] = np.matmul(review_vector, M)\n",
    "    j += 1\n",
    "\n",
    "\n",
    "Gamma_i = np.transpose(Gamma_i)\n",
    "Gamma_i = MakeProbabilityDistribution(Gamma_i)\n",
    "print Gamma_i.shape\n",
    "\n",
    "Gamma_u = np.zeros((len(ReviewsByUser.keys()), NUMBER_OF_TOPICS))\n",
    "j = 0\n",
    "# Calculating latent factors for users\n",
    "UserToIndexMapping = {}\n",
    "for user in ReviewsByUser.keys():\n",
    "    UserToIndexMapping[user] = j\n",
    "    review = ReviewsByUser[user]\n",
    "    review_vector = DocVecRep.fit_transform([review]).toarray()\n",
    "    Gamma_u[j] = np.matmul(review_vector, M)\n",
    "    j += 1\n",
    "\n",
    "Gamma_u = np.transpose(Gamma_u)\n",
    "Gamma_u = MakeProbabilityDistribution(Gamma_u)\n",
    "Gamma_u = np.transpose(Gamma_u)\n",
    "print Gamma_u.shape\n",
    "\n",
    "# print UserToIndexMapping\n",
    "# print ItemToIndexMapping\n",
    "\n",
    "    "
   ]
  },
  {
   "cell_type": "code",
   "execution_count": 65,
   "metadata": {
    "collapsed": true
   },
   "outputs": [],
   "source": [
    "\n",
    "total_users = len(ReviewsByUser.keys())\n",
    "total_items = len(ItemReviews.keys())\n",
    "\n",
    "ActualRatingAvailability = np.zeros((total_users, total_items))\n",
    "\n",
    "for line in train_set:\n",
    "    d = json.loads(line)\n",
    "    userId = d[\"reviewerID\"]\n",
    "    itemId = d[\"asin\"]\n",
    "    user = UserToIndexMapping[userId]\n",
    "    item = ItemToIndexMapping[itemId]"
   ]
  },
  {
   "cell_type": "code",
   "execution_count": 67,
   "metadata": {},
   "outputs": [
    {
     "name": "stdout",
     "output_type": "stream",
     "text": [
      "(1.03, 1.4)\n",
      "1842\n",
      "[(u'B0097C8XL0', 0.24626559069641446), (u'B00FDUH4WY', 0.24606602162718538), (u'B00IG63BVK', 0.24267680725076549), (u'B00821NZ74', 0.24180343372661123), (u'B00FPYJLCY', 0.24100694055317715)]\n",
      "[u'B0097C8XL0', u'B00FDUH4WY', u'B00IG63BVK', u'B00821NZ74', u'B00FPYJLCY']\n",
      "[u'B00ANT8OF6', u'B00AMR1HZ8', u'B004WGGQPQ', u'B006C1ZSO4', u'B008LY1B32', u'B007KPT2N4', u'B0080JJLBW', u'B009P8EMCK']\n",
      "0\n"
     ]
    }
   ],
   "source": [
    "def PredictUserToItemRating(userId, itemId):\n",
    "    userIndex = UserToIndexMapping[userId]\n",
    "    itemIndex = ItemToIndexMapping[itemId]\n",
    "    gamma_user = Gamma_u[userIndex]\n",
    "    gamma_item = Gamma_i[:, itemIndex]\n",
    "    return np.dot(gamma_user, gamma_item)\n",
    "\n",
    "def IsActuallyRated(userId, itemId):\n",
    "    user = UserToIndexMapping[userId]\n",
    "    item = ItemToIndexMapping[itemId]\n",
    "    \n",
    "    return ActualRatingAvailability[user][item] == 1\n",
    "\n",
    "RECOMMENDATIONS = 5\n",
    "\n",
    "def RecommendItemsToUser(userId):\n",
    "    itemsList = ItemToIndexMapping.keys()\n",
    "    predictions = []\n",
    "    for item in itemsList:\n",
    "        if not IsActuallyRated(userId, item):\n",
    "            predictions.append((item, PredictUserToItemRating(userId, item)))\n",
    "    sorted_by_predictions = sorted(predictions, key=lambda tup: tup[1], reverse=True)\n",
    "    print len(sorted_by_predictions)\n",
    "    print sorted_by_predictions[:min(RECOMMENDATIONS, len(predictions))]\n",
    "    return sorted_by_predictions[:min(RECOMMENDATIONS, len(predictions))]\n",
    "\n",
    "def GetRecommendationsForUser(userId):\n",
    "    predictions = RecommendItemsToUser(userId)\n",
    "    return [_[0] for _ in predictions]\n",
    "\n",
    "cnt = 0\n",
    "def GetEvaluationOnTestData():\n",
    "    y_pred = []\n",
    "    y_actual = []\n",
    "    for line in test_set:\n",
    "        d = json.loads(line)\n",
    "        userId = d[\"reviewerID\"]\n",
    "        itemId = d[\"asin\"]\n",
    "        #print PredictUserToItemRating(userId, itemId)\n",
    "\n",
    "        try:\n",
    "            prediction = AverageRatingsByUsers[userId] + AverageRatingsByItems[itemId] - GlobalAverage + PredictUserToItemRating(userId, itemId)\n",
    "            y_pred.append(prediction)\n",
    "            y_actual.append(d[\"overall\"])\n",
    "        except:\n",
    "            cnt += 1\n",
    "            #print cnt,\n",
    "            pass\n",
    "            \n",
    "            \n",
    "    MAE = round(mean_absolute_error(y_actual, y_pred), 2)\n",
    "    RMSE = round(np.sqrt(mean_squared_error(y_actual, y_pred)), 2)\n",
    "    return (MAE, RMSE)\n",
    "\n",
    "USER_ID = 'A00100742Q4O8VH0YMUBZ'\n",
    "print GetEvaluationOnTestData()\n",
    "history = UserHistory[USER_ID]\n",
    "recommendations = GetRecommendationsForUser(USER_ID)\n",
    "print recommendations\n",
    "print history\n",
    "print cnt"
   ]
  },
  {
   "cell_type": "code",
   "execution_count": 68,
   "metadata": {
    "scrolled": false
   },
   "outputs": [
    {
     "name": "stderr",
     "output_type": "stream",
     "text": [
      "/Users/bmunot/anaconda2/lib/python2.7/site-packages/pyLDAvis/_prepare.py:387: DeprecationWarning: \n",
      ".ix is deprecated. Please use\n",
      ".loc for label based indexing or\n",
      ".iloc for positional indexing\n",
      "\n",
      "See the documentation here:\n",
      "http://pandas.pydata.org/pandas-docs/stable/indexing.html#ix-indexer-is-deprecated\n",
      "  topic_term_dists = topic_term_dists.ix[topic_order]\n"
     ]
    },
    {
     "data": {
      "text/html": [
       "\n",
       "<link rel=\"stylesheet\" type=\"text/css\" href=\"https://cdn.rawgit.com/bmabey/pyLDAvis/files/ldavis.v1.0.0.css\">\n",
       "\n",
       "\n",
       "<div id=\"ldavis_el2097345604758564650897850\"></div>\n",
       "<script type=\"text/javascript\">\n",
       "\n",
       "var ldavis_el2097345604758564650897850_data = {\"plot.opts\": {\"xlab\": \"PC1\", \"ylab\": \"PC2\"}, \"topic.order\": [1, 4, 3, 2, 5], \"token.table\": {\"Topic\": [2, 3, 2, 2, 2, 1, 1, 3, 1, 5, 3, 3, 1, 3, 2, 1, 2, 3, 4, 5, 2, 3, 4, 5, 2, 2, 3, 5, 3, 4, 3, 4, 1, 2, 3, 5, 1, 2, 3, 4, 5, 3, 3, 5, 4, 3, 1, 5, 3, 1, 2, 4, 1, 3, 4, 5, 4, 4, 3, 1, 3, 5, 2, 5, 1, 5, 2, 3, 3, 3, 1, 2, 2, 5, 1, 2, 3, 4, 2, 5, 2, 5, 1, 4, 1, 2, 5, 2, 3, 4, 1, 2, 4, 5, 1, 2, 3, 4, 5, 2, 3, 5, 1, 5, 1, 2, 3, 4, 5, 3, 4, 1, 2, 3, 4, 5, 5, 1, 4, 3, 4, 1, 2, 1, 3, 4, 3, 5, 3, 5, 4, 2, 1, 4, 5, 2, 1, 2, 2, 3, 1, 2, 3, 4, 5, 3, 2, 3, 4, 1, 3, 5, 1, 3, 4, 5, 3, 1, 2, 2, 4, 5, 1, 2, 3, 4, 5, 1, 2, 3, 4, 1, 1, 2, 3, 4, 5, 1, 3, 5, 1, 5, 5, 5, 1, 1, 4, 3, 1, 5, 4, 2, 5, 1, 2, 3, 4, 5, 3, 5, 2, 3, 1, 2, 4, 5, 4, 4, 1, 5, 1, 5, 1, 2, 3, 4, 5, 1, 2, 3, 4, 5, 2, 4, 4, 1, 1, 2, 3, 4, 5, 1, 2, 3, 5, 5, 1, 3, 4, 1, 5, 3, 3, 1, 1, 2, 3, 4, 2, 3, 1, 2, 4, 5, 1, 1, 1, 5, 4, 2, 3, 3, 1, 4, 5, 4, 1, 5, 1, 2, 4, 4, 4, 4, 2, 4, 4, 1, 2, 3, 5, 1, 3, 4, 5, 1, 3, 4, 5, 4, 5, 1, 2, 2, 3, 5, 1, 4, 1, 3, 4, 5, 3, 5, 2, 1, 2, 1, 2, 3, 4, 5, 1, 2, 3, 5, 1, 1, 2, 4, 2, 2, 3, 4, 2, 4, 5, 5, 4, 1, 2, 4, 5, 5, 4, 2, 4, 1, 4, 1, 1, 2, 3, 4, 5, 1, 3, 5, 1, 1, 4, 3, 4, 5, 1, 1, 2, 3, 4, 5, 1, 2, 3, 4, 5, 2, 4, 1, 1, 2, 5, 1, 3, 5, 1, 4, 4, 2, 2, 1, 2, 3, 4, 5, 2, 4, 3, 2, 4, 2, 1, 3, 4, 5, 1, 1, 2, 3, 4, 5, 3, 5, 1, 2, 3, 5, 4, 4, 1, 1, 2, 3, 3, 3, 5, 2, 4, 4, 2, 3, 4, 1, 2, 3, 4, 5, 2, 5], \"Freq\": [0.9976880809564223, 0.9943532146143238, 0.9965487035123678, 0.9898459841047478, 0.9973886453349606, 0.9948422539389933, 0.29112262150924334, 0.7049734069880697, 0.9978911996677885, 0.9988285119473747, 0.9927083351911901, 0.9944520678044708, 0.018852913881601145, 0.9803515218432595, 0.998363178836579, 0.9982839072658892, 0.9858474863369183, 0.005731671432191385, 0.01146334286438277, 0.9966256115822308, 0.7033991469362708, 0.22103182942358315, 0.0729477984896314, 0.002553172947137099, 0.9935146013206251, 0.9941420822355806, 0.0034221758424632727, 0.0017110879212316364, 0.9984876291314042, 0.9902606463776027, 0.018849870315823202, 0.9801932564228065, 0.2212460835051493, 0.13552770560263072, 0.6185623486479043, 0.023167129162842855, 0.42846395493604367, 0.33698111050375323, 0.2165479988460545, 0.009264085512130673, 0.006948064134098006, 0.9845755070256643, 0.9960227711555644, 0.9951136353140928, 0.9914193250719509, 0.9944903818509715, 0.9960865176985846, 0.9945396655550621, 0.9941244991991192, 0.015924554000655497, 0.191094648007866, 0.7922465615326111, 0.9295231071687193, 0.05343515188269376, 0.0124267795076032, 0.0037280338522809597, 0.9954377111077847, 0.9934037341429768, 0.997122923602448, 0.6073425256717893, 0.24792484743606857, 0.14376707129428828, 0.9924449316308283, 0.9921131432437645, 0.9951048988856306, 0.002201559510808917, 0.9921839693310496, 0.9973420872597485, 0.9951390597848524, 0.9826677403982225, 0.9986516816242075, 0.9949680851812741, 0.9956853413577126, 0.9973288713036704, 0.2740595279146804, 0.2840512815365698, 0.10419971634256077, 0.336864836395128, 0.9932286063130068, 0.9970788491830249, 0.9898675756808306, 0.007172953446962541, 0.29450171119672014, 0.7049040958321494, 0.6469479716201754, 0.09222152511216324, 0.2598970253160964, 0.8224480357731054, 0.09639277545922975, 0.08084555361096689, 0.3562539719196913, 0.5996941860648137, 0.04354215212351783, 0.9978295674602429, 0.4684304115179164, 0.2748336085594983, 0.10391980976242066, 0.13293295461994925, 0.020045445537928856, 0.7272612868271081, 0.23674313552451529, 0.035766948532480726, 0.9910732236473098, 0.006043129412483596, 0.3269029773876955, 0.21464859072092304, 0.38606407306342694, 0.020478840810830113, 0.05233481540545473, 0.17827650933497494, 0.8182434659220645, 0.5395830986237674, 0.001126478285227072, 0.2906313975885846, 0.03379434855681216, 0.13517739422724864, 0.9954638982284044, 0.9985855506743159, 0.996409313416132, 0.9982770266609948, 0.9929305034618834, 0.12494429718855746, 0.8746100803199022, 0.9969507752599928, 0.995396865779246, 0.9958133262101472, 0.4150606328659331, 0.5836790149677183, 0.9990073519875927, 0.9964154827874165, 0.997105488460806, 0.9964059720280194, 0.9953626621457645, 0.17080796569417864, 0.8244769113315161, 0.9953493511126281, 0.9935702142824192, 0.9980245837501422, 0.9932898619919508, 0.9932164379580826, 0.442164391183651, 0.246000332744861, 0.17336661380941712, 0.06574146823354043, 0.07263371893544388, 0.9937173825379612, 0.0020906063228264076, 0.9972192159881965, 0.9963871662248416, 0.5889695149392001, 0.3962314998239615, 0.014627438647138643, 0.7370613086558431, 0.1915232794978734, 0.00043331058709926104, 0.07062962569717955, 0.9962333540705, 0.8863830182609256, 0.1122368107538185, 0.9959926205628367, 0.9926629340216472, 0.9984119810085731, 0.5426747103444147, 0.1153449776496756, 0.24047938144674066, 0.012343189490186689, 0.0893817169979036, 0.3786930185183369, 0.3413155257814621, 0.27442948614705454, 0.004918091149588791, 0.9993543862699246, 0.27897888860975556, 0.18686946933005003, 0.42178162137793207, 0.0036446173096286354, 0.10867586159619931, 0.605678919177498, 0.2965039060408673, 0.0975675246373794, 0.991287476382942, 0.9981183411045671, 0.9982624456828465, 0.9935871499225822, 0.9967579508048698, 0.05968328526976503, 0.9325513323400786, 0.9966886473086014, 0.8859123378650312, 0.11157586119206941, 0.997142193839869, 0.9962195211510678, 0.9927978260660354, 0.4746173455710694, 0.24150734003227098, 0.13670860555373335, 0.05710187455561344, 0.089683532390287, 0.7338063157926967, 0.26442061272700584, 0.7327443979240613, 0.26705047177483743, 0.2319932251668271, 0.3486451858439322, 0.3132563887845857, 0.10485569499065632, 0.9914149324720943, 0.9980051411337914, 0.43896292850175733, 0.5605864150611615, 0.8118418036561189, 0.18734810853602746, 0.5107407452479177, 0.1669144222767663, 0.23559275227606077, 0.018256264936521313, 0.06867832999929446, 0.5728333686333397, 0.030251847406530717, 0.24591824343373356, 0.06733475713066514, 0.08392447990198844, 0.5727132725266371, 0.42683347669438043, 0.9969426719120071, 0.9978257338155687, 0.5647392035384106, 0.15829037350534111, 0.23794617436609342, 0.0112335103777984, 0.027573161836414256, 0.1694870585516773, 0.0025465501284893085, 0.8180084912736212, 0.009903250499680645, 0.9959708372567213, 0.48176140603246415, 0.49980490438574, 0.018043498353275813, 0.9932260098928035, 0.9969822377477928, 0.9947519755531475, 0.9985607712782907, 0.9991590894957368, 0.28645562428120525, 0.4260726512417927, 0.1384134319005824, 0.14924578744062797, 0.9956221814129804, 0.9928881113626744, 0.3094348877498671, 0.21090835632702384, 0.010776339374373481, 0.4680010242585054, 0.9913752116148067, 0.9944969172966293, 0.9945133133243942, 0.9982681761594889, 0.9963764277527181, 0.9968221998200798, 0.9861053123412198, 0.9848066119750852, 0.14855766151239114, 0.8511952497466736, 0.9986029517457444, 0.9912759606725549, 0.9068132808118788, 0.09111521003372945, 0.5404086693848119, 0.44281465092448197, 0.016022898553188492, 0.988851634018227, 0.9968255898751232, 0.991783608197129, 0.9097607127430105, 0.08948466026980431, 0.9887230144084332, 0.6184104635009245, 0.009641739578186783, 0.34576349431775383, 0.0259791316412255, 0.6578505000872978, 0.22092915481355782, 0.03702723265031695, 0.0839283940073851, 0.6870471695490895, 0.18890679888690937, 0.003740728690829888, 0.12032677288836141, 0.004876093026734525, 0.9898468844271084, 0.9977072271141507, 0.996262979514484, 0.9903532131264348, 0.006974318402298837, 0.9963995018284485, 0.3770144128208999, 0.6217924271150663, 0.2550731855028711, 0.0019621014269451623, 0.21190695411007757, 0.5297673852751938, 0.9989937711095385, 0.9957541689809659, 0.9977965881739861, 0.908387061747534, 0.08961666080020514, 0.4921271377080963, 0.08734390950722272, 0.35861023639088796, 0.0019238746587493991, 0.060024889352981246, 0.1942299353385561, 0.008221372924383326, 0.793362487202991, 0.004110686462191663, 0.9934482315856953, 0.9971760050565072, 0.9951272145984795, 0.004028855119831901, 0.9918657674713384, 0.9959048842850386, 0.9930604485443023, 0.9930709787809596, 0.37756286594984667, 0.6202818512033196, 0.0019263411528053402, 0.991761687819729, 0.9948878210831835, 0.0044225615117876056, 0.27862137524261915, 0.7120324033978045, 0.9967386705052209, 0.9920640855418, 0.9960668034345751, 0.9934742295776022, 0.997592150117123, 0.9921651770795062, 0.995635428789648, 0.9961681780744082, 0.23174518664395266, 0.009196237565236217, 0.3788849876877321, 0.3788849876877321, 0.9980119092716986, 0.8708647921473903, 0.12689744114147689, 0.9936251374637776, 0.996208927045168, 0.9953991611954, 0.9984539840476521, 0.46868350122309094, 0.5311746347195031, 0.99297817176928, 0.9943073820449078, 0.46699054345646684, 0.015782980593956136, 0.5134110746151613, 0.0037136424926955615, 0.9975016198925086, 0.45225154878228774, 0.05298344504562367, 0.16122105421025487, 0.1396492230131081, 0.1937680275954237, 0.20233721165028298, 0.7957299958169782, 0.9936017397483297, 0.14330591645069887, 0.8521583960371916, 0.005118068444667817, 0.14672200096365984, 0.43737129811071934, 0.41501365986863786, 0.36589057633774, 0.6317329482081292, 0.994627997337262, 0.9938476003512561, 0.9981096213206675, 0.04617774875299107, 0.7294518955557233, 0.13148918288987288, 0.0853114341368818, 0.0070440633691003325, 0.4735678704493977, 0.5255782146027997, 0.9942689126397912, 0.6892543837032591, 0.3077482672623408, 0.9949991134602981, 0.2118021830233185, 0.07854915396891281, 0.2637007311813502, 0.44464431800259574, 0.995331737564231, 0.3778679398306781, 0.4134432929445079, 0.1298019640639734, 0.07691968240828054, 0.0019229920602070133, 0.9925350588946505, 0.9973670246372145, 0.37106017020316756, 0.19164646153350412, 0.04587282323940258, 0.39144809164290206, 0.9931923360627439, 0.9963605862926836, 0.9970118428739054, 0.7621142846713662, 0.14183268325149495, 0.09644622461101657, 0.9954097565893488, 0.9235233228695316, 0.0747499295272989, 0.7962344445447059, 0.2038242869092341, 0.9967121428645233, 0.8750550769858907, 0.12279207136434213, 0.001292548119624654, 0.67206842409171, 0.04921324844607487, 0.17532219758914172, 0.013841226125458557, 0.09073692682245055, 0.9978187819427095, 0.9963531641944122], \"Term\": [\"able\", \"absolutely\", \"access\", \"account\", \"actually\", \"addicted\", \"addicting\", \"addicting\", \"addictive\", \"ads\", \"age\", \"ages\", \"amazing\", \"amazing\", \"amazon\", \"amp\", \"android\", \"android\", \"android\", \"angry\", \"app\", \"app\", \"app\", \"app\", \"application\", \"apps\", \"apps\", \"apps\", \"awesome\", \"awhile\", \"background\", \"background\", \"best\", \"best\", \"best\", \"best\", \"better\", \"better\", \"better\", \"better\", \"better\", \"bible\", \"bingo\", \"birds\", \"board\", \"bored\", \"boring\", \"brain\", \"build\", \"button\", \"button\", \"button\", \"buy\", \"buy\", \"buy\", \"buy\", \"card\", \"cards\", \"challenge\", \"challenging\", \"challenging\", \"challenging\", \"check\", \"children\", \"coins\", \"coins\", \"colors\", \"cool\", \"couldn\", \"credits\", \"cute\", \"daily\", \"data\", \"daughter\", \"day\", \"day\", \"day\", \"day\", \"delete\", \"developer\", \"device\", \"device\", \"did\", \"did\", \"different\", \"different\", \"different\", \"does\", \"does\", \"does\", \"doesn\", \"doesn\", \"doesn\", \"doing\", \"don\", \"don\", \"don\", \"don\", \"don\", \"download\", \"download\", \"download\", \"earn\", \"earn\", \"easy\", \"easy\", \"easy\", \"easy\", \"easy\", \"end\", \"end\", \"enjoy\", \"enjoy\", \"enjoy\", \"enjoy\", \"enjoy\", \"enjoyable\", \"enjoyed\", \"entertaining\", \"especially\", \"exactly\", \"facebook\", \"facebook\", \"fact\", \"family\", \"faotd\", \"far\", \"far\", \"fast\", \"favorite\", \"feature\", \"features\", \"feel\", \"figure\", \"figure\", \"fine\", \"fish\", \"fix\", \"force\", \"forever\", \"free\", \"free\", \"free\", \"free\", \"free\", \"friend\", \"friends\", \"friends\", \"frustrating\", \"fun\", \"fun\", \"fun\", \"games\", \"games\", \"games\", \"games\", \"gems\", \"gets\", \"gets\", \"glad\", \"goes\", \"going\", \"good\", \"good\", \"good\", \"good\", \"good\", \"got\", \"got\", \"got\", \"got\", \"graphics\", \"great\", \"great\", \"great\", \"great\", \"great\", \"hard\", \"hard\", \"hard\", \"harder\", \"hate\", \"help\", \"helps\", \"hidden\", \"high\", \"high\", \"highly\", \"hours\", \"hours\", \"interesting\", \"internet\", \"items\", \"just\", \"just\", \"just\", \"just\", \"just\", \"kids\", \"kids\", \"kindle\", \"kindle\", \"know\", \"know\", \"know\", \"know\", \"learning\", \"left\", \"level\", \"level\", \"levels\", \"levels\", \"like\", \"like\", \"like\", \"like\", \"like\", \"little\", \"little\", \"little\", \"little\", \"little\", \"look\", \"look\", \"looking\", \"lose\", \"lot\", \"lot\", \"lot\", \"lot\", \"lot\", \"love\", \"love\", \"love\", \"love\", \"loves\", \"makes\", \"makes\", \"makes\", \"match\", \"mind\", \"mini\", \"minutes\", \"money\", \"need\", \"need\", \"need\", \"need\", \"needs\", \"netflix\", \"new\", \"new\", \"new\", \"new\", \"night\", \"object\", \"okay\", \"old\", \"ones\", \"open\", \"opinion\", \"paced\", \"paid\", \"paid\", \"pass\", \"past\", \"pay\", \"pay\", \"people\", \"people\", \"people\", \"perfectly\", \"permissions\", \"person\", \"phone\", \"phone\", \"pieces\", \"play\", \"play\", \"play\", \"play\", \"played\", \"played\", \"played\", \"played\", \"playing\", \"playing\", \"playing\", \"playing\", \"plus\", \"plus\", \"points\", \"problems\", \"program\", \"program\", \"purchase\", \"puzzle\", \"puzzle\", \"puzzles\", \"puzzles\", \"puzzles\", \"puzzles\", \"quot\", \"rating\", \"read\", \"real\", \"real\", \"really\", \"really\", \"really\", \"really\", \"really\", \"recommend\", \"recommend\", \"recommend\", \"recommend\", \"relaxing\", \"run\", \"said\", \"said\", \"save\", \"says\", \"school\", \"score\", \"screen\", \"screen\", \"screen\", \"search\", \"second\", \"set\", \"set\", \"set\", \"short\", \"similar\", \"simply\", \"solitaire\", \"son\", \"soon\", \"sorry\", \"spend\", \"stars\", \"stars\", \"stars\", \"stars\", \"start\", \"story\", \"story\", \"stuck\", \"stupid\", \"super\", \"tablet\", \"takes\", \"takes\", \"tell\", \"temple\", \"think\", \"think\", \"think\", \"think\", \"thinking\", \"time\", \"time\", \"time\", \"time\", \"time\", \"times\", \"times\", \"today\", \"tried\", \"tried\", \"tried\", \"try\", \"try\", \"try\", \"trying\", \"trying\", \"understand\", \"uninstalled\", \"update\", \"use\", \"use\", \"use\", \"use\", \"use\", \"used\", \"used\", \"user\", \"using\", \"using\", \"usually\", \"version\", \"version\", \"version\", \"version\", \"waiting\", \"want\", \"want\", \"want\", \"want\", \"want\", \"waster\", \"watch\", \"way\", \"way\", \"way\", \"way\", \"weather\", \"went\", \"win\", \"wish\", \"wish\", \"wish\", \"wonderful\", \"word\", \"word\", \"work\", \"work\", \"worked\", \"works\", \"works\", \"works\", \"worth\", \"worth\", \"worth\", \"worth\", \"worth\", \"wrong\", \"year\"]}, \"mdsDat\": {\"y\": [-0.07610962873728219, -0.12703530839257762, -0.16821042239358205, 0.09076927689563138, 0.28058608262781054], \"cluster\": [1, 1, 1, 1, 1], \"Freq\": [28.999919790253497, 24.324081496024707, 17.693706536136304, 14.766523752463446, 14.215768425122043], \"topics\": [1, 2, 3, 4, 5], \"x\": [-0.13266910999471443, 0.12156184162890642, -0.13680596173799214, 0.3117180949907524, -0.16380486488695237]}, \"R\": 30, \"lambda.step\": 0.01, \"tinfo\": {\"Category\": [\"Default\", \"Default\", \"Default\", \"Default\", \"Default\", \"Default\", \"Default\", \"Default\", \"Default\", \"Default\", \"Default\", \"Default\", \"Default\", \"Default\", \"Default\", \"Default\", \"Default\", \"Default\", \"Default\", \"Default\", \"Default\", \"Default\", \"Default\", \"Default\", \"Default\", \"Default\", \"Default\", \"Default\", \"Default\", \"Default\", \"Topic1\", \"Topic1\", \"Topic1\", \"Topic1\", \"Topic1\", \"Topic1\", \"Topic1\", \"Topic1\", \"Topic1\", \"Topic1\", \"Topic1\", \"Topic1\", \"Topic1\", \"Topic1\", \"Topic1\", \"Topic1\", \"Topic1\", \"Topic1\", \"Topic1\", \"Topic1\", \"Topic1\", \"Topic1\", \"Topic1\", \"Topic1\", \"Topic1\", \"Topic1\", \"Topic1\", \"Topic1\", \"Topic1\", \"Topic1\", \"Topic1\", \"Topic1\", \"Topic1\", \"Topic1\", \"Topic1\", \"Topic1\", \"Topic1\", \"Topic1\", \"Topic1\", \"Topic1\", \"Topic1\", \"Topic1\", \"Topic1\", \"Topic1\", \"Topic1\", \"Topic1\", \"Topic1\", \"Topic1\", \"Topic1\", \"Topic1\", \"Topic1\", \"Topic1\", \"Topic1\", \"Topic1\", \"Topic1\", \"Topic1\", \"Topic1\", \"Topic1\", \"Topic1\", \"Topic1\", \"Topic1\", \"Topic1\", \"Topic2\", \"Topic2\", \"Topic2\", \"Topic2\", \"Topic2\", \"Topic2\", \"Topic2\", \"Topic2\", \"Topic2\", \"Topic2\", \"Topic2\", \"Topic2\", \"Topic2\", \"Topic2\", \"Topic2\", \"Topic2\", \"Topic2\", \"Topic2\", \"Topic2\", \"Topic2\", \"Topic2\", \"Topic2\", \"Topic2\", \"Topic2\", \"Topic2\", \"Topic2\", \"Topic2\", \"Topic2\", \"Topic2\", \"Topic2\", \"Topic2\", \"Topic2\", \"Topic2\", \"Topic2\", \"Topic2\", \"Topic2\", \"Topic2\", \"Topic2\", \"Topic2\", \"Topic2\", \"Topic2\", \"Topic2\", \"Topic2\", \"Topic2\", \"Topic2\", \"Topic2\", \"Topic2\", \"Topic2\", \"Topic2\", \"Topic2\", \"Topic2\", \"Topic2\", \"Topic2\", \"Topic2\", \"Topic2\", \"Topic2\", \"Topic3\", \"Topic3\", \"Topic3\", \"Topic3\", \"Topic3\", \"Topic3\", \"Topic3\", \"Topic3\", \"Topic3\", \"Topic3\", \"Topic3\", \"Topic3\", \"Topic3\", \"Topic3\", \"Topic3\", \"Topic3\", \"Topic3\", \"Topic3\", \"Topic3\", \"Topic3\", \"Topic3\", \"Topic3\", \"Topic3\", \"Topic3\", \"Topic3\", \"Topic3\", \"Topic3\", \"Topic3\", \"Topic3\", \"Topic3\", \"Topic3\", \"Topic3\", \"Topic3\", \"Topic3\", \"Topic3\", \"Topic3\", \"Topic3\", \"Topic3\", \"Topic3\", \"Topic3\", \"Topic3\", \"Topic3\", \"Topic3\", \"Topic3\", \"Topic3\", \"Topic3\", \"Topic3\", \"Topic3\", \"Topic3\", \"Topic3\", \"Topic3\", \"Topic3\", \"Topic3\", \"Topic3\", \"Topic3\", \"Topic4\", \"Topic4\", \"Topic4\", \"Topic4\", \"Topic4\", \"Topic4\", \"Topic4\", \"Topic4\", \"Topic4\", \"Topic4\", \"Topic4\", \"Topic4\", \"Topic4\", \"Topic4\", \"Topic4\", \"Topic4\", \"Topic4\", \"Topic4\", \"Topic4\", \"Topic4\", \"Topic4\", \"Topic4\", \"Topic4\", \"Topic4\", \"Topic4\", \"Topic4\", \"Topic4\", \"Topic4\", \"Topic4\", \"Topic4\", \"Topic4\", \"Topic4\", \"Topic4\", \"Topic4\", \"Topic4\", \"Topic4\", \"Topic4\", \"Topic4\", \"Topic4\", \"Topic4\", \"Topic4\", \"Topic4\", \"Topic4\", \"Topic4\", \"Topic4\", \"Topic4\", \"Topic4\", \"Topic4\", \"Topic4\", \"Topic4\", \"Topic4\", \"Topic4\", \"Topic5\", \"Topic5\", \"Topic5\", \"Topic5\", \"Topic5\", \"Topic5\", \"Topic5\", \"Topic5\", \"Topic5\", \"Topic5\", \"Topic5\", \"Topic5\", \"Topic5\", \"Topic5\", \"Topic5\", \"Topic5\", \"Topic5\", \"Topic5\", \"Topic5\", \"Topic5\", \"Topic5\", \"Topic5\", \"Topic5\", \"Topic5\", \"Topic5\", \"Topic5\", \"Topic5\", \"Topic5\", \"Topic5\", \"Topic5\", \"Topic5\", \"Topic5\", \"Topic5\", \"Topic5\", \"Topic5\", \"Topic5\", \"Topic5\", \"Topic5\", \"Topic5\", \"Topic5\", \"Topic5\", \"Topic5\", \"Topic5\", \"Topic5\"], \"Term\": [\"love\", \"app\", \"fun\", \"play\", \"kindle\", \"awesome\", \"games\", \"quot\", \"graphics\", \"recommend\", \"old\", \"great\", \"money\", \"going\", \"really\", \"think\", \"level\", \"friends\", \"cool\", \"apps\", \"works\", \"playing\", \"help\", \"kids\", \"far\", \"times\", \"like\", \"did\", \"buy\", \"start\", \"graphics\", \"money\", \"amp\", \"cute\", \"addictive\", \"run\", \"spend\", \"hidden\", \"boring\", \"enjoyed\", \"waiting\", \"object\", \"super\", \"points\", \"feel\", \"fact\", \"coins\", \"win\", \"match\", \"okay\", \"stupid\", \"relaxing\", \"lose\", \"night\", \"addicted\", \"harder\", \"temple\", \"soon\", \"fish\", \"today\", \"earn\", \"buy\", \"real\", \"pay\", \"hours\", \"games\", \"levels\", \"story\", \"gets\", \"play\", \"fun\", \"playing\", \"like\", \"good\", \"just\", \"really\", \"wish\", \"time\", \"played\", \"don\", \"little\", \"free\", \"lot\", \"different\", \"worth\", \"hard\", \"great\", \"enjoy\", \"think\", \"love\", \"challenging\", \"easy\", \"able\", \"amazon\", \"update\", \"actually\", \"problems\", \"read\", \"open\", \"needs\", \"fine\", \"glad\", \"access\", \"fix\", \"says\", \"internet\", \"wrong\", \"check\", \"delete\", \"application\", \"said\", \"colors\", \"save\", \"force\", \"apps\", \"solitaire\", \"features\", \"data\", \"usually\", \"account\", \"daily\", \"uninstalled\", \"device\", \"program\", \"android\", \"phone\", \"works\", \"app\", \"kindle\", \"does\", \"use\", \"work\", \"facebook\", \"tried\", \"download\", \"using\", \"doesn\", \"want\", \"just\", \"don\", \"like\", \"need\", \"great\", \"free\", \"got\", \"people\", \"better\", \"easy\", \"awesome\", \"quot\", \"cool\", \"fast\", \"challenge\", \"highly\", \"family\", \"bingo\", \"minutes\", \"friends\", \"ages\", \"especially\", \"bored\", \"couldn\", \"absolutely\", \"wonderful\", \"build\", \"friend\", \"forever\", \"opinion\", \"user\", \"gems\", \"mini\", \"waster\", \"age\", \"school\", \"netflix\", \"bible\", \"credits\", \"paced\", \"amazing\", \"word\", \"love\", \"recommend\", \"kids\", \"best\", \"fun\", \"great\", \"addicting\", \"think\", \"play\", \"really\", \"app\", \"like\", \"easy\", \"kindle\", \"good\", \"try\", \"games\", \"time\", \"makes\", \"just\", \"free\", \"playing\", \"got\", \"looking\", \"interesting\", \"tablet\", \"entertaining\", \"ones\", \"worked\", \"frustrating\", \"faotd\", \"weather\", \"feature\", \"goes\", \"permissions\", \"left\", \"son\", \"understand\", \"card\", \"second\", \"cards\", \"person\", \"went\", \"exactly\", \"past\", \"awhile\", \"board\", \"sorry\", \"score\", \"pieces\", \"perfectly\", \"learning\", \"simply\", \"background\", \"times\", \"paid\", \"high\", \"did\", \"button\", \"end\", \"screen\", \"trying\", \"puzzle\", \"set\", \"used\", \"day\", \"time\", \"know\", \"app\", \"stars\", \"don\", \"takes\", \"version\", \"just\", \"look\", \"old\", \"going\", \"help\", \"start\", \"year\", \"favorite\", \"pass\", \"ads\", \"watch\", \"mind\", \"loves\", \"birds\", \"brain\", \"purchase\", \"angry\", \"developer\", \"helps\", \"tell\", \"doing\", \"hate\", \"stuck\", \"enjoyable\", \"short\", \"rating\", \"search\", \"similar\", \"daughter\", \"children\", \"items\", \"thinking\", \"plus\", \"figure\", \"level\", \"far\", \"way\", \"version\", \"new\", \"puzzles\", \"time\", \"try\", \"great\", \"like\", \"just\", \"good\"], \"loglift\": [30.0, 29.0, 28.0, 27.0, 26.0, 25.0, 24.0, 23.0, 22.0, 21.0, 20.0, 19.0, 18.0, 17.0, 16.0, 15.0, 14.0, 13.0, 12.0, 11.0, 10.0, 9.0, 8.0, 7.0, 6.0, 5.0, 4.0, 3.0, 2.0, 1.0, 1.237, 1.2369, 1.2364, 1.2358, 1.2358, 1.2357, 1.235, 1.2349, 1.2349, 1.2346, 1.2345, 1.2343, 1.2343, 1.2341, 1.2341, 1.2341, 1.234, 1.2337, 1.2333, 1.2331, 1.2329, 1.2328, 1.2325, 1.2324, 1.2324, 1.2323, 1.2322, 1.2321, 1.2321, 1.2318, 1.2298, 1.1643, 1.1426, 1.1404, 1.117, 0.9329, 1.0292, 1.0995, 1.1167, 0.7574, 0.7086, 0.8624, 0.5658, 0.6266, 0.4929, 0.5292, 0.9661, 0.4444, 0.8193, 0.4798, 0.6812, 0.4216, 0.6658, 0.8024, 0.8402, 0.7357, -0.0383, 0.62, 0.4768, -0.5369, 0.7386, 0.1198, 1.4119, 1.4117, 1.4114, 1.4112, 1.4111, 1.4111, 1.411, 1.4103, 1.4102, 1.41, 1.4097, 1.4096, 1.4093, 1.409, 1.4089, 1.4089, 1.4085, 1.4082, 1.4082, 1.408, 1.4079, 1.4076, 1.4071, 1.4071, 1.407, 1.4068, 1.4067, 1.4067, 1.4064, 1.4064, 1.4033, 1.4041, 1.3968, 1.319, 1.2807, 1.0619, 1.1028, 1.2184, 1.0987, 1.185, 1.2792, 1.2542, 1.0941, 1.0419, 0.9031, 0.531, -0.0071, 0.1214, -0.377, 0.5611, -0.2645, 0.012, 0.3399, 0.5998, 0.3277, -0.1265, 1.7309, 1.7308, 1.7302, 1.7297, 1.7294, 1.7289, 1.7289, 1.7287, 1.7287, 1.7285, 1.7282, 1.7279, 1.7278, 1.7277, 1.7272, 1.7266, 1.7259, 1.7256, 1.7234, 1.7228, 1.7226, 1.7225, 1.7221, 1.7219, 1.7216, 1.7211, 1.7207, 1.7205, 1.7203, 1.7191, 1.7116, 1.6527, 1.5309, 1.5, 1.4226, 1.2525, 0.8064, 0.8689, 1.3839, 1.065, 0.67, 0.7067, 0.2225, 0.2863, 0.7795, 0.4113, 0.3062, 0.9055, 0.0795, -0.0937, 1.0393, -0.2576, -0.0202, 0.0646, 0.4397, 1.9106, 1.9103, 1.9103, 1.9097, 1.9091, 1.9083, 1.9081, 1.908, 1.908, 1.9078, 1.9077, 1.9076, 1.9076, 1.9076, 1.9076, 1.9074, 1.9073, 1.907, 1.9068, 1.9067, 1.9061, 1.9059, 1.9058, 1.9057, 1.9055, 1.9052, 1.9048, 1.9047, 1.9041, 1.9037, 1.8923, 1.6842, 1.7496, 1.846, 1.5624, 1.678, 1.7119, 1.4366, 1.4551, 1.4377, 1.5721, 1.2671, 0.8253, -0.0549, 0.7503, -0.7055, 0.9443, -0.1053, 1.2776, 0.5824, -0.9488, 1.0583, 1.9491, 1.9489, 1.9488, 1.9485, 1.948, 1.948, 1.9479, 1.9479, 1.9478, 1.9478, 1.9478, 1.9477, 1.9474, 1.9473, 1.9471, 1.9469, 1.9463, 1.9463, 1.9463, 1.9461, 1.9461, 1.946, 1.9459, 1.9459, 1.9455, 1.9455, 1.9454, 1.9454, 1.9452, 1.945, 1.9413, 1.7592, 1.3713, 1.4126, 1.0131, 1.1401, 1.1921, 1.315, 0.31, 1.0717, -0.2693, -0.7269, -0.4594, -0.4638], \"Freq\": [3534.0, 5483.0, 4648.0, 3733.0, 2280.0, 756.0, 2307.0, 708.0, 974.0, 973.0, 587.0, 3018.0, 827.0, 512.0, 2598.0, 1077.0, 715.0, 478.0, 471.0, 584.0, 773.0, 1603.0, 394.0, 639.0, 616.0, 513.0, 4601.0, 526.0, 804.0, 351.0, 973.8180459315229, 826.8839127314368, 542.1100966482588, 383.70494733531655, 379.9953178616491, 382.2619946474665, 278.26066001700474, 296.0852544881618, 272.2598531795457, 250.54466489108054, 242.31962408761015, 226.440950130905, 225.22283301939194, 216.67731993270536, 217.18596508867478, 221.83140807092647, 452.4818618311281, 193.7721543386443, 179.4064581272243, 171.12886111094525, 165.81259150459542, 159.23757438027744, 151.50756502189788, 151.48866252570969, 147.9538536937234, 143.44873162054424, 142.01069349068757, 144.30694186729482, 140.09743865227026, 138.0429473699825, 164.15040930219521, 747.624994550553, 446.3510622550004, 418.14716112195663, 397.1030039660329, 1701.1110156901084, 610.884021062366, 349.94492451680867, 307.83288715946327, 2309.214870222502, 2738.266053845153, 1101.8537271209943, 2349.6472623613695, 1275.006686261663, 1413.4393153700062, 1279.4869084034235, 402.97114100750747, 1195.067179862284, 533.1151520629991, 888.2156962067885, 587.2687374843483, 833.8140510555962, 552.6383247409117, 463.00485444422605, 436.8637091168935, 477.6299362262668, 842.367713838412, 478.5485227302008, 503.1977542380483, 599.115611474617, 413.73565470445146, 431.0027271125189, 444.21544649886863, 400.83489048467993, 370.8477342400146, 322.02107638554463, 310.3512106750461, 302.8660193722292, 293.12968176494627, 240.24334316852313, 228.25537991968503, 219.06570175243684, 202.89612634224267, 196.5870947598534, 181.9393052340967, 170.84868683860614, 170.55542949954972, 167.4625257565643, 153.23598133683922, 146.15162413776005, 246.83731263593572, 144.31421189593803, 139.32707683550152, 131.08078666261832, 580.6057369970836, 121.98910781413677, 143.54815389941749, 114.69848882605694, 116.76315653177315, 113.35784482364767, 111.75249603235044, 109.87493786055305, 275.93746053243854, 142.00740008214882, 171.54901039908245, 487.9477168769066, 677.2862825507225, 3857.2040508779105, 1671.0324927680765, 529.1040069559747, 932.4175938147077, 542.5423901375061, 300.84459565341257, 333.15366370858237, 426.5286812429972, 271.09791700568184, 303.2274773025656, 430.23326988765933, 719.0108330463356, 520.6231941963679, 767.6732550797866, 354.2031969356293, 563.5396931725695, 464.3359484040874, 347.38134991595217, 304.21106183823565, 291.49421065293535, 282.5950742744552, 755.3163371428727, 707.9022295583243, 470.4433208566697, 354.53996467688694, 316.10150284187006, 290.0856308598693, 264.4167499053743, 242.1649996626505, 252.5280896892738, 476.67949295869096, 214.39059925034033, 204.52002796698054, 195.26487596325313, 194.11854991584036, 171.15299938422845, 152.88870874181598, 134.98359553636624, 126.99490810505736, 94.83506318939183, 88.42295600301233, 90.66922164681108, 85.5117465490234, 85.60827339559143, 79.79515352445378, 100.68849238081354, 75.707881290333, 72.69986250982079, 70.28336366171321, 69.40531169819327, 62.153421771532734, 259.87223412864927, 383.0960201063252, 2890.6098904140754, 771.610422316353, 469.06388889939745, 534.4554824669776, 1842.2681176007823, 1273.2220667805611, 247.3724172663003, 552.8372939224189, 1291.0663569108317, 932.2846838818425, 1211.9774060454356, 1083.954805027647, 508.635246192702, 608.8166518531593, 564.6665446898077, 313.15611249386626, 442.10846493158056, 425.70690206102324, 277.2495359447188, 407.1340044863236, 327.0707243201034, 302.73573367824423, 279.2151582054603, 357.2930529211606, 324.1210119052474, 319.69426641859764, 260.1298112159031, 214.97396290041019, 176.78155786760468, 170.81762701788048, 164.89318080099045, 163.32268421090942, 160.66733503690995, 155.3429403944904, 153.69378954040332, 153.50786030292969, 154.56479099954925, 152.01964679702286, 147.87971632181953, 143.9407971100556, 137.1112094849918, 133.2938433058824, 131.68178182555403, 120.05165978972501, 115.2083327664894, 114.31510241894465, 112.16766826636145, 109.67766428509054, 132.9143003820331, 99.33524239948497, 98.30149416308866, 91.99604269112474, 87.54384914103657, 103.94466719851302, 408.9369165156767, 211.56638399520554, 125.38413479733752, 370.74976115602203, 198.61866220505462, 178.94225440634239, 322.446166277912, 221.34196197358955, 221.00735710928984, 160.82429892191072, 191.52081528857872, 236.13834233751913, 369.3394161577392, 238.58695017050965, 399.8696413722788, 206.4110933942108, 251.94624415754853, 169.56007984000163, 188.47097496295194, 170.22944094240435, 157.51011094552433, 586.0358338237346, 511.8079852769475, 393.873533621725, 350.8896628276148, 294.25011313725736, 282.20555848260284, 274.5804144094294, 271.51283977371907, 270.9091011271957, 266.0030417623013, 262.25767102875596, 253.44297580238964, 236.4929126833365, 230.0219652370761, 216.93566774921564, 209.79352203435874, 178.3455430486219, 178.45135484154088, 177.57570472734037, 171.51358935562956, 169.27898871523414, 164.9479914949821, 164.730207936762, 164.89104914906804, 151.44416826948205, 151.3973229553313, 147.59442792638774, 146.3581301593511, 190.29863059084798, 138.54427553640036, 203.141818225108, 251.35450594074456, 400.6871750421453, 360.0657514065261, 384.0885654786931, 316.9152495921135, 304.1866172550569, 269.87359393376073, 512.1227230395372, 297.0862031351123, 327.75484528078965, 316.175417013688, 267.321593449548, 210.04666276998358], \"Total\": [3534.0, 5483.0, 4648.0, 3733.0, 2280.0, 756.0, 2307.0, 708.0, 974.0, 973.0, 587.0, 3018.0, 827.0, 512.0, 2598.0, 1077.0, 715.0, 478.0, 471.0, 584.0, 773.0, 1603.0, 394.0, 639.0, 616.0, 513.0, 4601.0, 526.0, 804.0, 351.0, 974.6292340152131, 827.6960182761052, 542.9317211818384, 384.5184532964109, 380.80303757213926, 383.0818211258033, 279.0693440312194, 296.96276790266245, 273.06864932620954, 251.35552965943376, 243.13501807168407, 227.2505787291353, 226.03997348138392, 217.49867506489693, 218.0109906194389, 222.6789983107291, 454.22346981325563, 194.5814399162916, 180.22081401122293, 171.94339955932048, 166.6317129804977, 160.0486013712176, 152.33120859568314, 152.31367319951732, 148.76730397608927, 144.2568411353136, 142.81297973264628, 145.1371236630901, 140.9059953564645, 138.8886457011983, 165.4771777573139, 804.7137228017606, 490.98013256815386, 460.95487223760165, 448.1256023104207, 2307.81344784203, 752.6096799257805, 401.8993570023255, 347.4795812359908, 3733.7660603741515, 4648.797485354818, 1603.9655628350015, 4601.160220454491, 2349.473774428896, 2977.135187294618, 2598.921908587441, 528.7920829010296, 2642.3347873934395, 810.2144787140392, 1895.692461816254, 1024.7308067971999, 1886.1763105062023, 979.2130536274836, 715.6680603549806, 650.2314114676623, 789.1970231506754, 3018.149524488988, 887.7223938661393, 1077.1096054258537, 3534.193142052568, 681.6581788704312, 1318.4339997272311, 445.02887072116215, 401.65744140052993, 371.7026587812112, 322.8430577248654, 311.16282183954536, 303.66910810399145, 293.9340637205759, 241.05529635689072, 229.0653022932456, 219.8811471878605, 203.70303958503985, 197.38992726988718, 182.74837574539865, 171.64891509295106, 171.3738036350353, 168.27130118502234, 154.04308638265647, 146.9530491106322, 248.20947148919166, 145.13437472396143, 140.1399307835439, 131.88496632522921, 584.4235048308931, 122.8013735714826, 144.5194067904991, 115.49833589313111, 117.58804446881396, 114.15917406807611, 112.56642466033935, 110.68095345918493, 278.8251749838025, 143.38318704669197, 174.46917741718332, 536.4047855272141, 773.6655872358488, 5483.373155625181, 2280.467793045039, 643.2017306755888, 1277.6716404170395, 681.9599475007544, 344.15336247885983, 390.7724215926948, 587.1342359812846, 393.1784931768706, 505.2575246531611, 1040.0458958653717, 2977.135187294618, 1895.692461816254, 4601.160220454491, 830.8442209756099, 3018.149524488988, 1886.1763105062023, 1016.654601942068, 686.5174839299625, 863.5498873066919, 1318.4339997272311, 756.1435695069985, 708.7131276240647, 471.25254815160815, 355.3527401912543, 316.9117794006197, 290.9634827115757, 265.22084715760855, 242.9663327066677, 253.36464968088654, 478.33013278561407, 215.1938810610193, 205.35381915546776, 196.08032773234157, 194.9476287685286, 171.9710838027764, 153.7055458691062, 135.7978805559645, 127.80293696346652, 95.64883983928723, 89.23996139019842, 91.52453510629668, 86.32515629858553, 86.45371118984544, 80.60168684529192, 101.74186759552892, 76.53109144705756, 73.52288658166351, 71.09662946162986, 70.21701961238496, 62.95652288082784, 265.21099239092047, 414.7161100490229, 3534.193142052568, 973.0734846333551, 639.1332289002735, 863.2921178717935, 4648.797485354818, 3018.149524488988, 350.3678260081944, 1077.1096054258537, 3733.7660603741515, 2598.921908587441, 5483.373155625181, 4601.160220454491, 1318.4339997272311, 2280.467793045039, 2349.473774428896, 715.639095093901, 2307.81344784203, 2642.3347873934395, 554.216250319578, 2977.135187294618, 1886.1763105062023, 1603.9655628350015, 1016.654601942068, 358.0948133309613, 324.9285829058309, 320.49549114196105, 260.9369427796745, 215.7819013090492, 177.58387039542518, 171.62003465770522, 165.69370549393506, 164.11725511915614, 161.4673691632463, 156.14565094320312, 154.49041594055814, 154.30782232749536, 155.3741175507467, 152.8209545748985, 148.67831341781942, 144.73993645154897, 137.90968897272347, 134.10183320307976, 132.48215737954195, 120.854379618328, 116.01209407113585, 115.12120613599535, 112.9693532974776, 110.48220746194454, 133.92798988372778, 100.1291550386668, 99.10485721884707, 92.79666564089153, 88.34748803650912, 106.1015257129453, 513.9934426879039, 249.06154030240873, 134.04087867885386, 526.3127313255701, 251.18442876549943, 218.7612947184222, 519.1188479484514, 349.83136565356074, 355.4240778154454, 226.11330500088366, 365.31194533072875, 700.5777228798738, 2642.3347873934395, 762.9533141440605, 5483.373155625181, 543.7006128355242, 1895.692461816254, 320.0454029394151, 712.9293846011756, 2977.135187294618, 370.1677788341108, 587.0166093588637, 512.8143589410748, 394.6857879948496, 351.69920993842953, 295.07609406521, 283.0144702399854, 275.3847257503582, 272.31901847664807, 271.7154200065662, 266.80515452401687, 263.05991119343076, 254.24232069751946, 237.29571396057506, 230.83110697861372, 217.73472152245157, 210.61523887711328, 179.14885474703382, 179.2587239685653, 178.38717733436192, 172.3242554682006, 170.08426380130794, 165.75186733908208, 165.53988009351116, 165.70354926945228, 152.2543186074829, 152.207908945251, 148.39638584466127, 147.16063484719652, 191.3783400925399, 139.34814463256583, 205.0822235173169, 304.4354505872569, 715.3223646282079, 616.7773566776434, 980.9729775111624, 712.9293846011756, 649.5712279297968, 509.65764881834946, 2642.3347873934395, 715.639095093901, 3018.149524488988, 4601.160220454491, 2977.135187294618, 2349.473774428896], \"logprob\": [30.0, 29.0, 28.0, 27.0, 26.0, 25.0, 24.0, 23.0, 22.0, 21.0, 20.0, 19.0, 18.0, 17.0, 16.0, 15.0, 14.0, 13.0, 12.0, 11.0, 10.0, 9.0, 8.0, 7.0, 6.0, 5.0, 4.0, 3.0, 2.0, 1.0, -4.2717, -4.4353, -4.8575, -5.2031, -5.2128, -5.2068, -5.5244, -5.4623, -5.5462, -5.6293, -5.6627, -5.7305, -5.7358, -5.7745, -5.7722, -5.751, -5.0382, -5.8863, -5.9633, -6.0105, -6.0421, -6.0825, -6.1323, -6.1324, -6.156, -6.187, -6.197, -6.181, -6.2106, -6.2254, -6.0522, -4.536, -5.0518, -5.1171, -5.1687, -3.7139, -4.738, -5.2952, -5.4234, -3.4083, -3.2379, -4.1482, -3.3909, -4.0022, -3.8992, -3.9987, -5.1541, -4.067, -4.8742, -4.3637, -4.7775, -4.4269, -4.8382, -5.0152, -5.0733, -4.9841, -4.4167, -4.9822, -4.932, -4.7575, -5.1277, -5.0868, -4.8808, -4.9836, -5.0613, -5.2025, -5.2394, -5.2638, -5.2965, -5.4955, -5.5466, -5.5877, -5.6644, -5.696, -5.7734, -5.8363, -5.838, -5.8563, -5.9451, -5.9925, -5.4684, -6.0051, -6.0403, -6.1013, -4.613, -6.1732, -6.0104, -6.2348, -6.217, -6.2466, -6.2608, -6.2778, -5.3569, -6.0212, -5.8322, -4.7869, -4.459, -2.7194, -3.5559, -4.7059, -4.1393, -4.6808, -5.2705, -5.1685, -4.9214, -5.3746, -5.2626, -4.9128, -4.3992, -4.7221, -4.3337, -5.1072, -4.6429, -4.8365, -5.1267, -5.2594, -5.3021, -5.3331, -4.0317, -4.0965, -4.5052, -4.788, -4.9028, -4.9887, -5.0813, -5.1692, -5.1273, -4.492, -5.2911, -5.3382, -5.3845, -5.3904, -5.5163, -5.6291, -5.7537, -5.8147, -6.1067, -6.1767, -6.1516, -6.2102, -6.2091, -6.2794, -6.0468, -6.332, -6.3725, -6.4063, -6.4189, -6.5292, -5.0987, -4.7106, -2.6896, -4.0104, -4.5081, -4.3776, -3.1401, -3.5095, -5.148, -4.3438, -3.4956, -3.8212, -3.5588, -3.6705, -4.4271, -4.2473, -4.3226, -4.9121, -4.5673, -4.6051, -5.0339, -4.6497, -4.8687, -4.946, -5.0269, -4.5994, -4.6969, -4.7106, -4.9168, -5.1075, -5.3031, -5.3374, -5.3727, -5.3823, -5.3987, -5.4324, -5.443, -5.4443, -5.4374, -5.454, -5.4816, -5.5086, -5.5572, -5.5854, -5.5976, -5.6901, -5.7313, -5.739, -5.758, -5.7805, -5.5883, -5.8795, -5.89, -5.9563, -6.0059, -5.8341, -4.4644, -5.1235, -5.6466, -4.5625, -5.1866, -5.2909, -4.7021, -5.0783, -5.0798, -5.3977, -5.223, -5.0136, -4.5663, -5.0033, -4.4869, -5.1481, -4.9488, -5.3448, -5.2391, -5.3409, -5.4185, -4.0666, -4.202, -4.464, -4.5795, -4.7556, -4.7974, -4.8247, -4.836, -4.8382, -4.8565, -4.8707, -4.9049, -4.9741, -5.0018, -5.0604, -5.0939, -5.2563, -5.2557, -5.2606, -5.2953, -5.3084, -5.3344, -5.3357, -5.3347, -5.4198, -5.4201, -5.4455, -5.4539, -5.1914, -5.5088, -5.1261, -4.9131, -4.4468, -4.5537, -4.4891, -4.6814, -4.7224, -4.842, -4.2014, -4.746, -4.6477, -4.6837, -4.8515, -5.0927]}};\n",
       "\n",
       "function LDAvis_load_lib(url, callback){\n",
       "  var s = document.createElement('script');\n",
       "  s.src = url;\n",
       "  s.async = true;\n",
       "  s.onreadystatechange = s.onload = callback;\n",
       "  s.onerror = function(){console.warn(\"failed to load library \" + url);};\n",
       "  document.getElementsByTagName(\"head\")[0].appendChild(s);\n",
       "}\n",
       "\n",
       "if(typeof(LDAvis) !== \"undefined\"){\n",
       "   // already loaded: just create the visualization\n",
       "   !function(LDAvis){\n",
       "       new LDAvis(\"#\" + \"ldavis_el2097345604758564650897850\", ldavis_el2097345604758564650897850_data);\n",
       "   }(LDAvis);\n",
       "}else if(typeof define === \"function\" && define.amd){\n",
       "   // require.js is available: use it to load d3/LDAvis\n",
       "   require.config({paths: {d3: \"https://cdnjs.cloudflare.com/ajax/libs/d3/3.5.5/d3.min\"}});\n",
       "   require([\"d3\"], function(d3){\n",
       "      window.d3 = d3;\n",
       "      LDAvis_load_lib(\"https://cdn.rawgit.com/bmabey/pyLDAvis/files/ldavis.v1.0.0.js\", function(){\n",
       "        new LDAvis(\"#\" + \"ldavis_el2097345604758564650897850\", ldavis_el2097345604758564650897850_data);\n",
       "      });\n",
       "    });\n",
       "}else{\n",
       "    // require.js not available: dynamically load d3 & LDAvis\n",
       "    LDAvis_load_lib(\"https://cdnjs.cloudflare.com/ajax/libs/d3/3.5.5/d3.min.js\", function(){\n",
       "         LDAvis_load_lib(\"https://cdn.rawgit.com/bmabey/pyLDAvis/files/ldavis.v1.0.0.js\", function(){\n",
       "                 new LDAvis(\"#\" + \"ldavis_el2097345604758564650897850\", ldavis_el2097345604758564650897850_data);\n",
       "            })\n",
       "         });\n",
       "}\n",
       "</script>"
      ],
      "text/plain": [
       "PreparedData(topic_coordinates=            Freq  cluster  topics         x         y\n",
       "topic                                                \n",
       "0      28.999920        1       1 -0.132669 -0.076110\n",
       "3      24.324081        1       2  0.121562 -0.127035\n",
       "2      17.693707        1       3 -0.136806 -0.168210\n",
       "1      14.766524        1       4  0.311718  0.090769\n",
       "4      14.215768        1       5 -0.163805  0.280586, topic_info=     Category         Freq       Term        Total  loglift  logprob\n",
       "term                                                                \n",
       "2162  Default  3534.000000       love  3534.000000  30.0000  30.0000\n",
       "160   Default  5483.000000        app  5483.000000  29.0000  29.0000\n",
       "1515  Default  4648.000000        fun  4648.000000  28.0000  28.0000\n",
       "2687  Default  3733.000000       play  3733.000000  27.0000  27.0000\n",
       "2004  Default  2280.000000     kindle  2280.000000  26.0000  26.0000\n",
       "249   Default   756.000000    awesome   756.000000  25.0000  25.0000\n",
       "1536  Default  2307.000000      games  2307.000000  24.0000  24.0000\n",
       "2894  Default   708.000000       quot   708.000000  23.0000  23.0000\n",
       "1630  Default   974.000000   graphics   974.000000  22.0000  22.0000\n",
       "2969  Default   973.000000  recommend   973.000000  21.0000  21.0000\n",
       "2488  Default   587.000000        old   587.000000  20.0000  20.0000\n",
       "1634  Default  3018.000000      great  3018.000000  19.0000  19.0000\n",
       "2325  Default   827.000000      money   827.000000  18.0000  18.0000\n",
       "1594  Default   512.000000      going   512.000000  17.0000  17.0000\n",
       "2941  Default  2598.000000     really  2598.000000  16.0000  16.0000\n",
       "3710  Default  1077.000000      think  1077.000000  15.0000  15.0000\n",
       "2081  Default   715.000000      level   715.000000  14.0000  14.0000\n",
       "1503  Default   478.000000    friends   478.000000  13.0000  13.0000\n",
       "800   Default   471.000000       cool   471.000000  12.0000  12.0000\n",
       "180   Default   584.000000       apps   584.000000  11.0000  11.0000\n",
       "4099  Default   773.000000      works   773.000000  10.0000  10.0000\n",
       "2694  Default  1603.000000    playing  1603.000000   9.0000   9.0000\n",
       "1732  Default   394.000000       help   394.000000   8.0000   8.0000\n",
       "1995  Default   639.000000       kids   639.000000   7.0000   7.0000\n",
       "1342  Default   616.000000        far   616.000000   6.0000   6.0000\n",
       "3749  Default   513.000000      times   513.000000   5.0000   5.0000\n",
       "2090  Default  4601.000000       like  4601.000000   4.0000   4.0000\n",
       "1004  Default   526.000000        did   526.000000   3.0000   3.0000\n",
       "488   Default   804.000000        buy   804.000000   2.0000   2.0000\n",
       "3479  Default   351.000000      start   351.000000   1.0000   1.0000\n",
       "...       ...          ...        ...          ...      ...      ...\n",
       "138    Topic5   216.935668      angry   217.734722   1.9471  -5.0604\n",
       "988    Topic5   209.793522  developer   210.615239   1.9469  -5.0939\n",
       "1736   Topic5   178.345543      helps   179.148855   1.9463  -5.2563\n",
       "3670   Topic5   178.451355       tell   179.258724   1.9463  -5.2557\n",
       "1074   Topic5   177.575705      doing   178.387177   1.9463  -5.2606\n",
       "1702   Topic5   171.513589       hate   172.324255   1.9461  -5.2953\n",
       "3541   Topic5   169.278989      stuck   170.084264   1.9461  -5.3084\n",
       "1206   Topic5   164.947991  enjoyable   165.751867   1.9460  -5.3344\n",
       "3293   Topic5   164.730208      short   165.539880   1.9459  -5.3357\n",
       "2918   Topic5   164.891049     rating   165.703549   1.9459  -5.3347\n",
       "3205   Topic5   151.444168     search   152.254319   1.9455  -5.4198\n",
       "3321   Topic5   151.397323    similar   152.207909   1.9455  -5.4201\n",
       "910    Topic5   147.594428   daughter   148.396386   1.9454  -5.4455\n",
       "611    Topic5   146.358130   children   147.160635   1.9454  -5.4539\n",
       "1952   Topic5   190.298631      items   191.378340   1.9452  -5.1914\n",
       "3711   Topic5   138.544276   thinking   139.348145   1.9450  -5.5088\n",
       "2707   Topic5   203.141818       plus   205.082224   1.9413  -5.1261\n",
       "1386   Topic5   251.354506     figure   304.435451   1.7592  -4.9131\n",
       "2081   Topic5   400.687175      level   715.322365   1.3713  -4.4468\n",
       "1342   Topic5   360.065751        far   616.777357   1.4126  -4.5537\n",
       "4023   Topic5   384.088565        way   980.972978   1.0131  -4.4891\n",
       "3951   Topic5   316.915250    version   712.929385   1.1401  -4.6814\n",
       "2406   Topic5   304.186617        new   649.571228   1.1921  -4.7224\n",
       "2876   Topic5   269.873594    puzzles   509.657649   1.3150  -4.8420\n",
       "3745   Topic5   512.122723       time  2642.334787   0.3100  -4.2014\n",
       "3835   Topic5   297.086203        try   715.639095   1.0717  -4.7460\n",
       "1634   Topic5   327.754845      great  3018.149524  -0.2693  -4.6477\n",
       "2090   Topic5   316.175417       like  4601.160220  -0.7269  -4.6837\n",
       "1980   Topic5   267.321593       just  2977.135187  -0.4594  -4.8515\n",
       "1599   Topic5   210.046663       good  2349.473774  -0.4638  -5.0927\n",
       "\n",
       "[299 rows x 6 columns], token_table=      Topic      Freq         Term\n",
       "term                              \n",
       "3         2  0.997688         able\n",
       "5         3  0.994353   absolutely\n",
       "8         2  0.996549       access\n",
       "21        2  0.989846      account\n",
       "42        2  0.997389     actually\n",
       "46        1  0.994842     addicted\n",
       "47        1  0.291123    addicting\n",
       "47        3  0.704973    addicting\n",
       "49        1  0.997891    addictive\n",
       "68        5  0.998829          ads\n",
       "89        3  0.992708          age\n",
       "90        3  0.994452         ages\n",
       "123       1  0.018853      amazing\n",
       "123       3  0.980352      amazing\n",
       "125       2  0.998363       amazon\n",
       "129       1  0.998284          amp\n",
       "134       2  0.985847      android\n",
       "134       3  0.005732      android\n",
       "134       4  0.011463      android\n",
       "138       5  0.996626        angry\n",
       "160       2  0.703399          app\n",
       "160       3  0.221032          app\n",
       "160       4  0.072948          app\n",
       "160       5  0.002553          app\n",
       "170       2  0.993515  application\n",
       "180       2  0.994142         apps\n",
       "180       3  0.003422         apps\n",
       "180       5  0.001711         apps\n",
       "249       3  0.998488      awesome\n",
       "253       4  0.990261       awhile\n",
       "...     ...       ...          ...\n",
       "3998      4  0.076920         want\n",
       "3998      5  0.001923         want\n",
       "4014      3  0.992535       waster\n",
       "4017      5  0.997367        watch\n",
       "4023      1  0.371060          way\n",
       "4023      2  0.191646          way\n",
       "4023      3  0.045873          way\n",
       "4023      5  0.391448          way\n",
       "4029      4  0.993192      weather\n",
       "4042      4  0.996361         went\n",
       "4063      1  0.997012          win\n",
       "4075      1  0.762114         wish\n",
       "4075      2  0.141833         wish\n",
       "4075      3  0.096446         wish\n",
       "4083      3  0.995410    wonderful\n",
       "4090      3  0.923523         word\n",
       "4090      5  0.074750         word\n",
       "4095      2  0.796234         work\n",
       "4095      4  0.203824         work\n",
       "4096      4  0.996712       worked\n",
       "4099      2  0.875055        works\n",
       "4099      3  0.122792        works\n",
       "4099      4  0.001293        works\n",
       "4108      1  0.672068        worth\n",
       "4108      2  0.049213        worth\n",
       "4108      3  0.175322        worth\n",
       "4108      4  0.013841        worth\n",
       "4108      5  0.090737        worth\n",
       "4117      2  0.997819        wrong\n",
       "4129      5  0.996353         year\n",
       "\n",
       "[428 rows x 3 columns], R=30, lambda_step=0.01, plot_opts={'xlab': 'PC1', 'ylab': 'PC2'}, topic_order=[1, 4, 3, 2, 5])"
      ]
     },
     "execution_count": 68,
     "metadata": {},
     "output_type": "execute_result"
    }
   ],
   "source": [
    "pyLDAvis.sklearn.prepare(lda_tf, dtm_tf, tf_vectorizer)"
   ]
  },
  {
   "cell_type": "code",
   "execution_count": 2,
   "metadata": {},
   "outputs": [],
   "source": [
    "import json\n",
    "\n",
    "# Converting json to votes file format\n",
    "DATASET_FILE = 'Apps20k.json'\n",
    "dataset_file = open(DATASET_FILE)\n",
    "dataset_lines = dataset_file.readlines()\n",
    "\n",
    "output_file = open('Apps20k.votes', 'w')\n",
    "for line in dataset_lines:\n",
    "    d = json.loads(line)\n",
    "    output_file.write(d[\"reviewerID\"] + ' ' + d[\"asin\"]+ ' ' + str(d[\"overall\"]) + ' ' + str(d[\"unixReviewTime\"]) + ' ' + str(len(d[\"reviewText\"].split())) + ' ' + d[\"reviewText\"] + '\\n')\n",
    "output_file.close()"
   ]
  },
  {
   "cell_type": "code",
   "execution_count": 70,
   "metadata": {},
   "outputs": [
    {
     "name": "stdout",
     "output_type": "stream",
     "text": [
      "[u'B0097C8XL0', u'B00FDUH4WY', u'B00IG63BVK', u'B00821NZ74', u'B00FPYJLCY']\n",
      "http://www.asinlab.com/php/convertfromasin.php?asin_num=B0097C8XL0,B00FDUH4WY,B00IG63BVK,B00821NZ74,B00FPYJLCY&id_type=UPC&bulk=true&x=false\n",
      "[u'B00ANT8OF6', u'B00AMR1HZ8', u'B004WGGQPQ', u'B006C1ZSO4', u'B008LY1B32', u'B007KPT2N4', u'B0080JJLBW', u'B009P8EMCK']\n",
      "http://www.asinlab.com/php/convertfromasin.php?asin_num=B00ANT8OF6,B00AMR1HZ8,B004WGGQPQ,B006C1ZSO4,B008LY1B32,B007KPT2N4,B0080JJLBW,B009P8EMCK&id_type=UPC&bulk=true&x=false\n"
     ]
    }
   ],
   "source": [
    "def GetURL(products_list):\n",
    "    print products_list\n",
    "    products = ','.join([str(_) for _ in products_list])\n",
    "    url = \"http://www.asinlab.com/php/convertfromasin.php?asin_num=\" + products + \"&id_type=UPC&bulk=true&x=false\"\n",
    "    return url\n",
    "    \n",
    "print GetURL(recommendations)\n",
    "print GetURL(history)"
   ]
  },
  {
   "cell_type": "code",
   "execution_count": 39,
   "metadata": {
    "collapsed": true
   },
   "outputs": [],
   "source": [
    "DATASET_FILE = 'AppReviewsFull.json'\n",
    "dataset_file = open(DATASET_FILE)\n",
    "dataset_lines = dataset_file.readlines()[:30000]\n",
    "\n",
    "output_file = open('AppReviews30k.json', 'w')\n",
    "for line in dataset_lines:\n",
    "    output_file.write(line.strip() + '\\n')\n",
    "output_file.close()"
   ]
  },
  {
   "cell_type": "raw",
   "metadata": {},
   "source": [
    " \"reviewerID\": \"A1F6404F1VG29J\", \n",
    " \"asin\": \"B000F83SZQ\", \n",
    " \"reviewerName\": \"Avidreader\", \n",
    " \"helpful\": [0, 0], \n",
    " \"reviewText\": \"I enjoy vintage books and movies so I enjoyed reading this book.  The plot was unusual.  Don't think killing someone in self-defense but leaving the scene and the body without notifying the police or hitting someone in the jaw to knock them out would wash today.Still it was a good read for me.\", \n",
    " \"overall\": 5.0, \n",
    " \"summary\": \"Nice vintage story\", \n",
    " \"unixReviewTime\": 1399248000, \n",
    " "
   ]
  }
 ],
 "metadata": {
  "kernelspec": {
   "display_name": "Python 2",
   "language": "python",
   "name": "python2"
  },
  "language_info": {
   "codemirror_mode": {
    "name": "ipython",
    "version": 2
   },
   "file_extension": ".py",
   "mimetype": "text/x-python",
   "name": "python",
   "nbconvert_exporter": "python",
   "pygments_lexer": "ipython2",
   "version": "2.7.14"
  }
 },
 "nbformat": 4,
 "nbformat_minor": 2
}

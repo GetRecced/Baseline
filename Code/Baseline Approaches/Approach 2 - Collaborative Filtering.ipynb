{
 "cells": [
  {
   "cell_type": "code",
   "execution_count": 1,
   "metadata": {
    "collapsed": true
   },
   "outputs": [],
   "source": [
    "# Imports \n",
    "import string\n",
    "import pandas as pd\n",
    "import numpy as np\n",
    "import time\n",
    "from scipy.stats.stats import pearsonr \n",
    "from sklearn.model_selection import train_test_split\n",
    "from sklearn.metrics import mean_squared_error\n",
    "from sklearn.metrics import mean_absolute_error\n",
    "from sklearn.neighbors import NearestNeighbors\n",
    "import operator\n",
    "from scipy.sparse import csr_matrix"
   ]
  },
  {
   "cell_type": "code",
   "execution_count": 2,
   "metadata": {
    "collapsed": true
   },
   "outputs": [],
   "source": [
    "# load the data, keep only selected columns\n",
    "# Read the file using super fast Pandas.read_csv\n",
    "def load_required_data(path, required_columns):\n",
    "    dataframe = pd.read_json(path, lines=True)\n",
    "    dataframe = dataframe[required_columns]\n",
    "    return dataframe, dataframe.values"
   ]
  },
  {
   "cell_type": "code",
   "execution_count": 3,
   "metadata": {
    "collapsed": true
   },
   "outputs": [],
   "source": [
    "dataframe, values = load_required_data('../../Datasets/Apps Dataset/train_15000.json', [\"asin\", \"reviewerID\", \"overall\"])"
   ]
  },
  {
   "cell_type": "code",
   "execution_count": 4,
   "metadata": {},
   "outputs": [
    {
     "data": {
      "text/html": [
       "<div>\n",
       "<style>\n",
       "    .dataframe thead tr:only-child th {\n",
       "        text-align: right;\n",
       "    }\n",
       "\n",
       "    .dataframe thead th {\n",
       "        text-align: left;\n",
       "    }\n",
       "\n",
       "    .dataframe tbody tr th {\n",
       "        vertical-align: top;\n",
       "    }\n",
       "</style>\n",
       "<table border=\"1\" class=\"dataframe\">\n",
       "  <thead>\n",
       "    <tr style=\"text-align: right;\">\n",
       "      <th></th>\n",
       "      <th>asin</th>\n",
       "      <th>reviewerID</th>\n",
       "      <th>overall</th>\n",
       "    </tr>\n",
       "  </thead>\n",
       "  <tbody>\n",
       "    <tr>\n",
       "      <th>0</th>\n",
       "      <td>B00ANT8OF6</td>\n",
       "      <td>A00100742Q4O8VH0YMUBZ</td>\n",
       "      <td>4</td>\n",
       "    </tr>\n",
       "    <tr>\n",
       "      <th>1</th>\n",
       "      <td>B00AMR1HZ8</td>\n",
       "      <td>A00100742Q4O8VH0YMUBZ</td>\n",
       "      <td>4</td>\n",
       "    </tr>\n",
       "    <tr>\n",
       "      <th>2</th>\n",
       "      <td>B004WGGQPQ</td>\n",
       "      <td>A00100742Q4O8VH0YMUBZ</td>\n",
       "      <td>5</td>\n",
       "    </tr>\n",
       "    <tr>\n",
       "      <th>3</th>\n",
       "      <td>B006C1ZSO4</td>\n",
       "      <td>A00100742Q4O8VH0YMUBZ</td>\n",
       "      <td>5</td>\n",
       "    </tr>\n",
       "    <tr>\n",
       "      <th>4</th>\n",
       "      <td>B008LY1B32</td>\n",
       "      <td>A00100742Q4O8VH0YMUBZ</td>\n",
       "      <td>4</td>\n",
       "    </tr>\n",
       "    <tr>\n",
       "      <th>5</th>\n",
       "      <td>B007KPT2N4</td>\n",
       "      <td>A00100742Q4O8VH0YMUBZ</td>\n",
       "      <td>1</td>\n",
       "    </tr>\n",
       "    <tr>\n",
       "      <th>6</th>\n",
       "      <td>B0080JJLBW</td>\n",
       "      <td>A00100742Q4O8VH0YMUBZ</td>\n",
       "      <td>5</td>\n",
       "    </tr>\n",
       "    <tr>\n",
       "      <th>7</th>\n",
       "      <td>B009P8EMCK</td>\n",
       "      <td>A00100742Q4O8VH0YMUBZ</td>\n",
       "      <td>5</td>\n",
       "    </tr>\n",
       "    <tr>\n",
       "      <th>8</th>\n",
       "      <td>B00I8Q77Y0</td>\n",
       "      <td>A001619027H9L9EG4UVRB</td>\n",
       "      <td>5</td>\n",
       "    </tr>\n",
       "    <tr>\n",
       "      <th>9</th>\n",
       "      <td>B00H0BGCJK</td>\n",
       "      <td>A001619027H9L9EG4UVRB</td>\n",
       "      <td>5</td>\n",
       "    </tr>\n",
       "  </tbody>\n",
       "</table>\n",
       "</div>"
      ],
      "text/plain": [
       "         asin             reviewerID  overall\n",
       "0  B00ANT8OF6  A00100742Q4O8VH0YMUBZ        4\n",
       "1  B00AMR1HZ8  A00100742Q4O8VH0YMUBZ        4\n",
       "2  B004WGGQPQ  A00100742Q4O8VH0YMUBZ        5\n",
       "3  B006C1ZSO4  A00100742Q4O8VH0YMUBZ        5\n",
       "4  B008LY1B32  A00100742Q4O8VH0YMUBZ        4\n",
       "5  B007KPT2N4  A00100742Q4O8VH0YMUBZ        1\n",
       "6  B0080JJLBW  A00100742Q4O8VH0YMUBZ        5\n",
       "7  B009P8EMCK  A00100742Q4O8VH0YMUBZ        5\n",
       "8  B00I8Q77Y0  A001619027H9L9EG4UVRB        5\n",
       "9  B00H0BGCJK  A001619027H9L9EG4UVRB        5"
      ]
     },
     "execution_count": 4,
     "metadata": {},
     "output_type": "execute_result"
    }
   ],
   "source": [
    "dataframe[:10]"
   ]
  },
  {
   "cell_type": "code",
   "execution_count": 5,
   "metadata": {},
   "outputs": [
    {
     "data": {
      "text/plain": [
       "(15000, 3)"
      ]
     },
     "execution_count": 5,
     "metadata": {},
     "output_type": "execute_result"
    }
   ],
   "source": [
    "dataframe.shape"
   ]
  },
  {
   "cell_type": "code",
   "execution_count": 6,
   "metadata": {
    "collapsed": true
   },
   "outputs": [],
   "source": [
    "# Create user-item matrix given a matrix and mapping from original matrix columns to new matrix rows/columns\n",
    "def create_user_item_matrix(data, rowMapping, columnMapping):\n",
    "    # Create table of users to items by taking row and column pivots\n",
    "    # Rows of user-item table are users\n",
    "    rows, row_pos = np.unique(data[:, rowMapping], return_inverse=True)\n",
    "    # Columns of user-item table are movies\n",
    "    cols, col_pos = np.unique(data[:, columnMapping], return_inverse=True)\n",
    "\n",
    "    pivot_table = np.zeros((len(rows), len(cols)), dtype=data.dtype)\n",
    "    pivot_table[row_pos, col_pos] = data[:, 2]\n",
    "    return pivot_table, rows, cols"
   ]
  },
  {
   "cell_type": "code",
   "execution_count": 7,
   "metadata": {},
   "outputs": [
    {
     "name": "stdout",
     "output_type": "stream",
     "text": [
      "(3139L, 1842L)\n"
     ]
    }
   ],
   "source": [
    "ratings_matrix, rows, cols = create_user_item_matrix(values, rowMapping=1, columnMapping=0)\n",
    "print (ratings_matrix.shape)"
   ]
  },
  {
   "cell_type": "code",
   "execution_count": 8,
   "metadata": {},
   "outputs": [
    {
     "data": {
      "text/html": [
       "<div>\n",
       "<style>\n",
       "    .dataframe thead tr:only-child th {\n",
       "        text-align: right;\n",
       "    }\n",
       "\n",
       "    .dataframe thead th {\n",
       "        text-align: left;\n",
       "    }\n",
       "\n",
       "    .dataframe tbody tr th {\n",
       "        vertical-align: top;\n",
       "    }\n",
       "</style>\n",
       "<table border=\"1\" class=\"dataframe\">\n",
       "  <thead>\n",
       "    <tr style=\"text-align: right;\">\n",
       "      <th></th>\n",
       "      <th>B004ALVL6W</th>\n",
       "      <th>B004ANMWPY</th>\n",
       "      <th>B004DLNC4I</th>\n",
       "      <th>B004DLPXAO</th>\n",
       "      <th>B004DM1OAQ</th>\n",
       "      <th>B004DM1ZQY</th>\n",
       "      <th>B004DPBGCO</th>\n",
       "      <th>B004DPC5Y2</th>\n",
       "      <th>B004DPCSKI</th>\n",
       "      <th>B004DPIEF6</th>\n",
       "      <th>...</th>\n",
       "      <th>B00K7WGUKA</th>\n",
       "      <th>B00KFNXUY0</th>\n",
       "      <th>B00KGCNRAM</th>\n",
       "      <th>B00KI5Q8X0</th>\n",
       "      <th>B00KMX5V8G</th>\n",
       "      <th>B00KOEHQCW</th>\n",
       "      <th>B00KQHVWWC</th>\n",
       "      <th>B00KSOQ66K</th>\n",
       "      <th>B00KWVZ750</th>\n",
       "      <th>B00L3MNCNQ</th>\n",
       "    </tr>\n",
       "  </thead>\n",
       "  <tbody>\n",
       "    <tr>\n",
       "      <th>A00100742Q4O8VH0YMUBZ</th>\n",
       "      <td>0</td>\n",
       "      <td>0</td>\n",
       "      <td>0</td>\n",
       "      <td>0</td>\n",
       "      <td>0</td>\n",
       "      <td>0</td>\n",
       "      <td>0</td>\n",
       "      <td>0</td>\n",
       "      <td>0</td>\n",
       "      <td>0</td>\n",
       "      <td>...</td>\n",
       "      <td>0</td>\n",
       "      <td>0</td>\n",
       "      <td>0</td>\n",
       "      <td>0</td>\n",
       "      <td>0</td>\n",
       "      <td>0</td>\n",
       "      <td>0</td>\n",
       "      <td>0</td>\n",
       "      <td>0</td>\n",
       "      <td>0</td>\n",
       "    </tr>\n",
       "    <tr>\n",
       "      <th>A001619027H9L9EG4UVRB</th>\n",
       "      <td>0</td>\n",
       "      <td>0</td>\n",
       "      <td>0</td>\n",
       "      <td>0</td>\n",
       "      <td>0</td>\n",
       "      <td>0</td>\n",
       "      <td>0</td>\n",
       "      <td>0</td>\n",
       "      <td>0</td>\n",
       "      <td>0</td>\n",
       "      <td>...</td>\n",
       "      <td>0</td>\n",
       "      <td>0</td>\n",
       "      <td>0</td>\n",
       "      <td>0</td>\n",
       "      <td>0</td>\n",
       "      <td>0</td>\n",
       "      <td>0</td>\n",
       "      <td>0</td>\n",
       "      <td>0</td>\n",
       "      <td>0</td>\n",
       "    </tr>\n",
       "    <tr>\n",
       "      <th>A002359833QJM7OQHCXWY</th>\n",
       "      <td>0</td>\n",
       "      <td>0</td>\n",
       "      <td>0</td>\n",
       "      <td>0</td>\n",
       "      <td>0</td>\n",
       "      <td>0</td>\n",
       "      <td>0</td>\n",
       "      <td>0</td>\n",
       "      <td>0</td>\n",
       "      <td>0</td>\n",
       "      <td>...</td>\n",
       "      <td>0</td>\n",
       "      <td>0</td>\n",
       "      <td>0</td>\n",
       "      <td>0</td>\n",
       "      <td>0</td>\n",
       "      <td>0</td>\n",
       "      <td>0</td>\n",
       "      <td>0</td>\n",
       "      <td>0</td>\n",
       "      <td>0</td>\n",
       "    </tr>\n",
       "    <tr>\n",
       "      <th>A0037670NPLI11RBWYFA</th>\n",
       "      <td>0</td>\n",
       "      <td>0</td>\n",
       "      <td>0</td>\n",
       "      <td>0</td>\n",
       "      <td>0</td>\n",
       "      <td>0</td>\n",
       "      <td>0</td>\n",
       "      <td>0</td>\n",
       "      <td>0</td>\n",
       "      <td>0</td>\n",
       "      <td>...</td>\n",
       "      <td>0</td>\n",
       "      <td>0</td>\n",
       "      <td>0</td>\n",
       "      <td>0</td>\n",
       "      <td>0</td>\n",
       "      <td>0</td>\n",
       "      <td>0</td>\n",
       "      <td>0</td>\n",
       "      <td>0</td>\n",
       "      <td>0</td>\n",
       "    </tr>\n",
       "    <tr>\n",
       "      <th>A003841815JTX0JFLR8B1</th>\n",
       "      <td>0</td>\n",
       "      <td>0</td>\n",
       "      <td>0</td>\n",
       "      <td>0</td>\n",
       "      <td>0</td>\n",
       "      <td>0</td>\n",
       "      <td>0</td>\n",
       "      <td>0</td>\n",
       "      <td>0</td>\n",
       "      <td>0</td>\n",
       "      <td>...</td>\n",
       "      <td>0</td>\n",
       "      <td>0</td>\n",
       "      <td>0</td>\n",
       "      <td>0</td>\n",
       "      <td>0</td>\n",
       "      <td>0</td>\n",
       "      <td>0</td>\n",
       "      <td>0</td>\n",
       "      <td>0</td>\n",
       "      <td>0</td>\n",
       "    </tr>\n",
       "    <tr>\n",
       "      <th>A0038872349TB5N0JHQQW</th>\n",
       "      <td>0</td>\n",
       "      <td>0</td>\n",
       "      <td>0</td>\n",
       "      <td>0</td>\n",
       "      <td>0</td>\n",
       "      <td>0</td>\n",
       "      <td>0</td>\n",
       "      <td>0</td>\n",
       "      <td>0</td>\n",
       "      <td>0</td>\n",
       "      <td>...</td>\n",
       "      <td>0</td>\n",
       "      <td>0</td>\n",
       "      <td>0</td>\n",
       "      <td>0</td>\n",
       "      <td>0</td>\n",
       "      <td>0</td>\n",
       "      <td>0</td>\n",
       "      <td>0</td>\n",
       "      <td>0</td>\n",
       "      <td>0</td>\n",
       "    </tr>\n",
       "    <tr>\n",
       "      <th>A00455683H6M1GQZMPQPV</th>\n",
       "      <td>0</td>\n",
       "      <td>0</td>\n",
       "      <td>0</td>\n",
       "      <td>0</td>\n",
       "      <td>0</td>\n",
       "      <td>0</td>\n",
       "      <td>0</td>\n",
       "      <td>0</td>\n",
       "      <td>0</td>\n",
       "      <td>0</td>\n",
       "      <td>...</td>\n",
       "      <td>0</td>\n",
       "      <td>0</td>\n",
       "      <td>0</td>\n",
       "      <td>0</td>\n",
       "      <td>0</td>\n",
       "      <td>0</td>\n",
       "      <td>0</td>\n",
       "      <td>0</td>\n",
       "      <td>5</td>\n",
       "      <td>0</td>\n",
       "    </tr>\n",
       "    <tr>\n",
       "      <th>A0047670XAAJD587LXS7</th>\n",
       "      <td>0</td>\n",
       "      <td>0</td>\n",
       "      <td>0</td>\n",
       "      <td>0</td>\n",
       "      <td>0</td>\n",
       "      <td>0</td>\n",
       "      <td>0</td>\n",
       "      <td>0</td>\n",
       "      <td>0</td>\n",
       "      <td>0</td>\n",
       "      <td>...</td>\n",
       "      <td>0</td>\n",
       "      <td>0</td>\n",
       "      <td>0</td>\n",
       "      <td>0</td>\n",
       "      <td>0</td>\n",
       "      <td>0</td>\n",
       "      <td>0</td>\n",
       "      <td>0</td>\n",
       "      <td>0</td>\n",
       "      <td>0</td>\n",
       "    </tr>\n",
       "    <tr>\n",
       "      <th>A00501041JRAPWYLPQ4TE</th>\n",
       "      <td>0</td>\n",
       "      <td>0</td>\n",
       "      <td>0</td>\n",
       "      <td>0</td>\n",
       "      <td>0</td>\n",
       "      <td>0</td>\n",
       "      <td>0</td>\n",
       "      <td>0</td>\n",
       "      <td>0</td>\n",
       "      <td>0</td>\n",
       "      <td>...</td>\n",
       "      <td>0</td>\n",
       "      <td>0</td>\n",
       "      <td>0</td>\n",
       "      <td>0</td>\n",
       "      <td>0</td>\n",
       "      <td>0</td>\n",
       "      <td>0</td>\n",
       "      <td>0</td>\n",
       "      <td>0</td>\n",
       "      <td>0</td>\n",
       "    </tr>\n",
       "    <tr>\n",
       "      <th>A00507662MEMHI1YMGQ15</th>\n",
       "      <td>0</td>\n",
       "      <td>0</td>\n",
       "      <td>0</td>\n",
       "      <td>0</td>\n",
       "      <td>0</td>\n",
       "      <td>0</td>\n",
       "      <td>0</td>\n",
       "      <td>0</td>\n",
       "      <td>0</td>\n",
       "      <td>0</td>\n",
       "      <td>...</td>\n",
       "      <td>0</td>\n",
       "      <td>0</td>\n",
       "      <td>0</td>\n",
       "      <td>0</td>\n",
       "      <td>0</td>\n",
       "      <td>0</td>\n",
       "      <td>0</td>\n",
       "      <td>0</td>\n",
       "      <td>0</td>\n",
       "      <td>0</td>\n",
       "    </tr>\n",
       "  </tbody>\n",
       "</table>\n",
       "<p>10 rows × 1842 columns</p>\n",
       "</div>"
      ],
      "text/plain": [
       "                      B004ALVL6W B004ANMWPY B004DLNC4I B004DLPXAO B004DM1OAQ  \\\n",
       "A00100742Q4O8VH0YMUBZ          0          0          0          0          0   \n",
       "A001619027H9L9EG4UVRB          0          0          0          0          0   \n",
       "A002359833QJM7OQHCXWY          0          0          0          0          0   \n",
       "A0037670NPLI11RBWYFA           0          0          0          0          0   \n",
       "A003841815JTX0JFLR8B1          0          0          0          0          0   \n",
       "A0038872349TB5N0JHQQW          0          0          0          0          0   \n",
       "A00455683H6M1GQZMPQPV          0          0          0          0          0   \n",
       "A0047670XAAJD587LXS7           0          0          0          0          0   \n",
       "A00501041JRAPWYLPQ4TE          0          0          0          0          0   \n",
       "A00507662MEMHI1YMGQ15          0          0          0          0          0   \n",
       "\n",
       "                      B004DM1ZQY B004DPBGCO B004DPC5Y2 B004DPCSKI B004DPIEF6  \\\n",
       "A00100742Q4O8VH0YMUBZ          0          0          0          0          0   \n",
       "A001619027H9L9EG4UVRB          0          0          0          0          0   \n",
       "A002359833QJM7OQHCXWY          0          0          0          0          0   \n",
       "A0037670NPLI11RBWYFA           0          0          0          0          0   \n",
       "A003841815JTX0JFLR8B1          0          0          0          0          0   \n",
       "A0038872349TB5N0JHQQW          0          0          0          0          0   \n",
       "A00455683H6M1GQZMPQPV          0          0          0          0          0   \n",
       "A0047670XAAJD587LXS7           0          0          0          0          0   \n",
       "A00501041JRAPWYLPQ4TE          0          0          0          0          0   \n",
       "A00507662MEMHI1YMGQ15          0          0          0          0          0   \n",
       "\n",
       "                         ...     B00K7WGUKA B00KFNXUY0 B00KGCNRAM B00KI5Q8X0  \\\n",
       "A00100742Q4O8VH0YMUBZ    ...              0          0          0          0   \n",
       "A001619027H9L9EG4UVRB    ...              0          0          0          0   \n",
       "A002359833QJM7OQHCXWY    ...              0          0          0          0   \n",
       "A0037670NPLI11RBWYFA     ...              0          0          0          0   \n",
       "A003841815JTX0JFLR8B1    ...              0          0          0          0   \n",
       "A0038872349TB5N0JHQQW    ...              0          0          0          0   \n",
       "A00455683H6M1GQZMPQPV    ...              0          0          0          0   \n",
       "A0047670XAAJD587LXS7     ...              0          0          0          0   \n",
       "A00501041JRAPWYLPQ4TE    ...              0          0          0          0   \n",
       "A00507662MEMHI1YMGQ15    ...              0          0          0          0   \n",
       "\n",
       "                      B00KMX5V8G B00KOEHQCW B00KQHVWWC B00KSOQ66K B00KWVZ750  \\\n",
       "A00100742Q4O8VH0YMUBZ          0          0          0          0          0   \n",
       "A001619027H9L9EG4UVRB          0          0          0          0          0   \n",
       "A002359833QJM7OQHCXWY          0          0          0          0          0   \n",
       "A0037670NPLI11RBWYFA           0          0          0          0          0   \n",
       "A003841815JTX0JFLR8B1          0          0          0          0          0   \n",
       "A0038872349TB5N0JHQQW          0          0          0          0          0   \n",
       "A00455683H6M1GQZMPQPV          0          0          0          0          5   \n",
       "A0047670XAAJD587LXS7           0          0          0          0          0   \n",
       "A00501041JRAPWYLPQ4TE          0          0          0          0          0   \n",
       "A00507662MEMHI1YMGQ15          0          0          0          0          0   \n",
       "\n",
       "                      B00L3MNCNQ  \n",
       "A00100742Q4O8VH0YMUBZ          0  \n",
       "A001619027H9L9EG4UVRB          0  \n",
       "A002359833QJM7OQHCXWY          0  \n",
       "A0037670NPLI11RBWYFA           0  \n",
       "A003841815JTX0JFLR8B1          0  \n",
       "A0038872349TB5N0JHQQW          0  \n",
       "A00455683H6M1GQZMPQPV          0  \n",
       "A0047670XAAJD587LXS7           0  \n",
       "A00501041JRAPWYLPQ4TE          0  \n",
       "A00507662MEMHI1YMGQ15          0  \n",
       "\n",
       "[10 rows x 1842 columns]"
      ]
     },
     "execution_count": 8,
     "metadata": {},
     "output_type": "execute_result"
    }
   ],
   "source": [
    "pd.DataFrame(ratings_matrix[:10], index = rows[:10], columns= cols)"
   ]
  },
  {
   "cell_type": "code",
   "execution_count": 9,
   "metadata": {
    "collapsed": true
   },
   "outputs": [],
   "source": [
    "def get_index_map(arr):\n",
    "    index_map = {}\n",
    "    for el in arr:\n",
    "        index_map[el] = len(index_map)\n",
    "    return index_map"
   ]
  },
  {
   "cell_type": "code",
   "execution_count": 10,
   "metadata": {
    "collapsed": true
   },
   "outputs": [],
   "source": [
    "def pearson_coeff(target, others):\n",
    "    return np.corrcoef(matrix[target], matrix[others])[0][1:]"
   ]
  },
  {
   "cell_type": "code",
   "execution_count": 11,
   "metadata": {
    "collapsed": true
   },
   "outputs": [],
   "source": [
    "# Get unique movies and users\n",
    "unique_items = np.unique(values[:,0])\n",
    "unique_users = np.unique(values[:,1])"
   ]
  },
  {
   "cell_type": "code",
   "execution_count": 12,
   "metadata": {},
   "outputs": [
    {
     "data": {
      "text/plain": [
       "(1842L,)"
      ]
     },
     "execution_count": 12,
     "metadata": {},
     "output_type": "execute_result"
    }
   ],
   "source": [
    "unique_items.shape"
   ]
  },
  {
   "cell_type": "code",
   "execution_count": 13,
   "metadata": {},
   "outputs": [
    {
     "data": {
      "text/plain": [
       "(3139L,)"
      ]
     },
     "execution_count": 13,
     "metadata": {},
     "output_type": "execute_result"
    }
   ],
   "source": [
    "unique_users.shape"
   ]
  },
  {
   "cell_type": "code",
   "execution_count": 14,
   "metadata": {
    "collapsed": true
   },
   "outputs": [],
   "source": [
    "# Create mapping from unique list to \n",
    "item_idx_map = get_index_map(unique_items)\n",
    "user_idx_map = get_index_map(unique_users)"
   ]
  },
  {
   "cell_type": "code",
   "execution_count": 15,
   "metadata": {
    "collapsed": true
   },
   "outputs": [],
   "source": [
    "mean_ratings = np.true_divide(ratings_matrix.sum(1), (ratings_matrix!=0).sum(1))"
   ]
  },
  {
   "cell_type": "code",
   "execution_count": 16,
   "metadata": {
    "collapsed": true
   },
   "outputs": [],
   "source": [
    "K = 0.1"
   ]
  },
  {
   "cell_type": "code",
   "execution_count": 17,
   "metadata": {
    "collapsed": true
   },
   "outputs": [],
   "source": [
    "def get_users_who_rated_item(item_id):\n",
    "    return np.where(ratings_matrix[:,item_idx_map[item_id]] > 0)[0]\n",
    "\n",
    "def get_users_who_rated_item_by_index(item_idx):\n",
    "    return np.where(ratings_matrix[:,item_idx] > 0)\n",
    "\n",
    "def predict(user_id, item_id):\n",
    "    item_idx = item_idx_map[item_id]\n",
    "    user_idx = user_idx_map[user_id]\n",
    "    other_users_idx = get_users_who_rated_item(item_id)\n",
    "    if user_idx in other_users_idx:\n",
    "        np.delete(other_users_idx, user_idx)\n",
    "    pearson_correlation = [pearsonr(other_user, ratings_matrix[user_idx])[0] for other_user in ratings_matrix[other_users_idx]]\n",
    "    mean_others = mean_ratings[other_users_idx]\n",
    "    rating_others = ratings_matrix[other_users_idx,item_idx]\n",
    "    prediction = mean_ratings[user_idx] + K * np.sum(pearson_correlation * (rating_others - mean_others))\n",
    "    return prediction"
   ]
  },
  {
   "cell_type": "code",
   "execution_count": 18,
   "metadata": {},
   "outputs": [
    {
     "data": {
      "text/plain": [
       "4.100578451642274"
      ]
     },
     "execution_count": 18,
     "metadata": {},
     "output_type": "execute_result"
    }
   ],
   "source": [
    "np.mean(mean_ratings)"
   ]
  },
  {
   "cell_type": "code",
   "execution_count": 19,
   "metadata": {
    "collapsed": true
   },
   "outputs": [],
   "source": [
    "test_dataframe, test_values = load_required_data('../../Datasets/Apps Dataset/test_5000.json', [\"asin\", \"reviewerID\", \"overall\"])"
   ]
  },
  {
   "cell_type": "code",
   "execution_count": 20,
   "metadata": {},
   "outputs": [
    {
     "data": {
      "text/plain": [
       "(2507L,)"
      ]
     },
     "execution_count": 20,
     "metadata": {},
     "output_type": "execute_result"
    }
   ],
   "source": [
    "test_dataframe['reviewerID'].unique().shape"
   ]
  },
  {
   "cell_type": "code",
   "execution_count": 21,
   "metadata": {
    "collapsed": true
   },
   "outputs": [],
   "source": [
    "# Returns DF containing predictions, MAE, RMSE\n",
    "def get_predictions(dataframe):\n",
    "    df = dataframe.copy()\n",
    "    print (\"Predicting ratings..\")\n",
    "    start_time = time.time()\n",
    "    df['Prediction'] = df.apply(lambda row: predict_row(row), axis=1)\n",
    "    MAE = round(mean_absolute_error(df['overall'], df['Prediction']), 2)\n",
    "    RMSE = round(np.sqrt(mean_squared_error(df['overall'], df['Prediction'])), 2)\n",
    "    print \"Done Predicting in\",  round((time.time() - start_time), 2), \"seconds\"\n",
    "    return df, MAE, RMSE\n",
    "\n",
    "def predict_row(row):\n",
    "    prediction = predict(row['reviewerID'], row['asin'])\n",
    "    print (\"Actual = \", row['overall'], \"Predictioned = \", prediction)\n",
    "    return prediction"
   ]
  },
  {
   "cell_type": "code",
   "execution_count": 22,
   "metadata": {
    "collapsed": true
   },
   "outputs": [],
   "source": [
    "sparse_ratings = csr_matrix(ratings_matrix, dtype='float')"
   ]
  },
  {
   "cell_type": "code",
   "execution_count": 23,
   "metadata": {},
   "outputs": [
    {
     "data": {
      "text/plain": [
       "<3139x1842 sparse matrix of type '<type 'numpy.float64'>'\n",
       "\twith 15000 stored elements in Compressed Sparse Row format>"
      ]
     },
     "execution_count": 23,
     "metadata": {},
     "output_type": "execute_result"
    }
   ],
   "source": [
    "sparse_ratings"
   ]
  },
  {
   "cell_type": "code",
   "execution_count": 24,
   "metadata": {},
   "outputs": [
    {
     "data": {
      "text/plain": [
       "NearestNeighbors(algorithm='auto', leaf_size=30, metric='cosine',\n",
       "         metric_params=None, n_jobs=1, n_neighbors=6, p=2, radius=1.0)"
      ]
     },
     "execution_count": 24,
     "metadata": {},
     "output_type": "execute_result"
    }
   ],
   "source": [
    "model_knn = NearestNeighbors(metric = 'cosine', n_neighbors = 6)\n",
    "model_knn.fit(sparse_ratings)"
   ]
  },
  {
   "cell_type": "code",
   "execution_count": 25,
   "metadata": {
    "collapsed": true
   },
   "outputs": [],
   "source": [
    "def get_recommendations(user_index, n_reccomendations=5, n_neighbors=10):\n",
    "    distances,indices = model_knn.kneighbors(ratings_matrix[user_index].reshape(1, -1), n_neighbors=n_neighbors)\n",
    "    probable_items = list()\n",
    "    for user in indices[0]:\n",
    "        if user == user_index:\n",
    "            print \"Recommendations for user \", unique_users[user_index]\n",
    "            continue\n",
    "        # all other users\n",
    "        for items in np.nonzero(ratings_matrix[user]):\n",
    "            for item in items:\n",
    "                if ratings_matrix[user_index][item] == 0:\n",
    "                    probable_items.append(unique_items[item])\n",
    "\n",
    "    predictions = {}\n",
    "    for item in probable_items:\n",
    "        predictions[item] = predict(unique_users[0], item)\n",
    "        sorted_predictions = sorted(predictions.items(), key=operator.itemgetter(1))\n",
    "    print (\"Choosing 5 out of \", len(sorted_predictions))\n",
    "    return [i[0] for i in sorted_predictions[:n_reccomendations]]"
   ]
  },
  {
   "cell_type": "code",
   "execution_count": 26,
   "metadata": {},
   "outputs": [
    {
     "name": "stdout",
     "output_type": "stream",
     "text": [
      "Recommendations for user  A001619027H9L9EG4UVRB\n",
      "('Choosing 5 out of ', 9)\n",
      "B00FAPF5U0\n",
      "B009UX2YAC\n",
      "B00A6S051A\n",
      "B00AIUUXHC\n",
      "B00992CF6W\n"
     ]
    }
   ],
   "source": [
    "for i in get_recommendations(user_index=1):\n",
    "    print i"
   ]
  },
  {
   "cell_type": "code",
   "execution_count": 27,
   "metadata": {
    "collapsed": true
   },
   "outputs": [],
   "source": [
    "def get_user_items_rated_df(user_id):\n",
    "    df = pd.DataFrame()\n",
    "    np.nonzero(ratings_matrix[user_id])\n",
    "    for i in np.nonzero(ratings_matrix[user_id]):\n",
    "        x = pd.DataFrame({\"item\":unique_items[i], \"rating\":ratings_matrix[user_id][i]})\n",
    "        df = df.append(x)\n",
    "        return df\n",
    "\n",
    "def print_items_rated(user_id):\n",
    "    np.nonzero(ratings_matrix[user_id])\n",
    "    for i in unique_items[np.nonzero(ratings_matrix[user_id])]:\n",
    "        print i"
   ]
  },
  {
   "cell_type": "code",
   "execution_count": 28,
   "metadata": {},
   "outputs": [
    {
     "data": {
      "text/html": [
       "<div>\n",
       "<style>\n",
       "    .dataframe thead tr:only-child th {\n",
       "        text-align: right;\n",
       "    }\n",
       "\n",
       "    .dataframe thead th {\n",
       "        text-align: left;\n",
       "    }\n",
       "\n",
       "    .dataframe tbody tr th {\n",
       "        vertical-align: top;\n",
       "    }\n",
       "</style>\n",
       "<table border=\"1\" class=\"dataframe\">\n",
       "  <thead>\n",
       "    <tr style=\"text-align: right;\">\n",
       "      <th></th>\n",
       "      <th>item</th>\n",
       "      <th>rating</th>\n",
       "    </tr>\n",
       "  </thead>\n",
       "  <tbody>\n",
       "    <tr>\n",
       "      <th>0</th>\n",
       "      <td>B004WGGQPQ</td>\n",
       "      <td>5</td>\n",
       "    </tr>\n",
       "    <tr>\n",
       "      <th>1</th>\n",
       "      <td>B006C1ZSO4</td>\n",
       "      <td>5</td>\n",
       "    </tr>\n",
       "    <tr>\n",
       "      <th>2</th>\n",
       "      <td>B007KPT2N4</td>\n",
       "      <td>1</td>\n",
       "    </tr>\n",
       "    <tr>\n",
       "      <th>3</th>\n",
       "      <td>B0080JJLBW</td>\n",
       "      <td>5</td>\n",
       "    </tr>\n",
       "    <tr>\n",
       "      <th>4</th>\n",
       "      <td>B008LY1B32</td>\n",
       "      <td>4</td>\n",
       "    </tr>\n",
       "    <tr>\n",
       "      <th>5</th>\n",
       "      <td>B009P8EMCK</td>\n",
       "      <td>5</td>\n",
       "    </tr>\n",
       "    <tr>\n",
       "      <th>6</th>\n",
       "      <td>B00AMR1HZ8</td>\n",
       "      <td>4</td>\n",
       "    </tr>\n",
       "    <tr>\n",
       "      <th>7</th>\n",
       "      <td>B00ANT8OF6</td>\n",
       "      <td>4</td>\n",
       "    </tr>\n",
       "  </tbody>\n",
       "</table>\n",
       "</div>"
      ],
      "text/plain": [
       "         item rating\n",
       "0  B004WGGQPQ      5\n",
       "1  B006C1ZSO4      5\n",
       "2  B007KPT2N4      1\n",
       "3  B0080JJLBW      5\n",
       "4  B008LY1B32      4\n",
       "5  B009P8EMCK      5\n",
       "6  B00AMR1HZ8      4\n",
       "7  B00ANT8OF6      4"
      ]
     },
     "execution_count": 28,
     "metadata": {},
     "output_type": "execute_result"
    }
   ],
   "source": [
    "get_user_items_rated_df(0)"
   ]
  },
  {
   "cell_type": "code",
   "execution_count": 29,
   "metadata": {},
   "outputs": [
    {
     "name": "stdout",
     "output_type": "stream",
     "text": [
      "B00846GKTW\n",
      "B008G0HTUU\n",
      "B009GXHOW4\n",
      "B009NOQG9S\n",
      "B00AO2P3GA\n",
      "B00APKHA9Y\n",
      "B00DYOOGYK\n",
      "B00GTCECVG\n"
     ]
    }
   ],
   "source": [
    "print_items_rated(5)"
   ]
  }
 ],
 "metadata": {
  "kernelspec": {
   "display_name": "Python 2",
   "language": "python",
   "name": "python2"
  },
  "language_info": {
   "codemirror_mode": {
    "name": "ipython",
    "version": 2
   },
   "file_extension": ".py",
   "mimetype": "text/x-python",
   "name": "python",
   "nbconvert_exporter": "python",
   "pygments_lexer": "ipython2",
   "version": "2.7.14"
  }
 },
 "nbformat": 4,
 "nbformat_minor": 2
}

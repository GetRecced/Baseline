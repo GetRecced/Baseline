{
 "cells": [
  {
   "cell_type": "markdown",
   "metadata": {},
   "source": [
    "Takes as input a .json review file and outputs 2 .json files with train and test data, such that all the users and items in test are present in train too. k controls how many rows are moved from train to test for each user (default=1). Takes a couple of minutes to run for 700k reviews."
   ]
  },
  {
   "cell_type": "code",
   "execution_count": 50,
   "metadata": {},
   "outputs": [
    {
     "name": "stdout",
     "output_type": "stream",
     "text": [
      "Data loaded\n",
      "Sorted\n",
      "Rows Marked\n",
      "Train_df had 87271 unique reviewers and 13209 unique items\n",
      "train_df now has  665666 reviews left\n",
      "test_df has 87271 unique reviewers and 10061 unique items\n",
      "test_df now has  87271 reviews\n",
      "Done!\n"
     ]
    }
   ],
   "source": [
    "# Imports \n",
    "import string\n",
    "import pandas as pd\n",
    "import numpy as np\n",
    "import time\n",
    "from scipy.stats.stats import pearsonr \n",
    "from sklearn.model_selection import train_test_split\n",
    "import json\n",
    "\n",
    "k=1 #take k rows from each user\n",
    "\n",
    "# load the data, keep only selected columns\n",
    "# Read the file using super fast Pandas.read_csv\n",
    "def load_required_data(path, required_columns):\n",
    "    dataframe = pd.read_json(path, lines=True)\n",
    "    dataframe = dataframe[required_columns]\n",
    "    return dataframe, dataframe.values\n",
    "\n",
    "train_df, values = load_required_data('../reviews_Apps_for_Android_5.json', [\"asin\", \"reviewerID\", \"overall\"])\n",
    "\n",
    "print \"Data loaded\"\n",
    "\n",
    "#sort by reviewerID\n",
    "train_df.sort_values(by=['reviewerID'],inplace=True)\n",
    "\n",
    "print \"Sorted\"\n",
    "\n",
    "last_user = 'undef' #first reviewerID\n",
    "row_dicts = []\n",
    "row_indices = []\n",
    "\n",
    "def markRowForTestSet(index, row):\n",
    "        row_dicts.append(row.to_dict()) # saving values for copying to train_df\n",
    "        row_indices.append(index) # saving indices for deletion\n",
    "\n",
    "#for each userid in train_df\n",
    "for index, row in train_df.iterrows():\n",
    "    if row['reviewerID'] != last_user: # first row for this user\n",
    "        markRowForTestSet(index, row)\n",
    "        n=k-1\n",
    "    elif n>0:\n",
    "        markRowForTestSet(index, row)\n",
    "        n-=1        \n",
    "    last_user = row['reviewerID']\n",
    "    \n",
    "print \"Rows Marked\"\n",
    "    \n",
    "test_df = pd.DataFrame.from_dict(row_dicts)\n",
    "\n",
    "print \"Train_df had\",len(train_df.reviewerID.unique()),\"unique reviewers and\",len(train_df.asin.unique()),\"unique items\"\n",
    "\n",
    "train_df.drop(row_indices, inplace=True)\n",
    "\n",
    "print \"train_df now has \",len(train_df),\"reviews left\"\n",
    "print \"test_df has\",len(test_df.reviewerID.unique()),\"unique reviewers and\",len(test_df.asin.unique()),\"unique items\"\n",
    "print \"test_df now has \",len(test_df),\"reviews\"\n",
    "\n",
    "#write to files\n",
    "test_df.to_json(\"test.json\",\n",
    "           orient=\"records\", lines=True)    \n",
    "\n",
    "train_df.to_json(\"train.json\",\n",
    "           orient=\"records\", lines=True)\n",
    "\n",
    "print(\"Done!\")"
   ]
  },
  {
   "cell_type": "code",
   "execution_count": null,
   "metadata": {
    "collapsed": true
   },
   "outputs": [],
   "source": []
  }
 ],
 "metadata": {
  "kernelspec": {
   "display_name": "Python 2",
   "language": "python",
   "name": "python2"
  },
  "language_info": {
   "codemirror_mode": {
    "name": "ipython",
    "version": 2
   },
   "file_extension": ".py",
   "mimetype": "text/x-python",
   "name": "python",
   "nbconvert_exporter": "python",
   "pygments_lexer": "ipython2",
   "version": "2.7.14"
  }
 },
 "nbformat": 4,
 "nbformat_minor": 2
}

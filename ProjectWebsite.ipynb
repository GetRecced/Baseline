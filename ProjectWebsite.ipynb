{
 "cells": [
  {
   "cell_type": "markdown",
   "metadata": {},
   "source": [
    "   # Get Recced: App Recommendation using Reviews and Ratings"
   ]
  },
  {
   "cell_type": "markdown",
   "metadata": {},
   "source": [
    "# Abstract: \n",
    "\n",
    "In this project we examined how recommender systems work (better or worse) if we take advantage of the review texts along \n",
    "with the review ratings, we aimed to combine latent ratings with latent review topics and analyse the results. \n",
    "Our assumption was that combining the review text with ratings would help the recommender system make better predictions. \n",
    "Hence, we compared different models on Amazon Apps dataset and calculated RMSE. \n",
    "\n",
    "We Compared and evaluated the following recommendation models:\n",
    "  Baseline model \n",
    "  Collaborative Filtering\n",
    "  Latent Dirichlet Allocation (LDA)\n",
    "  Hidden Factors as Topics (HFT)"
   ]
  },
  {
   "cell_type": "code",
   "execution_count": null,
   "metadata": {
    "collapsed": true
   },
   "outputs": [],
   "source": []
  }
 ],
 "metadata": {
  "kernelspec": {
   "display_name": "Python 2",
   "language": "python",
   "name": "python2"
  },
  "language_info": {
   "codemirror_mode": {
    "name": "ipython",
    "version": 2
   },
   "file_extension": ".py",
   "mimetype": "text/x-python",
   "name": "python",
   "nbconvert_exporter": "python",
   "pygments_lexer": "ipython2",
   "version": "2.7.14"
  }
 },
 "nbformat": 4,
 "nbformat_minor": 2
}

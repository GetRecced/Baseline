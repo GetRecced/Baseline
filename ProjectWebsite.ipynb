{
 "cells": [
  {
   "cell_type": "markdown",
   "metadata": {},
   "source": [
    "<h1 style=\"color:blue;\">Get Recced: App Recommendation using Reviews and Ratings</h1>\n"
   ]
  },
  {
   "cell_type": "markdown",
   "metadata": {},
   "source": [
    "<h1 style=\"color:blue;\"> Abstract:</h1>\n",
    "\n",
    "\n",
    "<p>In this project we examined how recommender systems work (better or worse) if we take advantage of the review texts along \n",
    "with the review ratings. We aimed to combine latent ratings with latent review topics and analyse the results. \n",
    "Our assumption was that combining the review text with ratings would help the recommender system make better predictions. \n",
    "Hence, we compared different models on Amazon Apps dataset and calculated RMSE. </p>"
   ]
  },
  {
   "cell_type": "markdown",
   "metadata": {},
   "source": [
    "<h1 style=\"color:blue;\">We Compared and evaluated the following recommendation models:</h1>\n",
    "\n",
    "\n",
    "<ul>\n",
    "  <li>Baseline model</li>\n",
    "  <li>Collaborative Filtering</li>\n",
    "  <li>Latent Dirichlet Allocation (LDA)</li>\n",
    "  <li>Hidden Factors as Topics (HFT)</li>\n",
    "</ul>"
   ]
  },
  {
   "cell_type": "markdown",
   "metadata": {},
   "source": [
    "<h1 style=\"color:blue;\">Datasets Used:</h1>"
   ]
  },
  {
   "cell_type": "markdown",
   "metadata": {},
   "source": [
    "<h1 style=\"color:blue;\">Amazon App Dataset:</h1>"
   ]
  },
  {
   "cell_type": "raw",
   "metadata": {},
   "source": [
    "{\n",
    "\"reviewerID\": \"A1N4O8VOJZTDVB\", \n",
    "\"asin\": \"B004A9SDD8\", \n",
    "\"reviewerName\": \"Annette Yancey\", \n",
    "\"helpful\": [1, 1], \n",
    "\"reviewText\": \"Loves the song, so he really couldn't wait to play this. A little less interesting for him so he doesn't play long, but he is almost 3 and likes to play the older games, but really cute for a younger child.\", \"overall\": 3.0, \n",
    "\"summary\": \"Really cute\", \n",
    "\"unixReviewTime\": 1383350400, \n",
    "\"reviewTime\": \"11 2, 2013\"\n",
    "}\n",
    "\n",
    "\n",
    "{\n",
    "\"reviewerID\": \"A2HQWU6HUKIEC7\", \n",
    "\"asin\": \"B004A9SDD8\", \n",
    "\"reviewerName\": \"Audiobook lover \\\"Kathy\\\"\", \n",
    "\"helpful\": [0, 0], \n",
    "\"reviewText\": \"Oh, how my little grandson loves this app. He's always asking for \\\"Monkey.\\\" Grandma has tired of it long before he has. Finding the items on each page that he can touch and activate is endlessly entertaining for him, at least for now. Well worth the $.99.\", \"overall\": 5.0, \"summary\": \"2-year-old loves it\", \n",
    "\"unixReviewTime\": 1323043200, \n",
    "\"reviewTime\": \"12 5, 2011\"\n",
    "}"
   ]
  },
  {
   "cell_type": "markdown",
   "metadata": {},
   "source": [
    "<h1 style=\"color:blue;\">Data Distribution:</h1>\n",
    "\n",
    "Half of the ratings are 5s\n",
    "\n",
    "Average rating is 3.96"
   ]
  },
  {
   "cell_type": "markdown",
   "metadata": {},
   "source": [
    "<table><tr><td><img src='files/Overall_ratings_distribution.png'></td><td>\n",
    "<img src='files/ratingsNumber_vs_averageRating.png'></td></tr></table>"
   ]
  },
  {
   "cell_type": "markdown",
   "metadata": {},
   "source": [
    "<table>\n",
    "    <tr><td><p An item on average has 57 ratings></td><td>\n",
    "    <p A user on average rates 9 items.></td></tr>\n",
    "</table>"
   ]
  },
  {
   "cell_type": "markdown",
   "metadata": {},
   "source": [
    "<table>\n",
    "    <tr><td><img src='files/no_ratings_per_item.png'></td><td>\n",
    "    <img src='files/no_ratings_per_user.png'></td></tr>\n",
    "</table>"
   ]
  },
  {
   "cell_type": "markdown",
   "metadata": {},
   "source": [
    "<h1 style=\"color:blue;\">Amazon Automotive Dataset</h1>"
   ]
  },
  {
   "cell_type": "markdown",
   "metadata": {},
   "source": [
    "<h1 style=\"color:blue;\">Latent Dirichlet Allocation (LDA)</h1>"
   ]
  },
  {
   "cell_type": "markdown",
   "metadata": {},
   "source": [
    "<img src=\"files/LDA_Topics.png\">\n"
   ]
  },
  {
   "cell_type": "markdown",
   "metadata": {},
   "source": [
    "<h1 style=\"color:blue;\">Results</h1>"
   ]
  },
  {
   "cell_type": "markdown",
   "metadata": {},
   "source": [
    "<style>\n",
    "table {\n",
    "    font-family: arial, sans-serif;\n",
    "    border-collapse: collapse;\n",
    "    width: 100%;\n",
    "}\n",
    "\n",
    "td, th {\n",
    "    border: 1px solid #dddddd;\n",
    "    text-align: left;\n",
    "    padding: 8px;\n",
    "}\n",
    "\n",
    "tr:nth-child(even) {\n",
    "    background-color: #dddddd;\n",
    "}\n",
    "</style>\n",
    "\n",
    "</head>\n",
    "<body>\n",
    "<h2 style=\"color:blue;\">Results on full dataset</h2>\n",
    "<table>\n",
    "  <tr>\n",
    "    <th> </th>\n",
    "    <th>Approach 0 (Global Mean) </th>\n",
    "    <th>Approach 1 (Biases) </th>\n",
    "    <th>Approach 2 (CF) </th>\n",
    "    <th>Approach 3 (SVD) </th>\n",
    "    <th>Approach 4 (LDA) </th>\n",
    "    <th>Approach 5 (HFT) </th>\n",
    "  </tr>\n",
    "  <tr>\n",
    "    <td>RMSE </td>\n",
    "    <td>1.32 </td>\n",
    "    <td>1.23 </td>\n",
    "    <td>Mexico</td>\n",
    "    <td>1.1822 </td>\n",
    "    <td>Francisco Chang </td>\n",
    "    <td>1.56 </td>\n",
    "  </tr>\n",
    "  <tr>\n",
    "    <td>MAE</td>\n",
    "    <td>1.06 </td>\n",
    "    <td>0.93 </td>\n",
    "    <td>Mexico </td>\n",
    "    <td>0.9127 </td>\n",
    "    <td>Francisco Chang </td>\n",
    "    <td>1.13 </td>\n",
    "  </tr>\n",
    "</table>\n",
    "\n",
    "</body>\n",
    "</html>\n"
   ]
  },
  {
   "cell_type": "markdown",
   "metadata": {},
   "source": [
    "<style>\n",
    "table {\n",
    "    font-family: arial, sans-serif;\n",
    "    border-collapse: collapse;\n",
    "    width: 100%;\n",
    "}\n",
    "\n",
    "td, th {\n",
    "    border: 1px solid #dddddd;\n",
    "    text-align: left;\n",
    "    padding: 8px;\n",
    "}\n",
    "\n",
    "tr:nth-child(even) {\n",
    "    background-color: #dddddd;\n",
    "}\n",
    "</style>\n",
    "\n",
    "</head>\n",
    "<body>\n",
    "<h2 style=\"color:blue;\">Results on small dataset</h2>\n",
    "<table>\n",
    "  <tr>\n",
    "    <th> </th>\n",
    "    <th>Approach 0 (Global Mean) </th>\n",
    "    <th>Approach 1 (Biases) </th>\n",
    "    <th>Approach 2 (CF) </th>\n",
    "    <th>Approach 3 (SVD) </th>\n",
    "    <th>Approach 4 (LDA) </th>\n",
    "    <th>Approach 5 (HFT) </th>\n",
    "  </tr>\n",
    "  <tr>\n",
    "    <td>RMSE </td>\n",
    "    <td>1.26 </td>\n",
    "    <td>1.37 </td>\n",
    "    <td>1.33</td>\n",
    "    <td>1.1854 </td>\n",
    "    <td>1.4 </td>\n",
    "    <td>1.7405 </td>\n",
    "  </tr>\n",
    "  <tr>\n",
    "    <td>MAE</td>\n",
    "    <td>0.98 </td>\n",
    "    <td>1.00 </td>\n",
    "    <td>0.93 </td>\n",
    "    <td>0.9112 </td>\n",
    "    <td>1.03 </td>\n",
    "    <td>1.285548 </td>\n",
    "  </tr>\n",
    "</table>\n",
    "\n",
    "</body>\n",
    "</html>\n"
   ]
  },
  {
   "cell_type": "markdown",
   "metadata": {},
   "source": [
    "<h1 style=\"color:blue;\">Discussion</h1>\n",
    "\n",
    "HFT is dataset size dependent. As the dataset size increases, the value of “ratings” over “reviews” decreases, that is, reviews become more important. Thus, when we ran on the 5-core dataset, we got better results for baseline methods as compared to HFT. But on the complete datasets, the HFT model got better results as seen in the Julian paper\n"
   ]
  },
  {
   "cell_type": "markdown",
   "metadata": {},
   "source": [
    "<h1 style=\"color:blue;\">Challenges</h1>\n",
    "\n",
    "Creating a test set such that all items & users are in the train set too.\n",
    "\n",
    "LDA Topics are not well defined for the dataset we chose.\n",
    "\n",
    "No ground truth for the predictions by using review texts only.\n"
   ]
  },
  {
   "cell_type": "markdown",
   "metadata": {},
   "source": [
    "<h1 style=\"color:blue;\">Ethical Considerations</h1>\n",
    "\n",
    "Recommending violent/inappropriate apps to children?\n",
    "\n",
    "User profiles used for personalized recommendation may be used for malicious purposes like\n",
    "\n",
    "Profile injection is also a possible attack to push or nuke items.\n"
   ]
  },
  {
   "cell_type": "markdown",
   "metadata": {},
   "source": [
    "<h1 style=\"color:blue;\">References</h1>"
   ]
  },
  {
   "cell_type": "markdown",
   "metadata": {},
   "source": [
    "Julian McAuley and Jure Leskovec. 2013. Hidden factors and hidden topics: understanding rating dimensions\n",
    "with review text. In Proceedings of the 7th ACM conference on Recommender systems (RecSys '13). ACM, New\n",
    "York, NY, USA, 165-172. DOI=http://dx.doi.org/10.1145/2507157.2507163"
   ]
  },
  {
   "cell_type": "code",
   "execution_count": null,
   "metadata": {
    "collapsed": true
   },
   "outputs": [],
   "source": []
  }
 ],
 "metadata": {
  "kernelspec": {
   "display_name": "Python 2",
   "language": "python",
   "name": "python2"
  },
  "language_info": {
   "codemirror_mode": {
    "name": "ipython",
    "version": 2
   },
   "file_extension": ".py",
   "mimetype": "text/x-python",
   "name": "python",
   "nbconvert_exporter": "python",
   "pygments_lexer": "ipython2",
   "version": "2.7.14"
  }
 },
 "nbformat": 4,
 "nbformat_minor": 2
}

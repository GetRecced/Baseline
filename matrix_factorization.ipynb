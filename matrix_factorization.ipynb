{
 "cells": [
  {
   "cell_type": "code",
   "execution_count": 18,
   "metadata": {
    "collapsed": true
   },
   "outputs": [],
   "source": [
    "# Imports \n",
    "import string\n",
    "import pandas as pd\n",
    "import numpy as np\n",
    "import time\n",
    "from scipy.stats.stats import pearsonr \n",
    "from sklearn.model_selection import train_test_split\n",
    "from sklearn.metrics import mean_squared_error\n",
    "from sklearn.metrics import mean_absolute_error\n",
    "from sklearn.neighbors import NearestNeighbors"
   ]
  },
  {
   "cell_type": "code",
   "execution_count": 2,
   "metadata": {
    "collapsed": true
   },
   "outputs": [],
   "source": [
    "# load the data, keep only selected columns\n",
    "# Read the file using super fast Pandas.read_csv\n",
    "def load_required_data(path, required_columns):\n",
    "    dataframe = pd.read_json(path, lines=True)\n",
    "    dataframe = dataframe[required_columns]\n",
    "    return dataframe, dataframe.values"
   ]
  },
  {
   "cell_type": "code",
   "execution_count": 3,
   "metadata": {
    "collapsed": true
   },
   "outputs": [],
   "source": [
    "dataframe, values = load_required_data('../train.json', [\"asin\", \"reviewerID\", \"overall\"])"
   ]
  },
  {
   "cell_type": "code",
   "execution_count": 4,
   "metadata": {},
   "outputs": [
    {
     "data": {
      "text/html": [
       "<div>\n",
       "<style scoped>\n",
       "    .dataframe tbody tr th:only-of-type {\n",
       "        vertical-align: middle;\n",
       "    }\n",
       "\n",
       "    .dataframe tbody tr th {\n",
       "        vertical-align: top;\n",
       "    }\n",
       "\n",
       "    .dataframe thead th {\n",
       "        text-align: right;\n",
       "    }\n",
       "</style>\n",
       "<table border=\"1\" class=\"dataframe\">\n",
       "  <thead>\n",
       "    <tr style=\"text-align: right;\">\n",
       "      <th></th>\n",
       "      <th>asin</th>\n",
       "      <th>reviewerID</th>\n",
       "      <th>overall</th>\n",
       "    </tr>\n",
       "  </thead>\n",
       "  <tbody>\n",
       "    <tr>\n",
       "      <th>0</th>\n",
       "      <td>B00AMR1HZ8</td>\n",
       "      <td>A00100742Q4O8VH0YMUBZ</td>\n",
       "      <td>4</td>\n",
       "    </tr>\n",
       "    <tr>\n",
       "      <th>1</th>\n",
       "      <td>B006C1ZSO4</td>\n",
       "      <td>A00100742Q4O8VH0YMUBZ</td>\n",
       "      <td>5</td>\n",
       "    </tr>\n",
       "    <tr>\n",
       "      <th>2</th>\n",
       "      <td>B00ANT8OF6</td>\n",
       "      <td>A00100742Q4O8VH0YMUBZ</td>\n",
       "      <td>4</td>\n",
       "    </tr>\n",
       "    <tr>\n",
       "      <th>3</th>\n",
       "      <td>B008LY1B32</td>\n",
       "      <td>A00100742Q4O8VH0YMUBZ</td>\n",
       "      <td>4</td>\n",
       "    </tr>\n",
       "    <tr>\n",
       "      <th>4</th>\n",
       "      <td>B0080JJLBW</td>\n",
       "      <td>A00100742Q4O8VH0YMUBZ</td>\n",
       "      <td>5</td>\n",
       "    </tr>\n",
       "    <tr>\n",
       "      <th>5</th>\n",
       "      <td>B007KPT2N4</td>\n",
       "      <td>A00100742Q4O8VH0YMUBZ</td>\n",
       "      <td>1</td>\n",
       "    </tr>\n",
       "    <tr>\n",
       "      <th>6</th>\n",
       "      <td>B00EQ2TYMS</td>\n",
       "      <td>A00100742Q4O8VH0YMUBZ</td>\n",
       "      <td>4</td>\n",
       "    </tr>\n",
       "    <tr>\n",
       "      <th>7</th>\n",
       "      <td>B007PW1BRC</td>\n",
       "      <td>A00100742Q4O8VH0YMUBZ</td>\n",
       "      <td>2</td>\n",
       "    </tr>\n",
       "    <tr>\n",
       "      <th>8</th>\n",
       "      <td>B009P8EMCK</td>\n",
       "      <td>A00100742Q4O8VH0YMUBZ</td>\n",
       "      <td>5</td>\n",
       "    </tr>\n",
       "    <tr>\n",
       "      <th>9</th>\n",
       "      <td>B006YUVTK0</td>\n",
       "      <td>A00100742Q4O8VH0YMUBZ</td>\n",
       "      <td>5</td>\n",
       "    </tr>\n",
       "  </tbody>\n",
       "</table>\n",
       "</div>"
      ],
      "text/plain": [
       "         asin             reviewerID  overall\n",
       "0  B00AMR1HZ8  A00100742Q4O8VH0YMUBZ        4\n",
       "1  B006C1ZSO4  A00100742Q4O8VH0YMUBZ        5\n",
       "2  B00ANT8OF6  A00100742Q4O8VH0YMUBZ        4\n",
       "3  B008LY1B32  A00100742Q4O8VH0YMUBZ        4\n",
       "4  B0080JJLBW  A00100742Q4O8VH0YMUBZ        5\n",
       "5  B007KPT2N4  A00100742Q4O8VH0YMUBZ        1\n",
       "6  B00EQ2TYMS  A00100742Q4O8VH0YMUBZ        4\n",
       "7  B007PW1BRC  A00100742Q4O8VH0YMUBZ        2\n",
       "8  B009P8EMCK  A00100742Q4O8VH0YMUBZ        5\n",
       "9  B006YUVTK0  A00100742Q4O8VH0YMUBZ        5"
      ]
     },
     "execution_count": 4,
     "metadata": {},
     "output_type": "execute_result"
    }
   ],
   "source": [
    "dataframe[:10]"
   ]
  },
  {
   "cell_type": "code",
   "execution_count": 5,
   "metadata": {},
   "outputs": [
    {
     "data": {
      "text/plain": [
       "(665666, 3)"
      ]
     },
     "execution_count": 5,
     "metadata": {},
     "output_type": "execute_result"
    }
   ],
   "source": [
    "dataframe.shape"
   ]
  },
  {
   "cell_type": "code",
   "execution_count": 6,
   "metadata": {
    "collapsed": true
   },
   "outputs": [],
   "source": [
    "# Create user-item matrix given a matrix and mapping from original matrix columns to new matrix rows/columns\n",
    "def create_user_item_matrix(data, rowMapping, columnMapping):\n",
    "    # Create table of users to items by taking row and column pivots\n",
    "    # Rows of user-item table are users\n",
    "    rows, row_pos = np.unique(data[:, rowMapping], return_inverse=True)\n",
    "    # Columns of user-item table are movies\n",
    "    cols, col_pos = np.unique(data[:, columnMapping], return_inverse=True)\n",
    "\n",
    "    pivot_table = np.zeros((len(rows), len(cols)), dtype=data.dtype)\n",
    "    pivot_table[row_pos, col_pos] = data[:, 2]\n",
    "    return pivot_table, rows, cols"
   ]
  },
  {
   "cell_type": "code",
   "execution_count": 7,
   "metadata": {},
   "outputs": [
    {
     "name": "stdout",
     "output_type": "stream",
     "text": [
      "(87271, 13209)\n"
     ]
    }
   ],
   "source": [
    "ratings_matrix, rows, cols = create_user_item_matrix(values, rowMapping=1, columnMapping=0)\n",
    "print (ratings_matrix.shape)"
   ]
  },
  {
   "cell_type": "code",
   "execution_count": 8,
   "metadata": {},
   "outputs": [
    {
     "data": {
      "text/html": [
       "<div>\n",
       "<style scoped>\n",
       "    .dataframe tbody tr th:only-of-type {\n",
       "        vertical-align: middle;\n",
       "    }\n",
       "\n",
       "    .dataframe tbody tr th {\n",
       "        vertical-align: top;\n",
       "    }\n",
       "\n",
       "    .dataframe thead th {\n",
       "        text-align: right;\n",
       "    }\n",
       "</style>\n",
       "<table border=\"1\" class=\"dataframe\">\n",
       "  <thead>\n",
       "    <tr style=\"text-align: right;\">\n",
       "      <th></th>\n",
       "      <th>B004A9SDD8</th>\n",
       "      <th>B004AFQAUA</th>\n",
       "      <th>B004AHBBPW</th>\n",
       "      <th>B004ALVL6W</th>\n",
       "      <th>B004AMAIZQ</th>\n",
       "      <th>B004AMDC86</th>\n",
       "      <th>B004ANC00Q</th>\n",
       "      <th>B004ANE2WU</th>\n",
       "      <th>B004ANMWPY</th>\n",
       "      <th>B004AZH4C8</th>\n",
       "      <th>...</th>\n",
       "      <th>B00LDNE3FG</th>\n",
       "      <th>B00LDNQHJ6</th>\n",
       "      <th>B00LEIT6K2</th>\n",
       "      <th>B00LFLOEYG</th>\n",
       "      <th>B00LIAMYCI</th>\n",
       "      <th>B00LITLOMK</th>\n",
       "      <th>B00LMLW8T2</th>\n",
       "      <th>B00LMLXTJK</th>\n",
       "      <th>B00LP1MVSW</th>\n",
       "      <th>B00LUEMK44</th>\n",
       "    </tr>\n",
       "  </thead>\n",
       "  <tbody>\n",
       "    <tr>\n",
       "      <th>A00100742Q4O8VH0YMUBZ</th>\n",
       "      <td>0</td>\n",
       "      <td>0</td>\n",
       "      <td>0</td>\n",
       "      <td>0</td>\n",
       "      <td>0</td>\n",
       "      <td>0</td>\n",
       "      <td>0</td>\n",
       "      <td>0</td>\n",
       "      <td>0</td>\n",
       "      <td>0</td>\n",
       "      <td>...</td>\n",
       "      <td>0</td>\n",
       "      <td>0</td>\n",
       "      <td>0</td>\n",
       "      <td>0</td>\n",
       "      <td>0</td>\n",
       "      <td>0</td>\n",
       "      <td>0</td>\n",
       "      <td>0</td>\n",
       "      <td>0</td>\n",
       "      <td>0</td>\n",
       "    </tr>\n",
       "    <tr>\n",
       "      <th>A001619027H9L9EG4UVRB</th>\n",
       "      <td>0</td>\n",
       "      <td>0</td>\n",
       "      <td>0</td>\n",
       "      <td>0</td>\n",
       "      <td>0</td>\n",
       "      <td>0</td>\n",
       "      <td>0</td>\n",
       "      <td>0</td>\n",
       "      <td>0</td>\n",
       "      <td>0</td>\n",
       "      <td>...</td>\n",
       "      <td>0</td>\n",
       "      <td>0</td>\n",
       "      <td>0</td>\n",
       "      <td>0</td>\n",
       "      <td>0</td>\n",
       "      <td>0</td>\n",
       "      <td>0</td>\n",
       "      <td>0</td>\n",
       "      <td>0</td>\n",
       "      <td>0</td>\n",
       "    </tr>\n",
       "    <tr>\n",
       "      <th>A002359833QJM7OQHCXWY</th>\n",
       "      <td>0</td>\n",
       "      <td>0</td>\n",
       "      <td>0</td>\n",
       "      <td>0</td>\n",
       "      <td>0</td>\n",
       "      <td>0</td>\n",
       "      <td>0</td>\n",
       "      <td>0</td>\n",
       "      <td>0</td>\n",
       "      <td>0</td>\n",
       "      <td>...</td>\n",
       "      <td>0</td>\n",
       "      <td>0</td>\n",
       "      <td>0</td>\n",
       "      <td>0</td>\n",
       "      <td>0</td>\n",
       "      <td>0</td>\n",
       "      <td>0</td>\n",
       "      <td>0</td>\n",
       "      <td>0</td>\n",
       "      <td>0</td>\n",
       "    </tr>\n",
       "    <tr>\n",
       "      <th>A0037670NPLI11RBWYFA</th>\n",
       "      <td>0</td>\n",
       "      <td>0</td>\n",
       "      <td>0</td>\n",
       "      <td>0</td>\n",
       "      <td>0</td>\n",
       "      <td>0</td>\n",
       "      <td>0</td>\n",
       "      <td>0</td>\n",
       "      <td>0</td>\n",
       "      <td>0</td>\n",
       "      <td>...</td>\n",
       "      <td>0</td>\n",
       "      <td>0</td>\n",
       "      <td>0</td>\n",
       "      <td>0</td>\n",
       "      <td>0</td>\n",
       "      <td>0</td>\n",
       "      <td>0</td>\n",
       "      <td>0</td>\n",
       "      <td>0</td>\n",
       "      <td>0</td>\n",
       "    </tr>\n",
       "    <tr>\n",
       "      <th>A003841815JTX0JFLR8B1</th>\n",
       "      <td>0</td>\n",
       "      <td>0</td>\n",
       "      <td>0</td>\n",
       "      <td>0</td>\n",
       "      <td>0</td>\n",
       "      <td>0</td>\n",
       "      <td>0</td>\n",
       "      <td>0</td>\n",
       "      <td>0</td>\n",
       "      <td>0</td>\n",
       "      <td>...</td>\n",
       "      <td>0</td>\n",
       "      <td>0</td>\n",
       "      <td>0</td>\n",
       "      <td>0</td>\n",
       "      <td>0</td>\n",
       "      <td>0</td>\n",
       "      <td>0</td>\n",
       "      <td>0</td>\n",
       "      <td>0</td>\n",
       "      <td>0</td>\n",
       "    </tr>\n",
       "    <tr>\n",
       "      <th>A0038872349TB5N0JHQQW</th>\n",
       "      <td>0</td>\n",
       "      <td>0</td>\n",
       "      <td>0</td>\n",
       "      <td>0</td>\n",
       "      <td>0</td>\n",
       "      <td>0</td>\n",
       "      <td>0</td>\n",
       "      <td>0</td>\n",
       "      <td>0</td>\n",
       "      <td>0</td>\n",
       "      <td>...</td>\n",
       "      <td>0</td>\n",
       "      <td>0</td>\n",
       "      <td>0</td>\n",
       "      <td>0</td>\n",
       "      <td>0</td>\n",
       "      <td>0</td>\n",
       "      <td>0</td>\n",
       "      <td>0</td>\n",
       "      <td>0</td>\n",
       "      <td>0</td>\n",
       "    </tr>\n",
       "    <tr>\n",
       "      <th>A00455683H6M1GQZMPQPV</th>\n",
       "      <td>0</td>\n",
       "      <td>0</td>\n",
       "      <td>0</td>\n",
       "      <td>0</td>\n",
       "      <td>0</td>\n",
       "      <td>0</td>\n",
       "      <td>0</td>\n",
       "      <td>0</td>\n",
       "      <td>0</td>\n",
       "      <td>0</td>\n",
       "      <td>...</td>\n",
       "      <td>0</td>\n",
       "      <td>0</td>\n",
       "      <td>0</td>\n",
       "      <td>0</td>\n",
       "      <td>0</td>\n",
       "      <td>0</td>\n",
       "      <td>0</td>\n",
       "      <td>0</td>\n",
       "      <td>0</td>\n",
       "      <td>0</td>\n",
       "    </tr>\n",
       "    <tr>\n",
       "      <th>A0047670XAAJD587LXS7</th>\n",
       "      <td>0</td>\n",
       "      <td>0</td>\n",
       "      <td>0</td>\n",
       "      <td>0</td>\n",
       "      <td>0</td>\n",
       "      <td>0</td>\n",
       "      <td>0</td>\n",
       "      <td>0</td>\n",
       "      <td>0</td>\n",
       "      <td>0</td>\n",
       "      <td>...</td>\n",
       "      <td>0</td>\n",
       "      <td>0</td>\n",
       "      <td>0</td>\n",
       "      <td>0</td>\n",
       "      <td>0</td>\n",
       "      <td>0</td>\n",
       "      <td>0</td>\n",
       "      <td>0</td>\n",
       "      <td>0</td>\n",
       "      <td>0</td>\n",
       "    </tr>\n",
       "    <tr>\n",
       "      <th>A00501041JRAPWYLPQ4TE</th>\n",
       "      <td>0</td>\n",
       "      <td>0</td>\n",
       "      <td>0</td>\n",
       "      <td>0</td>\n",
       "      <td>0</td>\n",
       "      <td>0</td>\n",
       "      <td>0</td>\n",
       "      <td>0</td>\n",
       "      <td>0</td>\n",
       "      <td>0</td>\n",
       "      <td>...</td>\n",
       "      <td>0</td>\n",
       "      <td>0</td>\n",
       "      <td>0</td>\n",
       "      <td>0</td>\n",
       "      <td>0</td>\n",
       "      <td>0</td>\n",
       "      <td>0</td>\n",
       "      <td>0</td>\n",
       "      <td>0</td>\n",
       "      <td>0</td>\n",
       "    </tr>\n",
       "    <tr>\n",
       "      <th>A00507662MEMHI1YMGQ15</th>\n",
       "      <td>0</td>\n",
       "      <td>0</td>\n",
       "      <td>0</td>\n",
       "      <td>0</td>\n",
       "      <td>0</td>\n",
       "      <td>0</td>\n",
       "      <td>0</td>\n",
       "      <td>0</td>\n",
       "      <td>0</td>\n",
       "      <td>0</td>\n",
       "      <td>...</td>\n",
       "      <td>0</td>\n",
       "      <td>0</td>\n",
       "      <td>0</td>\n",
       "      <td>0</td>\n",
       "      <td>0</td>\n",
       "      <td>0</td>\n",
       "      <td>0</td>\n",
       "      <td>0</td>\n",
       "      <td>0</td>\n",
       "      <td>0</td>\n",
       "    </tr>\n",
       "  </tbody>\n",
       "</table>\n",
       "<p>10 rows × 13209 columns</p>\n",
       "</div>"
      ],
      "text/plain": [
       "                      B004A9SDD8 B004AFQAUA B004AHBBPW B004ALVL6W B004AMAIZQ  \\\n",
       "A00100742Q4O8VH0YMUBZ          0          0          0          0          0   \n",
       "A001619027H9L9EG4UVRB          0          0          0          0          0   \n",
       "A002359833QJM7OQHCXWY          0          0          0          0          0   \n",
       "A0037670NPLI11RBWYFA           0          0          0          0          0   \n",
       "A003841815JTX0JFLR8B1          0          0          0          0          0   \n",
       "A0038872349TB5N0JHQQW          0          0          0          0          0   \n",
       "A00455683H6M1GQZMPQPV          0          0          0          0          0   \n",
       "A0047670XAAJD587LXS7           0          0          0          0          0   \n",
       "A00501041JRAPWYLPQ4TE          0          0          0          0          0   \n",
       "A00507662MEMHI1YMGQ15          0          0          0          0          0   \n",
       "\n",
       "                      B004AMDC86 B004ANC00Q B004ANE2WU B004ANMWPY B004AZH4C8  \\\n",
       "A00100742Q4O8VH0YMUBZ          0          0          0          0          0   \n",
       "A001619027H9L9EG4UVRB          0          0          0          0          0   \n",
       "A002359833QJM7OQHCXWY          0          0          0          0          0   \n",
       "A0037670NPLI11RBWYFA           0          0          0          0          0   \n",
       "A003841815JTX0JFLR8B1          0          0          0          0          0   \n",
       "A0038872349TB5N0JHQQW          0          0          0          0          0   \n",
       "A00455683H6M1GQZMPQPV          0          0          0          0          0   \n",
       "A0047670XAAJD587LXS7           0          0          0          0          0   \n",
       "A00501041JRAPWYLPQ4TE          0          0          0          0          0   \n",
       "A00507662MEMHI1YMGQ15          0          0          0          0          0   \n",
       "\n",
       "                         ...     B00LDNE3FG B00LDNQHJ6 B00LEIT6K2 B00LFLOEYG  \\\n",
       "A00100742Q4O8VH0YMUBZ    ...              0          0          0          0   \n",
       "A001619027H9L9EG4UVRB    ...              0          0          0          0   \n",
       "A002359833QJM7OQHCXWY    ...              0          0          0          0   \n",
       "A0037670NPLI11RBWYFA     ...              0          0          0          0   \n",
       "A003841815JTX0JFLR8B1    ...              0          0          0          0   \n",
       "A0038872349TB5N0JHQQW    ...              0          0          0          0   \n",
       "A00455683H6M1GQZMPQPV    ...              0          0          0          0   \n",
       "A0047670XAAJD587LXS7     ...              0          0          0          0   \n",
       "A00501041JRAPWYLPQ4TE    ...              0          0          0          0   \n",
       "A00507662MEMHI1YMGQ15    ...              0          0          0          0   \n",
       "\n",
       "                      B00LIAMYCI B00LITLOMK B00LMLW8T2 B00LMLXTJK B00LP1MVSW  \\\n",
       "A00100742Q4O8VH0YMUBZ          0          0          0          0          0   \n",
       "A001619027H9L9EG4UVRB          0          0          0          0          0   \n",
       "A002359833QJM7OQHCXWY          0          0          0          0          0   \n",
       "A0037670NPLI11RBWYFA           0          0          0          0          0   \n",
       "A003841815JTX0JFLR8B1          0          0          0          0          0   \n",
       "A0038872349TB5N0JHQQW          0          0          0          0          0   \n",
       "A00455683H6M1GQZMPQPV          0          0          0          0          0   \n",
       "A0047670XAAJD587LXS7           0          0          0          0          0   \n",
       "A00501041JRAPWYLPQ4TE          0          0          0          0          0   \n",
       "A00507662MEMHI1YMGQ15          0          0          0          0          0   \n",
       "\n",
       "                      B00LUEMK44  \n",
       "A00100742Q4O8VH0YMUBZ          0  \n",
       "A001619027H9L9EG4UVRB          0  \n",
       "A002359833QJM7OQHCXWY          0  \n",
       "A0037670NPLI11RBWYFA           0  \n",
       "A003841815JTX0JFLR8B1          0  \n",
       "A0038872349TB5N0JHQQW          0  \n",
       "A00455683H6M1GQZMPQPV          0  \n",
       "A0047670XAAJD587LXS7           0  \n",
       "A00501041JRAPWYLPQ4TE          0  \n",
       "A00507662MEMHI1YMGQ15          0  \n",
       "\n",
       "[10 rows x 13209 columns]"
      ]
     },
     "execution_count": 8,
     "metadata": {},
     "output_type": "execute_result"
    }
   ],
   "source": [
    "pd.DataFrame(ratings_matrix[:10], index = rows[:10], columns= cols)"
   ]
  },
  {
   "cell_type": "code",
   "execution_count": 9,
   "metadata": {
    "collapsed": true
   },
   "outputs": [],
   "source": [
    "def get_index_map(arr):\n",
    "    index_map = {}\n",
    "    for el in arr:\n",
    "        index_map[el] = len(index_map)\n",
    "    return index_map"
   ]
  },
  {
   "cell_type": "code",
   "execution_count": 10,
   "metadata": {
    "collapsed": true
   },
   "outputs": [],
   "source": [
    "def pearson_coeff(target, others):\n",
    "    return np.corrcoef(matrix[target], matrix[others])[0][1:]"
   ]
  },
  {
   "cell_type": "code",
   "execution_count": 11,
   "metadata": {
    "collapsed": true
   },
   "outputs": [],
   "source": [
    "# Get unique movies and users\n",
    "unique_items = np.unique(values[:,0])\n",
    "unique_users = np.unique(values[:,1])"
   ]
  },
  {
   "cell_type": "code",
   "execution_count": 16,
   "metadata": {},
   "outputs": [
    {
     "data": {
      "text/plain": [
       "(13209,)"
      ]
     },
     "execution_count": 16,
     "metadata": {},
     "output_type": "execute_result"
    }
   ],
   "source": [
    "unique_items.shape"
   ]
  },
  {
   "cell_type": "code",
   "execution_count": 17,
   "metadata": {},
   "outputs": [
    {
     "data": {
      "text/plain": [
       "(87271,)"
      ]
     },
     "execution_count": 17,
     "metadata": {},
     "output_type": "execute_result"
    }
   ],
   "source": [
    "unique_users.shape"
   ]
  },
  {
   "cell_type": "code",
   "execution_count": 12,
   "metadata": {
    "collapsed": true
   },
   "outputs": [],
   "source": [
    "# Create mapping from unique list to \n",
    "item_idx_map = get_index_map(unique_items)\n",
    "user_idx_map = get_index_map(unique_users)"
   ]
  },
  {
   "cell_type": "code",
   "execution_count": 13,
   "metadata": {
    "collapsed": true
   },
   "outputs": [],
   "source": [
    "mean_ratings = np.true_divide(ratings_matrix.sum(1), (ratings_matrix!=0).sum(1))"
   ]
  },
  {
   "cell_type": "code",
   "execution_count": 14,
   "metadata": {
    "collapsed": true
   },
   "outputs": [],
   "source": [
    "K = 0.1"
   ]
  },
  {
   "cell_type": "code",
   "execution_count": 15,
   "metadata": {
    "collapsed": true
   },
   "outputs": [],
   "source": [
    "def get_users_who_rated_item(item_id):\n",
    "    return np.where(ratings_matrix[:,item_idx_map[item_id]] > 0)[0]\n",
    "\n",
    "def get_users_who_rated_item_by_index(item_idx):\n",
    "    return np.where(ratings_matrix[:,item_idx] > 0)\n",
    "\n",
    "def predict(user_id, item_id):\n",
    "    item_idx = item_idx_map[item_id]\n",
    "    user_idx = user_idx_map[user_id]\n",
    "    other_users_idx = get_users_who_rated_item(item_id)\n",
    "    if user_idx in other_users_idx:\n",
    "        np.delete(other_users_idx, user_idx)\n",
    "    pearson_correlation = [pearsonr(other_user, ratings_matrix[user_idx])[0] for other_user in ratings_matrix[other_users_idx]]\n",
    "    mean_others = mean_ratings[other_users_idx]\n",
    "    rating_others = ratings_matrix[other_users_idx,item_idx]\n",
    "    prediction = mean_ratings[user_idx] + K * np.sum(pearson_correlation * (rating_others - mean_others))\n",
    "    return prediction"
   ]
  },
  {
   "cell_type": "code",
   "execution_count": 16,
   "metadata": {},
   "outputs": [
    {
     "data": {
      "text/plain": [
       "3.3358391387334074"
      ]
     },
     "execution_count": 16,
     "metadata": {},
     "output_type": "execute_result"
    }
   ],
   "source": [
    "predict(u'A0698182HBSA2D2MEX40', 'B004K44R74')"
   ]
  },
  {
   "cell_type": "code",
   "execution_count": 17,
   "metadata": {},
   "outputs": [
    {
     "data": {
      "text/plain": [
       "4.007764456541003"
      ]
     },
     "execution_count": 17,
     "metadata": {},
     "output_type": "execute_result"
    }
   ],
   "source": [
    "np.mean(mean_ratings)"
   ]
  },
  {
   "cell_type": "code",
   "execution_count": 26,
   "metadata": {
    "collapsed": true
   },
   "outputs": [],
   "source": [
    "test_dataframe, test_values = load_required_data('../test.json', [\"asin\", \"reviewerID\", \"overall\"])"
   ]
  },
  {
   "cell_type": "code",
   "execution_count": 27,
   "metadata": {},
   "outputs": [
    {
     "data": {
      "text/plain": [
       "(87271,)"
      ]
     },
     "execution_count": 27,
     "metadata": {},
     "output_type": "execute_result"
    }
   ],
   "source": [
    "test_dataframe['reviewerID'].unique().shape"
   ]
  },
  {
   "cell_type": "code",
   "execution_count": 34,
   "metadata": {
    "collapsed": true
   },
   "outputs": [],
   "source": [
    "# Returns DF containing predictions, MAE, RMSE\n",
    "def get_predictions(dataframe):\n",
    "    df = dataframe.copy()\n",
    "    print (\"Predicting ratings..\")\n",
    "    start_time = time.time()\n",
    "    df['Prediction'] = df.apply(lambda row: predict_row(row), axis=1)\n",
    "    MAE = round(mean_absolute_error(df['overall'], df['Prediction']), 2)\n",
    "    RMSE = round(np.sqrt(mean_squared_error(df['overall'], df['Prediction'])), 2)\n",
    "    print \"Done Predicting in\",  round((time.time() - start_time), 2), \"seconds\"\n",
    "    return df, MAE, RMSE\n",
    "\n",
    "def predict_row(row):\n",
    "    prediction = predict(row['reviewerID'], row['asin'])\n",
    "    print (\"Actual = \", row['overall'], \"Predictioned = \", prediction)\n",
    "    return prediction"
   ]
  },
  {
   "cell_type": "code",
   "execution_count": 55,
   "metadata": {},
   "outputs": [],
   "source": [
    "sparse_ratings = csr_matrix(ratings_matrix, dtype='float')"
   ]
  },
  {
   "cell_type": "code",
   "execution_count": 56,
   "metadata": {},
   "outputs": [
    {
     "data": {
      "text/plain": [
       "<87271x13209 sparse matrix of type '<type 'numpy.float64'>'\n",
       "\twith 665666 stored elements in Compressed Sparse Row format>"
      ]
     },
     "execution_count": 56,
     "metadata": {},
     "output_type": "execute_result"
    }
   ],
   "source": [
    "sparse_ratings"
   ]
  },
  {
   "cell_type": "code",
   "execution_count": 57,
   "metadata": {},
   "outputs": [
    {
     "data": {
      "text/plain": [
       "NearestNeighbors(algorithm='auto', leaf_size=30, metric='cosine',\n",
       "         metric_params=None, n_jobs=1, n_neighbors=5, p=2, radius=1.0)"
      ]
     },
     "execution_count": 57,
     "metadata": {},
     "output_type": "execute_result"
    }
   ],
   "source": [
    "model_knn = NearestNeighbors(metric = 'cosine', n_neighbors = 5)\n",
    "model_knn.fit(sparse_ratings)"
   ]
  },
  {
   "cell_type": "code",
   "execution_count": 58,
   "metadata": {},
   "outputs": [],
   "source": [
    "distances,indices = model_knn.kneighbors(ratings_matrix[0].reshape(1, -1), n_neighbors=6)"
   ]
  },
  {
   "cell_type": "code",
   "execution_count": 111,
   "metadata": {},
   "outputs": [
    {
     "name": "stdout",
     "output_type": "stream",
     "text": [
      "Recommendations for user  A00100742Q4O8VH0YMUBZ\n"
     ]
    }
   ],
   "source": [
    "probable_items = list()\n",
    "for user in indices[0]:\n",
    "    if user == 0:\n",
    "        print \"Recommendations for user \", unique_users[0]\n",
    "        continue\n",
    "    # all other users\n",
    "    for items in np.nonzero(ratings_matrix[user]):\n",
    "        for item in items:\n",
    "            if ratings_matrix[0][item] == 0:\n",
    "                probable_items.append(unique_items[item])\n",
    "\n",
    "predictions = {}\n",
    "for item in probable_items:\n",
    "    predictions[item] = predict(unique_users[0], item)"
   ]
  },
  {
   "cell_type": "code",
   "execution_count": 112,
   "metadata": {},
   "outputs": [
    {
     "data": {
      "text/plain": [
       "{u'B004SJ3204': 4.106218533325619,\n",
       " u'B004V5QWU2': 3.93051163199979,\n",
       " u'B0069Y4E08': 4.00579506630468,\n",
       " u'B008JYBDYG': 3.9942586916326808,\n",
       " u'B008L18QVU': 4.03342585113906,\n",
       " u'B008YHXCOM': 3.994893779010338,\n",
       " u'B009PN5UF8': 3.8666416200915057,\n",
       " u'B009S984J8': 4.086594276696867,\n",
       " u'B00A2XU9IS': 3.9967451756053984,\n",
       " u'B00A8ECU24': 3.9469270003819887,\n",
       " u'B00AFZKPU0': 3.978001160099666,\n",
       " u'B00AM5JTV4': 3.9621466737191025,\n",
       " u'B00D9CNAOY': 3.97986068524672,\n",
       " u'B00DUGCLY4': 3.9748173766410417,\n",
       " u'B00EAPT2NM': 3.9999175345935742,\n",
       " u'B00ECYWVQG': 4.045165914041073,\n",
       " u'B00ED0R0EW': 3.999747343795896,\n",
       " u'B00EW3STPY': 3.94785334794105,\n",
       " u'B00GPQH1MS': 3.925950200806318,\n",
       " u'B00H5CXI6Y': 3.9812485482579967}"
      ]
     },
     "execution_count": 112,
     "metadata": {},
     "output_type": "execute_result"
    }
   ],
   "source": [
    "predictions"
   ]
  },
  {
   "cell_type": "code",
   "execution_count": null,
   "metadata": {
    "collapsed": true
   },
   "outputs": [],
   "source": []
  }
 ],
 "metadata": {
  "kernelspec": {
   "display_name": "Python 2",
   "language": "python",
   "name": "python2"
  },
  "language_info": {
   "codemirror_mode": {
    "name": "ipython",
    "version": 2
   },
   "file_extension": ".py",
   "mimetype": "text/x-python",
   "name": "python",
   "nbconvert_exporter": "python",
   "pygments_lexer": "ipython2",
   "version": "2.7.14"
  }
 },
 "nbformat": 4,
 "nbformat_minor": 2
}
